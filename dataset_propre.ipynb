{
 "cells": [
  {
   "cell_type": "code",
   "execution_count": null,
   "id": "2f5e241e",
   "metadata": {},
   "outputs": [],
   "source": [
    "#Installs\n",
    "!pip install matplotlib\n",
    "!pip install nltk\n",
    "!pip install spacy\n",
    "!python -m spacy download fr_core_news_sm\n",
    "!pip install scikit-learn\n",
    "!pip install imbalanced-learn\n",
    "!pip install transformers\n",
    "!pip install torch\n",
    "!pip install sentencepiece\n",
    "!pip install xgboost"
   ]
  },
  {
   "cell_type": "code",
   "execution_count": 23,
   "id": "b4aed0b4",
   "metadata": {},
   "outputs": [
    {
     "name": "stdout",
     "output_type": "stream",
     "text": [
      "Defaulting to user installation because normal site-packages is not writeable\n",
      "Collecting seaborn\n",
      "  Downloading seaborn-0.13.2-py3-none-any.whl.metadata (5.4 kB)\n",
      "Requirement already satisfied: numpy!=1.24.0,>=1.20 in /Users/caroline/Library/Python/3.9/lib/python/site-packages (from seaborn) (1.26.4)\n",
      "Requirement already satisfied: pandas>=1.2 in /Users/caroline/Library/Python/3.9/lib/python/site-packages (from seaborn) (2.2.3)\n",
      "Requirement already satisfied: matplotlib!=3.6.1,>=3.4 in /Users/caroline/Library/Python/3.9/lib/python/site-packages (from seaborn) (3.9.4)\n",
      "Requirement already satisfied: contourpy>=1.0.1 in /Users/caroline/Library/Python/3.9/lib/python/site-packages (from matplotlib!=3.6.1,>=3.4->seaborn) (1.3.0)\n",
      "Requirement already satisfied: cycler>=0.10 in /Users/caroline/Library/Python/3.9/lib/python/site-packages (from matplotlib!=3.6.1,>=3.4->seaborn) (0.12.1)\n",
      "Requirement already satisfied: fonttools>=4.22.0 in /Users/caroline/Library/Python/3.9/lib/python/site-packages (from matplotlib!=3.6.1,>=3.4->seaborn) (4.57.0)\n",
      "Requirement already satisfied: kiwisolver>=1.3.1 in /Users/caroline/Library/Python/3.9/lib/python/site-packages (from matplotlib!=3.6.1,>=3.4->seaborn) (1.4.7)\n",
      "Requirement already satisfied: packaging>=20.0 in /Users/caroline/Library/Python/3.9/lib/python/site-packages (from matplotlib!=3.6.1,>=3.4->seaborn) (24.2)\n",
      "Requirement already satisfied: pillow>=8 in /Users/caroline/Library/Python/3.9/lib/python/site-packages (from matplotlib!=3.6.1,>=3.4->seaborn) (11.1.0)\n",
      "Requirement already satisfied: pyparsing>=2.3.1 in /Users/caroline/Library/Python/3.9/lib/python/site-packages (from matplotlib!=3.6.1,>=3.4->seaborn) (3.2.3)\n",
      "Requirement already satisfied: python-dateutil>=2.7 in /Users/caroline/Library/Python/3.9/lib/python/site-packages (from matplotlib!=3.6.1,>=3.4->seaborn) (2.9.0.post0)\n",
      "Requirement already satisfied: importlib-resources>=3.2.0 in /Users/caroline/Library/Python/3.9/lib/python/site-packages (from matplotlib!=3.6.1,>=3.4->seaborn) (6.5.2)\n",
      "Requirement already satisfied: pytz>=2020.1 in /Users/caroline/Library/Python/3.9/lib/python/site-packages (from pandas>=1.2->seaborn) (2025.2)\n",
      "Requirement already satisfied: tzdata>=2022.7 in /Users/caroline/Library/Python/3.9/lib/python/site-packages (from pandas>=1.2->seaborn) (2025.2)\n",
      "Requirement already satisfied: zipp>=3.1.0 in /Users/caroline/Library/Python/3.9/lib/python/site-packages (from importlib-resources>=3.2.0->matplotlib!=3.6.1,>=3.4->seaborn) (3.21.0)\n",
      "Requirement already satisfied: six>=1.5 in /Library/Developer/CommandLineTools/Library/Frameworks/Python3.framework/Versions/3.9/lib/python3.9/site-packages (from python-dateutil>=2.7->matplotlib!=3.6.1,>=3.4->seaborn) (1.15.0)\n",
      "Downloading seaborn-0.13.2-py3-none-any.whl (294 kB)\n",
      "Installing collected packages: seaborn\n",
      "Successfully installed seaborn-0.13.2\n"
     ]
    }
   ],
   "source": [
    "!pip install seaborn "
   ]
  },
  {
   "cell_type": "code",
   "execution_count": null,
   "id": "de738610",
   "metadata": {},
   "outputs": [
    {
     "name": "stderr",
     "output_type": "stream",
     "text": [
      "/Users/caroline/Library/Python/3.9/lib/python/site-packages/tqdm/auto.py:21: TqdmWarning: IProgress not found. Please update jupyter and ipywidgets. See https://ipywidgets.readthedocs.io/en/stable/user_install.html\n",
      "  from .autonotebook import tqdm as notebook_tqdm\n"
     ]
    }
   ],
   "source": [
    "#Requirements\n",
    "import spacy  \n",
    "import pandas as pd  \n",
    "import numpy as np\n",
    "import matplotlib.pyplot as plt\n",
    "from collections import Counter\n",
    "import math\n",
    "import re  \n",
    "import nltk \n",
    "from nltk.corpus import stopwords  \n",
    "import joblib\n",
    "import os\n",
    "from sklearn.model_selection import train_test_split\n",
    "from sklearn.feature_extraction.text import TfidfVectorizer\n",
    "from sklearn.naive_bayes import MultinomialNB\n",
    "from sklearn.pipeline import Pipeline\n",
    "from sklearn.ensemble import RandomForestClassifier\n",
    "from sklearn.metrics import accuracy_score, classification_report, confusion_matrix\n",
    "from imblearn.over_sampling import SMOTE\n",
    "from sklearn.linear_model import LogisticRegression\n",
    "from sklearn.base import TransformerMixin, BaseEstimator\n",
    "import torch\n",
    "from transformers import CamembertTokenizer, CamembertForSequenceClassification, CamembertModel\n",
    "from torch.utils.data import DataLoader, TensorDataset\n",
    "from sklearn.model_selection import train_test_split, StratifiedKFold, cross_val_score\n",
    "from sklearn.utils import class_weight\n",
    "from sklearn.model_selection import cross_validate\n",
    "import seaborn as sns"
   ]
  },
  {
   "cell_type": "code",
   "execution_count": 29,
   "id": "1f1e7712",
   "metadata": {},
   "outputs": [],
   "source": [
    "#import du fichier \n",
    "\n",
    "file_path = os.path.join(os.getcwd(), \"20220913_offers.csv\")\n",
    "df = pd.read_csv(file_path, sep=\";\", low_memory=False)\n",
    "\n",
    "columns = [\"description_entreprise\",\"entreprise_nom\"]\n",
    "df = df[columns]"
   ]
  },
  {
   "cell_type": "code",
   "execution_count": 30,
   "id": "108054a9",
   "metadata": {},
   "outputs": [],
   "source": [
    "# Garder une seule ligne par entreprise_nom\n",
    "df_unique = df.drop_duplicates(subset=\"entreprise_nom\", keep=\"first\").reset_index(drop=True)"
   ]
  },
  {
   "cell_type": "code",
   "execution_count": 4,
   "id": "69f0deac",
   "metadata": {},
   "outputs": [
    {
     "name": "stderr",
     "output_type": "stream",
     "text": [
      "[nltk_data] Downloading package stopwords to\n",
      "[nltk_data]     /Users/caroline/nltk_data...\n",
      "[nltk_data]   Package stopwords is already up-to-date!\n"
     ]
    }
   ],
   "source": [
    "df[\"description_entreprise\"] = df[\"description_entreprise\"].str.lower()\n",
    "\n",
    "nltk.download('stopwords')  \n",
    "stop_words = set(stopwords.words('french'))\n",
    "\n",
    "nlp = spacy.load(\"fr_core_news_sm\")\n",
    "\n",
    "# Fonction de nettoyage avec lemmatisation\n",
    "def clean_and_lemmatize(text):\n",
    "    if isinstance(text, str):  \n",
    "        text = text.lower()  # Minuscule\n",
    "        text = re.sub(r'\\d+', '', text)  # Suppression des chiffres\n",
    "        text = re.sub(r'[^\\w\\s]', '', text)  # Suppression de la ponctuation\n",
    "        doc = nlp(text)  # Analyse du texte avec SpaCy\n",
    "        words = [token.lemma_ for token in doc if token.text not in stop_words]  # Lemmatisation + suppression stopwords\n",
    "        return \" \".join(words)  # Reconstituer le texte nettoyé\n",
    "    return \"\""
   ]
  },
  {
   "cell_type": "code",
   "execution_count": 31,
   "id": "faee0687",
   "metadata": {},
   "outputs": [],
   "source": [
    "file_path_2 = os.path.join(os.getcwd(), \"df_augmente.csv\")\n",
    "df_augmente = pd.read_csv(file_path_2, sep=\",\", low_memory=False)\n",
    "df_augmente[\"description_entreprise\"] = df_augmente[\"description_entreprise\"].str.lower()"
   ]
  },
  {
   "cell_type": "code",
   "execution_count": 40,
   "id": "bff19eaf",
   "metadata": {},
   "outputs": [
    {
     "name": "stdout",
     "output_type": "stream",
     "text": [
      "Répartition des classes:\n",
      "catégories\n",
      "2    84\n",
      "1    79\n",
      "3    66\n",
      "4    61\n",
      "5    57\n",
      "Name: count, dtype: int64\n"
     ]
    }
   ],
   "source": [
    "df_augmente = df_augmente.dropna(subset=['catégories'])\n",
    "df_augmente = df_augmente.dropna(subset=['description_entreprise'])\n",
    "df_augmente['catégories'] = df_augmente['catégories'].astype(int)\n",
    "\n",
    "# Vérification de la répartition des classes\n",
    "print(\"Répartition des classes:\")\n",
    "print(df_augmente['catégories'].value_counts())\n",
    "\n",
    "# Séparation des données en ensembles d'entraînement et de test (80%/20% avec stratification)\n",
    "X = df_augmente[\"description_entreprise\"]\n",
    "y = df_augmente[\"catégories\"]\n",
    "X_train, X_test, y_train, y_test = train_test_split(\n",
    "    X, y, test_size=0.2, random_state=42, stratify=y\n",
    ")"
   ]
  },
  {
   "cell_type": "code",
   "execution_count": 33,
   "id": "3ed23a60",
   "metadata": {},
   "outputs": [],
   "source": [
    "# --- Définition du transformeur Camembert ---\n",
    "class CamembertVectorizer(BaseEstimator, TransformerMixin):\n",
    "    \"\"\"\n",
    "    Transformeur scikit-learn qui convertit un texte en un vecteur d'embedding\n",
    "    à l'aide du modèle Camembert.\n",
    "    \"\"\"\n",
    "    def __init__(self, model_name='camembert-base', device='cpu', max_length=512):\n",
    "        self.model_name = model_name  # Nécessaire pour le clonage dans CV\n",
    "        self.device = device\n",
    "        self.max_length = max_length\n",
    "        self.tokenizer = CamembertTokenizer.from_pretrained(model_name)\n",
    "        self.model = CamembertModel.from_pretrained(model_name)\n",
    "        self.model.to(self.device)\n",
    "        self.model.eval()\n",
    "    \n",
    "    def fit(self, X, y=None):\n",
    "        return self\n",
    "    \n",
    "    def transform(self, X):\n",
    "        embeddings = []\n",
    "        for text in X:\n",
    "            # Tokenisation avec troncature et padding\n",
    "            inputs = self.tokenizer(\n",
    "                text,\n",
    "                return_tensors='pt',\n",
    "                truncation=True,\n",
    "                padding='max_length',\n",
    "                max_length=self.max_length\n",
    "            )\n",
    "            # Déplacer les tenseurs sur le device (CPU ou GPU)\n",
    "            inputs = {k: v.to(self.device) for k, v in inputs.items()}\n",
    "            with torch.no_grad():\n",
    "                outputs = self.model(**inputs)\n",
    "            # Extraction de la représentation du token [CLS] (premier token)\n",
    "            emb = outputs.last_hidden_state[:, 0, :].squeeze().cpu().numpy()\n",
    "            embeddings.append(emb)\n",
    "        return np.array(embeddings)\n",
    "\n",
    "# Définir le device (utiliser \"cuda\" si disponible, sinon \"cpu\")\n",
    "device = 'cuda' if torch.cuda.is_available() else 'cpu'\n",
    "\n",
    "# --- Construction du pipeline Camembert + Régression Logistique ---\n",
    "pipeline_camembert = Pipeline([\n",
    "    ('camembert', CamembertVectorizer(device=device)),  # ton module perso\n",
    "    ('clf', LogisticRegression(\n",
    "        multi_class='multinomial',\n",
    "        solver='lbfgs',\n",
    "        max_iter=500,\n",
    "        class_weight=class_weights_dict  # 🎯 ici le changement clé\n",
    "    ))\n",
    "])"
   ]
  },
  {
   "cell_type": "markdown",
   "id": "c5b06a01",
   "metadata": {},
   "source": [
    "1 - Régression logistique avec Camembert "
   ]
  },
  {
   "cell_type": "markdown",
   "id": "12ccaac6",
   "metadata": {},
   "source": [
    "Encodage en une seule fois pour éviter que ça dure des plombes"
   ]
  },
  {
   "cell_type": "code",
   "execution_count": 41,
   "id": "c1b66fae",
   "metadata": {},
   "outputs": [],
   "source": [
    "vectorizer = CamembertVectorizer(device=device)\n",
    "\n",
    "X_train_embeddings = vectorizer.transform(X_train)\n",
    "X_test_embeddings = vectorizer.transform(X_test)\n",
    "\n",
    "# Sauvegarder si besoin\n",
    "np.save(\"X_train_embeddings.npy\", X_train_embeddings)\n",
    "np.save(\"X_test_embeddings.npy\", X_test_embeddings)\n",
    "np.save(\"y_train.npy\", y_train)\n",
    "np.save(\"y_test.npy\", y_test)"
   ]
  },
  {
   "cell_type": "code",
   "execution_count": 42,
   "id": "a48e7270",
   "metadata": {},
   "outputs": [],
   "source": [
    "clf = LogisticRegression(\n",
    "    multi_class='multinomial',\n",
    "    solver='lbfgs',\n",
    "    max_iter=500\n",
    ")"
   ]
  },
  {
   "cell_type": "code",
   "execution_count": 43,
   "id": "967ac11e",
   "metadata": {},
   "outputs": [],
   "source": [
    "from sklearn.utils import class_weight\n",
    "\n",
    "weights = class_weight.compute_class_weight('balanced', classes=np.unique(y_train), y=y_train)\n",
    "class_weights_dict = {cls: w for cls, w in zip(np.unique(y_train), weights)}\n",
    "\n",
    "clf_weighted = LogisticRegression(\n",
    "    multi_class='multinomial',\n",
    "    solver='lbfgs',\n",
    "    max_iter=500,\n",
    "    class_weight=class_weights_dict\n",
    ")\n"
   ]
  },
  {
   "cell_type": "code",
   "execution_count": 45,
   "id": "8b23bf90",
   "metadata": {},
   "outputs": [
    {
     "name": "stderr",
     "output_type": "stream",
     "text": [
      "/Users/caroline/Library/Python/3.9/lib/python/site-packages/sklearn/linear_model/_logistic.py:1247: FutureWarning: 'multi_class' was deprecated in version 1.5 and will be removed in 1.7. From then on, it will always use 'multinomial'. Leave it to its default value to avoid this warning.\n",
      "  warnings.warn(\n",
      "/Users/caroline/Library/Python/3.9/lib/python/site-packages/sklearn/linear_model/_logistic.py:1247: FutureWarning: 'multi_class' was deprecated in version 1.5 and will be removed in 1.7. From then on, it will always use 'multinomial'. Leave it to its default value to avoid this warning.\n",
      "  warnings.warn(\n",
      "/Users/caroline/Library/Python/3.9/lib/python/site-packages/sklearn/linear_model/_logistic.py:1247: FutureWarning: 'multi_class' was deprecated in version 1.5 and will be removed in 1.7. From then on, it will always use 'multinomial'. Leave it to its default value to avoid this warning.\n",
      "  warnings.warn(\n",
      "/Users/caroline/Library/Python/3.9/lib/python/site-packages/sklearn/linear_model/_logistic.py:1247: FutureWarning: 'multi_class' was deprecated in version 1.5 and will be removed in 1.7. From then on, it will always use 'multinomial'. Leave it to its default value to avoid this warning.\n",
      "  warnings.warn(\n",
      "/Users/caroline/Library/Python/3.9/lib/python/site-packages/sklearn/linear_model/_logistic.py:1247: FutureWarning: 'multi_class' was deprecated in version 1.5 and will be removed in 1.7. From then on, it will always use 'multinomial'. Leave it to its default value to avoid this warning.\n",
      "  warnings.warn(\n"
     ]
    },
    {
     "name": "stdout",
     "output_type": "stream",
     "text": [
      "F1 Macro par fold : [0.48556005 0.62956259 0.56865131 0.65190572 0.53954629]\n",
      "F1 Macro moyen : 0.5750451940652679\n",
      "Accuracy par fold : [0.57142857 0.64285714 0.6        0.65454545 0.56363636]\n",
      "Accuracy moyenne : 0.6064935064935065\n"
     ]
    }
   ],
   "source": [
    "scoring = ['f1_macro', 'accuracy']\n",
    "cv = StratifiedKFold(n_splits=5, shuffle=True, random_state=42)\n",
    "\n",
    "results = cross_validate(\n",
    "    clf,  # ou clf si tu testes sans poids\n",
    "    X_train_embeddings,\n",
    "    y_train,\n",
    "    cv=cv,\n",
    "    scoring=scoring\n",
    ")\n",
    "\n",
    "print(\"F1 Macro par fold :\", results['test_f1_macro'])\n",
    "print(\"F1 Macro moyen :\", results['test_f1_macro'].mean())\n",
    "print(\"Accuracy par fold :\", results['test_accuracy'])\n",
    "print(\"Accuracy moyenne :\", results['test_accuracy'].mean())\n"
   ]
  },
  {
   "cell_type": "code",
   "execution_count": 46,
   "id": "1dc7f270",
   "metadata": {},
   "outputs": [
    {
     "name": "stderr",
     "output_type": "stream",
     "text": [
      "/Users/caroline/Library/Python/3.9/lib/python/site-packages/sklearn/linear_model/_logistic.py:1247: FutureWarning: 'multi_class' was deprecated in version 1.5 and will be removed in 1.7. From then on, it will always use 'multinomial'. Leave it to its default value to avoid this warning.\n",
      "  warnings.warn(\n",
      "/Users/caroline/Library/Python/3.9/lib/python/site-packages/sklearn/linear_model/_logistic.py:1247: FutureWarning: 'multi_class' was deprecated in version 1.5 and will be removed in 1.7. From then on, it will always use 'multinomial'. Leave it to its default value to avoid this warning.\n",
      "  warnings.warn(\n",
      "/Users/caroline/Library/Python/3.9/lib/python/site-packages/sklearn/linear_model/_logistic.py:1247: FutureWarning: 'multi_class' was deprecated in version 1.5 and will be removed in 1.7. From then on, it will always use 'multinomial'. Leave it to its default value to avoid this warning.\n",
      "  warnings.warn(\n",
      "/Users/caroline/Library/Python/3.9/lib/python/site-packages/sklearn/linear_model/_logistic.py:1247: FutureWarning: 'multi_class' was deprecated in version 1.5 and will be removed in 1.7. From then on, it will always use 'multinomial'. Leave it to its default value to avoid this warning.\n",
      "  warnings.warn(\n"
     ]
    },
    {
     "name": "stdout",
     "output_type": "stream",
     "text": [
      "F1 Macro par fold : [0.46407843 0.58006843 0.55049746 0.65402496 0.5163216 ]\n",
      "F1 Macro moyen : 0.552998174728131\n",
      "Accuracy par fold : [0.51785714 0.58928571 0.58181818 0.65454545 0.52727273]\n",
      "Accuracy moyenne : 0.5741558441558442\n"
     ]
    },
    {
     "name": "stderr",
     "output_type": "stream",
     "text": [
      "/Users/caroline/Library/Python/3.9/lib/python/site-packages/sklearn/linear_model/_logistic.py:1247: FutureWarning: 'multi_class' was deprecated in version 1.5 and will be removed in 1.7. From then on, it will always use 'multinomial'. Leave it to its default value to avoid this warning.\n",
      "  warnings.warn(\n"
     ]
    }
   ],
   "source": [
    "results = cross_validate(\n",
    "    clf_weighted,  # ou clf si tu testes sans poids\n",
    "    X_train_embeddings,\n",
    "    y_train,\n",
    "    cv=cv,\n",
    "    scoring=scoring\n",
    ")\n",
    "\n",
    "print(\"F1 Macro par fold :\", results['test_f1_macro'])\n",
    "print(\"F1 Macro moyen :\", results['test_f1_macro'].mean())\n",
    "print(\"Accuracy par fold :\", results['test_accuracy'])\n",
    "print(\"Accuracy moyenne :\", results['test_accuracy'].mean())"
   ]
  },
  {
   "cell_type": "code",
   "execution_count": 47,
   "id": "e952f337",
   "metadata": {},
   "outputs": [
    {
     "name": "stderr",
     "output_type": "stream",
     "text": [
      "/Users/caroline/Library/Python/3.9/lib/python/site-packages/sklearn/linear_model/_logistic.py:1247: FutureWarning: 'multi_class' was deprecated in version 1.5 and will be removed in 1.7. From then on, it will always use 'multinomial'. Leave it to its default value to avoid this warning.\n",
      "  warnings.warn(\n"
     ]
    },
    {
     "name": "stdout",
     "output_type": "stream",
     "text": [
      "Camembert-based Classification Report (test set) :\n",
      "              precision    recall  f1-score   support\n",
      "\n",
      "           1       0.56      0.62      0.59        16\n",
      "           2       0.40      0.47      0.43        17\n",
      "           3       0.67      0.62      0.64        13\n",
      "           4       0.47      0.58      0.52        12\n",
      "           5       0.80      0.33      0.47        12\n",
      "\n",
      "    accuracy                           0.53        70\n",
      "   macro avg       0.58      0.53      0.53        70\n",
      "weighted avg       0.57      0.53      0.53        70\n",
      "\n"
     ]
    },
    {
     "data": {
      "image/png": "[encoded data removed]",
      "text/plain": [
       "<Figure size 800x600 with 2 Axes>"
      ]
     },
     "metadata": {},
     "output_type": "display_data"
    }
   ],
   "source": [
    "clf.fit(X_train_embeddings, y_train)  # ou clf\n",
    "\n",
    "y_pred = clf.predict(X_test_embeddings)\n",
    "\n",
    "print(\"Camembert-based Classification Report (test set) :\")\n",
    "print(classification_report(y_test, y_pred))\n",
    "\n",
    "# Matrice de confusion\n",
    "cm = confusion_matrix(y_test, y_pred)\n",
    "\n",
    "plt.figure(figsize=(8,6))\n",
    "sns.heatmap(cm, annot=True, fmt=\"d\", cmap=\"Blues\", xticklabels=np.unique(y_train), yticklabels=np.unique(y_train))\n",
    "plt.xlabel(\"Prédit\")\n",
    "plt.ylabel(\"Vrai\")\n",
    "plt.title(\"Matrice de confusion\")\n",
    "plt.show()\n"
   ]
  },
  {
   "cell_type": "code",
   "execution_count": 48,
   "id": "8de1b906",
   "metadata": {},
   "outputs": [
    {
     "name": "stderr",
     "output_type": "stream",
     "text": [
      "/Users/caroline/Library/Python/3.9/lib/python/site-packages/sklearn/linear_model/_logistic.py:1247: FutureWarning: 'multi_class' was deprecated in version 1.5 and will be removed in 1.7. From then on, it will always use 'multinomial'. Leave it to its default value to avoid this warning.\n",
      "  warnings.warn(\n"
     ]
    },
    {
     "name": "stdout",
     "output_type": "stream",
     "text": [
      "Camembert-based Classification Report (test set) :\n",
      "              precision    recall  f1-score   support\n",
      "\n",
      "           1       0.53      0.56      0.55        16\n",
      "           2       0.50      0.47      0.48        17\n",
      "           3       0.62      0.62      0.62        13\n",
      "           4       0.44      0.67      0.53        12\n",
      "           5       0.67      0.33      0.44        12\n",
      "\n",
      "    accuracy                           0.53        70\n",
      "   macro avg       0.55      0.53      0.52        70\n",
      "weighted avg       0.55      0.53      0.52        70\n",
      "\n"
     ]
    },
    {
     "data": {
      "image/png": "[encoded data removed]",
      "text/plain": [
       "<Figure size 800x600 with 2 Axes>"
      ]
     },
     "metadata": {},
     "output_type": "display_data"
    }
   ],
   "source": [
    "clf_weighted.fit(X_train_embeddings, y_train)  # ou clf\n",
    "\n",
    "y_pred = clf_weighted.predict(X_test_embeddings)\n",
    "\n",
    "print(\"Camembert-based Classification Report (test set) :\")\n",
    "print(classification_report(y_test, y_pred))\n",
    "\n",
    "# Matrice de confusion\n",
    "cm = confusion_matrix(y_test, y_pred)\n",
    "\n",
    "plt.figure(figsize=(8,6))\n",
    "sns.heatmap(cm, annot=True, fmt=\"d\", cmap=\"Blues\", xticklabels=np.unique(y_train), yticklabels=np.unique(y_train))\n",
    "plt.xlabel(\"Prédit\")\n",
    "plt.ylabel(\"Vrai\")\n",
    "plt.title(\"Matrice de confusion\")\n",
    "plt.show()"
   ]
  },
  {
   "cell_type": "markdown",
   "id": "c8cd8f4f",
   "metadata": {},
   "source": [
    "CONCLUSION AUCUNE DIFF\n",
    "\n",
    "Résultats de la régression logistique sans poids qui équilibre les catégories : \n",
    "\n",
    "Scores F1 Macro pour chaque fold : [0.48556005 0.62956259 0.56865131 0.65190572 0.53954629]\n",
    "F1 Macro moyen : 0.5750451940652679\n",
    "\n",
    "Camembert-based Classification Report:\n",
    "              precision    recall  f1-score   support\n",
    "\n",
    "           1       0.56      0.62      0.59        16\n",
    "           2       0.40      0.47      0.43        17\n",
    "           3       0.67      0.62      0.64        13\n",
    "           4       0.47      0.58      0.52        12\n",
    "           5       0.80      0.33      0.47        12\n",
    "\n",
    "    accuracy                           0.53        70\n",
    "   macro avg       0.58      0.53      0.53        70\n",
    "weighted avg       0.57      0.53      0.53        70\n",
    "\n",
    "Résultats de la régression logistique avec des poids qui équilibrent les catégories : \n",
    "\n",
    "F1 Macro par fold : [0.46407843 0.58006843 0.55049746 0.65402496 0.5163216 ]\n",
    "F1 Macro moyen : 0.552998174728131\n",
    "\n",
    "Camembert-based Classification Report (test set) :\n",
    "              precision    recall  f1-score   support\n",
    "\n",
    "           1       0.53      0.56      0.55        16\n",
    "           2       0.50      0.47      0.48        17\n",
    "           3       0.62      0.62      0.62        13\n",
    "           4       0.44      0.67      0.53        12\n",
    "           5       0.67      0.33      0.44        12\n",
    "\n",
    "    accuracy                           0.53        70\n",
    "   macro avg       0.55      0.53      0.52        70\n",
    "weighted avg       0.55      0.53      0.52        70"
   ]
  },
  {
   "cell_type": "code",
   "execution_count": null,
   "id": "6b8b2616",
   "metadata": {},
   "outputs": [],
   "source": [
    "from sklearn.ensemble import RandomForestClassifier\n",
    "\n",
    "clf_rf = RandomForestClassifier(\n",
    "    n_estimators=100,\n",
    "    class_weight='balanced',  # pour compenser le déséquilibre\n",
    "    random_state=42\n",
    ")\n",
    "\n"
   ]
  },
  {
   "cell_type": "code",
   "execution_count": 50,
   "id": "77e368ab",
   "metadata": {},
   "outputs": [
    {
     "name": "stdout",
     "output_type": "stream",
     "text": [
      "F1 Macro par fold : [0.37801079 0.63943205 0.50139219 0.5585708  0.48945682]\n",
      "F1 Macro moyen : 0.51337252726631\n",
      "Accuracy par fold : [0.42857143 0.64285714 0.52727273 0.58181818 0.52727273]\n",
      "Accuracy moyenne : 0.5415584415584416\n"
     ]
    }
   ],
   "source": [
    "scoring = ['f1_macro', 'accuracy']\n",
    "cv = StratifiedKFold(n_splits=5, shuffle=True, random_state=42)\n",
    "\n",
    "results = cross_validate(\n",
    "    clf_rf,  # ou clf si tu testes sans poids\n",
    "    X_train_embeddings,\n",
    "    y_train,\n",
    "    cv=cv,\n",
    "    scoring=scoring\n",
    ")\n",
    "\n",
    "print(\"F1 Macro par fold :\", results['test_f1_macro'])\n",
    "print(\"F1 Macro moyen :\", results['test_f1_macro'].mean())\n",
    "print(\"Accuracy par fold :\", results['test_accuracy'])\n",
    "print(\"Accuracy moyenne :\", results['test_accuracy'].mean())"
   ]
  },
  {
   "cell_type": "code",
   "execution_count": 51,
   "id": "fda0e90e",
   "metadata": {},
   "outputs": [
    {
     "name": "stdout",
     "output_type": "stream",
     "text": [
      "Camembert-based Classification Report (test set) :\n",
      "              precision    recall  f1-score   support\n",
      "\n",
      "           1       0.48      0.69      0.56        16\n",
      "           2       0.46      0.71      0.56        17\n",
      "           3       0.70      0.54      0.61        13\n",
      "           4       0.67      0.50      0.57        12\n",
      "           5       1.00      0.17      0.29        12\n",
      "\n",
      "    accuracy                           0.54        70\n",
      "   macro avg       0.66      0.52      0.52        70\n",
      "weighted avg       0.64      0.54      0.52        70\n",
      "\n"
     ]
    },
    {
     "data": {
      "image/png": "[encoded data removed]",
      "text/plain": [
       "<Figure size 800x600 with 2 Axes>"
      ]
     },
     "metadata": {},
     "output_type": "display_data"
    }
   ],
   "source": [
    "clf_rf.fit(X_train_embeddings, y_train)  # ou clf\n",
    "\n",
    "y_pred = clf_rf.predict(X_test_embeddings)\n",
    "\n",
    "print(\"Camembert-based Classification Report (test set) :\")\n",
    "print(classification_report(y_test, y_pred))\n",
    "\n",
    "# Matrice de confusion\n",
    "cm = confusion_matrix(y_test, y_pred)\n",
    "\n",
    "plt.figure(figsize=(8,6))\n",
    "sns.heatmap(cm, annot=True, fmt=\"d\", cmap=\"Blues\", xticklabels=np.unique(y_train), yticklabels=np.unique(y_train))\n",
    "plt.xlabel(\"Prédit\")\n",
    "plt.ylabel(\"Vrai\")\n",
    "plt.title(\"Matrice de confusion\")\n",
    "plt.show()"
   ]
  },
  {
   "cell_type": "markdown",
   "id": "db977272",
   "metadata": {},
   "source": [
    "C'était le random forest classifier"
   ]
  }
 ],
 "metadata": {
  "kernelspec": {
   "display_name": "Python 3",
   "language": "python",
   "name": "python3"
  },
  "language_info": {
   "codemirror_mode": {
    "name": "ipython",
    "version": 3
   },
   "file_extension": ".py",
   "mimetype": "text/x-python",
   "name": "python",
   "nbconvert_exporter": "python",
   "pygments_lexer": "ipython3",
   "version": "3.9.6"
  }
 },
 "nbformat": 4,
 "nbformat_minor": 5
}
