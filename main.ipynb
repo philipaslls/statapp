{
 "cells": [
  {
   "cell_type": "markdown",
   "metadata": {},
   "source": [
    "## 📘 Documentation  \n",
    "➡️ [Voir le README du projet](https://github.com/philipython/statapp/blob/main/README.md)\n"
   ]
  },
  {
   "cell_type": "markdown",
   "metadata": {},
   "source": [
    "**Installs**"
   ]
  },
  {
   "cell_type": "code",
<<<<<<< HEAD
   "execution_count": 1,
=======
   "execution_count": 2,
>>>>>>> dc6fc9583d82e863bba4a373dd0f1144b39e9d49
   "metadata": {},
   "outputs": [
    {
     "name": "stdout",
     "output_type": "stream",
     "text": [
<<<<<<< HEAD
      "Requirement already satisfied: matplotlib in /usr/local/lib/python3.12/site-packages (3.10.3)\n",
      "Requirement already satisfied: contourpy>=1.0.1 in /usr/local/lib/python3.12/site-packages (from matplotlib) (1.3.2)\n",
      "Requirement already satisfied: cycler>=0.10 in /usr/local/lib/python3.12/site-packages (from matplotlib) (0.12.1)\n",
      "Requirement already satisfied: fonttools>=4.22.0 in /usr/local/lib/python3.12/site-packages (from matplotlib) (4.58.0)\n",
      "Requirement already satisfied: kiwisolver>=1.3.1 in /usr/local/lib/python3.12/site-packages (from matplotlib) (1.4.8)\n",
      "Requirement already satisfied: numpy>=1.23 in /usr/local/lib/python3.12/site-packages (from matplotlib) (2.2.5)\n",
      "Requirement already satisfied: packaging>=20.0 in /usr/local/lib/python3.12/site-packages (from matplotlib) (24.2)\n",
      "Requirement already satisfied: pillow>=8 in /usr/local/lib/python3.12/site-packages (from matplotlib) (11.2.1)\n",
      "Requirement already satisfied: pyparsing>=2.3.1 in /usr/local/lib/python3.12/site-packages (from matplotlib) (3.2.3)\n",
      "Requirement already satisfied: python-dateutil>=2.7 in /usr/local/lib/python3.12/site-packages (from matplotlib) (2.9.0.post0)\n",
      "Requirement already satisfied: six>=1.5 in /usr/local/lib/python3.12/site-packages (from python-dateutil>=2.7->matplotlib) (1.17.0)\n",
      "Requirement already satisfied: nltk in /usr/local/lib/python3.12/site-packages (3.9.1)\n",
      "Requirement already satisfied: click in /usr/local/lib/python3.12/site-packages (from nltk) (8.2.0)\n",
      "Requirement already satisfied: joblib in /usr/local/lib/python3.12/site-packages (from nltk) (1.5.0)\n",
      "Requirement already satisfied: regex>=2021.8.3 in /usr/local/lib/python3.12/site-packages (from nltk) (2024.11.6)\n",
      "Requirement already satisfied: tqdm in /usr/local/lib/python3.12/site-packages (from nltk) (4.67.1)\n",
      "Requirement already satisfied: spacy in /usr/local/lib/python3.12/site-packages (3.8.5)\n",
      "Requirement already satisfied: spacy-legacy<3.1.0,>=3.0.11 in /usr/local/lib/python3.12/site-packages (from spacy) (3.0.12)\n",
      "Requirement already satisfied: spacy-loggers<2.0.0,>=1.0.0 in /usr/local/lib/python3.12/site-packages (from spacy) (1.0.5)\n",
      "Requirement already satisfied: murmurhash<1.1.0,>=0.28.0 in /usr/local/lib/python3.12/site-packages (from spacy) (1.0.12)\n",
      "Requirement already satisfied: cymem<2.1.0,>=2.0.2 in /usr/local/lib/python3.12/site-packages (from spacy) (2.0.11)\n",
      "Requirement already satisfied: preshed<3.1.0,>=3.0.2 in /usr/local/lib/python3.12/site-packages (from spacy) (3.0.9)\n",
      "Requirement already satisfied: thinc<8.4.0,>=8.3.4 in /usr/local/lib/python3.12/site-packages (from spacy) (8.3.6)\n",
      "Requirement already satisfied: wasabi<1.2.0,>=0.9.1 in /usr/local/lib/python3.12/site-packages (from spacy) (1.1.3)\n",
      "Requirement already satisfied: srsly<3.0.0,>=2.4.3 in /usr/local/lib/python3.12/site-packages (from spacy) (2.5.1)\n",
      "Requirement already satisfied: catalogue<2.1.0,>=2.0.6 in /usr/local/lib/python3.12/site-packages (from spacy) (2.0.10)\n",
      "Requirement already satisfied: weasel<0.5.0,>=0.1.0 in /usr/local/lib/python3.12/site-packages (from spacy) (0.4.1)\n",
      "Requirement already satisfied: typer<1.0.0,>=0.3.0 in /usr/local/lib/python3.12/site-packages (from spacy) (0.15.3)\n",
      "Requirement already satisfied: tqdm<5.0.0,>=4.38.0 in /usr/local/lib/python3.12/site-packages (from spacy) (4.67.1)\n",
      "Requirement already satisfied: numpy>=1.19.0 in /usr/local/lib/python3.12/site-packages (from spacy) (2.2.5)\n",
      "Requirement already satisfied: requests<3.0.0,>=2.13.0 in /usr/local/lib/python3.12/site-packages (from spacy) (2.32.3)\n",
      "Requirement already satisfied: pydantic!=1.8,!=1.8.1,<3.0.0,>=1.7.4 in /usr/local/lib/python3.12/site-packages (from spacy) (2.11.4)\n",
      "Requirement already satisfied: jinja2 in /usr/local/lib/python3.12/site-packages (from spacy) (3.1.6)\n",
      "Requirement already satisfied: setuptools in /usr/local/lib/python3.12/site-packages (from spacy) (80.4.0)\n",
      "Requirement already satisfied: packaging>=20.0 in /usr/local/lib/python3.12/site-packages (from spacy) (24.2)\n",
      "Requirement already satisfied: langcodes<4.0.0,>=3.2.0 in /usr/local/lib/python3.12/site-packages (from spacy) (3.5.0)\n",
      "Requirement already satisfied: language-data>=1.2 in /usr/local/lib/python3.12/site-packages (from langcodes<4.0.0,>=3.2.0->spacy) (1.3.0)\n",
      "Requirement already satisfied: annotated-types>=0.6.0 in /usr/local/lib/python3.12/site-packages (from pydantic!=1.8,!=1.8.1,<3.0.0,>=1.7.4->spacy) (0.7.0)\n",
      "Requirement already satisfied: pydantic-core==2.33.2 in /usr/local/lib/python3.12/site-packages (from pydantic!=1.8,!=1.8.1,<3.0.0,>=1.7.4->spacy) (2.33.2)\n",
      "Requirement already satisfied: typing-extensions>=4.12.2 in /usr/local/lib/python3.12/site-packages (from pydantic!=1.8,!=1.8.1,<3.0.0,>=1.7.4->spacy) (4.13.2)\n",
      "Requirement already satisfied: typing-inspection>=0.4.0 in /usr/local/lib/python3.12/site-packages (from pydantic!=1.8,!=1.8.1,<3.0.0,>=1.7.4->spacy) (0.4.0)\n",
      "Requirement already satisfied: charset-normalizer<4,>=2 in /usr/local/lib/python3.12/site-packages (from requests<3.0.0,>=2.13.0->spacy) (3.4.2)\n",
      "Requirement already satisfied: idna<4,>=2.5 in /usr/local/lib/python3.12/site-packages (from requests<3.0.0,>=2.13.0->spacy) (3.10)\n",
      "Requirement already satisfied: urllib3<3,>=1.21.1 in /usr/local/lib/python3.12/site-packages (from requests<3.0.0,>=2.13.0->spacy) (2.4.0)\n",
      "Requirement already satisfied: certifi>=2017.4.17 in /usr/local/lib/python3.12/site-packages (from requests<3.0.0,>=2.13.0->spacy) (2025.4.26)\n",
      "Requirement already satisfied: blis<1.4.0,>=1.3.0 in /usr/local/lib/python3.12/site-packages (from thinc<8.4.0,>=8.3.4->spacy) (1.3.0)\n",
      "Requirement already satisfied: confection<1.0.0,>=0.0.1 in /usr/local/lib/python3.12/site-packages (from thinc<8.4.0,>=8.3.4->spacy) (0.1.5)\n",
      "Requirement already satisfied: click>=8.0.0 in /usr/local/lib/python3.12/site-packages (from typer<1.0.0,>=0.3.0->spacy) (8.2.0)\n",
      "Requirement already satisfied: shellingham>=1.3.0 in /usr/local/lib/python3.12/site-packages (from typer<1.0.0,>=0.3.0->spacy) (1.5.4)\n",
      "Requirement already satisfied: rich>=10.11.0 in /usr/local/lib/python3.12/site-packages (from typer<1.0.0,>=0.3.0->spacy) (14.0.0)\n",
      "Requirement already satisfied: cloudpathlib<1.0.0,>=0.7.0 in /usr/local/lib/python3.12/site-packages (from weasel<0.5.0,>=0.1.0->spacy) (0.21.0)\n",
      "Requirement already satisfied: smart-open<8.0.0,>=5.2.1 in /usr/local/lib/python3.12/site-packages (from weasel<0.5.0,>=0.1.0->spacy) (7.1.0)\n",
      "Requirement already satisfied: wrapt in /usr/local/lib/python3.12/site-packages (from smart-open<8.0.0,>=5.2.1->weasel<0.5.0,>=0.1.0->spacy) (1.17.2)\n",
      "Requirement already satisfied: marisa-trie>=1.1.0 in /usr/local/lib/python3.12/site-packages (from language-data>=1.2->langcodes<4.0.0,>=3.2.0->spacy) (1.2.1)\n",
      "Requirement already satisfied: markdown-it-py>=2.2.0 in /usr/local/lib/python3.12/site-packages (from rich>=10.11.0->typer<1.0.0,>=0.3.0->spacy) (3.0.0)\n",
      "Requirement already satisfied: pygments<3.0.0,>=2.13.0 in /usr/local/lib/python3.12/site-packages (from rich>=10.11.0->typer<1.0.0,>=0.3.0->spacy) (2.19.1)\n",
      "Requirement already satisfied: mdurl~=0.1 in /usr/local/lib/python3.12/site-packages (from markdown-it-py>=2.2.0->rich>=10.11.0->typer<1.0.0,>=0.3.0->spacy) (0.1.2)\n",
      "Requirement already satisfied: MarkupSafe>=2.0 in /usr/local/lib/python3.12/site-packages (from jinja2->spacy) (3.0.2)\n",
      "Collecting fr-core-news-sm==3.8.0\n",
      "  Downloading https://github.com/explosion/spacy-models/releases/download/fr_core_news_sm-3.8.0/fr_core_news_sm-3.8.0-py3-none-any.whl (16.3 MB)\n",
      "\u001b[2K     \u001b[90m━━━━━━━━━━━━━━━━━━━━━━━━━━━━━━━━━━━━━━━━\u001b[0m \u001b[32m16.3/16.3 MB\u001b[0m \u001b[31m15.3 MB/s\u001b[0m eta \u001b[36m0:00:00\u001b[0m00:01\u001b[0m00:01\u001b[0m\n",
      "\u001b[?25h\u001b[38;5;2m✔ Download and installation successful\u001b[0m\n",
      "You can now load the package via spacy.load('fr_core_news_sm')\n",
      "Requirement already satisfied: scikit-learn in /usr/local/lib/python3.12/site-packages (1.6.1)\n",
      "Requirement already satisfied: numpy>=1.19.5 in /usr/local/lib/python3.12/site-packages (from scikit-learn) (2.2.5)\n",
      "Requirement already satisfied: scipy>=1.6.0 in /usr/local/lib/python3.12/site-packages (from scikit-learn) (1.15.3)\n",
      "Requirement already satisfied: joblib>=1.2.0 in /usr/local/lib/python3.12/site-packages (from scikit-learn) (1.5.0)\n",
      "Requirement already satisfied: threadpoolctl>=3.1.0 in /usr/local/lib/python3.12/site-packages (from scikit-learn) (3.6.0)\n",
      "Requirement already satisfied: imbalanced-learn in /usr/local/lib/python3.12/site-packages (0.13.0)\n",
      "Requirement already satisfied: numpy<3,>=1.24.3 in /usr/local/lib/python3.12/site-packages (from imbalanced-learn) (2.2.5)\n",
      "Requirement already satisfied: scipy<2,>=1.10.1 in /usr/local/lib/python3.12/site-packages (from imbalanced-learn) (1.15.3)\n",
      "Requirement already satisfied: scikit-learn<2,>=1.3.2 in /usr/local/lib/python3.12/site-packages (from imbalanced-learn) (1.6.1)\n",
      "Requirement already satisfied: sklearn-compat<1,>=0.1 in /usr/local/lib/python3.12/site-packages (from imbalanced-learn) (0.1.3)\n",
      "Requirement already satisfied: joblib<2,>=1.1.1 in /usr/local/lib/python3.12/site-packages (from imbalanced-learn) (1.5.0)\n",
      "Requirement already satisfied: threadpoolctl<4,>=2.0.0 in /usr/local/lib/python3.12/site-packages (from imbalanced-learn) (3.6.0)\n",
      "Requirement already satisfied: transformers in /usr/local/lib/python3.12/site-packages (4.51.3)\n",
      "Requirement already satisfied: filelock in /usr/local/lib/python3.12/site-packages (from transformers) (3.18.0)\n",
      "Requirement already satisfied: huggingface-hub<1.0,>=0.30.0 in /usr/local/lib/python3.12/site-packages (from transformers) (0.31.2)\n",
      "Requirement already satisfied: numpy>=1.17 in /usr/local/lib/python3.12/site-packages (from transformers) (2.2.5)\n",
      "Requirement already satisfied: packaging>=20.0 in /usr/local/lib/python3.12/site-packages (from transformers) (24.2)\n",
      "Requirement already satisfied: pyyaml>=5.1 in /usr/local/lib/python3.12/site-packages (from transformers) (6.0.2)\n",
      "Requirement already satisfied: regex!=2019.12.17 in /usr/local/lib/python3.12/site-packages (from transformers) (2024.11.6)\n",
      "Requirement already satisfied: requests in /usr/local/lib/python3.12/site-packages (from transformers) (2.32.3)\n",
      "Requirement already satisfied: tokenizers<0.22,>=0.21 in /usr/local/lib/python3.12/site-packages (from transformers) (0.21.1)\n",
      "Requirement already satisfied: safetensors>=0.4.3 in /usr/local/lib/python3.12/site-packages (from transformers) (0.5.3)\n",
      "Requirement already satisfied: tqdm>=4.27 in /usr/local/lib/python3.12/site-packages (from transformers) (4.67.1)\n",
      "Requirement already satisfied: fsspec>=2023.5.0 in /usr/local/lib/python3.12/site-packages (from huggingface-hub<1.0,>=0.30.0->transformers) (2025.3.2)\n",
      "Requirement already satisfied: typing-extensions>=3.7.4.3 in /usr/local/lib/python3.12/site-packages (from huggingface-hub<1.0,>=0.30.0->transformers) (4.13.2)\n",
      "Requirement already satisfied: charset-normalizer<4,>=2 in /usr/local/lib/python3.12/site-packages (from requests->transformers) (3.4.2)\n",
      "Requirement already satisfied: idna<4,>=2.5 in /usr/local/lib/python3.12/site-packages (from requests->transformers) (3.10)\n",
      "Requirement already satisfied: urllib3<3,>=1.21.1 in /usr/local/lib/python3.12/site-packages (from requests->transformers) (2.4.0)\n",
      "Requirement already satisfied: certifi>=2017.4.17 in /usr/local/lib/python3.12/site-packages (from requests->transformers) (2025.4.26)\n",
      "Requirement already satisfied: torch in /usr/local/lib/python3.12/site-packages (2.7.0)\n",
      "Requirement already satisfied: filelock in /usr/local/lib/python3.12/site-packages (from torch) (3.18.0)\n",
      "Requirement already satisfied: typing-extensions>=4.10.0 in /usr/local/lib/python3.12/site-packages (from torch) (4.13.2)\n",
      "Requirement already satisfied: setuptools in /usr/local/lib/python3.12/site-packages (from torch) (80.4.0)\n",
      "Requirement already satisfied: sympy>=1.13.3 in /usr/local/lib/python3.12/site-packages (from torch) (1.14.0)\n",
      "Requirement already satisfied: networkx in /usr/local/lib/python3.12/site-packages (from torch) (3.4.2)\n",
      "Requirement already satisfied: jinja2 in /usr/local/lib/python3.12/site-packages (from torch) (3.1.6)\n",
      "Requirement already satisfied: fsspec in /usr/local/lib/python3.12/site-packages (from torch) (2025.3.2)\n",
      "Requirement already satisfied: nvidia-cuda-nvrtc-cu12==12.6.77 in /usr/local/lib/python3.12/site-packages (from torch) (12.6.77)\n",
      "Requirement already satisfied: nvidia-cuda-runtime-cu12==12.6.77 in /usr/local/lib/python3.12/site-packages (from torch) (12.6.77)\n",
      "Requirement already satisfied: nvidia-cuda-cupti-cu12==12.6.80 in /usr/local/lib/python3.12/site-packages (from torch) (12.6.80)\n",
      "Requirement already satisfied: nvidia-cudnn-cu12==9.5.1.17 in /usr/local/lib/python3.12/site-packages (from torch) (9.5.1.17)\n",
      "Requirement already satisfied: nvidia-cublas-cu12==12.6.4.1 in /usr/local/lib/python3.12/site-packages (from torch) (12.6.4.1)\n",
      "Requirement already satisfied: nvidia-cufft-cu12==11.3.0.4 in /usr/local/lib/python3.12/site-packages (from torch) (11.3.0.4)\n",
      "Requirement already satisfied: nvidia-curand-cu12==10.3.7.77 in /usr/local/lib/python3.12/site-packages (from torch) (10.3.7.77)\n",
      "Requirement already satisfied: nvidia-cusolver-cu12==11.7.1.2 in /usr/local/lib/python3.12/site-packages (from torch) (11.7.1.2)\n",
      "Requirement already satisfied: nvidia-cusparse-cu12==12.5.4.2 in /usr/local/lib/python3.12/site-packages (from torch) (12.5.4.2)\n",
      "Requirement already satisfied: nvidia-cusparselt-cu12==0.6.3 in /usr/local/lib/python3.12/site-packages (from torch) (0.6.3)\n",
      "Requirement already satisfied: nvidia-nccl-cu12==2.26.2 in /usr/local/lib/python3.12/site-packages (from torch) (2.26.2)\n",
      "Requirement already satisfied: nvidia-nvtx-cu12==12.6.77 in /usr/local/lib/python3.12/site-packages (from torch) (12.6.77)\n",
      "Requirement already satisfied: nvidia-nvjitlink-cu12==12.6.85 in /usr/local/lib/python3.12/site-packages (from torch) (12.6.85)\n",
      "Requirement already satisfied: nvidia-cufile-cu12==1.11.1.6 in /usr/local/lib/python3.12/site-packages (from torch) (1.11.1.6)\n",
      "Requirement already satisfied: triton==3.3.0 in /usr/local/lib/python3.12/site-packages (from torch) (3.3.0)\n",
      "Requirement already satisfied: mpmath<1.4,>=1.1.0 in /usr/local/lib/python3.12/site-packages (from sympy>=1.13.3->torch) (1.3.0)\n",
      "Requirement already satisfied: MarkupSafe>=2.0 in /usr/local/lib/python3.12/site-packages (from jinja2->torch) (3.0.2)\n",
      "Requirement already satisfied: sentencepiece in /usr/local/lib/python3.12/site-packages (0.2.0)\n",
      "Requirement already satisfied: xgboost in /usr/local/lib/python3.12/site-packages (3.0.0)\n",
      "Requirement already satisfied: numpy in /usr/local/lib/python3.12/site-packages (from xgboost) (2.2.5)\n",
      "Requirement already satisfied: nvidia-nccl-cu12 in /usr/local/lib/python3.12/site-packages (from xgboost) (2.26.2)\n",
      "Requirement already satisfied: scipy in /usr/local/lib/python3.12/site-packages (from xgboost) (1.15.3)\n",
      "Requirement already satisfied: pandas in /usr/local/lib/python3.12/site-packages (2.2.3)\n",
      "Requirement already satisfied: requests in /usr/local/lib/python3.12/site-packages (2.32.3)\n",
      "Requirement already satisfied: numpy>=1.26.0 in /usr/local/lib/python3.12/site-packages (from pandas) (2.2.5)\n",
      "Requirement already satisfied: python-dateutil>=2.8.2 in /usr/local/lib/python3.12/site-packages (from pandas) (2.9.0.post0)\n",
      "Requirement already satisfied: pytz>=2020.1 in /usr/local/lib/python3.12/site-packages (from pandas) (2025.2)\n",
      "Requirement already satisfied: tzdata>=2022.7 in /usr/local/lib/python3.12/site-packages (from pandas) (2025.2)\n",
      "Requirement already satisfied: charset-normalizer<4,>=2 in /usr/local/lib/python3.12/site-packages (from requests) (3.4.2)\n",
      "Requirement already satisfied: idna<4,>=2.5 in /usr/local/lib/python3.12/site-packages (from requests) (3.10)\n",
      "Requirement already satisfied: urllib3<3,>=1.21.1 in /usr/local/lib/python3.12/site-packages (from requests) (2.4.0)\n",
      "Requirement already satisfied: certifi>=2017.4.17 in /usr/local/lib/python3.12/site-packages (from requests) (2025.4.26)\n",
      "Requirement already satisfied: six>=1.5 in /usr/local/lib/python3.12/site-packages (from python-dateutil>=2.8.2->pandas) (1.17.0)\n",
      "Requirement already satisfied: tqdm in /usr/local/lib/python3.12/site-packages (4.67.1)\n"
=======
      "Defaulting to user installation because normal site-packages is not writeable\n",
      "Requirement already satisfied: matplotlib in c:\\users\\stani\\appdata\\roaming\\python\\python312\\site-packages (3.10.1)\n",
      "Requirement already satisfied: contourpy>=1.0.1 in c:\\users\\stani\\appdata\\roaming\\python\\python312\\site-packages (from matplotlib) (1.3.1)\n",
      "Requirement already satisfied: cycler>=0.10 in c:\\users\\stani\\appdata\\roaming\\python\\python312\\site-packages (from matplotlib) (0.12.1)\n",
      "Requirement already satisfied: fonttools>=4.22.0 in c:\\users\\stani\\appdata\\roaming\\python\\python312\\site-packages (from matplotlib) (4.57.0)\n",
      "Requirement already satisfied: kiwisolver>=1.3.1 in c:\\users\\stani\\appdata\\roaming\\python\\python312\\site-packages (from matplotlib) (1.4.8)\n",
      "Requirement already satisfied: numpy>=1.23 in c:\\users\\stani\\appdata\\roaming\\python\\python312\\site-packages (from matplotlib) (2.2.4)\n",
      "Requirement already satisfied: packaging>=20.0 in c:\\users\\stani\\appdata\\roaming\\python\\python312\\site-packages (from matplotlib) (24.2)\n",
      "Requirement already satisfied: pillow>=8 in c:\\users\\stani\\appdata\\roaming\\python\\python312\\site-packages (from matplotlib) (11.2.1)\n",
      "Requirement already satisfied: pyparsing>=2.3.1 in c:\\users\\stani\\appdata\\roaming\\python\\python312\\site-packages (from matplotlib) (3.2.3)\n",
      "Requirement already satisfied: python-dateutil>=2.7 in c:\\users\\stani\\appdata\\roaming\\python\\python312\\site-packages (from matplotlib) (2.9.0.post0)\n",
      "Requirement already satisfied: six>=1.5 in c:\\users\\stani\\appdata\\roaming\\python\\python312\\site-packages (from python-dateutil>=2.7->matplotlib) (1.17.0)\n"
     ]
    },
    {
     "name": "stderr",
     "output_type": "stream",
     "text": [
      "\n",
      "[notice] A new release of pip is available: 24.0 -> 25.1.1\n",
      "[notice] To update, run: python.exe -m pip install --upgrade pip\n"
     ]
    },
    {
     "name": "stdout",
     "output_type": "stream",
     "text": [
      "Defaulting to user installation because normal site-packages is not writeable\n",
      "Requirement already satisfied: nltk in c:\\users\\stani\\appdata\\roaming\\python\\python312\\site-packages (3.9.1)\n",
      "Requirement already satisfied: click in c:\\users\\stani\\appdata\\roaming\\python\\python312\\site-packages (from nltk) (8.1.8)\n",
      "Requirement already satisfied: joblib in c:\\users\\stani\\appdata\\roaming\\python\\python312\\site-packages (from nltk) (1.4.2)\n",
      "Requirement already satisfied: regex>=2021.8.3 in c:\\users\\stani\\appdata\\roaming\\python\\python312\\site-packages (from nltk) (2024.11.6)\n",
      "Requirement already satisfied: tqdm in c:\\users\\stani\\appdata\\roaming\\python\\python312\\site-packages (from nltk) (4.67.1)\n",
      "Requirement already satisfied: colorama in c:\\users\\stani\\appdata\\roaming\\python\\python312\\site-packages (from click->nltk) (0.4.6)\n"
     ]
    },
    {
     "name": "stderr",
     "output_type": "stream",
     "text": [
      "\n",
      "[notice] A new release of pip is available: 24.0 -> 25.1.1\n",
      "[notice] To update, run: python.exe -m pip install --upgrade pip\n"
     ]
    },
    {
     "name": "stdout",
     "output_type": "stream",
     "text": [
      "Defaulting to user installation because normal site-packages is not writeable\n",
      "Requirement already satisfied: spacy in c:\\users\\stani\\appdata\\roaming\\python\\python312\\site-packages (3.8.5)\n",
      "Requirement already satisfied: spacy-legacy<3.1.0,>=3.0.11 in c:\\users\\stani\\appdata\\roaming\\python\\python312\\site-packages (from spacy) (3.0.12)\n",
      "Requirement already satisfied: spacy-loggers<2.0.0,>=1.0.0 in c:\\users\\stani\\appdata\\roaming\\python\\python312\\site-packages (from spacy) (1.0.5)\n",
      "Requirement already satisfied: murmurhash<1.1.0,>=0.28.0 in c:\\users\\stani\\appdata\\roaming\\python\\python312\\site-packages (from spacy) (1.0.12)\n",
      "Requirement already satisfied: cymem<2.1.0,>=2.0.2 in c:\\users\\stani\\appdata\\roaming\\python\\python312\\site-packages (from spacy) (2.0.11)\n",
      "Requirement already satisfied: preshed<3.1.0,>=3.0.2 in c:\\users\\stani\\appdata\\roaming\\python\\python312\\site-packages (from spacy) (3.0.9)\n",
      "Requirement already satisfied: thinc<8.4.0,>=8.3.4 in c:\\users\\stani\\appdata\\roaming\\python\\python312\\site-packages (from spacy) (8.3.6)\n",
      "Requirement already satisfied: wasabi<1.2.0,>=0.9.1 in c:\\users\\stani\\appdata\\roaming\\python\\python312\\site-packages (from spacy) (1.1.3)\n",
      "Requirement already satisfied: srsly<3.0.0,>=2.4.3 in c:\\users\\stani\\appdata\\roaming\\python\\python312\\site-packages (from spacy) (2.5.1)\n",
      "Requirement already satisfied: catalogue<2.1.0,>=2.0.6 in c:\\users\\stani\\appdata\\roaming\\python\\python312\\site-packages (from spacy) (2.0.10)\n",
      "Requirement already satisfied: weasel<0.5.0,>=0.1.0 in c:\\users\\stani\\appdata\\roaming\\python\\python312\\site-packages (from spacy) (0.4.1)\n",
      "Requirement already satisfied: typer<1.0.0,>=0.3.0 in c:\\users\\stani\\appdata\\roaming\\python\\python312\\site-packages (from spacy) (0.15.2)\n",
      "Requirement already satisfied: tqdm<5.0.0,>=4.38.0 in c:\\users\\stani\\appdata\\roaming\\python\\python312\\site-packages (from spacy) (4.67.1)\n",
      "Requirement already satisfied: numpy>=1.19.0 in c:\\users\\stani\\appdata\\roaming\\python\\python312\\site-packages (from spacy) (2.2.4)\n",
      "Requirement already satisfied: requests<3.0.0,>=2.13.0 in c:\\users\\stani\\appdata\\roaming\\python\\python312\\site-packages (from spacy) (2.32.3)\n",
      "Requirement already satisfied: pydantic!=1.8,!=1.8.1,<3.0.0,>=1.7.4 in c:\\users\\stani\\appdata\\roaming\\python\\python312\\site-packages (from spacy) (2.11.3)\n",
      "Requirement already satisfied: jinja2 in c:\\users\\stani\\appdata\\roaming\\python\\python312\\site-packages (from spacy) (3.1.6)\n",
      "Requirement already satisfied: setuptools in c:\\users\\stani\\appdata\\roaming\\python\\python312\\site-packages (from spacy) (78.1.0)\n",
      "Requirement already satisfied: packaging>=20.0 in c:\\users\\stani\\appdata\\roaming\\python\\python312\\site-packages (from spacy) (24.2)\n",
      "Requirement already satisfied: langcodes<4.0.0,>=3.2.0 in c:\\users\\stani\\appdata\\roaming\\python\\python312\\site-packages (from spacy) (3.5.0)\n",
      "Requirement already satisfied: language-data>=1.2 in c:\\users\\stani\\appdata\\roaming\\python\\python312\\site-packages (from langcodes<4.0.0,>=3.2.0->spacy) (1.3.0)\n",
      "Requirement already satisfied: annotated-types>=0.6.0 in c:\\users\\stani\\appdata\\roaming\\python\\python312\\site-packages (from pydantic!=1.8,!=1.8.1,<3.0.0,>=1.7.4->spacy) (0.7.0)\n",
      "Requirement already satisfied: pydantic-core==2.33.1 in c:\\users\\stani\\appdata\\roaming\\python\\python312\\site-packages (from pydantic!=1.8,!=1.8.1,<3.0.0,>=1.7.4->spacy) (2.33.1)\n",
      "Requirement already satisfied: typing-extensions>=4.12.2 in c:\\users\\stani\\appdata\\roaming\\python\\python312\\site-packages (from pydantic!=1.8,!=1.8.1,<3.0.0,>=1.7.4->spacy) (4.13.2)\n",
      "Requirement already satisfied: typing-inspection>=0.4.0 in c:\\users\\stani\\appdata\\roaming\\python\\python312\\site-packages (from pydantic!=1.8,!=1.8.1,<3.0.0,>=1.7.4->spacy) (0.4.0)\n",
      "Requirement already satisfied: charset-normalizer<4,>=2 in c:\\users\\stani\\appdata\\roaming\\python\\python312\\site-packages (from requests<3.0.0,>=2.13.0->spacy) (3.4.1)\n",
      "Requirement already satisfied: idna<4,>=2.5 in c:\\users\\stani\\appdata\\roaming\\python\\python312\\site-packages (from requests<3.0.0,>=2.13.0->spacy) (3.10)\n",
      "Requirement already satisfied: urllib3<3,>=1.21.1 in c:\\users\\stani\\appdata\\roaming\\python\\python312\\site-packages (from requests<3.0.0,>=2.13.0->spacy) (2.4.0)\n",
      "Requirement already satisfied: certifi>=2017.4.17 in c:\\users\\stani\\appdata\\roaming\\python\\python312\\site-packages (from requests<3.0.0,>=2.13.0->spacy) (2025.1.31)\n",
      "Requirement already satisfied: blis<1.4.0,>=1.3.0 in c:\\users\\stani\\appdata\\roaming\\python\\python312\\site-packages (from thinc<8.4.0,>=8.3.4->spacy) (1.3.0)\n",
      "Requirement already satisfied: confection<1.0.0,>=0.0.1 in c:\\users\\stani\\appdata\\roaming\\python\\python312\\site-packages (from thinc<8.4.0,>=8.3.4->spacy) (0.1.5)\n",
      "Requirement already satisfied: colorama in c:\\users\\stani\\appdata\\roaming\\python\\python312\\site-packages (from tqdm<5.0.0,>=4.38.0->spacy) (0.4.6)\n",
      "Requirement already satisfied: click>=8.0.0 in c:\\users\\stani\\appdata\\roaming\\python\\python312\\site-packages (from typer<1.0.0,>=0.3.0->spacy) (8.1.8)\n",
      "Requirement already satisfied: shellingham>=1.3.0 in c:\\users\\stani\\appdata\\roaming\\python\\python312\\site-packages (from typer<1.0.0,>=0.3.0->spacy) (1.5.4)\n",
      "Requirement already satisfied: rich>=10.11.0 in c:\\users\\stani\\appdata\\roaming\\python\\python312\\site-packages (from typer<1.0.0,>=0.3.0->spacy) (14.0.0)\n",
      "Requirement already satisfied: cloudpathlib<1.0.0,>=0.7.0 in c:\\users\\stani\\appdata\\roaming\\python\\python312\\site-packages (from weasel<0.5.0,>=0.1.0->spacy) (0.21.0)\n",
      "Requirement already satisfied: smart-open<8.0.0,>=5.2.1 in c:\\users\\stani\\appdata\\roaming\\python\\python312\\site-packages (from weasel<0.5.0,>=0.1.0->spacy) (7.1.0)\n",
      "Requirement already satisfied: MarkupSafe>=2.0 in c:\\users\\stani\\appdata\\roaming\\python\\python312\\site-packages (from jinja2->spacy) (3.0.2)\n",
      "Requirement already satisfied: marisa-trie>=1.1.0 in c:\\users\\stani\\appdata\\roaming\\python\\python312\\site-packages (from language-data>=1.2->langcodes<4.0.0,>=3.2.0->spacy) (1.2.1)\n",
      "Requirement already satisfied: markdown-it-py>=2.2.0 in c:\\users\\stani\\appdata\\roaming\\python\\python312\\site-packages (from rich>=10.11.0->typer<1.0.0,>=0.3.0->spacy) (3.0.0)\n",
      "Requirement already satisfied: pygments<3.0.0,>=2.13.0 in c:\\users\\stani\\appdata\\roaming\\python\\python312\\site-packages (from rich>=10.11.0->typer<1.0.0,>=0.3.0->spacy) (2.19.1)\n",
      "Requirement already satisfied: wrapt in c:\\users\\stani\\appdata\\roaming\\python\\python312\\site-packages (from smart-open<8.0.0,>=5.2.1->weasel<0.5.0,>=0.1.0->spacy) (1.17.2)\n",
      "Requirement already satisfied: mdurl~=0.1 in c:\\users\\stani\\appdata\\roaming\\python\\python312\\site-packages (from markdown-it-py>=2.2.0->rich>=10.11.0->typer<1.0.0,>=0.3.0->spacy) (0.1.2)\n"
     ]
    },
    {
     "name": "stderr",
     "output_type": "stream",
     "text": [
      "\n",
      "[notice] A new release of pip is available: 24.0 -> 25.1.1\n",
      "[notice] To update, run: python.exe -m pip install --upgrade pip\n"
     ]
    },
    {
     "name": "stdout",
     "output_type": "stream",
     "text": [
      "Defaulting to user installation because normal site-packages is not writeable\n",
      "Collecting fr-core-news-sm==3.8.0\n",
      "  Downloading https://github.com/explosion/spacy-models/releases/download/fr_core_news_sm-3.8.0/fr_core_news_sm-3.8.0-py3-none-any.whl (16.3 MB)\n",
      "     ---------------------------------------- 0.0/16.3 MB ? eta -:--:--\n",
      "     ---------------------------------------- 0.0/16.3 MB ? eta -:--:--\n",
      "     --------------------------------------- 0.0/16.3 MB 653.6 kB/s eta 0:00:25\n",
      "     - -------------------------------------- 0.4/16.3 MB 3.7 MB/s eta 0:00:05\n",
      "     ---- ----------------------------------- 1.6/16.3 MB 10.4 MB/s eta 0:00:02\n",
      "     ------- -------------------------------- 3.2/16.3 MB 15.5 MB/s eta 0:00:01\n",
      "     ---------- ----------------------------- 4.4/16.3 MB 17.4 MB/s eta 0:00:01\n",
      "     ------------- -------------------------- 5.3/16.3 MB 20.1 MB/s eta 0:00:01\n",
      "     ---------------- ----------------------- 6.7/16.3 MB 20.3 MB/s eta 0:00:01\n",
      "     ------------------- -------------------- 7.8/16.3 MB 20.8 MB/s eta 0:00:01\n",
      "     ---------------------- ----------------- 9.1/16.3 MB 22.3 MB/s eta 0:00:01\n",
      "     ------------------------ -------------- 10.3/16.3 MB 27.3 MB/s eta 0:00:01\n",
      "     --------------------------- ----------- 11.4/16.3 MB 29.7 MB/s eta 0:00:01\n",
      "     ------------------------------ -------- 12.6/16.3 MB 28.5 MB/s eta 0:00:01\n",
      "     -------------------------------- ------ 13.7/16.3 MB 27.3 MB/s eta 0:00:01\n",
      "     ------------------------------------ -- 15.3/16.3 MB 28.4 MB/s eta 0:00:01\n",
      "     --------------------------------------  16.3/16.3 MB 27.3 MB/s eta 0:00:01\n",
      "     --------------------------------------  16.3/16.3 MB 27.3 MB/s eta 0:00:01\n",
      "     --------------------------------------- 16.3/16.3 MB 24.2 MB/s eta 0:00:00\n",
      "\u001b[38;5;2m✔ Download and installation successful\u001b[0m\n",
      "You can now load the package via spacy.load('fr_core_news_sm')\n"
     ]
    },
    {
     "name": "stderr",
     "output_type": "stream",
     "text": [
      "\n",
      "[notice] A new release of pip is available: 24.0 -> 25.1.1\n",
      "[notice] To update, run: python.exe -m pip install --upgrade pip\n"
     ]
    },
    {
     "name": "stdout",
     "output_type": "stream",
     "text": [
      "Defaulting to user installation because normal site-packages is not writeable\n",
      "Requirement already satisfied: scikit-learn in c:\\users\\stani\\appdata\\roaming\\python\\python312\\site-packages (1.6.1)\n",
      "Requirement already satisfied: numpy>=1.19.5 in c:\\users\\stani\\appdata\\roaming\\python\\python312\\site-packages (from scikit-learn) (2.2.4)\n",
      "Requirement already satisfied: scipy>=1.6.0 in c:\\users\\stani\\appdata\\roaming\\python\\python312\\site-packages (from scikit-learn) (1.15.2)\n",
      "Requirement already satisfied: joblib>=1.2.0 in c:\\users\\stani\\appdata\\roaming\\python\\python312\\site-packages (from scikit-learn) (1.4.2)\n",
      "Requirement already satisfied: threadpoolctl>=3.1.0 in c:\\users\\stani\\appdata\\roaming\\python\\python312\\site-packages (from scikit-learn) (3.6.0)\n"
     ]
    },
    {
     "name": "stderr",
     "output_type": "stream",
     "text": [
      "\n",
      "[notice] A new release of pip is available: 24.0 -> 25.1.1\n",
      "[notice] To update, run: python.exe -m pip install --upgrade pip\n"
     ]
    },
    {
     "name": "stdout",
     "output_type": "stream",
     "text": [
      "Defaulting to user installation because normal site-packages is not writeable\n",
      "Requirement already satisfied: imbalanced-learn in c:\\users\\stani\\appdata\\roaming\\python\\python312\\site-packages (0.13.0)\n",
      "Requirement already satisfied: numpy<3,>=1.24.3 in c:\\users\\stani\\appdata\\roaming\\python\\python312\\site-packages (from imbalanced-learn) (2.2.4)\n",
      "Requirement already satisfied: scipy<2,>=1.10.1 in c:\\users\\stani\\appdata\\roaming\\python\\python312\\site-packages (from imbalanced-learn) (1.15.2)\n",
      "Requirement already satisfied: scikit-learn<2,>=1.3.2 in c:\\users\\stani\\appdata\\roaming\\python\\python312\\site-packages (from imbalanced-learn) (1.6.1)\n",
      "Requirement already satisfied: sklearn-compat<1,>=0.1 in c:\\users\\stani\\appdata\\roaming\\python\\python312\\site-packages (from imbalanced-learn) (0.1.3)\n",
      "Requirement already satisfied: joblib<2,>=1.1.1 in c:\\users\\stani\\appdata\\roaming\\python\\python312\\site-packages (from imbalanced-learn) (1.4.2)\n",
      "Requirement already satisfied: threadpoolctl<4,>=2.0.0 in c:\\users\\stani\\appdata\\roaming\\python\\python312\\site-packages (from imbalanced-learn) (3.6.0)\n"
     ]
    },
    {
     "name": "stderr",
     "output_type": "stream",
     "text": [
      "\n",
      "[notice] A new release of pip is available: 24.0 -> 25.1.1\n",
      "[notice] To update, run: python.exe -m pip install --upgrade pip\n"
     ]
    },
    {
     "name": "stdout",
     "output_type": "stream",
     "text": [
      "Defaulting to user installation because normal site-packages is not writeable\n",
      "Requirement already satisfied: transformers in c:\\users\\stani\\appdata\\roaming\\python\\python312\\site-packages (4.51.3)\n",
      "Requirement already satisfied: filelock in c:\\users\\stani\\appdata\\roaming\\python\\python312\\site-packages (from transformers) (3.18.0)\n",
      "Requirement already satisfied: huggingface-hub<1.0,>=0.30.0 in c:\\users\\stani\\appdata\\roaming\\python\\python312\\site-packages (from transformers) (0.30.2)\n",
      "Requirement already satisfied: numpy>=1.17 in c:\\users\\stani\\appdata\\roaming\\python\\python312\\site-packages (from transformers) (2.2.4)\n",
      "Requirement already satisfied: packaging>=20.0 in c:\\users\\stani\\appdata\\roaming\\python\\python312\\site-packages (from transformers) (24.2)\n",
      "Requirement already satisfied: pyyaml>=5.1 in c:\\users\\stani\\appdata\\roaming\\python\\python312\\site-packages (from transformers) (6.0.2)\n",
      "Requirement already satisfied: regex!=2019.12.17 in c:\\users\\stani\\appdata\\roaming\\python\\python312\\site-packages (from transformers) (2024.11.6)\n",
      "Requirement already satisfied: requests in c:\\users\\stani\\appdata\\roaming\\python\\python312\\site-packages (from transformers) (2.32.3)\n",
      "Requirement already satisfied: tokenizers<0.22,>=0.21 in c:\\users\\stani\\appdata\\roaming\\python\\python312\\site-packages (from transformers) (0.21.1)\n",
      "Requirement already satisfied: safetensors>=0.4.3 in c:\\users\\stani\\appdata\\roaming\\python\\python312\\site-packages (from transformers) (0.5.3)\n",
      "Requirement already satisfied: tqdm>=4.27 in c:\\users\\stani\\appdata\\roaming\\python\\python312\\site-packages (from transformers) (4.67.1)\n",
      "Requirement already satisfied: fsspec>=2023.5.0 in c:\\users\\stani\\appdata\\roaming\\python\\python312\\site-packages (from huggingface-hub<1.0,>=0.30.0->transformers) (2025.3.2)\n",
      "Requirement already satisfied: typing-extensions>=3.7.4.3 in c:\\users\\stani\\appdata\\roaming\\python\\python312\\site-packages (from huggingface-hub<1.0,>=0.30.0->transformers) (4.13.2)\n",
      "Requirement already satisfied: colorama in c:\\users\\stani\\appdata\\roaming\\python\\python312\\site-packages (from tqdm>=4.27->transformers) (0.4.6)\n",
      "Requirement already satisfied: charset-normalizer<4,>=2 in c:\\users\\stani\\appdata\\roaming\\python\\python312\\site-packages (from requests->transformers) (3.4.1)\n",
      "Requirement already satisfied: idna<4,>=2.5 in c:\\users\\stani\\appdata\\roaming\\python\\python312\\site-packages (from requests->transformers) (3.10)\n",
      "Requirement already satisfied: urllib3<3,>=1.21.1 in c:\\users\\stani\\appdata\\roaming\\python\\python312\\site-packages (from requests->transformers) (2.4.0)\n",
      "Requirement already satisfied: certifi>=2017.4.17 in c:\\users\\stani\\appdata\\roaming\\python\\python312\\site-packages (from requests->transformers) (2025.1.31)\n"
     ]
    },
    {
     "name": "stderr",
     "output_type": "stream",
     "text": [
      "\n",
      "[notice] A new release of pip is available: 24.0 -> 25.1.1\n",
      "[notice] To update, run: python.exe -m pip install --upgrade pip\n"
     ]
    },
    {
     "name": "stdout",
     "output_type": "stream",
     "text": [
      "Defaulting to user installation because normal site-packages is not writeable\n",
      "Requirement already satisfied: torch in c:\\users\\stani\\appdata\\roaming\\python\\python312\\site-packages (2.6.0)\n",
      "Requirement already satisfied: filelock in c:\\users\\stani\\appdata\\roaming\\python\\python312\\site-packages (from torch) (3.18.0)\n",
      "Requirement already satisfied: typing-extensions>=4.10.0 in c:\\users\\stani\\appdata\\roaming\\python\\python312\\site-packages (from torch) (4.13.2)\n",
      "Requirement already satisfied: networkx in c:\\users\\stani\\appdata\\roaming\\python\\python312\\site-packages (from torch) (3.4.2)\n",
      "Requirement already satisfied: jinja2 in c:\\users\\stani\\appdata\\roaming\\python\\python312\\site-packages (from torch) (3.1.6)\n",
      "Requirement already satisfied: fsspec in c:\\users\\stani\\appdata\\roaming\\python\\python312\\site-packages (from torch) (2025.3.2)\n",
      "Requirement already satisfied: setuptools in c:\\users\\stani\\appdata\\roaming\\python\\python312\\site-packages (from torch) (78.1.0)\n",
      "Requirement already satisfied: sympy==1.13.1 in c:\\users\\stani\\appdata\\roaming\\python\\python312\\site-packages (from torch) (1.13.1)\n",
      "Requirement already satisfied: mpmath<1.4,>=1.1.0 in c:\\users\\stani\\appdata\\roaming\\python\\python312\\site-packages (from sympy==1.13.1->torch) (1.3.0)\n",
      "Requirement already satisfied: MarkupSafe>=2.0 in c:\\users\\stani\\appdata\\roaming\\python\\python312\\site-packages (from jinja2->torch) (3.0.2)\n"
     ]
    },
    {
     "name": "stderr",
     "output_type": "stream",
     "text": [
      "\n",
      "[notice] A new release of pip is available: 24.0 -> 25.1.1\n",
      "[notice] To update, run: python.exe -m pip install --upgrade pip\n"
     ]
    },
    {
     "name": "stdout",
     "output_type": "stream",
     "text": [
      "Defaulting to user installation because normal site-packages is not writeable\n",
      "Requirement already satisfied: sentencepiece in c:\\users\\stani\\appdata\\roaming\\python\\python312\\site-packages (0.2.0)\n"
     ]
    },
    {
     "name": "stderr",
     "output_type": "stream",
     "text": [
      "\n",
      "[notice] A new release of pip is available: 24.0 -> 25.1.1\n",
      "[notice] To update, run: python.exe -m pip install --upgrade pip\n"
     ]
    },
    {
     "name": "stdout",
     "output_type": "stream",
     "text": [
      "Defaulting to user installation because normal site-packages is not writeable\n",
      "Requirement already satisfied: xgboost in c:\\users\\stani\\appdata\\roaming\\python\\python312\\site-packages (3.0.0)\n",
      "Requirement already satisfied: numpy in c:\\users\\stani\\appdata\\roaming\\python\\python312\\site-packages (from xgboost) (2.2.4)\n",
      "Requirement already satisfied: scipy in c:\\users\\stani\\appdata\\roaming\\python\\python312\\site-packages (from xgboost) (1.15.2)\n"
     ]
    },
    {
     "name": "stderr",
     "output_type": "stream",
     "text": [
      "\n",
      "[notice] A new release of pip is available: 24.0 -> 25.1.1\n",
      "[notice] To update, run: python.exe -m pip install --upgrade pip\n"
     ]
    },
    {
     "name": "stdout",
     "output_type": "stream",
     "text": [
      "Defaulting to user installation because normal site-packages is not writeable\n",
      "Requirement already satisfied: pandas in c:\\users\\stani\\appdata\\roaming\\python\\python312\\site-packages (2.2.3)\n",
      "Requirement already satisfied: requests in c:\\users\\stani\\appdata\\roaming\\python\\python312\\site-packages (2.32.3)\n",
      "Requirement already satisfied: numpy>=1.26.0 in c:\\users\\stani\\appdata\\roaming\\python\\python312\\site-packages (from pandas) (2.2.4)\n",
      "Requirement already satisfied: python-dateutil>=2.8.2 in c:\\users\\stani\\appdata\\roaming\\python\\python312\\site-packages (from pandas) (2.9.0.post0)\n",
      "Requirement already satisfied: pytz>=2020.1 in c:\\users\\stani\\appdata\\roaming\\python\\python312\\site-packages (from pandas) (2025.2)\n",
      "Requirement already satisfied: tzdata>=2022.7 in c:\\users\\stani\\appdata\\roaming\\python\\python312\\site-packages (from pandas) (2025.2)\n",
      "Requirement already satisfied: charset-normalizer<4,>=2 in c:\\users\\stani\\appdata\\roaming\\python\\python312\\site-packages (from requests) (3.4.1)\n",
      "Requirement already satisfied: idna<4,>=2.5 in c:\\users\\stani\\appdata\\roaming\\python\\python312\\site-packages (from requests) (3.10)\n",
      "Requirement already satisfied: urllib3<3,>=1.21.1 in c:\\users\\stani\\appdata\\roaming\\python\\python312\\site-packages (from requests) (2.4.0)\n",
      "Requirement already satisfied: certifi>=2017.4.17 in c:\\users\\stani\\appdata\\roaming\\python\\python312\\site-packages (from requests) (2025.1.31)\n",
      "Requirement already satisfied: six>=1.5 in c:\\users\\stani\\appdata\\roaming\\python\\python312\\site-packages (from python-dateutil>=2.8.2->pandas) (1.17.0)\n"
     ]
    },
    {
     "name": "stderr",
     "output_type": "stream",
     "text": [
      "\n",
      "[notice] A new release of pip is available: 24.0 -> 25.1.1\n",
      "[notice] To update, run: python.exe -m pip install --upgrade pip\n"
     ]
    },
    {
     "name": "stdout",
     "output_type": "stream",
     "text": [
      "Defaulting to user installation because normal site-packages is not writeable\n",
      "Requirement already satisfied: tqdm in c:\\users\\stani\\appdata\\roaming\\python\\python312\\site-packages (4.67.1)\n",
      "Requirement already satisfied: colorama in c:\\users\\stani\\appdata\\roaming\\python\\python312\\site-packages (from tqdm) (0.4.6)\n"
     ]
    },
    {
     "name": "stderr",
     "output_type": "stream",
     "text": [
      "\n",
      "[notice] A new release of pip is available: 24.0 -> 25.1.1\n",
      "[notice] To update, run: python.exe -m pip install --upgrade pip\n"
>>>>>>> dc6fc9583d82e863bba4a373dd0f1144b39e9d49
     ]
    }
   ],
   "source": [
    "!pip install matplotlib\n",
    "!pip install nltk\n",
    "!pip install spacy\n",
    "!python -m spacy download fr_core_news_sm\n",
    "!pip install scikit-learn\n",
    "!pip install imbalanced-learn\n",
    "!pip install transformers\n",
    "!pip install torch\n",
    "!pip install sentencepiece\n",
    "!pip install xgboost\n",
    "!pip install pandas requests\n",
    "!pip install tqdm"
   ]
  },
  {
   "cell_type": "markdown",
   "metadata": {},
   "source": [
    "**Requirements**"
   ]
  },
  {
   "cell_type": "code",
   "execution_count": 3,
   "metadata": {},
   "outputs": [
    {
     "name": "stderr",
     "output_type": "stream",
     "text": [
<<<<<<< HEAD
      "/usr/local/lib/python3.12/site-packages/tqdm/auto.py:21: TqdmWarning: IProgress not found. Please update jupyter and ipywidgets. See https://ipywidgets.readthedocs.io/en/stable/user_install.html\n",
=======
      "C:\\Users\\stani\\AppData\\Roaming\\Python\\Python312\\site-packages\\tqdm\\auto.py:21: TqdmWarning: IProgress not found. Please update jupyter and ipywidgets. See https://ipywidgets.readthedocs.io/en/stable/user_install.html\n",
>>>>>>> dc6fc9583d82e863bba4a373dd0f1144b39e9d49
      "  from .autonotebook import tqdm as notebook_tqdm\n"
     ]
    }
   ],
   "source": [
    "import spacy  \n",
    "import pandas as pd  \n",
    "import numpy as np\n",
    "import matplotlib.pyplot as plt\n",
    "from collections import Counter\n",
    "import math\n",
    "import re  \n",
    "import nltk \n",
    "from nltk.corpus import stopwords  \n",
    "import joblib\n",
    "import os\n",
    "from sklearn.model_selection import train_test_split\n",
    "from sklearn.feature_extraction.text import TfidfVectorizer\n",
    "from sklearn.naive_bayes import MultinomialNB\n",
    "from sklearn.pipeline import Pipeline\n",
    "from sklearn.ensemble import RandomForestClassifier\n",
    "from sklearn.metrics import accuracy_score, classification_report, confusion_matrix\n",
    "from imblearn.over_sampling import SMOTE\n",
    "from sklearn.linear_model import LogisticRegression\n",
    "from sklearn.base import TransformerMixin, BaseEstimator\n",
    "import torch\n",
    "from transformers import CamembertTokenizer, CamembertForSequenceClassification\n",
    "from torch.utils.data import DataLoader, TensorDataset\n",
    "from tqdm import tqdm"
   ]
  },
  {
   "cell_type": "markdown",
   "metadata": {},
   "source": [
    "## 0) **Accès au dataset** (-> accès au dataset sur onyxia , cleaning , lematisation ... )"
   ]
  },
  {
   "cell_type": "markdown",
   "metadata": {},
   "source": [
    "**Accès Jocas**"
   ]
  },
  {
   "cell_type": "code",
   "execution_count": null,
   "metadata": {},
   "outputs": [],
   "source": [
    "import os\n",
    "import s3fs\n",
    "import pandas as pd\n",
    "\n",
    "fs = s3fs.S3FileSystem(\n",
    "    key=os.environ[\"AWS_ACCESS_KEY_ID\"],\n",
    "    secret=os.environ[\"AWS_SECRET_ACCESS_KEY\"],\n",
    "    token=os.environ[\"AWS_SESSION_TOKEN\"],\n",
    "    client_kwargs={\"endpoint_url\": \"https://minio.lab.sspcloud.fr\"}\n",
    ")\n",
    "\n",
    "df = pd.read_parquet(\n",
    "    'projet-jocas-prod/diffusion/JOCAS/annee=2022/mois=12/20221231_offers_0.parquet',\n",
    "    filesystem=fs\n",
    ")\n",
    "\n",
    "df.to_csv('/Users/caroline/Downloads/jocas_2022_12.csv', index=False)"
   ]
  },
  {
   "cell_type": "markdown",
   "metadata": {},
   "source": [
    "Import d'un sous ensemble de Jocas"
   ]
  },
  {
   "cell_type": "code",
   "execution_count": 11,
   "metadata": {},
   "outputs": [
    {
     "name": "stdout",
     "output_type": "stream",
     "text": [
      "                     job_title contractType  \\\n",
      "0               Cordiste (H/F)          MIS   \n",
      "1  Employé libre service (H/F)          MIS   \n",
      "2   Tuyauteur industriel (H/F)   Alternance   \n",
      "3         Data scientist (H/F)        Stage   \n",
      "4             Chirurgien (H/F)          CDI   \n",
      "\n",
      "                                     description_job  \\\n",
      "0  Votre agence R INTERIM Tarbes recherche pour l...   \n",
      "1  R intérim 41 Rue Jules Ferry à Saint-Brieuc In...   \n",
      "2  R Interim recherche un tuyauteur pour l'un de ...   \n",
      "3  Rejoignez un collectif animé par le goût du dé...   \n",
      "4  Emploi Chirurgien Gynécologue Coutances 50 : U...   \n",
      "\n",
      "                                  description_profil  \\\n",
      "0  Vous êtes titulaire d'un CQP ou d'un diplôme d...   \n",
      "1  Vous avez le sens du service et vous vous adap...   \n",
      "2  Fort d'une première expérience ou stage en tuy...   \n",
      "3                                                NaN   \n",
      "4  Chirurgien Gynécologue - inscrit/inscriptible ...   \n",
      "\n",
      "                              description_entreprise  \\\n",
      "0  REGIONAL INTERIM ET R INTERIM, BTP, industrie,...   \n",
      "1  REGIONAL INTERIM ET R INTERIM, BTP, industrie,...   \n",
      "2  REGIONAL INTERIM ET R INTERIM, BTP, industrie,...   \n",
      "3  Rejoignez un collectif animé par le goût du dé...   \n",
      "4  Offre emploi Chirurgien Gynécologue dans une c...   \n",
      "\n",
      "                 entreprise_nom  \\\n",
      "0  REGIONAL INTERIM | R INTERIM   \n",
      "1  REGIONAL INTERIM | R INTERIM   \n",
      "2  REGIONAL INTERIM | R INTERIM   \n",
      "3                     CDISCOUNT   \n",
      "4                    JOBERGROUP   \n",
      "\n",
      "                                        offre_emploi  \n",
      "0  Votre agence R INTERIM Tarbes recherche pour l...  \n",
      "1  R intérim 41 Rue Jules Ferry à Saint-Brieuc In...  \n",
      "2  R Interim recherche un tuyauteur pour l'un de ...  \n",
      "3  Rejoignez un collectif animé par le goût du dé...  \n",
      "4  Emploi Chirurgien Gynécologue Coutances 50 : U...  \n"
     ]
    }
   ],
   "source": [
    "#import du fichier \n",
    "\n",
    "file_path = os.path.join(os.getcwd(),\"csv's\", \"20220913_offers.csv\")\n",
    "df = pd.read_csv(file_path, sep=\";\", low_memory=False)\n",
    "\n",
    "columns = [\"job_title\", \"contractType\", \"description_job\",\"description_profil\", \"description_entreprise\",\"entreprise_nom\"]\n",
    "df = df[columns]\n",
    "df['offre_emploi'] = df[['description_job', 'description_profil', 'description_entreprise']].apply(\n",
    "    lambda x: ' '.join(x.dropna()), axis=1\n",
    ")\n",
    "\n",
    "print(df.head())"
   ]
  },
  {
   "cell_type": "markdown",
   "metadata": {},
   "source": [
    "**Lémmatisation**"
   ]
  },
  {
   "cell_type": "code",
   "execution_count": null,
   "metadata": {},
   "outputs": [],
   "source": [
    "df[\"offre_emploi\"] = df[\"offre_emploi\"].str.lower()\n",
    "\n",
    "nltk.download('stopwords')  \n",
    "stop_words = set(stopwords.words('french'))\n",
    "\n",
    "nlp = spacy.load(\"fr_core_news_sm\")\n",
    "\n",
    "# Fonction de nettoyage avec lemmatisation\n",
    "def clean_and_lemmatize(text):\n",
    "    if isinstance(text, str):  \n",
    "        text = text.lower()  # Minuscule\n",
    "        text = re.sub(r'\\d+', '', text)  # Suppression des chiffres\n",
    "        text = re.sub(r'[^\\w\\s]', '', text)  # Suppression de la ponctuation\n",
    "        doc = nlp(text)  # Analyse du texte avec SpaCy\n",
    "        words = [token.lemma_ for token in doc if token.text not in stop_words]  # Lemmatisation + suppression stopwords\n",
    "        return \" \".join(words)  # Reconstituer le texte nettoyé\n",
    "    return \"\"\n",
    "\n",
    "df[\"offre_emploi\"] = df[\"offre_emploi\"].apply(clean_and_lemmatize)"
   ]
  },
  {
   "cell_type": "markdown",
   "metadata": {},
   "source": [
    "## **I. Approche naïve**"
   ]
  },
  {
   "cell_type": "code",
   "execution_count": 12,
   "metadata": {},
   "outputs": [],
   "source": [
    "file_path = os.path.join(os.getcwd(),\"csv's\", \"lematised700.csv\")\n",
    "df = pd.read_csv(file_path, sep=\",\", low_memory=False)\n",
    "cols_to_merge = [col for col in df.columns if col.lower() != \"catégories\"]\n",
    "df[\"offre_emploi\"] = df[cols_to_merge].apply(lambda x: \" \".join(x.dropna().astype(str)), axis=1)"
   ]
  },
  {
   "cell_type": "code",
   "execution_count": null,
   "metadata": {},
   "outputs": [],
   "source": []
  },
  {
   "cell_type": "markdown",
   "metadata": {},
   "source": [
    "Classification **TF**"
   ]
  },
  {
   "cell_type": "code",
   "execution_count": 7,
   "metadata": {},
   "outputs": [
    {
     "data": {
      "image/png": "iVBORw0KGgoAAAANSUhEUgAAAxgAAAJOCAYAAAA03aE6AAAAOnRFWHRTb2Z0d2FyZQBNYXRwbG90bGliIHZlcnNpb24zLjEwLjEsIGh0dHBzOi8vbWF0cGxvdGxpYi5vcmcvc2/+5QAAAAlwSFlzAAAPYQAAD2EBqD+naQAAvNNJREFUeJzs3QV4FNf3N/CLFIdAcS3u7g4tDi3u7hQp7k6B4q7F3d0p7i7F3d1dW+Z9vuf33v3PRmiyO2Sz2e/neVKSyWY7mZ3Mzrn3nHNDGIZhKCIiIiIiIguEtOJJiIiIiIiIgAEGERERERFZhgEGERERERFZhgEGERERERFZhgEGERERERFZhgEGERERERFZhgEGERERERFZhgEGERERERFZhgEGEZELfP78WQ0ePFitXbvW1btCRN7cunVL9e3bV50+fdrVu0LklhhgEBG5QNeuXdW0adNU7ty5VVC0c+dOFSJECPn3v9y4cUMeO2vWLBVUFC5cWD6CqmHDhqmkSZOqUKFCqcyZM8u2f/75R3Xu3FklTJhQhQwZUpUvX97Vu+mxwX/VqlXVqVOnVLp06Vy6L/i7QqBD5G4YYBAROQg31LgB0B+hQ4dW8ePHV/Xr11d379718+dWr16t5s2bpzZt2qRixoypXGnixIn+DgwWLFigRo8e/c33Kbj766+/JJDIly+fmjlzpvrjjz9k+4wZMyTwqFy5spo9e7Zq166dq3c1WDl37pzcrCMg/hq8Ngj85s+fL4EeEQVcaAd+hoiITH7//XeVJEkS9eHDB3Xw4EG5Yd+7d686c+aMChcunI/H4wZn48aNKnny5MrVEGDEiBFDgiKzggULqvfv36swYcLYBRj4ndq2bWv32B9++EEe+9133wXafruz7du3y43r9OnT7Y4vtiNAHTVqlEv3LzgHGP369ZOZrcSJE/v6mBcvXqho0aKpNWvWqPDhwytXw98VBi6I3A3PWiIiJ5UqVUplz55dPm/cuLHcsA8ZMkRuUpBq4V2bNm2Uq717905FiBDBz+/jBti34Mg3mL3x72NJqUePHsnNqzm40NujRo36nz+PVKovX774+Hl39V/nYmDC8e/du7dL9wGv7adPn+Rvin9X5K4490dEZLECBQrIv1evXrXbfuHCBUl/+f777+XGAUEJghDf0q52796tmjVrpqJHj66iRImi6tatq54/f+4j1apMmTIqXrx4KmzYsCpZsmSqf//+6t9//7V7HEZs06dPr44dOyYzE7iZ6969u4zinj17Vu3atcuW5qXrFrzXYGD7+vXr1c2bN22P1aPAftVgYEQexyJixIhy41auXDl1/vx5u8cgZQU/e+XKFZlFweO8vLxUgwYN5MbTP6ZMmSK/O27ac+bMqfbs2ePr4z5+/Kj69OkjM0c4Xqh1QDoMtptt2bJF5c+fX/YlUqRIKlWqVHK8/HPjj+OPfcHz4/jg58zPj98VaVFv3761HUf9mu/YsUNeD70dx14f2+HDh0t6mn5ujMb795xCTQFG7lOkSCGPwTmF3w+/59cE5rn4NfgdEagjnRCvMV6PHj162L6Pc7JFixayHd/HflapUsUuFQq/C7bBjz/+aHeMNcwq6vM1cuTI8vvg9fBu6dKlKm3atHIs8busXLlSzl3vsyJ4jTt06CDnGY4J9g+vo2EYdo/DfrRq1UpSslDzgccifdKvGgykXzZs2FDFjh1bHoufQXodUVDCGQwiIovpGxukWmi4UUHOPVJgUOCNm5glS5ZIIe/y5ctVhQoV7J4DNxy4wcXNxcWLF9WkSZPkRkrf+OubJtwAt2/fXv7FDT1GX1+9eiW5/GZPnz6VmZbq1aur2rVry80JbvZ+++03+Vl9w4btvsH3X758qe7cuWNL4cHP+WXr1q3y/0MhM34HpHqMGzdOjsHx48d93IzhBhJpZoMGDZLvowA+VqxYMhP0NUgzws1v3rx5JXXr2rVrqmzZsnLDjRs786gwtiN1rWnTpipNmjTSIQi/y6VLl9SqVatsr9PPP/+sMmbMKKlvuIFD8LNv3z71XzB7hdoJ3PDjxvLQoUPy+yCowk0ozJ07VwKiw4cPy+8IWbJkke0DBw5Ub968kZ8B7COOGyAoQQoe9h37hN/Pv+cUjj+eE/uHAAznx9GjR+U4FytW7D9/r8A4F/2CQmvc9CP9Dr87zhsE7ui+huMFR44cUfv375fnS5Aggfz9YR9xfiMQQxCDYKZ169Zq7NixEtDg2OpjrF+XevXqqRIlSsg5h+AWz4FA7MSJE7bzFUF2tWrVVIYMGeSYItBq1KiRvAZmCCJwviFoxPdRyL9582bVqVMnCRC8p8HheOG1w7HGDKhfKVwPHz6UxhA6KEHQhcAI/w8ca+/pi0QuYxARkUNmzpyJoUhj69atxuPHj43bt28by5YtM2LGjGmEDRtWvtaKFCliZMiQwfjw4YNt25cvX4y8efMaKVKk8PGc2bJlMz59+mTbPnToUNm+evVq27Z379752KdmzZoZESJEsPv/FCpUSH528uTJPh6fLl06+b53O3bskJ/Bv1qZMmWMH374wcdjr1+/Lo/FvmuZM2c2YsWKZTx9+tS27e+//zZChgxp1K1b17atT58+8rMNGza0e84KFSoY0aNHN74Gxwf/D/y/Pn78aNs+ZcoUeU7z7zV37lz5f+/Zs8fuOXBM8Nh9+/bJ16NGjZKv8XoGxMmTJ+XnGjdubLe9Y8eOsn379u22bfXq1TMiRozo4zmwv3g9fDu2UaJEMR49emT3Pf+eU5kyZZLXLqAC+1z0TcGCBY3IkSMbN2/etNuO3/Nr/+8DBw7I/2fOnDm2bUuXLvVxTsPr16+NqFGjGk2aNLHb/uDBA8PLy8tuO453ggQJ5Ge0nTt3yvOa/zZWrVol2wYMGGD3nJUrVzZChAhhXLlyxbYNj8O5efbsWR+/B76HvxGtUaNGRty4cY0nT57YPa569eqyr74dCyJXYIoUEZGTihYtKiOJGDHH6DVGkpGmgtFUePbsmYxQYpT+9evX6smTJ/KBkVyMmF6+fNlH1ymM1pqLpps3by7Fnhs2bLBtMxeh6ufFaC9GX5FWYoZRb6QdBYb79++rkydPStoIRto1zApgxNz8O2i//vqr3df4PXB8MCrrF4zCo24BP2uuR8D/F2lW3tNaMFqdOnVq2/HHx08//STfx0gz6BoIpPxg1sO/9O+EEXwzzGTokW9nVKpUya7jWEDOKfxOmO3ANke46lx8/PixpGchHShRokR239MzJ97/30gHwzFAGhx+b8zS/BekiqG4u0aNGnbnBjpJ5cqVy3Zu3Lt3T2a9kCJmnr0rVKiQzGiY4djg5zFr4v18QNyAWQczPAfSrr4GP4eZqV9++UU+N+8rXnPMMPrn9yUKDEyRIiJy0oQJE1TKlCnlDR650Lgpwk2UhhQb3BD06tVLPnyDG2VzmgXy5c1wQxM3bly7vHLcNPbs2VNuNL3fiGNfzPDcgVUUjPQZQM65d7jJR6oI8tMRiGnebyB1ehlSUJD3/7X/j/djhZthpGaZ4eYaqUp+tQXG8QekvyB1CelESDsqUqSIqlixogSOX2tZin3B9713BosTJ47c6Op9dRTSx8wCck4h1Qv1LzhHUTNQsmRJVadOHQn4/MNV5yLS3QD7/DVII0O6EtLIEFSZaxy8/799owMvHWx6p88//Rr61v0N28w393gs6lFQy2GmU7K8nw/eX1+/Ai4EQkixw8fXzmMiV2OAQUTkJOS16y5SyH9H3nbNmjUlXx03Y3okvGPHjjLS6JuAtqzFjQZGPXHzgxtIFNWi6BQ3OV26dPEx+h4UWm5+DUZ7feO9INZROB4YZR45cqSv39f1GjhOCBAxao1ZBxTbLl68WG4+sX6FX/vp28i6lby/fgE5p1B/gLoFzMrgd0AAhRqAyZMnSyDlLFefi6gjQnCB+oM8efLI7BVeB9Rk+GcWSj8GdRgICL0LjDax/jkmej9Rt4J6Ed/4N2gk+tYYYBARWQg3oBhNRaea8ePHyyi4Hk3HyDrSqfwDo6p4Dg3Fv0g9Kl26tHyNAlukgqxYsUJuILXr168HaH8DckPs38diXQxAgOUd0mVQxGqevXCU/v/gWJlHn5Emg+OQKVMm2zbc9P79998yI/FfvwdmIvA4fCAgwUJ4KHJH0OHX64d9wQ0g9kWPUuuiXNyA6321SkDPKaSqIS0JHziXcM6gaNs/AUZgnYt+/Y5Ye+Vrli1bJjfcI0aMsG1DQTyOu5lfrzvODUBTga8dS/0aYvbIO+/b8Fg0OkC6mHkWQ6eLOXI+YPYNz4XOXP69jhC5CmswiIgshu41mNVAW1Hc6ODGBdv+/PNPuTHzLfXBO6RA4EZZQ0cbtEFF9x3QI+nmEX70zsfCeQGBG33vN2Jfe6x/Uk6QPoOuOeioZH5u3ChiBF3fmDoLs0a46cJIPH53DR2NvP9OqFVA+szUqVN9TbFBypaubfAOvwt4b2drpn8n7yud6xkTtDy1UkDOKdz8m2FWDbMbX/t9XHEueofXFgEL0g5v3bpl9z3z/wv/f+8zXehY5r1Frg5qvZ8bmAHC7AsCSfPv6f1YIuUJ6Vpz5syRIEtDm2fUZng/H/D/xyCDGWaOEOjoYxcQ+D1Ri4M6DN+CLt+uI0SuwhkMIqJvAO0o0XcfN7soQkadBlKnkKbTpEkTGZ3F6PaBAwek9StG181wg4YRdNwYYyYAN2v4ebS+BLRlRZ0CRm5RSIqbFqR4BDSlKFu2bHLDOGDAALnpxI2rX7noeCzShVDInCNHDrlRRcGpb9CaFDdRSFlBC03dphbpK977+jsKo/fYb7SpxT6jfgKj5kiX8V6DgZoDtAHFa4GZCLR3xQ0gRpSxHXUhCFiQ4oMUKQQEGGVGTjuOPQr2cfz9gtkSvBa4GdcpQ2hFiyALaXPmGQCr+PecQvEwghG8fpjJQHE8Rv3R5tQ/Autc9A3ayuL/lTVrVik2R60Caj+QvoZGAoC2wvj/4dzC74rfH7MHWA/De6CIm3S0oUWgjDopnDc45/E3gHME/x+kViG4QVCD/w/OFR0oIAhBPQu2YTYINUL4HgIPc9CBvwu85pj5wv7i/EBwjTQ1pHLpWZOAGjx4sJy/KD7Ha47fF0Ex0tHwO/sWIBO5hEt6VxERBQO6jeeRI0d8fO/ff/81kiVLJh///POPbLt69aq0aI0TJ47x3XffGfHjxzd+/vlnaW3r/Tl37dplNG3a1IgWLZoRKVIko1atWnYtXwGtVXPnzm2EDx/eiBcvntG5c2dj8+bNPlpx+tb+1NyKEy1M0QrU3NrVtza1b968MWrWrCktPc1tOX1rUwto35svXz7ZP7RZ/eWXX4xz587ZPUa3qfXeFlYfBzz3f5k4caKRJEkSaQ2cPXt2Y/fu3fJ7eG+/i1arQ4YMkWOBx+LYogVrv379jJcvX8pjtm3bZpQrV06OZ5gwYeTfGjVqGJcuXfrP/fj8+bM8F/YFr2/ChAmNbt262bVpdbRN7bBhw3z9f/rnnEKr1Jw5c8rrhtciderUxsCBA+1az/omsM9Fv5w5c0baFmP/w4ULZ6RKlcro1auX7fvPnz83GjRoYMSIEUP2r0SJEsaFCxfk/MSxNps6daqRNGlSI1SoUD72DZ/jZ9HuFf8f/O3Wr1/fOHr0qN1zLFq0SI4hzqH06dMba9asMSpVqiTbzNDKtl27dnI88NqgdTBeR3OLXcB+tGzZ0tff3XubWnj48KE8HucXnhevPVoWoz0zUVARAv9xTWhDRETeYcYDI6NYPEwXjhO5As9F/8PsCGY9/mt1dCJPwRoMIiIiIn9AjQbqT8xQ5I50NKShEdH/sAaDiIiIyB/QKAAdnNAqFkXfqOFBkwG0t/W+WCSRJ2OAQUREROQPKGZHsTzWEkHXJnSmQkMAFF97Lyon8mSswSAiIiIiIsuwBoOIiIiIiCzDAIOIiIiIiCzDAIOIiIiIiCzDIm8Klr58+aLu3bunIkeOLKvKEhEREZHjULb9+vVr6aAWMuTX5ygYYFCwhOAiYcKErt4NIiIiomDl9u3bKkGCBF99DAMMCpYwc6H/CKJEieLq3SEiIiJya69evZLBW32P9TUMMChY0mlRCC4YYBARERFZwz+p5yzyJiIiIiIiyzDAICIiIiIiyzDAICIiIiIiyzDAICIiIiIiyzDAICIiIiIiyzDAICIiIiIiyzDAICIiIiIiyzDAICIiIiIiyzDAICIiIiIiyzDAICIiIiIiyzDAICIiIiIiy4S27qmIPFvirutdvQtu48bgMq7eBSIiIvpGOINBRERERESWYYBBRERERESWYYBBRERERESWYYBBRERERESWYZE3EbktFtYHDIvriYgoMHAGg4iIiIiILMMAg4iIiIiILMMAg4iIiIiILMMAg4iIiIiILMMAg4iIiIiILMMAg4iIiIiILMMAg4iIiIiILMMAg4iIiIiILMMAg4iIiIiILMMAg4iIiIiILMMAg4iIiIiILMMAgywxYcIElThxYhUuXDiVK1cudfjwYT8fu2LFCpU9e3YVNWpUFTFiRJU5c2Y1d+5cu8cYhqF69+6t4saNq8KHD6+KFi2qLl++HAi/CRERERE5gwEGOW3x4sWqffv2qk+fPur48eMqU6ZMqkSJEurRo0e+Pv77779XPXr0UAcOHFCnTp1SDRo0kI/NmzfbHjN06FA1duxYNXnyZHXo0CEJRPCcHz58CMTfjIiIiIgCigEGOW3kyJGqSZMmEiSkTZtWgoIIESKoGTNm+Pr4woULqwoVKqg0adKoZMmSqTZt2qiMGTOqvXv32mYvRo8erXr27KnKlSsn35szZ466d++eWrVqVSD/dkREREQUEAwwyCmfPn1Sx44dkxQmLWTIkPI1Zij+C4KJbdu2qYsXL6qCBQvKtuvXr6sHDx7YPaeXl5ekXvn1nB8/flSvXr2y+yAiIiKiwMcAg5zy5MkT9e+//6rYsWPbbcfXCBL88vLlSxUpUiQVJkwYVaZMGTVu3DhVrFgx+Z7+uYA856BBgyQI0R8JEya04LcjIiIiooBigEEuETlyZHXy5El15MgRNXDgQKnh2Llzp8PP161bNwla9Mft27ct3V8iIiIi8p/Q/nwcka9ixIihQoUKpR4+fGi3HV/HiRPHz59DGlXy5Mnlc3SROn/+vMxCoD5D/xyeA12kzM+Jx/ombNiw8kFERERErsUZDHIKUpyyZcsmdRTaly9f5Os8efL4+3nwM6ijgCRJkkiQYX5O1FSgm1RAnpOIiIiIAh9nMMhpSG+qV6+erG2RM2dO6QD19u1b6SoFdevWVfHjx5cZCsC/eCw6SCGo2LBhg6yDMWnSJPl+iBAhVNu2bdWAAQNUihQpJODo1auXihcvnipfvrxLf1ciIiIi+joGGOS0atWqqcePH8vCeCjCRhrTpk2bbEXat27dkpQoDcFHixYt1J07d2QRvdSpU6t58+bJ82idO3eWxzVt2lS9ePFC5c+fX54TC/kRERERUdAVwkCfUKJgBilV6CaFgu8oUaIEyv8zcdf1gfL/CQ5uDC5jyfPwmLvmuBMRked5FYB7K9ZgEBERERGRZRhgEBERERGRZRhgEBERERGRZRhgEBERERGRZRhgEBERERGRZRhgEBERERGRZRhgEBERERGRZRhgEBERERGRZRhgEBERERGRZRhgEBERERGRZRhgEBERERGRZRhgEBERERGRZRhgEBERERGRZRhgEBERERGRZRhgEBERERGRZRhgEBERERGRZRhgEBERERGRZRhgEBERERGRZRhgEBERERGRZRhgEBERERGRZRhgEBERERGRZRhgEBERERGRZRhgEBERERGRZRhgEBERERGRZRhgEBERERGRZRhgEBERERGRZRhgEBERERGRZRhgEBERERGRZRhgEBERERGRZRhgEBERERGRZRhgEBERERGRZRhgEBERERGRZRhgEBERERGRZRhgkCUmTJigEidOrMKFC6dy5cqlDh8+7Odjp06dqgoUKKCiRYsmH0WLFvXx+Pr166sQIULYfZQsWTIQfhMiIiIicgYDDHLa4sWLVfv27VWfPn3U8ePHVaZMmVSJEiXUo0ePfH38zp07VY0aNdSOHTvUgQMHVMKECVXx4sXV3bt37R6HgOL+/fu2j4ULFwbSb0REREREjmKAQU4bOXKkatKkiWrQoIFKmzatmjx5sooQIYKaMWOGr4+fP3++atGihcqcObNKnTq1mjZtmvry5Yvatm2b3ePChg2r4sSJY/vAbAcRERERBW0MMEi8ePHCoZ/79OmTOnbsmKQ5aSFDhpSvMTvhH+/evVOfP39W33//vY+ZjlixYqlUqVKp5s2bq6dPn/r5HB8/flSvXr2y+yAiIiKiwMcAwwMNGTJE0pq0qlWrqujRo6v48eOrv//+O0DP9eTJE/Xvv/+q2LFj223H1w8ePPDXc3Tp0kXFixfPLkhBetScOXNkVgP7u2vXLlWqVCn5f/lm0KBBysvLy/aBtCsiIiIiCnwMMDwQUpj0DfiWLVvkY+PGjXID36lTp0Ddl8GDB6tFixaplStXSoG4Vr16dVW2bFmVIUMGVb58ebVu3Tp15MgRmdXwTbdu3dTLly9tH7dv3w7E34KIiIiItNC2z8hjYGZBBxi4cccMBoqs0QUKHaACIkaMGCpUqFDq4cOHdtvxNeomvmb48OESYGzdulVlzJjxq49NmjSp/L+uXLmiihQp4uP7qNfABxERERG5FmcwPBCKpfUI/6ZNm2ypSYZh+JmC5JcwYcKobNmy2RVo64LtPHny+PlzQ4cOVf3795f/f/bs2f/z/3Pnzh2pwYgbN26A9o+IiIiIAhdnMDxQxYoVVc2aNVWKFCnkph2pUXDixAmVPHnyAD8fWtTWq1dPAoWcOXOq0aNHq7dv30pXKahbt67Ud6BOAlBT0bt3b7VgwQKZNdG1GpEiRZKPN2/eqH79+qlKlSrJLMjVq1dV586dZd/Q/paIiIiIgi4GGB5o1KhRcmOPWQzMJOCmHrDWBNrHBlS1atXU48ePJWhAsID2s5iZ0IXft27dks5S2qRJk6T7VOXKle2eB+to9O3bV1KuTp06pWbPni3drVAAjhQuzHgwDYqIiIgoaAthIC+GKJhBm1p0k0LBd5QoUQLl/5m46/pA+f8EBzcGl7HkeXjMXXPciYjI87wKwL0VazA81Ny5c1X+/PllduDmzZuyDalNq1evdvWuEREREZEbY4DhgZCihLoJ1F4gBUkXdkeNGlWCDCIiIiIiRzHA8EDjxo1TU6dOVT169JB6Bw1F2qdPn3bpvhERERGRe2OA4YGuX7+usmTJ4mM7CqjR/YmIiIiIyFEMMDxQkiRJ1MmTJ31sR+enNGnSuGSfiIiIiCh4YJtaD4T6i5YtW6oPHz7I4nqHDx9WCxculHUqpk2b5urdIyIiIiI3xgDDAzVu3FiFDx9e9ezZU717904W3UM3qTFjxqjq1au7eveIiIiIyI0xwPAw//zzj6ygjRWxa9WqJQEGVs6OFSuWq3eNiIiIiIIB1mB4mNChQ6tff/1V0qMgQoQIDC6IiIiIyDIMMDxQzpw51YkTJ1y9G0REREQUDDFFygO1aNFCdejQQd25c0dly5ZNRYwY0e77GTNmdNm+EREREZF7Y4DhgXQhd+vWrW3bQoQIIR2l8K9e2ZuIiIiIKKAYYHjoQntERERERN8CAwwPkTVrVrVt2zYVLVo0NXv2bNWxY0cp8CYiIiIishKLvD3E+fPn1du3b+Xzfv36SWtaIiIiIiKrcQbDQ2TOnFk1aNBA5c+fX2othg8friJFiuTrY3v37h3o+0dEREREwQMDDA8xa9Ys1adPH7Vu3Top5N64caOsieEdvscAg4iIiIgcxQDDQ6RKlUotWrRIPg8ZMqTUY3CBPSIiIiKyGmswPKjI+/nz5/I5ZjL8So8iIiIiInIGAwwPLPL+/fffWeRNRERERN8EU6Q8BIu8iYiIiCgwMMDwECzyJiIiIqLAwADDQ7DIm4iIiIgCAwMMD/TlyxdX7wIRERERBVMMMDzU1atX1ejRo6X4G9KmTavatGmjkiVL5updIyIiIiI3xi5SHmjz5s0SUBw+fFhlzJhRPg4dOqTSpUuntmzZ4urdIyIiIiI3xhkMD9S1a1fVrl07NXjwYB/bu3TpoooVK+ayfSMiIiIi98YZDA+EtKhGjRr52N6wYUN17tw5l+wTEREREQUPDDA8UMyYMdXJkyd9bMc2dpYiIiIiImcwRcoDNWnSRDVt2lRdu3ZN5c2bV7bt27dPDRkyRLVv397Vu0dEREREbowBhgfq1auXihw5shoxYoTq1q2bbIsXL57q27evat26tat3j4iIiIjcGAMMD4TVulHkjY/Xr1/LNgQcRERERETOYoDh4RhYEBEREZGVWORNlpgwYYJKnDixChcunMqVK5esseGXqVOnqgIFCqho0aLJR9GiRX083jAM1bt3bxU3blwVPnx4eczly5cD4TchIiIiImcwwCCnLV68WIrD+/Tpo44fP64yZcqkSpQooR49euTr43fu3Klq1KihduzYoQ4cOKASJkyoihcvru7evWt7zNChQ9XYsWPV5MmTZRHAiBEjynN++PAhEH8zIiIiIgooBhjktJEjR0pnqgYNGsgK4QgKIkSIoGbMmOHr4+fPn69atGihMmfOrFKnTq2mTZumvnz5orZt22abvRg9erTq2bOnKleunKw0PmfOHHXv3j21atWqQP7tiIiIiCggWINB4sWLFypq1KgB/rlPnz6pY8eO2bpRQciQISWlCbMT/vHu3Tv1+fNn9f3338vX169fVw8ePJDn0Ly8vCT1Cs9ZvXp1H8/x8eNH+dBevXoV4N+FiPwncdf1rt4Ft3FjcBlX7wIRUaDjDIYHwnoXSGvSqlatqqJHj67ix4+v/v777wA915MnT9S///6rYseObbcdXyNI8I8uXbpIm1wdUOifC8hzDho0SIIQ/YG0KyIiIiIKfAwwPBBSmPQN+JYtW+Rj48aNqlSpUqpTp06Bui+DBw9WixYtUitXrpQCcUdhBuXly5e2j9u3b1u6n0RERETkP0yR8kCYBdABxrp162QGA0XW6AKFNKSAiBEjhgoVKpR6+PCh3XZ8HSdOnK/+7PDhwyXA2Lp1q9RZaPrn8BzoImV+TtRt+CZs2LDyQURERESuxRkMD4TWsHqEf9OmTbbUJBRXI90pIMKECaOyZctmK9AGXbCdJ08eP38OXaL69+8v///s2bPbfS9JkiQSZJifEzUV6Cb1teckIiIiItfjDIYHqlixoqpZs6ZKkSKFevr0qaRGwYkTJ1Ty5MkD/HxoUVuvXj0JFHLmzCkdoN6+fStdpaBu3bpS34E6CV0DgjUuFixYILMmuq4iUqRI8oGVxtu2basGDBgg+4iAo1evXlKnUb58eUuPBRERERFZiwGGBxo1apTc2GMWAzMJuKmH+/fvS/vYgKpWrZp6/PixBA0IFpDGhJkJXaR969Yt6SylTZo0SbpPVa5c2e55sI5G37595fPOnTtLkNK0aVPpcJU/f355TmfqNIiIiIjo2wthIC+GKJhBShW6SaHgO0qUKIHy/2TrzsBv3cljHjA87oGPbWqJyBPvrViD4aHmzp0rswJIO7p586ZsQ2rT6tWrXb1rREREROTGGGB4IKQooW4CtRdIP9KF3VhoD0EGEREREZGjGGB4oHHjxqmpU6eqHj16SItZDUXap0+fdum+EREREZF7Y4Dhga5fv66yZMniYzvWkUBhNRERERGRoxhgeCC0fT158qSP7ejSlCZNGpfsExEREREFD2xT64FQf9GyZUv14cMHWVzv8OHDauHChbJOxbRp01y9e0RERETkxhhgeKDGjRur8OHDq549e6p3797JonvoJjVmzBhVvXp1V+8eEREREbkxBhgeqlatWvKBAOPNmzcqVqxYrt4lIiIiIgoGGGB4uAgRIsgHEREREZEVGGB4CHSNChEihL8ee/z48W++P0REREQUPDHA8BDly5e3fY7i7okTJ6q0adOqPHnyyLaDBw+qs2fPqhYtWrhwL4mIiIjI3THA8BB9+vSxK/Ju3bq16t+/v4/H3L592wV7R0RERETBBdfB8EBLly5VdevW9bG9du3aavny5S7ZJyIiIiIKHhhgeCC0qN23b5+P7dgWLlw4l+wTEREREQUPTJHyQG3btlXNmzeXYu6cOXPKtkOHDqkZM2aoXr16uXr3iIiIiMiNMcDwQF27dlVJkyaVhfXmzZsn29KkSaNmzpypqlat6urdIyIiIiI3xgDDQyGQYDBBRERERFZjDQYREREREVmGAQYREREREVmGAQYREREREVmGAQYREREREVmGAQYREREREVmGXaQ80L///qtmzZqltm3bph49eqS+fPli9/3t27e7bN+IiIiIyL0xwPBAbdq0kQCjTJkyKn369CpEiBCu3iUiIiIiCiYYYHigRYsWqSVLlqjSpUu7eleIiIiIKJhhDYYHChMmjEqePLmrd4OIiIiIgiEGGB6oQ4cOasyYMcowDFfvChEREREFM0yR8kB79+5VO3bsUBs3blTp0qVT3333nd33V6xY4bJ9IyIiIiL3xgDDA0WNGlVVqFDB1btBRERERMEQAwwPNHPmTFfvAhEREREFUwwwPNjjx4/VxYsX5fNUqVKpmDFjunqXiIiIiMjNscjbA719+1Y1bNhQxY0bVxUsWFA+4sWLpxo1aqTevXvn6t0jIiIiIjfGAMMDtW/fXu3atUutXbtWvXjxQj5Wr14t29BhioiIiIjIUQwwPNDy5cvV9OnTValSpVSUKFHkA4vuTZ06VS1btsyh55wwYYJKnDixChcunMqVK5c6fPiwn489e/asqlSpkjweq4iPHj3ax2P69u0r3zN/pE6d2qF9IyIiIqLAwwDDAyENKnbs2D62x4oVy6EUqcWLF8usSJ8+fdTx48dVpkyZVIkSJdSjR4/8/P8nTZpUDR48WMWJE8fP50UL3fv379s+0F6XiIiIiII2BhgeKE+ePBIMfPjwwbbt/fv3ql+/fvK9gBo5cqRq0qSJatCggUqbNq2aPHmyihAhgpoxY4avj8+RI4caNmyYql69ugobNqyfzxs6dGgJQPRHjBgxArxvRERERBS42EXKA2EVb8wwJEiQQGYb4O+//5b0ps2bNwfouT59+qSOHTumunXrZtsWMmRIVbRoUXXgwAGn9vPy5ctSfI79QuAzaNAglShRIl8f+/HjR/nQXr165dT/m4iIiIgcwwDDA6VPn15u3ufPn68uXLgg22rUqKFq1aqlwocPH6DnevLkifr33399pFzha/3cjkAdx6xZs6R9LtKjMLtSoEABdebMGRU5cmQfj0fwgccQERERkWsxwPBQSGFCWlNQhQJ0LWPGjBJw/PDDD2rJkiXSTtc7zKCgDsQ8g5EwYcJA218iIiIi+h8GGB5izZo1ctP+3XffyedfU7ZsWX8/L+oiQoUKpR4+fGi3HV9/rYA7oKJGjapSpkyprly54uv3UcvxtXoOIiIiIgocDDA8RPny5dWDBw+kUxQ+9wvawSLlyb/ChAmjsmXLprZt22Z73i9fvsjXrVq1UlZ58+aNunr1qqpTp45lz0lERERE1mOA4SFw0+/b51ZAalK9evVU9uzZVc6cOWVdC6wWjq5SULduXRU/fnypk9CF4efOnbN9fvfuXXXy5EkVKVIklTx5ctnesWNH9csvv0ha1L1796TrFWZKUCtCREREREEX29R6oDlz5th1XNJws4/vBVS1atXU8OHDVe/evVXmzJklWNi0aZOt8PvWrVtSqK0hYMiSJYt8YDt+Fp83btzY9pg7d+5IMIEi76pVq6ro0aOrgwcPqpgxYzr8exMRERHRtxfCMAwjEP4/FIRgJgA39kiXMnv69KlsC0iKVFCFIm8vLy/18uVLWak8MCTuuj5Q/j/BwY3BZSx5Hh7zgOFxd99jTkTkTvdWnMHwQIgpUWvhHWYNcOIQERERETmKNRgeBGlICCzwUaRIEVkpW8OsxfXr11XJkiVduo9ERERE5N4YYHgQ3eUJNRJYyRtF1eZuUIkTJ1aVKlVy4R4SERERkbtjgOFB0IkJMxUIJIoXL67ixo3r6l0iIiIiomCGNRgeWODdrFkz9eHDB1fvChEREREFQwwwPFD69OnVtWvXXL0bRERERBQMMcDwQAMGDJCF7NatWyftatF2zPxBREREROQo1mB4oNKlS8u/ZcuWtWtXq9vXBod1MIiIiIjINRhgeKAdO3a4eheIiIiIKJhigOGBChUq5OpdICIiIqJgigGGh3rx4oWaPn26On/+vHydLl061bBhQ67kTUREREROYZG3Bzp69KhKliyZGjVqlHr27Jl8jBw5UrYdP37c1btHRERERG6MMxgeqF27dlLgPXXqVBU69P9OgX/++Uc1btxYtW3bVu3evdvVu0hERN4k7rre1bvgNm4MLuPqXSDyaAwwPHQGwxxcAD7v3Lmzyp49u0v3jYiIiIjcG1OkPFCUKFHUrVu3fGy/ffu2ihw5skv2iYiIiIiCBwYYHqhatWqqUaNGavHixRJU4GPRokWSIlWjRg1X7x4RERERuTGmSHmg4cOHy4J6devWldoL+O6771Tz5s3V4MGDXb17REREROTGGGB4oDBhwqgxY8aoQYMGqatXr8o2dJCKECGCq3eNiIiIiNwcAwwPhoAiatSots+JiIiIiJzFGgwPhLSoXr16yaJ6iRMnlg983rNnT/X582dX7x4RERERuTHOYHig3377Ta1YsUINHTpU5cmTR7YdOHBA9e3bVz19+lRNmjTJ1btIRERERG6KAYYHWrBggXSNKlWqlG1bxowZVcKECaWLFAMMIiIiInIUU6Q8UNiwYSUtyrskSZJIATgRERERkaMYYHigVq1aqf79+6uPHz/atuHzgQMHyveIiIiIiBzFFCkPdOLECbVt2zaVIEEClSlTJtn2999/q0+fPqkiRYqoihUr2h6LWg0iIiIiIv9igOGB0Jq2UqVKdttQf0FERERE5CwGGB5o5syZrt4FIiIiIgqmGGB4sMePH6uLFy/K56lSpVIxY8Z09S4RERERkZtjkbcHevv2rWrYsKGKGzeuKliwoHzEixdPNWrUSL17987Vu0dEREREbowBhgdq37692rVrl1q7dq168eKFfKxevVq2dejQwdW7R0RERERujClSHmj58uVq2bJlqnDhwrZtpUuXVuHDh1dVq1blQntERERE5DDOYHggpEHFjh3bx/ZYsWIxRYqIiIiInMIAwwPlyZNH9enTR3348MG27f3796pfv37yPSIiIiIiRzHA8ECjR49W+/btk4X2sLAePrAOxv79+9WYMWMces4JEyaoxIkTq3DhwqlcuXKpw4cP+/nYs2fPyjoceHyIECFkf5x9TiIiIiIKGhhgeKAMGTKoy5cvq0GDBqnMmTPLx+DBg2VbunTpAvx8ixcvlsJxzIocP35cVgcvUaKEevToka+PRxpW0qRJ5f8ZJ04cS56TiIiIiIIGFnl7mM+fP6vUqVOrdevWqSZNmljynCNHjpTnatCggXw9efJktX79ejVjxgzVtWtXH4/PkSOHfIBv33fkOYmIiIgoaOAMhof57rvv7GovnPXp0yd17NgxVbRoUdu2kCFDytcHDhwItOf8+PGjevXqld0HEREREQU+BhgeqGXLlmrIkCHqn3/+cfq5njx5ov79918fXanw9YMHDwLtOZHu5eXlZftATQkRERERBT6mSHmgI0eOqG3btqm//vpL6jEiRoxo9/0VK1Yod9OtWzep2dAwg8Egg4iIiCjwMcDwQFGjRpUuTlaIESOGChUqlHr48KHddnztVwH3t3jOsGHDygcRERERuRYDDA80c+ZMy54rTJgwKlu2bDIjUr58edn25csX+bpVq1ZB5jmJiIiIKHAwwPAguEkfNmyYWrNmjRRSY/0LtIENHz68U8+L1KR69eqp7Nmzq5w5c8q6Fm/fvrV1gKpbt66KHz++1EkA/t/nzp2zfX737l118uRJFSlSJJU8eXJ/PScRERERBU0MMDzIwIEDVd++faUbE4IKLKqHdSXQ+tUZ1apVU48fP1a9e/eWImysq7Fp0yZbkfatW7ekC5R27949lSVLFtvXw4cPl49ChQqpnTt3+us5iYiIiChoYoDhQebMmaMmTpyomjVrJl9v3bpVlSlTRk2bNs0uAHAEUpf8Sl/SQYOG1bkNw3DqOYmIiIgoaGKbWg+CmYTSpUvbvsZMRogQIWRGgYiIiIjICgwwPAjWvQgXLpyPhfewujcRERERkRWYIuVBkJZUv359u3auWNX7119/tVsLwx3XwSAiIiKioIEBhgdBVybvateu7ZJ9ISIiIqLgiQGGB7Fy/QsiIiIiIt+wBoOIiIiIiCzDAIOIiIiIiCzDAIOIiIiIiCzDAIOIiIiIiCzDAIOIiIiIiCzDAIOIiIiIiCzDAIOIiIiIiCzDAIOIiIiIiCzDAIOIiIiIiCzDAIOIiIiIiCzDAIOIiIiIiCzDAIOIiIiIiCzDAIOIiIiIiCzDAIOIiIiIiCzDAIOIiIiIiCzDAIOIiIiIiCzDAIOIiIiIiCzDAIOIiIiIiCzDAIOIiIiIiCzDAIOIiIiIiCzDAIOIiIiIiCzDAIOIiIiIiCzDAIOIiIiIiCzDAIOIiIiIiCzDAIOIiIiIiCzDAIOIiIiIiCzDAIOIiIiIiCzDAIOIiIiIiCzDAIMsMWHCBJU4cWIVLlw4lStXLnX48OGvPn7p0qUqderU8vgMGTKoDRs22H2/fv36KkSIEHYfJUuW/Ma/BRERERE5iwEGOW3x4sWqffv2qk+fPur48eMqU6ZMqkSJEurRo0e+Pn7//v2qRo0aqlGjRurEiROqfPny8nHmzBm7xyGguH//vu1j4cKFgfQbEREREZGjGGCQ00aOHKmaNGmiGjRooNKmTasmT56sIkSIoGbMmOHr48eMGSPBQ6dOnVSaNGlU//79VdasWdX48ePtHhc2bFgVJ04c20e0aNEC6TciIiIiIkcxwCCnfPr0SR07dkwVLVrUti1kyJDy9YEDB3z9GWw3Px4w4+H98Tt37lSxYsVSqVKlUs2bN1dPnz71cz8+fvyoXr16ZfdBRERERIGPAQY55cmTJ+rff/9VsWPHttuOrx88eODrz2D7fz0eMxxz5sxR27ZtU0OGDFG7du1SpUqVkv+XbwYNGqS8vLxsHwkTJrTk9yMiIiKigAkdwMcTBYrq1avbPkcReMaMGVWyZMlkVqNIkSI+Ht+tWzepA9Ewg8Egg4iIiCjwcQaDnBIjRgwVKlQo9fDhQ7vt+Bp1E77B9oA8HpImTSr/rytXrvj6fdRrRIkSxe6DiIiIiAIfAwxySpgwYVS2bNkklUn78uWLfJ0nTx5ffwbbzY+HLVu2+Pl4uHPnjtRgxI0b18K9JyIiIiKrMcAgpyE1aerUqWr27Nnq/PnzUpD99u1b6SoFdevWlRQmrU2bNmrTpk1qxIgR6sKFC6pv377q6NGjqlWrVvL9N2/eSIepgwcPqhs3bkgwUq5cOZU8eXIpBiciIiKioIs1GOS0atWqqcePH6vevXtLoXbmzJklgNCF3Ldu3ZLOUlrevHnVggULVM+ePVX37t1VihQp1KpVq1T69Onl+0i5OnXqlAQsL168UPHixVPFixeXdrZIhSIiIiKioIsBBlkCsw96BsI7FGZ7V6VKFfnwTfjw4dXmzZst30ciIiIi+vaYIkVERERERJZhgEFERERERJZhgEFERERERJZhgEFERERERJZhgEFERERERJZhgEFERERERJZhgEFERERERJZhgEFERERERJZhgEFERERERJZhgEFERERERJZhgEFERERERJZhgEFERERERJZhgEFERERERJZhgEFERERERJZhgEFERERERJZhgEFERERERJZhgEFERERERJZhgEFERERERJZhgEFERERERJZhgEFERERERJZhgEFERERERJZhgEFERERERJZhgEFERERERJZhgEFERERERJYJbd1TEREREQUvibuud/UuuI0bg8u4ehcoiOAMBhERERERWYYBBhERERERWYYBBhERERERWYY1GEREREQUpLD2xb1rXziDQURERERElmGAQURERERElmGAQURERERElmGAQURERERElmGAQZaYMGGCSpw4sQoXLpzKlSuXOnz48Fcfv3TpUpU6dWp5fIYMGdSGDRvsvm8Yhurdu7eKGzeuCh8+vCpatKi6fPnyN/4tiIiIiMhZDDDIaYsXL1bt27dXffr0UcePH1eZMmVSJUqUUI8ePfL18fv371c1atRQjRo1UidOnFDly5eXjzNnztgeM3ToUDV27Fg1efJkdejQIRUxYkR5zg8fPgTib0ZEREREAcUAg5w2cuRI1aRJE9WgQQOVNm1aCQoiRIigZsyY4evjx4wZo0qWLKk6deqk0qRJo/r376+yZs2qxo8fb5u9GD16tOrZs6cqV66cypgxo5ozZ466d++eWrVqVSD/dkREREQUEFwHg5zy6dMndezYMdWtWzfbtpAhQ0pK04EDB3z9GWzHjIcZZid08HD9+nX14MEDeQ7Ny8tLUq/ws9WrV/fxnB8/fpQP7eXLl/Lvq1evVGD58vFdoP2/3J1VrwuPecDwuAc+K69BPO7+x+PuGjzurvEqkO519P8HA8H/hQEGOeXJkyfq33//VbFjx7bbjq8vXLjg688gePDt8diuv6+3+fUY7wYNGqT69evnY3vChAkD+BtRYPAa7eo98Ew87oGPx9w1eNxdg8fdM47769evZeD3axhgULCAGRTzrMiXL1/Us2fPVPTo0VWIECGUJ8JIAwKs27dvqyhRorh6dzwGj7tr8Li7Bo+7a/C4u4anH3fDMCS4iBcv3n8+lgEGOSVGjBgqVKhQ6uHDh3bb8XWcOHF8/Rls/9rj9b/Yhi5S5sdkzpzZ1+cMGzasfJhFjRrVwd8qeMFF0BMvhK7G4+4aPO6uwePuGjzuruHJx93rP2YuNBZ5k1PChAmjsmXLprZt22Y3e4Cv8+TJ4+vPYLv58bBlyxbb45MkSSJBhvkxGDVANym/npOIiIiIggbOYJDTkJpUr149lT17dpUzZ07pAPX27VvpKgV169ZV8ePHlzoJaNOmjSpUqJAaMWKEKlOmjFq0aJE6evSomjJlinwfKU1t27ZVAwYMUClSpJCAo1evXjIlh3a2RERERBR0McAgp1WrVk09fvxYFsZDETbSmDZt2mQr0r5165Z0ltLy5s2rFixYIG1ou3fvLkEEOkilT5/e9pjOnTtLkNK0aVP14sULlT9/fnlOLMxH/oOUMaxN4j11jL4tHnfX4HF3DR531+Bxdw0ed/8LYfin1xQREREREZE/sAaDiIiIiIgswwCDiIiIiIgswwCDiIiIiIgswwCDiIiIbJo3b64mTpzo6t0gIjfGAIOI6D9g1VYiTzBhwgQ1f/586fZHROQoBhhEbkQ3fTM3f2MjuG9r4MCBqnDhwurcuXOu3hWPxvM8cGBNohIlSki7cSyA+tdff7l6l4jIDTHAIHITWCEdixDC+/fv5WvcdGHbv//+6+rdC7awPkuaNGlU48aN1dmzZ129Ox4D57eZPvcZaHxbWCwV5/mvv/6qSpUqpT5//uzqXfLI850CH68t1uI6GERu8uajFyvESuk7d+5Ub968UYkTJ1ajRo1SkSNHdvUuBmubN29WY8aMUc+ePVPTp09X6dKlc/Uuecz5vmjRIklRe/Tokdz0JkuWzNW7F+zs3btX5c6dW4UOHVp9+PBBlS9fXmYuateurebMmePjNSFrmY/t3Llz1alTpySgzpQpk6pVq5ardy/Y0wN1nz59UmHChOG5bhEeQSI3oC923bp1U3/88YcqXry4vPmvX79e/fTTT+rjx4+u3sVgSY+/IGWkdevW6vvvv1eNGjXiTEYgne+dOnVSXbp0Ufv371eXLl1SKVOmVEuWLFH//POPq3cx2EC9BVYmfvHihXz99OlTdfz4cfXjjz+q8+fPq0mTJtleE46yf9vzvXPnznK+Y/AIgxm//fabXPPp20JwcfjwYVW1alV19+5dnusWYYBBFISZU5/wZo+AYtmyZapFixYqevTo6t27d6pBgwYqbNiwtsdxUtJ5+hjqtBwoWbKkatWqFYOMQLJ06VK5+V29erVauXKlat++vbwuGGXHB/Bcd17ZsmXVjBkzVIwYMdSdO3dU/PjxZQR91qxZKnv27Grq1KkMMgJplhTn/IoVK+R4FylSRGaTUqRI4epd8wi4nmOmtF27durevXs81y3AAIMoCELQsHv3bhUqVCjbRe7Jkyfq+fPnqmDBgmrt2rWqZs2aaujQoRJsYMQLNwQISMw3xeRcrQuCuosXL6orV67I16VLl1YtW7a0BRks/P527t+/r8qUKSPFxosXL1a//PKLtE6tWLGievXqlZzzeJ0YZDgOM0FIr/zhhx/UmTNn1M8//ywpmDi/EyZMKCPoSJ1CkDF58mT5Gd54WcP7McTIOVJecbwRZDRr1kzSXxs2bCjn+p49e1y2r57yntumTRv18OFDGUhikOE8BhhEQQxGUXBxw3TtoUOHbNPneMPPmDGjBBUILkaMGCFvQvpGeMOGDer06dMu3nv3hptVfbx79+6tatSooQoVKiTBxNixY2U7bnoRZGAGqUmTJurvv/928V67P9/exBFgPHjwQG3atEmO85AhQ6QGAxBMI5UEBcgMqB0/1hjA0Mca6Wf4wM3tn3/+KfnoadOmtQUZmOXADS8wP915+hjOmzdPrt9RokRRiRIlklmMevXqqWHDhtmu7xhswiwebn7JOjjuGKzQ6tatK4GGTk/D8WaQ4QQUeRNR0HLmzBmjZs2aRowYMYz9+/fLtidPnhgFCxY0QoQIYfTp08f22Hfv3hmlSpUyKlSoYPz7778u3Ovgo2/fvkbMmDGNv/76S16LunXrynEfNGiQ7THr1683cubMaTRp0sSl++ruzOfs1q1bjcOHD8vnBw8eNHLkyGGEDh3aGDt2rO0xr1+/Nn755RejZcuWxpcvX1yyz+7u4sWLRv/+/eXzxYsXG1myZDFevHhhvHr1yqhTp46RO3duOeYfP36Ux5w/f162FypUyHj+/LmL9z74nO+4nkSNGtW4dOmSsW/fPiNSpEhynZkwYYLd9b1EiRJG48aNeb5b6Nq1a3L9btCggfHy5UvbdhzjiRMnGnHjxjVq1apl3L1716X76c4YYBAFETVq1DCqVq1q+xo3ttWrV5cgY8+ePbLt+vXrRvz48eWNvlevXsakSZOMH3/80ciQIYPx6dMneQyDDOccOnTIyJMnj7Fz5075etOmTUbkyJGN8uXLGxEjRjSGDh1qeyyCPx5vx5lvmDp37mykTp3amDx5stzoIpBo166dkTZtWqN3797GnTt35HgjmM6cObPx+fNnH89B/jN37ly5kcX1Bv/OmjXL9j2/ggwEJffv33fhXgcvFy5ckGv4ypUrbdsWLFggrwfOd1x3du3aZRQrVszImDEjz3eL4XjiOOfPn99o0aKFXZAB2bJlk+APQcY///zjsv10ZwwwiIIAvGngTR8jWL/++quvQcbu3btl2+XLl+UGADdZRYsWlRF0/eaj/yX/8x4gPH36VEZ33759KyPqceLEMf7880/j2bNnxk8//SQ3AN26dfvqc1DADB8+XGaMEEi/f//eth3HvHXr1nKDFSZMGHnTxw2XDqb5xu84XDdwLpctW9a2TR9XBBmYtcPN1+DBg21BBjnOfK7u2LFDjj2u9+YAA3CtSZYsmRE9enQjV65cRpkyZXi+W0AHZrhW6/dJHNeBAwdKMI0Z0Tdv3sh2XPsbNmxoDBs2TAY2yDFcB4MoiECe56pVq1SdOnWkBS3yoHV3iwEDBqitW7dKfnSBAgWkLS0ejxxq9O3WBZu6uw75j7nfOepdUOcSL148Ob7ozIXaCxTBou4FxxkF9eiwEzVqVCm0B9YAOA5vP+iEhsJtdOlCBxcN9RXfffed1ALg9Th27JgUwSJPHa8Zz3fH+/3jvB88eLDkoKOAvkOHDmrQoEHyGL0WwOvXryUfHY0l0LkuWrRort59t4VuUOHChZPPL1++LJ2hcLx79Oihfv/9d9W1a1e7cxk1MSjsDh8+vHT1wmvG89358x71XFjXBZ+joQFq7HBcUe+yZs0aufY3bdpU3mu3b9+uNm7cqGLFiuXq3XdfDgYmRPQNYGRl2bJlRoQIEYymTZv6mMmIFSuW5Op6x2nzgDMfM8xIYLQQuc96BP3Dhw+Sm968eXPbqFblypWNhQsX+voc5BiMGiI1StdZmGeDkH9+6tQpHz/DGaOA0+cqrh9IiXr06JF8PWPGDOO7774zunbtavd4jNxihPfevXsu2d/gArOgGA2HVq1ayXVGj5T37NlTaowwe/01PN8dY74+b9682QgfPrxRrVo1SbPEDNLvv/9ue9+dNm2aUaBAAZmxTpcunXHs2DEX7nnwwACDyIV8e+PARXHp0qVyMfQeZCAfFBdGfE7WwJsM0hFQc4GUHLM//vhDal5wg5AvXz4JOHSaAoMLa853HE8UW6JJgXfnzp2T2gzUHpHj9LmKwYsoUaJIEwMduCGImDlzpqSgdenSRW5+8X0U2HvPS6eAH3ekmCGoyJo1q/H9999LQbdZ9+7d/RVkkOMePHhgzJs3zxg3bpx8jUGkKVOmyHE3N0xB3RcaGqChCjmPAQZRELjZ2rt3r7FkyRIpYtUjhvja+0zGiRMn5ILIXFxroENI3rx5pbjSt9fmypUrkqOLvH90G2EutDXnO97E8aaPehdAty4E1G3atJGvcZwxY1SyZEnJQWcw5zx050ItF26svJ+/ON64AQsZMqSRPn16KW49evSoy/bVXfl1nv78888yMIQZUN+uIT169DDChQsnDQ7IWqhZxLFPmDChBNJmU6dONUKFCmXrqEbWYkIfkYvo3H/081++fLnk2yLfH8aNG6eqVKkij6lfv778i9VdsegYPgCL6uk+9uS4a9eu+ejrj6+R9x8zZkzVvXt3yZHWj2EutGP08cPxRK//t2/fysKFWOOiWLFiavz48dJ7ft++ffJ38P79e6nPOHr0qG1BPda7OA41RljXAr3+9XVDX0NQ61KrVi2VLVs2dfz4cZUvXz5ZfI8CXkOHNRRwPLEwJOpWcJ7nypVLpUqVSl4DrKGD+hcsZqjrjFBjh5oXrFyv174ga8SOHVv17dtXal6wxhToa0njxo3luoR/UXPXqVMnV+9usMJ3SSIXmjJlipo9e7YEGHhT79OnjywohiI/QPErINhIkiSJ6ty5s+1nGVwEjH5TMd+o6mJuLGzoPWhDUfGWLVtU69atbQWu+FkGFwFjPt7r169Xc+fOlfMexfJYQKxjx45SRI8Vi/Pnzy/NDfCmj+Cuffv2crwZ1DnfyADXFBQb43zXvV30uY4bXwQUqVOnlg8KuMePH6uBAwdKUXamTJnkWOO8jxQpkurZs6c8ZuTIkWrJkiUyYIHrvL6uYLHOMWPG2F4XBtOO837sMFjRtm1b+TvA+ysaeWDQTsN1B0Fe9uzZXbTHwZjFMyJEFICpdCyehEI/WLVqlay3gDaFgBSRx48f29oasgWtNek5yDHH8devAXqhI/983bp1do8pXbq0tANmeo411qxZIylQOg9aF8BifRGkqeEc9w3T0ayBFCikiiAd0wzNDNq3by8pmTzXnYN01ocPH9rSb7AgJFLOOnbsaKsjQktmtP9FG2DUGKHVOIqONb4GjtPHDuuHYL0i1NBhAUlAahrWHcHfgPdUKfo2GGAQuRDy+ufMmSOLKqEnOhbO0zdV6O4ye/Zsu5tjBhkBZz5+6GuOVXGxnkXt2rVlVWJ8H91d8MZTr149+cCK6bgx0PnSfNN3DpoSoJAbuf14DcwQZKDAGx1c8HdAztHn6tmzZ+XYrl692raOBRbWw2uAhgYILFDEjSLj2LFjG1evXnXxnrs/rGGEQmF0pUM3IpzrGDjCtaVSpUq2wQ10TMPfA1aLxqKeXGfEOmvXrpW6CixAi7oWrKGzfft2uc7rIAMDSvq9lr4dBhhEgcCvNoNYqRhv+Ji5mD59um07ulgUKVLEGDRoUCDuZfCGGyl0i8IxxYhtpkyZjMSJE0vBMaBNIYIOFGKimw4XL7TWokWLpDMR3vBPnjxp9z3cACCoMy8ySY4HF8uXL5fF2hAko/MZClzRNQqrcaMjGoq50YoTnY3ixYtnHD9+3NW77tbMAxC3b982UqRIIaPourgeN7QYMDLDjAaaeugZOl5nnD/+GDDCNVwfawRumB3NkCGDsWXLFtsie7j+o6OXnt2gb4MBBlEgBhe4kcJqxegGpaFTDkYQ8YaD6XX0n8c2tDbkm441MDqbKlUqGU3UsA5A8eLFjSRJkthmKrwfb6bnBNzXevYjyChcuLDMWHhf3wJdi9jv33lY5wKtaJGiA+jnjxF0c2oa0gEnTpwo62GwBbC1Dh06JIGbbgtsnpnGjNGGDRt8/AyvM87DrBzeMzEwZw6YEWSgxTiCbczo6SBDrwND3w4DDKJAGtnq0KGDBBIxY8Y0smXLZksVQRs9jDJiEb1EiRLJ1Dk+2BLVOhgxxyyRvqnVN7K4uUqePLkssAc81s4xBwjz58+X3HO0gDTfVKHfP1LUUHtx+vTprz4HfZ1OazJfZ9CGVi/sdu3aNbmm6MUigef4t08H/OGHH2Sm1MvLSwI5DbMaqLngOkbWw+wFznUE03ogSf9dIKAoVKiQrGnkV60XWc++NyMRfZNuFmfOnFF//fWX2rBhg1q2bJkqVaqUGjt2rLTOS548ubSGHD16tPrjjz9Uv3791P79+6WzBbrnsFuU89KlSyfdQxYuXGjXMhWdiiJEiKBevnwpX/NYW9d6uUOHDurOnTtq79690kUHrZehdu3aqlGjRtK+s0WLFurq1au+Pgd93aZNm+TagWuK7o4G58+fV0+fPlUPHjxQhQoVUiVLllQTJkyQ7y1atEiuL/qxZB0cU3QqQre/IkWKSGtUtD9t3ry5rWPd8OHDpatRmjRpXL27wU7UqFGlM13SpElV//795XP9/osOdOgImCFDBpUoUSJX76rHYN8/om9EX9ymT5+utm/frn766SeVNWtW2YYbA7SLxBs/gohevXqpGjVq2P08WqayNadjQZ1uzam34QN96XGzizaoutc8gjisPxIxYkQX73nwgeOLIBprAqD/P85/BBIjRoyQoAItOmvWrClrXJw+fVpuyCjgcGyxhkjlypXVihUrJJAArC2CgYv06dOr8uXLy+uBvwf8XRw4cEDWW8Cx5zlvPVxzcF1H62WsuYAgEAMbuJbjc7QKxmASHme+RpFj1/krV66ou3fvqhgxYigvLy+VIEECdfjwYZUlSxbVtGlTaYedMWNG27V+48aNrt51z/INZkWIyFSsjU5RWEEXXUTMsGL3gAEDZDodRcXkHOTXomhep5Z5T7XB8UbbWaSjlS1b1hg8eLAUFqPYlbUu1sBx7NSpk6x+DuhghCYGSJNq0qSJpAGig453TIvyPxRwI5cfUKSK9KfvvvvOloaG8xwrR6Owe/HixbIN7a7R5ADHH61RyVo6FWfBggVS64WvUROAFEEU0aPWCy3J2TjCumON+hYc26RJk8p5jda/6CAFT58+lfdV1F6wgYHrMMAgspBvN0rIM0cbVBT7IT/aDDcDnTt3lnx0tkJ1HPLKcRzRLQQtIr0HGfpfFPah+LVYsWLygeCPtS6O8+2cxc0vagOQ/4+brREjRtgCQPwNRIgQwUdHHfKfu3fvSo45rhevXr2y5Z7rIEPfYOHYo+0vClvRChWF9Qg4eLPlnK8FwitWrJA6r5EjR9pt18GgxuDCmkJ6XEtQO4e/ifXr10t78QQJEtjWM3r27Jk0O0DNC9sAu0YI/MfVsyhEwYF5yvvatWvyeeLEieXrCxcuqPHjx6tt27apTp06yeqhGvKlv//+ex+rTFPAvHnzRg0bNkxt3rxZcs8HDBgg0+L6ddHHFrnQ2G5OT+BK0c6d758/f5ZjaoY0KbwGOOejR48uq3ajDgOparVq1WK9i4MOHjyoypUrpwoWLKhmzJghOf0vXrxQ3bt3V9OmTZN0qZ9//lk9fPhQrjt4PNKlmH9u3fmOlFfUbWXOnFlW7n7//r2c16gvQmqOmfmazuu7NfBeivMcr4OGcx01jEhDmz9/vooVK5Z69eqVevTokaQkkwu4KLAhCraQioCRFEzdonOFHmlEakLLli2N1KlT+zqCyxkM50cWsZBVjx49pF0hZjS8z2Tcv39fUtUmT55s+1ked+cg1axatWqSdobF3fRMEEYSsdgYukZhlL1MmTIyk6ePN2eMHHfw4EHp4481W742k0HfphsgZoUwOp45c2ZZMRrnMtLQKHCg5TJm5PSq6drSpUslHZmLRgYNrDAismBkS0Nh66xZs6QjFAq3MYKSPXt2devWLekc0rJlS1W8eHHVvn17tX79ervn4ciW43TRJApXu3XrpooWLap27dqlevToIbMT+P69e/dUlSpV1MmTJ6WLkcbj7riRI0fKrFHcuHHl+BYoUED+BnDMMbqLc71NmzbyOTpK4fF6po4zGM4VeKN7FGaHMBuKwm100cEILjoXVatWTa1evdrVuxksmGcd0CQCHf4weo4GBfnz51dLly5Vv//+uzSL8P5+QM7TSTYXL16Uom4cX8zIhQsXTv4GMHOtoaA7WrRo8r5LQYCrIxyi4AJ9/2fPnm38+eefdqu65smTR1Z2vXnzpmzDWgzIS+cIbuDMZHTt2lVeB6y9kDZtWtZcWJiDjuJt82g58qCRG71kyRL5GvnRu3fvlq+5YrHj/JplO3DggBTRm2cyUPiN1YxR+Iq/A7IGRsdRs9W2bVvbNuT2o6kBrjO9evWyHW/OilpDH0fUt6Boe/To0bYF8lA0j3UtUFOH99b379/LrDXWNeIiekEDAwwiCyD1BukgKMD8448/7C6OOshAahSKL814k/ttg4yePXvKmz8Ki3H8/Vqxm/6b+abpr7/+kg5F1atXl9XpzerXry9BBm7IvBdX8nx3/Lhv27ZN0i+RjoaA7cKFC7J9//79tiDj9evXtsJiXJPIGh8+fDB++eUXI2LEiDJQYYZzHDe2efPmNVq3bi03umSdLVu2yHHHaujez+mmTZvKdR3pgrlz55ZFbNnIIOhgkTeRA7wX62Ha9tixY5IChZ7ne/bskQXc9OPQqxuFx0iXwmJX5Jiv9Y7HcddpN/pxWHcBi7zduHFDUhlQyM2CbufOdzQpmDRpkqRFYZE8LKiHtDQ0KtCQgjZz5kxJ4fnxxx9duOfBw8qVK2XtkAoVKqibN29KCkjs2LHVwIEDJV1KF34jFW358uUqUqRIrt7lYHedQVE3zn2c00j7wwJ6urEBmhz89ttv8nNYd4Rpl87Tt6YNGjSQ4zx16lTb9z59+qTChAkjnx89elQWl8S1P2/evLbGKuR6DDCIAsj7Im642GFxJThx4oQsfIWbL3S4wEVQ35w9fvxYbsKYe+78cceK3FgdHW88yLutWLGin4//8OGDvD54DRhcOBdcIP8cKxSjvgiro/fp00etW7dObrxwA4w6AA31AJ07d+bxdhIGJ0qVKiXdiVq1aiXbcMxR64Xai4kTJ6pkyZKpffv2qTp16ki3Liw4Rs5fZ7AatIbrDI43BpFQC4BOaFiwU5/fuLbg2s5ugNa+FggaihUrJqtzmweRcIzxtxEvXjwuWBhE8VUhcvDNBwWrWH07Z86cUuiKFVqxgijac6JVXpEiRWRkS7/hxIwZUy6OuEhSwOnjjptWrJSLomK0A8ZoOUZyfXs8jjuKAfVrwJvdgNErQOugDs0L4sSJI8XcCJbRdrZMmTJq+PDh0hoS7VI1tE3VM0b033RxsPciYbRVxuAEgggNbWjr1q0rzSMuX74s2/Lly6fOnTvH4MIJuEbo6wxmPlEsj2s8Zp8xS4cBI7RIxWuxYMECGVXX5zfOdQYX1sJrgfMZs0Y6gNPvnzj3cc3BiukUNDHAIPIHPdGn33zwZoMRWvTXxhs7+s/37t1b/fXXX7YgAzcFGOXFhdH8hsMZDMeha8jixYslDQQpOOhShBkKjGL5xnzc+abv+M3WpUuXJO1vx44dkgr47Nkz2+Nww4UgY8yYMWrKlCl2XV2AQZ3/By6uX78ugxXofoZuZ3gNMEuHwQkMWujHQtmyZeV7mM3QEEyT4/Q1YujQoZLqhADi7Nmzqn79+vK6YNY0SpQotiADg0xr1qzx9TnIsfdYXFuePHli245AGtcUdF40z2Dg9Zk9ezbP+aDM1UUgRO7m77//lq5QO3futG3D51gHACvsoqgbhZno8IKCTBa2Wtv/vGTJkvL58uXLZeVc3bULBa445mRtQTfWbsGq0E+fPjUGDhxoJEuWzOjSpYvx4MEDu59B56IqVaqwg46DTQnQXS5JkiTSHQfNCcwF8jVr1pS+/ydOnLD7OfwtDBs2zCX7HVzownjzcUXB/JQpU+TrZcuWGdGiRTMmTpwoX797907+xd9D3759eX23ELpFoVgbHaOw3oheVwdrjWTJkkU+fv31V3mv9fLysvt7oKCHAQbRV+DNftq0aXbbcNGLHTu2sWvXLrvt6KaDbi7osOMd34Scb4kKc+bMMRo1aiRv+uhUZF4wb/Xq1dIykgteWQc3UQia0cFIw81v1qxZpQ2w93aQ+jVjkBEwly5dkray3bp1szt25m5nP/74oyzgiVadixYtMjp27Cg3WbqbFAVc6dKl7drO6ja/COZwzu/Zs0euM+hgpLtJ4Rpz6NAhu5/h9d0x5nP9yJEj0gUK7X4xkIEgA4EEtuNxeL/FtR/dvDDogYVrKWhjgEH0lZsrrFKsW5uaZzDQknbBggU+bgIyZsxoDBgwIND3NTi/8axcudJ244rgDS0L0Q5YjyjC27dvjRIlSsjoFm9urYEbWfSUR1vOe/fu2X0PQUa2bNnkZsB760jfAkPyHc5VXD/Q3hSznXotC7+OJwY8smfPLjMdaIvKEVzn4CZVzxQheNDat29v5MuXzwgXLpwxY8YM23YE1Aj09LWH1xrHIEA+f/687esrV67ITBzW1dEQWOAag4Bi3759LtpTcgZrMIh8geAbRaxdunSRPOcZM2ZI5xzdTQSdotBBBO0hdY45Clzxc37VA1DAC4vRlQu5t02aNJHt6CYyZMgQ+R7ycnfu3CmvQfny5dWDBw+k6FgXWpJzUD+Ec/vvv/+2FVaiYxqgo0vp0qWlDsZ7Djo7uvgfzlUcY6wQnTBhQhU5cmQfjzGfy6gJ2LJlizpw4IDUI6EtLTkuTZo0UriNWgp06tK1RXny5FHPnz+X+rpffvlFtuF79erVk8Yd6OgFrLcIuDt37kgNS8SIEeVrHGcU0aOG8dGjR7bHoaU7OqShUxRen40bN7pwr8khToUnRMGUHjXEv8jRxQquGE3Ri+gBFhkLEyaMLLLUr18/o3jx4kaGDBm4iJsTzCOCGEHHytBIV8BxxgJu+nXB65A4cWJJScuZM6fkonOFbsf5NuuAkV2swh0vXjxb3QuYZ/SQp87j7dxxR0of0kHGjx8v27zPmGpIG0EqFVnv8OHDUmeBdEC9GveIESPkmo/rTOHChWXmCKmBvM44T9exoO7o2bNnUjuXKFEiI3/+/D5m5TCTgRm7WrVq2X6O3APXwSD6SitadLOIESOGdHBBZxGsA4DFrrp27SrfRycprHeBkV0s8DN9+nSZ8TB3u6CAGzBggHRtmTNnjnRtwUJjaFWYNWtW6RyC1weLvKGFJxY0/OGHH7jOhQXnO2aMsKAYzmW0o0WHll27dqmqVavKgm56tsK80BXwfHcO2s5iAT106sJaIt4XekP3IizkhhFdjLqT47Zu3SrnOdpcY9Q8WrRosh1du9CVDuf5kiVLVPjw4eV6j4XcdJtgrDOC85zXGedhscj8+fOr9OnTy4wGOtXhOoP27pi1zpAhg+2xaAGP1ylJkiQu3WcKIFdHOERBdSQX+aClSpWyjRqia85vv/1m5MiRQ0YTtZcvX9qNZnEGwznPnz83ChUqZIwaNcq2DbNIY8aMkdHEhg0b+jriztx/52aM0BkKs0Xx48eXOhcc54MHD9q6pKHuqFy5ci7c2+ALOf0xYsQwWrRoYTx58sTH9/v06WMUKVJERnvJcVOnTpVi+mLFism5njRpUrtR8ePHj8vr8PPPP/voLqVx5sI6mJ3AzBCuNTi39+7dK68LZqtPnz7t6t0jJzHAIPIF0p6QGjJz5kzj+vXrtu0odkVBJtJyzOlSGov+nIdjmCtXLrnZMkPgVqZMGSnwNgcZPOYBt2PHDruvJ0yYIB1c0Dnn4cOHxrx586SYFSkjJ0+elMegiwuOPf42yHp16tSRm9uqVasaly9flsYFaCjRqlUrSd/B5+Q4dJwLHTq0tELFsb127ZrczCI9xzw4cezYMQlCKlSo4GuwR9ZCUJc5c2a7IAOBX6VKlaRjI7kvBhhE3qBTEUZxzWsqoHWhvtHC52htiLxQtE0lx3kPDvA1cpwxU4QRW+Tomh+DWhcEGQULFjQGDRrkgj12f8gjR64zbqowGot/a9SoIR24zNatW2dkypRJjrkO8JAfzRFc68510McTXyOYQD0GuhfhGoTjjw997SHHoBMdguNVq1bZ1RilTJnSaNKkiXSMGjlypAR2+qYXj8esHgVukIEZbAyApE+f3rh7966rd42cwHYf5PG8lyGh3iJ27Ngqd+7ckvvZr18/6WiBjiINGjSQ3NxOnTqp1q1bq5o1a7psv4NTtyh0D0FXqLdv30oNS4sWLdSFCxdU37591eHDh+U1ev/+vXQ0KlmypOTibtq0SVbxJv+bP3++HGN030KOPzrj6Fx/vQK37hiF1bnRQQedi3DskXOOrkXIQdePoa/Tq26j85A+13FNwTVGf62PJ75GF7TVq1dLTnqbNm2kDgnneaZMmVz6e7gzHHvUyaGG4sqVK7bt1atXl3Meq6THihVLOgZidWhcU7JkyaIuXryoBg4c6NJ99xQ43ujUeOrUKenOiK9x3WdHRjfnTHRC5O7MU+NY9wIwWojRK3TOQd458kFnzZolK0eHChXK2L9/v91zcETXueOOmQisFI0OXOjMhVkL/TpgxXR0csEoLlZxxYgjoDd96tSpZTaJAjY7991330nXHIzOYiZIvwaou/Ce94wUQcx2sHuL427evCnnrl4MEqlourbFjDVE3w7S/rAyNFaJxnoLSL/BiDnSpMxrjESPHt3HCvW8vgceXJdwTfK+7g65J7ZBII9l7tQyePBg6RgyatQoGS3EiBdGe9H3/Mcff5QZjdevX6ts2bLZRiU1ds8JOH3ce/ToISPk6HOOEdzJkydLly50cUHHqL/++kvWCDh9+rSMNLZt21Z+Dt12UqRIocKGDevi38R94LzF+YsRQswCYWT33Llz8j10Rdu3b5+sBYBjjy5SWJNh3rx5ctzRTYocozsOYZ0LdC7CdQWdirzj+iHf7rzXMxTo+jdp0iRZewFdoxIlSqTevXsnnegwY41t3me0eX0PPDly5FCbN2/m9SaYYIBBHku/oXfu3FlupAYNGmT7XuHChVXBggXlMWjJieCiWrVq8maDRZjIeVg4ad26ddL6FG/u69evlxQovOkjPUenhugWtIApdLSuXbVqlbRP5RuR/+g2slg8EjdTuMFCG9pbt26pBAkSyGOmTZumWrZsKcFH9OjRVaRIkeS443XSixdyYbGAS5o0qQR1WCwSN7poSQveW9HSt4FjjHMXgTIGNPA1rh0I9Lp16yZ/DwgCEVjjtcJgErkOr+nBB69u5NFwU7tw4UK5YcVsBfJ0kaOOkV3cAODGDDe0GNnFmhh4Y8IblPdZDPpv5mOGgA11FCVKlJDgAjex9evXl1W6Z82aJTfDmMk4duyY7aYWrwV62OMDNQTmPun0dXoUFjdUCC4Q2CGIq1GjhswSAW6sli1bphYsWCArdWPEF/UCqInBDRiDi4DTo+EZM2aUuorUqVPL55jJwHUEx9W3x5PjfLs26wAZaxphtq5AgQJyzdeDSpUqVVK3b9+WgSb9WCJyDhfaI4+GlBwsjnfkyBEZHceNF25wsehV06ZNpcD70KFDUnCG0S+kOnCRJed0795diotx7J8+faq8vLxkVDdnzpzq999/l+OLBa/Onj0r29auXWs3eo6fwQg7/TfzKDkWKMRIOgIKzM4hHQQpgQiap0yZIsfcN1xEL+D0+Yr0G8yAYvE8wE0sFhN78OCBOnDggMwiAQJsFLbqr8l5CKT1InreXxcsnIfgAtf2y5cvy+OwmKEOpnl9J3IeZzDIY/gWSyMFB/n9SAtBxxx0DkHK1KJFi9SECRPkhgCzF3369JE3Hdxs8c3H8eOOm1uMHDZq1Ei+RqDw8OFDeXNPly6dbMNK0hhpxGiiXjnaPKrI4ML/dHCBmTqkQ6FTC4ILQEcorJhbqFAhCTwwMwTMQXeOvolFYIy0SgQOON+R+486DFxbkJaGVMsdO3bITBHSp1ATQ47btm2bHGNo1aqV6tmzp49jqq8jSJfCbB5WRccgBoMLIutxBoM8biQX7U/xJoJTH4XCuBFYvHixBBk//fSTtMZD29SyZctK20K2iLQGjvHBgwfl2KP9ph4Zxwhv5cqV1d27d6U1J2aQ8D3cfOl0NOaqOw6zb7Vq1ZLWqJjFQDoIbrxwQwWYuRs9erSkRqF4HoWW5BzMhGKmAgMTSOVDULFixQqpK8qfP78Ee5ghxSxdxIgRpR4ABfjkmFevXkn90KVLl6TOCI0hcK3RgxZ+BYH4OTQzwOcMLoisxQCDgj3zDWrv3r1lVBypC+jtjxHcdu3a2R6LNxlsR246RtJ1zQUFnH4Tx/HHR968edXRo0clFQc3WubHYGYDawBcvXpVajMwy4EbYAYXAee9GBvpaAjahg8fLuu56Fkhc5CBWhek6WBUlzMWzh17rK2AgA6BBGZDcR1B7QVmMxDImSFNLX78+DKiTs5B2hlqujAjjdkLpFuCX9cQ898JrzNE1mOAQcEWFlVKnjy57WssmoSc8+XLl8vIFlITZs6cKW9I+BoLLKGTCLrpIABBjjRvch1jPmaYmcBNFI5v7dq1Je8Z+c8Y4Q0TJoztZzBrgdxoFBtzRNEx3s9V3YIT/yI9asyYMapIkSJS/+I9yNBYc+EcHFMUEeMcx/UHqVClS5eWOhdAgBc3blzOFFl83uM6g2s6znXUaWER1ObNm8v3eU4TBT7eNVGwVLRoUUkH0R1FPn78KKkiqKtAzjmm0FeuXKkmTpwowQVuZnGjhXUV0KIW0+s6J5fBheM3uQMGDJA3ehx7tB9EKgiON0ZykUaic6QxzoEbABS56lkPBheOH3esK4JgDjexONaoJfr1118lNx2Bs77xwjnufVVu3og5DucxAmmkPWFdEayhgxouHdAhTQ2dujBTx050zjEfP5z3qG9Bmh9mQhHY4fqvj7s+p5H6SkSBxMUL/RFZrm/fvkaCBAmML1++yNefPn0ynj9/bsSIEcPYu3evsX37diNSpEjGpEmT5PsfPnwwevbsaZw5c8buebiCq3O6du1qxI4d21i4cKFx+fJl2/b3798bxYsXN7Jnz26sWLFCXh+y/rgPHz7cGD9+vOHl5WVUqVLFePv2rax8Pnr0aFnFGKum07cxbdo0I0SIEMZPP/1kt7179+5GqlSpjOvXr7ts34ID86rnU6dOlVW6K1asaGzZskW+d+vWLaNBgwayCv3YsWPlcUWLFpW/DSIKHBwipGAFo7EvXryQlXIxEo5cXKwIXbFiRUnJGTFihKwUOnbsWFsnI6xvgRH2lClT2hUFciTXccgtRyoa1hAxtz/FjAVmMlavXq3Kly8vK3OjKBOzSuQ4nU+O8xjHHccXfwOoeUFNADqkIVUKGjduLNvQMY3pf98Gri0o5MZ6Ih06dJDXBtelpUuXSl0XVkonaxZJxaworiWoY8G1Bq3Fe/XqJfVEmMnDNR+zeOHDh7fVZRBRIAikQIYo0KxZs8Y2eoh/z507J9sxYxEzZkyjQoUKMqMBT58+NUqXLm0ULFiQMxYW2rBhgxE3blzj/v37tm16RgkzGIAR9TZt2vC4O+Hdu3dyXPUx3Ldvn5EjRw75fNGiRTJTN3HiRPn69evXxtatW+XzN2/e2F4P82gw+Y8+dp8/f/bzMTiu06dPl9m6H3/80WjWrJlx9uzZQNzL4G3jxo1GokSJjBMnTsjXx44dk+s9Zkw1XH927dplzJw50/Y38rXXjIiswxkMCnYwWovVoTFSiJxz9DoH5KCjEBCF3MWKFZNiYhQDImcaI7+YsWAxoDUj6VGiRJH8fixipRcPw2g5ji1WTkenKNS66K46PO4BhxoijIhjUUi0V8ZK6Gi5iVWi0TUKs0NYGV3XW6D2Am2XkauO2Tr9enEGw7FzHHVcaHmNRSJ9WyAPx7Vhw4aqevXqMnvEpgXWQncurIqO9VxwTUHbX9TY4Xij/SzqXVKlSiWvjV77hesYEQUevrNQsIOCVqzMio4i48ePl0Lj169fy/eQsoA1GJAyhULAevXqySreuqCbN7kB41ehKt7UcUzROefatWuyDccWxxiFmEjhAd3Ejsc9YHBc69SpI4EcUs6mTp0q6SJYhBA3U7ix7dSpk2rRooWtyQHSAnFjbO6sZm5nS/4PLpCGVqZMGWmNijbA+nu+QWoO8By3FlLOEERgEUkMHg0dOtQWTGNto8GDB8tq3mZ8DYgCD9vUktvzLY8ci7ehBSpWdsUCTAgsWrduLSO8vuEIesCZ+8ij/em5c+fkOKLuBTnmWBkaC+ihLWq+fPmkVS1G0DFrhHUXOJLoGNS1YLZiy5YtcmwBN1PIL0cLVHQw6tGjh7pz547ko+N4o2MXvj5x4gRbLzsJixGWK1dOBip0HZe5JbD3dUjIOX5dmzEbjbo6zMyh1gIzdoB1jLDmCIJttGbma0HkGnyHIbdmvlHCSBZuvvCmgulzjJZjRAvT5ij6wwgubgJ8w+Ai4Mddv3Hj2GKWCKOFKCpG2gLS09AqGDe2eBwCENwEYGYJj0Fw4b09Kv03FGZjtXOk5WDhQg3pIVGjRpVRXay7gIAaQR1mMdAWFavT6+CCrZedgxXmcYwRXLx9+1YC6bp168pNLa5BvKG1BmblQKeueocUVyxomClTJgky/v77b5m5wOz0jRs35OfxWnAMlcg1OIRIbk3fKHXs2FHNnTtXJUiQQG7CMFKO+gu86SPIwOPwNVKlMKqL9S7I+eOO0XEEbRs2bJA1FxBkYKYIdTAYTUedBVaPxowSOkihYxQX0XMccsoxI4ebWpzHONYIHnBjhddC11YguMAHFi40rxLN4+48zBAhNQdrLGBFehxTjJonSpTIlnKJGiNyHM7vZs2aqVOnTsm6Ft7r4xA04DxGKiCuJ+gkhbq79OnTy3uAniHlzDSRC1lYME7kEgsWLJC+/+gmgs5Er169MsqXL2/ky5dP1lnQHV9GjRol2/TX5Jx58+ZJ15ZMmTLZrSGCbkW1a9c2okSJIh1cvOPxd4y521bv3r2NLFmyGIMGDZI1FyJHjmzMnj3b1r3Itw5RPO4Bp48Zjr0+/ufPnzcqV65sJE6c2Khfv76xbds22Y5zPVeuXHad08gxWK8F5zWu6y1btvT1b0Cf2/o1QoeuZ8+e+avDFxF9exzKIrfjPX8cRcQY2cUaFhjNwsgVVnFFb3Ss1F2hQgV5HHJ0kV6ip82ZyhBw5uOGEcNKlSrJTAXWVdCvTaRIkaT2BSOHmMFAag7SGDQed8fgeOpzH7MXeC2QEohVoZGihjQdnbqmj7H574TH3bFzHbMU6NiFtV0wM4cPdO/CLEbcuHFtj8f6OpjNQO0XOcfLy0vqK/AadO/eXbahYYd5JkOf2/q8RrdA/Tn+DjhTR+RaTMQlt6PfWHBzhRxo/YH8crypoO0suuug8BWtJM+cOWPrdsTgwjG6U475uCVLlkw6tyCIQBB3/fp1eW1wfBFkILUBN8LmxQvJOTi++lxGUTc6SSEdB205Hz58yNoKC+FcX7VqleT0I98fhd0o8C5btqy6cuWKLbjANQaDFxjMmD59uqQBkvPQkANBxqBBg6S1OFIDv1aTYb428e+AyPX4V0hu2RIVN7bopIOcf9RZIFcXo7iAtp2A2oCkSZPKaBhHch2HQA6zFQjYEESY4eYW9S5p06ZV+fPnl+/j+OK1wg0CCsAR9GFkl6wPMrBaMc5/1MAgoMMaGDy/rfHo0SPpFIVrDYI53OAitx+zdrrV75MnT6T2Cx3Udu/ebTdTR863vMZAEQYvEGRg1ui/ggwiCjo4h0huQwcJ6EKENAR0KEJBHz7QoQgdc5Cq06BBA3nc8OHDVaxYsaQ9KjkOHVpQKIze/4cOHZJtWMAtRowYMlqLlrTo3IWCy0KFCkmBpi421piuEDDnz5+X4A3BMs5t3NT+8MMPPoIMnS6Ff6dNmyaL6KE4lpyHmTgUzpcqVUoWM0QAjdkMvB6wceNGKaRHxy7c8KItKjmf9oqUS7SgRaBco0YNucbguOuAGtt1uhTbLRMFYYFQ50Fkma1bt0phMQqIt2zZYlcUiCLXGDFiGHHjxjWSJ09u5M6d2/j06ZOPYlcKmDlz5hh16tQxnjx5Yhw+fNgoV66ckTNnTqNatWrGhg0bbMWUjx49koLvsmXLunqX3dqRI0eMjBkzGmPHjjV+++03Od8vXrzo62PN5zWKYs1FsBRwukAY/966dUuuIatXrzaSJEliNG7c2Ha8L126ZDRo0MBW4E2OMzcf6NKlixTPZ8uWTRpypEyZ0rh9+7Z87/nz53KO4/pes2ZNF+4xEfkHAwwK0nbu3GkMHTpU3njQqej9+/dG9+7djfDhwxtDhgzx8fiHDx8ae/fuNQ4ePGi7GWA3EeelSZNGOhdpuOnCjW+YMGGko86wYcPkBgDHn8Gc8zdcrVq1MuLEiWNEihTJOHDggGz3K3jwvp1BRsD51XmoVq1acp57v6Ht2rWrBNN37twJ1P0MzkaPHi3BAwJsmDp1qhz7RIkSSUAHuMaMGTPGKFOmDK8zREEcAwwKsvAGgzcctOOMHj26ES5cOAkecBPQsWNHI3To0DKipenZCjPebDlHH7+FCxfKm/q7d+/ka9xcoRUwZpTatGkjbVLr1atn+zm++Tt3vGfNmmV8//33Rtq0aeWGCq2Xgcf12wUXmzdvNqpWrWq0aNHCmD59umz7+PGjUbp0aWmXOnPmTGPSpEnSNhXn+8mTJ1285+6rb9++0u5Xe/DggcwQLVq0SL5eu3atHOOBAwca+fPnlxmka9eu2dpg+9aGmYiCFgYYFCT9+eefMjq+ePFieUPBGhdFixaV0SykQ927d09GEZEqZQ4y2Ov/27hw4YKRIkUKSUPLkSOHUaBAAbkp0DdhSGNgMOc47zdKV65ckQ+kSCFdBLN1+DugbwOBMgYssH4LUnMQ2HXo0EG+9+bNG0kRRNpahgwZjAoVKhinTp1y9S67rePHjxulSpXyMVuEAO/mzZsSuCGgmDhxou29QM+W6nQp4LWeKGhjgEFBDtKb8IaCHHTzGwm+xozG3bt35Wv8261bNyNq1KgyykvfFtKg8LoguECqgm8YZDgXXBw6dEjOf50WhVk5jJhnz57dGD58uG0GqV27dnY3WxQw5pvbq1evGlOmTDHGjx8vX2OhPCzK+cMPPxjt27e3PQ7pUFjIU78G5FyNC6xcuVLOd+8z18WLFzdevnwpX2OxVMxuIDWW1xci98H2CxQkFS1aVDqFXLx40dZ2E20JsdaFFi9ePNWqVStVs2ZNtXbtWun6Qo7xT8vHYsWKqYwZM0qXoqhRo/r6M+jsQv6Hc1Z3wenRo4eqXbu2aty4sSpdurRq0qSJrO8yevRolTNnTrV48WLpkFaiRAlpHRwnThxX777bGTFihBxT3dXs8uXLsq4F2tCi4xzguGJ9EaxtsWLFCtW+fXvZjm50ESJEUOHDh3fp7+DO9DUa3Z9u3Lghi0OOGjVKFuPU0EHq4MGD0ikQXQGxaGq0aNHUwIED2Z6WyJ24OsIh8msavWTJkjKKiFHDXbt2GWHDhpXRLO+jvo8fP/YxMkb+h+OrnTt3ztdaFnPRa+bMmQNpzzzHiBEjpAOaHs3t16+fzBbt379fvsbILfLRkapTo0YN22vEEV3/u3z5slGwYEG7jlz4vG3btlLj1blzZ7vHP336VGZNkYbZo0cPF+xx8GK+Zn/48EH+RSdAdPzDdeXYsWOyDTNzSEeLECGCNJdAuhobdRC5HwYYFKSYAwS84ZQoUUKKXZF/qwsA/SrsY3DhWO458s5x7JDvj4J6XVBspo/52bNnJSVt3rx5Ltjb4AuBw7hx4+TzpUuXyjHWOejmANB87vOmK2Bw7FBPAWgWoWtaUDyM4AKDGUgDNMPgBQq7EZyQ48znLY5xw4YNpZYOduzYIa1p0alLF84j/RV/D0hd0+c5g2ki98IAg4Icc6Bw9OhR6eyCG64bN27INr7RWGfkyJHS6x9doRDI/deNFEZ1MZrL18C6cx05/SigR2Cxb98+aU2Lm1rATAU6piEQ9P5z5BicwwikscaCDjJQUI+mEalSpfIRZLBTkXU6depkxIsXT6475muNb0GGGa83RO6HAQa5RZCBdCm8Aek3Jb7pWwddcZCOg7azeoTXt+PrfRvf9K2DlCgsXog0wBkzZtjdDKN7Gm7IyBo4j//66y8JrLNmzWoLMnBtwXo76dKlM37//XdX72aws2nTJiN+/Pgye+TbdQVBRrJkyaTDFLrWEZF7Y5E3uczXirJR2K2/ny1bNinwS5cuncqQIYMUAerCWAo4fVw/f/4sBa+5c+dWXbt2VU+fPlUtW7ZUDx48kOP7zz//2P2c92POgm7roIgbxau5cuVSBQsWlG0PHz6UYuN3796p1q1bu3oXg811Bufxjz/+KNcUfF6oUCEpJk6ePLkU1uN7aBrx7Nkzl+1zcHT9+nWVMGFCud54b3KAou/ChQursWPHSiF9ihQpXLqvROS8EIgyLHgeogDBG4q+YcUNFN5UfPseTk/dRerQoUNqyZIlaujQoby5dZD52CLAwHHUX0+YMEHNmzdPpU6dWg0ePFjFjh1bth87dkxlypTJ1nmHvo3p06fLx61bt1TcuHFtr9X+/fulexoCEJ73AaOvH4cPH1YHDhyQz3PkyKHy5MkjAfSePXtUp06d5HG7du1SkSJFkhvhiBEj2rpKkTUmTpwoXbz27dtn64CG447zGtf1UqVKSbco365VROR+GGCQSw0fPlz99ddf8oZTsmRJaTnrnzcX3mwFnPmY4rjjhurq1avqp59+Um3atJFRQ7QGxps9WnJ26dJFde7cWX5u69atrt59tz/u5mDZ/FqYP0e7zrNnz6rbt2+rpEmTqsqVK8t5jpthBngBo483Ws22aNFCZigQOKAFKlqfli9f3hZkdO/eXWaMTp8+LY8hx/l17cZ1HjNyPXv2lH/R6ho+fPggLbArVaokrYHNfydE5L4YYFCgMr95oP85+s83b95cbnYRNBQvXly2AUewvg2stzBjxgxJi0qTJo0qU6aMjB5i9iJKlCjqzz//lHUW0Kc+SZIkavv27dKTngLOfA7fuXNHbl4xWxc2bFg/H+cdg2nHYbS8YsWKqn///qpp06bq1KlTKmvWrHK88TdQv359CTK2bdumhgwZIjNIOOfJMebzeP369erFixcyQ431XbB+CAI5zGS0a9dOFShQQLb17dtX0jMR+DGIJgo+GGCQSyDtY9WqVbKgHoKKJ0+eSMCxadMmWWQMNwTAmytrYXS8SpUq8iaPnGekjiDnH183bNjQ9jjcDKMWI0uWLBxBt0CvXr1koTzcfEWOHFkWz0MuOs/tbwcpgCNHjlSvX79WAwYMkHM6f/78cs3BazBmzBi1dOlSGTnHdebjx492qZrkuA4dOqgFCxaomDFjqvv376vvv/9ejRs3Tq71gwYNkms/Ui9RU4e0qM2bNzMNkCi4cXGROXmg9evXS6eWpEmTGqdPn7Ztf/jwobRAzZYtm9GrVy+X7mNwhbVF9EJ5y5cvt2uJivUv1qxZ4+Nn2C0q4MwdtxYsWCAtgLF2yMyZM41q1aoZ4cOHN+bPny/fZ8vZbwfdiND6F2uJ5MuXz2jSpIlsP3HihKytg+5pXNPFWjieMWPGlHazz549kzbM6AKIBfX0QpL37t0zTp06ZVy6dMn2t8J1XYiCFw5JUqBLliyZFFoiNxojWenTp5ftKKpELQBGeWfOnCkdR9DVhayDFCikLfTr109mjIYNG6Z+/fVX+R7yzzGynihRIinq1jiiGDC6Mw6sXLlSnTt3Tv3xxx+qVq1asg1pOe3bt1eNGzeWDmmpUqVy8R4Hr/RLzFxgNBz0sUVq1Pv379Vvv/1m+ztAfQs60yFlihznvWbi5s2bcv3AdR3fw8znxo0bJSUKqVGYvUYTA3yYU6s4Q0oUvDDBnb4pvHF4hzf9Pn36qKpVq6rVq1dL9yINU+poldq7d2+7lB36b/+V7YjXAsEDUtCQb16vXj1bcIH0EHSOwo0X0hYo4EqUKGHrVKQLtnEeo6Be/x18+vRJ/kXqDoILdNUBZqpac5O7ZcsWuX6gWPjo0aO2VsvPnz+X1wOpmID6C6QAov0v6pDIMejsh/SmR48e2bY9fvxYji0GJhA0ILADXHOuXLmizp8/72vrYCIKXvhXTYFS8Lds2TK5qcKbzKVLl1TixImlm0jmzJnV3Llz7YIMtEfFzAXeoJCTS/8Nxwn55F+D1wLF2hhJR+codHVBPjRek59//lnac6KDlO5LT/6HtVnQ+hRBg5YyZUoZMcdMHGbk0C0Hxx83vbjBihcvni3gYNcc5+D47dixQ/3yyy9yQ4u/hVatWqnJkydL8Iy1LurWrauKFCkidUWoB0Bwh7a05Bhct3EtQTE3ggoNA0Oou8D1HVDIDXhdUIuBRgc834mCPxZ50zfXsWNHNX/+fBk9x5vMxYsXpVMRUkVwU4v0EYxq4eYArVEp4LBgXoMGDWQWAl1w/usNHCPtGzZskJuEtGnTymuDFrUYcWRBt3MwY4GWv+XKlZPzfdGiRRJco+3s8uXL5djisps3b1652UWBPTkPKX9Ij0JrZQRzzZo1k8GMGjVqSJtaHHOkZb58+VIKvfF6kGPQ5hfd/3AdR+oTBow0dI3COY0PtALGNR0zSHhdcJ3CLBNnLIiCPwYY9E2hxgKzEXhTQSoCZiWQNoLRQ9x4VahQQabN0TI1evToMuLI0a2AQ5tHdGjB8caIOfgWKHjPl8YbvrnvP4ML5+BGCmlnGNXFrB3WdkGQgQAbs0U4/gjovLy8JIXnzJkztnoBChh9LqMzGgIK1Lvg2Oq1dLA6N2aQ8H2kAzZq1EiFCxfO1bvt9lBThPRWtLtG8GaG1Ch06MKsxZQpUyQVFtcUzFzEiBFD7d69W853tiAn8gCurjKn4GPAgAHGo0eP7LZNnjzZyJs3r3QIMXcjatWqlREvXjzb49FVRHcTYVedgMHxevHihdG6dWv5fOzYsUbjxo2NHDlyGLNnzzbOnz/v58+ZjzWPu3PdojQcb3Qriho1qrFhwwbZhk46M2bMMDJlymSkTp3a2Lx5s+3x7J7juCVLlhjRokUzYsSIIR2h0KHLDN2j8LeQMmVKW7c0nufO2b9/v3QBPHfunN3r0KxZM+kehXN84cKFts50W7ZsMQ4dOmS7/vN8J/IMHEIgS5w8eVLSDzBSZYb8Z4zS6v7mOucc+dAYfcSKxYCOIjr3nzMYAYPjhRFx9PUfOnSorCGClAXUVaArFzpFYWTdt58zH2sed+cW0UO6H6ROnVrSQrDAG0bT0UEHI7rVq1eXVB3M1GFBNz15zOMeMPq4YdYOtS0451F/gdkKpFpiZF3XbmFdC3RGw0rRmE0CHm/noN4C5ztWPsdrgBk7pAVi9gJdolCHhPoXLHKI2Qyko+XMmdNWU8cZUiIP4eoIh9yfHhHU/65evdq4efOmfH7r1i0jS5YsRv369Y2XL1/afgbrX6AvOtZlIOfo475nzx5ZW+Tw4cPy9ZEjR9jn/xsYMmSI8fTpU9vX3bp1M5IlS2bEjRvXqFq1qvH48WPZfu3aNaNhw4ayBsbGjRttI+rTpk0zcufOLWsDfPz40WW/hzvDegply5Y1KlWqZDx58kS2vX79Wl6LnDlzyr9cv+XbqVy5slxbMGORJEkSmcF48OCBfO/o0aOy3bc1dYjIc3AGg5weTdSjhRgZvHfvnhT2YRQRI1oJEiSQfv+XL1+WWQustXDw4EGpuYgTJ450kSLHmI87YHYIxxRrjKC+5ccff5TuXOj0gnx0jChiRokcd/XqVTl3mzZtKvUr8+bNk/qKvn37So0F2naWLVtWXbt2TYrt0UkHMxloDYzzHiPqtWvXlg+8XubuO+S/cx45/VhLAbUAR44ckRkhQEcovDboFIVcf6w1wi501tLd5dClC00iZs2aJTV0VapUke5/gFkLXPfxLxF5MFdHOOTezDUXmzZtkn937dolKxXXqVPHeP78ueTcohYgf/78RqhQoYy0adMaBQoUMD59+uRnHjt9nT52gBVz8TVWSMdI+tKlSw0vLy9jwoQJtsesW7fOqFGjhm1miRyHEdpYsWIZtWrVkrx+1FZoqCXCa4AZCsxgAFYr/uOPP+xyzzFzgboZChh9zDCDhPM7duzYRt26de0eg7x/1CMVLVrUR00YOe9r12sc+59//tkoUqQIr+tEHo4BBjkMKTkIFi5fvmx06NDBiB8/vnHnzh1bkPHdd99JkGFOJ0HazpUrV2xvPiz4C7i//vrLqFChgnyOG6l8+fJJeghSQkqUKCGpC8OHD7c9/v379/KmjwJYvulbA2loCDJwrAcPHmyXqoYgA+l/eF0QXJjhfGeRsWNOnTplhA4dWq4tgMGLMWPGSFExCrnN8PfA4MI6/5VuhjQ1NDQoXbq0kTlzZg4eEZHBaityGFIVUNCKRazQivPvv/9W8ePHl170BQsWVFu3bpUCPxTCDhgwQKbNs2fPbjfdzoK/gEFazY0bN+QDK26j2BJpInrBMBR1v379WtJ20BYYC14hnQGPQyG+LqRni8iAMR8znOtIQ9u0aZOkA6IFM1qgog0nBm3QsGDPnj0qefLkUvyKtQI0nu+Oixo1qqyVU6ZMGVk9GuuI1KlTx7YyN4qN0eYa8PfARfQch3VycC3H+jhoK47zHcfeL0gVxJo6eD9YvXo119MhIqZIUcCZR6XatWsno7hp0qQxzpw5Y/u+npnQ6VIoyNTFrxRwxYsXl/aQWvny5eW4o1DY+0jj1q1bZYYD6SNoEVy7dm3biCILX50736dMmWKMHz/erqAVLVIrVqwoI+qgZygwc8fj7TjfWijfvn1bUtPChg1r7Nu3T7Y9e/bMGDdunJEoUSKZ0SPnYIY5V65cRs2aNaXdMq4zaMrxX5Cqqf9WeN4TERfaI6ds375dRsexsBgKuSdNmqRy5colsxgYvUIB8s6dO6UIFo/lyHnA4fhOmzZNde/eXYUJE0a2ofXmq1evpAUqRhkxeqi/pz169Eja12I7XgeOKDoHKxFjBWO0/UUhMUZ4ATNIaIGKonq0n8UxNy9oqFs009d5XwQSdu3aJTNCKVOmtH0fra27desmCxni2pI7d25pl4qv0Y6WK3Q7D9cTvQI3FjDE+e3f85gzpEQkXB3hkHtC3jlacJrrAjCqjpa0uk0qeG+Rypxc5wwbNkyONWCW6M8//zSyZ88u7VHNhd+Y7Xjz5o3ta+b9O2fixImyMKS5rTKOqW6RioXE0JqzcOHCkv9PjsHMEGqGAMcRNUVYSE/Xsujz+OrVq3Le43t6JoPXFufpY7hjxw4jVapUUk+BInocb/P3iYj+C4cZKMAwkoV88zlz5qjmzZvLNowctmzZUlpz1qtXTy1cuFCVKlVKctB1a0PgyJbjMJqINqhoe4ocdMxGoN0pWqaiJgOtIrHYW/HixaVlKlqialxcLGDM5yxcvHhRjmvWrFmlLSdmMlADgHoA5JxjIbFVq1bJgnrm407+p2tb6tevrz58+CA1FAMHDlT58+eXWq5Lly7ZzmPMUmTKlEnaL+PvAT/Lc9z5811fn7NkySLXmtatW0vLZbRbxrXFfP3GLDURkV+YIkX/SU+Nm1MYcAOAlbuxxgUKLXUhK/rPo+ASqQ2pUqVSa9euVd99952v6Q8U8FSDCxcuqJEjR0o6yIIFCyR14d27d2r58uWyHavrYhVvHH8cd3LOuHHj5GYW5zXWEUFQgX/R8z9WrFiSdoZVpLEug14HAJgm4hisrYDVzytVqiTXFATRaE6A9ECse7Ft2zaVLFkyeSzWuUA65k8//aRixozp6l13W+ZzFY0LcK1GcFegQAHZhrRXDBj98MMP6vfff7cNImF9HQTdRES++s85DqL/b+/evXZfI5UBKVAo4v7111/ttt+9e5etaJ1gTkXAscSK6BrSRRo0aCDpIXqFaKyrgLacSBfRBZY87s4dd6yzgAJupIcgBQqtUNESdeTIkdIyFRYuXCg9/83paOScLVu2GJEjRzZatmxpvHv3TrYdP35cWqBGiRJFVulG4wKsnK7XGiHHmFMn0Wocq86jWD5BggRGnz59bN/Dei+FChUy0qVLJ+sZ4djz+kJEX8MAg3yF7iG4qdIOHDgg3UT69etn9zjcAOBGDN/DG793zNl1Tvfu3WXhtiRJkkhQoYMHdHrB17gh2Lx5s4+fYxcX52C9lh49ehhz5syxbfvw4YMsJKbhBqtMmTLSQYo1LgHj/bqAY2neVr9+fbmmNGvWzFZbhCAbN8E5c+aU2gx0LSJr3LhxQ+otcExPnDhhjB07VtYc6dKli+0xq1evNvr27Wu0adPGFlzwOkNEfmGAQT5gNDxr1qwykoU3G0CL2UGDBhnRo0c3+vfvb/f4s2fPSoErbgiGDBnior0OfrAid+LEieUmF0FcnDhxjGLFitkKixFkNGrUSI67ubCeHIdAAec8jik+UETvHYKMlStXyk1uxowZbTfADDICBqvKo4BYF8XrAAPXGSxiiNXPI0aMKM0kENxpL1++tBWCk/OwKGeNGjVkxkifw5iRw6wFgoyuXbv6+nMMLojoaxhgkK/evn0rayxgqhzpCbqv/9ChQw0vLy+7IAOrdyN9BOsv8E3HulFdHE+8yZsDObweRYsWta2OfuHCBbkRY7qC4/RNlTlAQOofAgysuXD//n27xyNlCiPruPHVx53HP+CQXpYyZUqjcuXKcr2BgQMH2s3KoWNahAgR5HizO5f1cEw7d+4sKWlYa8cMQcbkyZNlzREEH0REAcEAg/yEN3286cSPH98WZGD0HEEGRhabNm1qG8nFQnr6Bo03WwFnvrlFUIFRwwwZMhi9e/e2e9y5c+eMhAkTyjH3vnAhj7tzQR3S/TAbobdNnTpVgoxevXrJYm5mOPb6NWNQ7fhMKWbnsKgbAjmk32AmdMOGDT4CbbwOXETPeb6lrGLxQqS+4hiPGTPGx3vAiBEjjAIFCnCGjogChAEG2fj2BoJRLIyYm4OMFy9eGAsWLJCUHaSIoPiPaSKOMx+zAQMGGGHChJGADUXcKKpEyo75MefPn5fUBeRCkzU3W6NGjZJ1XHCuY2ZC11roIAOBnvcgA3i+O0YfN1w3Zs2aZeTIkUOO86pVq3wNlrEuA857suZ8x0DFnj17pDEEjjVS0FBzFClSJFkV3QzpaL7N8hERfQ0DDPLx5oObK52Co0ca0SnHHGToXGiMfnHmwnHmN+wzZ84Y1atXl4J63T0KsxXo2nL69GkfRZkcObcGClkxcj5+/Hhj+vTpRuzYsWURN53nP23aNCNUqFBG27Zt7Yq8ydogA8XbSJfSHbl4Pfk21xk040iTJo0sHJktWzZp6IE0QFzz0TkKnbpQ8/W15yAi+i9s1E7S91z3QR8wYIAqX768rGGBBdyw1kKYMGHUxo0bVerUqVW5cuWkLz1EiRJFJUiQQNa3QC919Kwn/5kwYYJ69OiRbW2QadOmqWrVqsliYnHixJFt8eLFU8eOHZNF9Fq0aKHOnj1r+3n0pMfaJFijhALGfMywtgLWXsC6IlgoEgtIYtG2Bg0aqHDhwsljGjVqJAtGHj58WNYHIGvg3Me1B+u1YO0LnOO3bt2SdXXevn0r1xOe39bQ1xmslTN9+nS5/ty9e1elS5dO1jO6evWq+v7772Xh1Hbt2qlWrVrJ2jq+PQcRkb/8ZwhCHgO55iiwRA0AOoug7zy6Sem8XEyjo/D7u+++k7UYyDEYra1atardDAT6+WMEF2uKzJ8/3+7xSGNAN6lUqVKx778T0PpUr+WiZ+x27dols0SwZs0aSRFBYasugJ0xY4ZtJJ1pItYxH0PvMxn58uWTGVNd+E3OwzHGjNwvv/wiM3Wwfv16Ke7WndJwfce5jusNZu04g0REzmCAQbaUGwQTK1assG27fPmy9J1HfvTu3bttN13t2rVjeo6T9PFDASu6EumUKKTmFCxYUBYbM3vw4IHUCPC4OwapfKivQN2QuaUvAjYE0mhcgODC3JYW68BUqVLFOHbsmO0mjcFFwOlj9vfff8tCkF97DIIMBHh4rfCakXUQMOC4oqYL3bnMwTTSYHHu79y508fPEBE5gilSHgopTWZIB7l//756+fKlbVvy5MklbQHbdFoUUkQwzc70HMf8888/8i+O3969eyX9BukKSA1BShTSEt68eaP++OMPtXXrVtvPxY4dW61cuZLH3UFI5Rs7dqwqWLCgKlOmjDpy5Ihsjxw5snr16pXq0qWL6tixo6QFAtKk+vbtK69X5syZbSkiTBMJGAxi4ZghDQfpldu2bZNz/WvpUg0bNpSUNbxmZM31HZByhnTX6tWrq8qVK8vfQ7NmzeR7T548UYsWLVKXL1/28TNERI4IgSjDoZ+kYOGvv/5S6dOnlzce3Hj99NNPql+/fvJGr2+mfvnlFxU3blw1ZcoUV+9usLjZMsOxXrdunfrxxx+lBgC1FbgBq1ixoooWLZpq27atvC7kuM+fP8v5DDt37lSDBw9Wp0+fVmvXrlVZs2aV/PMCBQpIjVGhQoXkXMfNFm66UAODn8UNm65TooDZtGmTqlSpktSx1K9fX4UPH97Pvwvf/kYoYMznKs5zLy8vCaRxPUEAgdcCx/jvv/9WHz58kGC6Vq1a6vXr1/L3gUEMIiJn8R3TQ+GN/OjRozKahWI/FLeisHXo0KFSBPju3Tt5HIotHz58qBInTuzqXXZ7+sYJsxMYMYc+ffpIUT1mKzCTcfPmTZUoUSIZ8b148aLavHmzi/fa/engAjMSAwcOlHMas3WlS5dWBw4cUMmSJVM7duyQGSQc96VLl8q248ePy89iFoPBhWPXGNy8Tp06VbVp00YKiHEs0awAfwPDhg2Tx+kmEfpzco4+V3GNweBQpkyZVKdOneQcT5EihVxz7t27J408MLCBAYwHDx6o7du3c4aUiCzD+U8PhTfy7Nmzq1y5cqnOnTvLm8uvv/4q6SK//fab2rJli6RD3b59W4INPIachxssdC7SnaKgR48e8i/So/C6YCYDQQbSeBD4kfNwk4sRdHRDS5kypcxMTJw4UYK71atXq9y5c0snL90NDTN6+vVimohjcC5jtiJs2LDq/Pnz0iEN6ZUYRcegBW5qT5w4IZ3qGMA5zzz7g2AC5/Xs2bMloFuzZo10CMT5jRmM/Pnzq0mTJslrg2tR3bp1Jbjg+U5EVuFV3UN4H5X6+PGj/Nu+fXsZ0UVuNCCQQP5z/PjxJbBACgnqL/Cmo+sHyPFcaBxHjCLu2rVLffr0ST50kIG8aAR6GGXHzRfqLjiiaM2NF26yMJqLVCgcV8xe/P777zKKixsupIugDilChAi24AI/x5utgPGecYuv8+bNKy2Z06RJo54+fSp5/wjwevbsKee5vhaRc9cZ77M/OMeR8oc6um7dusmAEYIMtGXG3wBm9LAdM9f6OsPznYiswquJh9B5tcixLVy4sIxcQc6cOeXNaeHChapo0aKyDaO6+DDjyJZj9Mgs8tBjxYolN7R4ozffyGrdu3eXGSQdXGjMiXYObrwiRowoQQSCZhx7QPCMWhcE2VmyZFFnzpxRadOmtfs5CvgIOtLOsGYI1lVA0IwZORR4X7t2TW54NcxqoC6Ax9m668yoUaMk9RWpaeYieRx3HGfMIOExqL3AuW/G6wwRWcqh3lPkNrAyse57vmPHDuOHH34w0qZNK+1or1y5ItvREjVu3LjSF/1rferJMWhzGiFCBCNJkiSyGjpa0YYIEcJo06aNvA5o34kWtRrXW7BmRXozrHGRKVMm+Vt48eKFbfvatWtl9XS0qWULYOfhOIcOHdrImzevnONly5Y1tm/fbvcY3f46atSoPlaoJ8fP9/79+xteXl5GtWrVZM0cXHOWLVtm93i0Gy9QoIDx22+/uWBviciTsItUMPbnn3/K9DhycX/++WcZHUeqAjoXoYAY7VA7dOggRYDIT8fobe/evdkxx0nejx++fvbsmW10F91a0LUF3Yowq4GcdMxmoMMORhiB3XScO+7I7dcjshkzZpR/GzduLIXbSImqWrWqzGqg7gidu8aNGyePQZoIR3IDRp+rmHlDMXexYsXkWKODEVrOYjYOdV0lSpRQe/bsUTNmzJAUqblz58q1h5yHY41ZUtQSIQ0Qaa1jxoyRmSSkRVWoUMH2WMzkZciQgdd4Ivq2XB3h0LeBBZQwkrhy5Upfv3/w4EFjwIABRowYMWTEK2bMmEbEiBGN+/fvB/q+BtcRRax2fvPmTfkww2KFP/30k7Fq1Sr5GjMYWGGai1o5zjzbgxXpU6dOLbN1yZMnl9kJDSO3uXLlMkKFCiWPSZcunY+VuingsCJ67dq1jeLFi9tmRvW5jRXqsZghHgN79uyxm7Ej52DRPMwWxYsXzzh69Kht+/Hjx40GDRrIjLVv7wN+zfYREVmBAUYwNHXqVCNMmDDG6tWr7bb37t3bx0qteBMaPny4vAnhhoxpIo4z36D26NFDbmATJkwoaVFIzXnz5o3t+yVKlDCaNWvm4zkYZDjn999/l2AZ6YC4iW3evLncfOHc1xDwITVq8+bNtvOd571zkAaFwYpw4cLZpVrCqVOnJGUqT548ElyQtTCQ0b59e7nmz5o1y+57WLW7UaNGRvTo0W0BHhFRYGCAEczgDSVs2LBGw4YN7baXK1fOyJgxo/HgwQNfb4g/fvxoG9HizZZzBg8eLG/oGzdulJutIUOGyE1ut27dbMcWI+k///yzq3c1WMFoebFixWREF9atWyd5/qixCBkypNGvXz9ff47nuzX2798vdUaVKlWSuiPv16UiRYoYt27dctn+BQd+zTpg5hkDFuHDhzeWLl1q971Dhw4Zf/zxB89zIgpUbAsUzKDVJnL59+/fr+bMmSP9zatUqSIdXNALHfnQOmda5/hjpWPd0Qh57MxBdyz3H8cVxxKtZtGZqGTJkrZ2kVioEIsaZs6cWfL/sZAb1gUA1ltYA11zcMzz5csn3dKaNm2qBg0apBo1aiSvC9pyou4Ii0ma8XwPGH2+Xr9+XVY7jxIlirS1zpMnj6w3gvqLESNGqI4dO0p3LsB5j/ao3junkWM1RjjOV65ckYU5cb3HOY8V6rEwJM53vD6oNdKdAvEBrDEiosDCKq9gJnXq1HJzi1a0uLlCMd/Vq1fV+vXr5SbXfDM7f/58u5WOgYV/AYPjqY8Z2m7iBgpF23ob3tDR4hdBBW4EUNiKn0HQgRsusmZ9EUBbVKyxgDa0WI0bxxjHHOc3zn206kQLT/a1cJy+fmDFcxRzo/0s1hfB57du3VJFihSRBQvRzADtULFYpGa+zlDA6WsK1irCGiJoG46/g1atWqlevXopLy8vadqBc75JkyZyrfGOwQURBRbeTQZDWKkYveeLFy+u7t+/Lze3CRMmlO/p4KJUqVLyZuTbjRr5jzlYw2gtOnXheJYtW1ZmjzBDgTd0/RiM9AK+xmJ7uGHwbYEs8v9ILoI0dEtDZyKMqKMzFNYAQBcpPA4zevgaM3j4m8DsEo43gwz/8X6ccOz27t2r6tSpI9ePv/76Sw0ZMkSCOoyS3759W4IMvB7oXoeRdr2QHs9z523evFkWQsWK9FiQE7MVmMXIlSuXHF8E0l27dpVrkW8BBhFRYGGKVDCFBd1wQ4UbhNmzZ8voLlJGdHCBNyXcDOjUHr75B4z5mKElJGaJ8IaO44mWkOfOnVNdunSR9r9Ih8JNFlaTTpo0qd3zcMbIuZHc5cuXqzhx4siCbTjfd+/erXLkyKFq166tWrduLSlReG0wi6QXj+T57n+YgdDpNdqhQ4dkUc7mzZvL1+nTp5dWwBg1x+g5UjExg4qbYLRh1ot6kvOeP38ug0VYJHLx4sVyzMeOHatq1Kgh5zoWi0Sr2mHDhqmYMWO6eneJyIMxwHBTuEn6r3oJPZMBo0ePlsfiTR+juXgjQsoCV+h2jDnNbMqUKXIMkWcOSMXBzBFGcbNlyyY3A1gHA8dap0XxJtc5mCHCx9q1ayWgmDlzphxbBBP4GjdcON8xwo7aAKwvgteIOej+h3UVMPuJwYioUaPaztenT5/KWgpmCKIbNGggo+o41zGTlDdvXhftefDg23pEWEMnUqRIUmOE4AJ1FzrQw7UdtXeYHUWtnV/PQUQUGHhn6abu3bsnhZWAEUPUWiRJksTXmQzk6OJNBm9IePNhcOE4pD1hFBE3qdmzZ1cvX76UYAKLGCIVBzdWgIJuBBe7du2Sm16M5GKxMRxvHnfnoc4FaToIJlauXCmzFUiVwnHHSC4CCdRjIIVEH2se94ApWLCgnO+YHbp7967teoPZCdR0YWYUx1vPUODa8uHDB/X27VsX73nwoAMDBHrx4sWTWSKkX/bo0UP99NNPMriBQBpw3GfNmiXXGcxWe38OIqJAF7hNq8gKBw4cMJIlSyY95Tt27Cj95/9r4aqzZ88ao0aNsq2zwPUWAg495tOkSWNEiRJFFrVq27atbF+wYIEs6Fa1alXj3r17X30Otoq0Bvr+t2nTRhYrjBQpkjFp0iRb6+Xp06dLS9p3797ZHs9F9PzP+7HCOgtos/znn3/K169evTLKly9vFCxYUI71p0+fpM11586djQwZMhhPnjxx0Z4Hv1a0+/btM1KkSCFrWVy4cEG2oQ0trvl169aV9wK0wsa6Ojj2XDSSiIIKBhhu6MiRI0b9+vWNWLFiGdGiRbP1lvfvyqwMLhxbGR3ri+DfLVu2GC1btjRix45tjBw5Ur4/duxYI1++fPK66NXQGUx8O7ixRbCH4GLcuHG27c+fPzdKlSolCx1SwOjrBwIGDcECrhcIHrCQ27Rp02T7s2fPjIoVK8raOljzpXDhwsb3338vC3eS48yBAdbTQSCNhTpx7UGQoVdJx8rcGGTC97JmzWpUqFDB9rrxukNEQQEDDDfVt29fGVXEmwxW0dU4cmU9vJnjWK9Zs8a27eXLl0bmzJllAUMNQUb+/PllkcM7d+64aG+Dj2vXrslouV9wU4WF9FasWCGrc58/f94oWbKkkS1bNgbRDrpx44aseo7rCEbKEyRIIEEGVqHv06eP/B1MnTpVHvv69WsZQR86dKgxY8YM280vOQ/BReTIkY1NmzbJooUDBw6UmYwmTZoYV69elce8f/9eZjUwoKGv+zzviSioYEKym9BFwbpIFV1cMmXKJEWuqLFA1xD0/WfxsLXQ/QmtIdH9CcWuGlrOou4FRZfv3r2TNp2oscCxHzdunORDI1eaHO9ehIXCunXrJh2hIkeObPue/htAB6kSJUqo3r17S60AiulRW4Q1GFjQ7Ri0QF20aJE6ffq0rQVw9OjR5XudOnWSf9GNDuc56lvQsQgfZA1cvz99+iTNCVq0aCHnN+DcRqE9FotE4TZaBKdJk0Zq7DRsZ40REQUVvBq5AXMnkAcPHsiqxFi5VRdW/vHHH/Lmj8fo1aPRVQdBiF7/ghyDAlbcwOJftKFFQIGbXnRsmTdvntq6dasEF/pmFsEe2qaiVS05DsXb+fPnV+PHj5egoVq1arYgA8cZfwPYjhsxtAnG3wU65yDoxt8BC7odgxtXtFNGgIx21hUrVrR9Dw0MdJCBm1+8Br/++qsL9zb4QeCG8xrXGwxcgD6XccxxriMIxPexoCq6d2ks6CaioIRXJDdaKbpPnz6yai5GDNF6EzdfCDDwpo8bMtzcjhkzRpUpU0ZmNHTXF3JO3LhxZfEqrAeA7jm1atWSG14EcejmotsF60ULK1euLF8j6KCA08dtwYIFcsxxLqPnP4I7/TehV4VGFy+0TcXiblmyZLEtXsjgIuAwco5ji9k5dCd69OiR+v3336WDFOB7OsjAbB1m6HD8yXG+LfiIczhdunQyk3Tjxg05l/XjMGCEdUew2CG6B/r1HERErhYCeVKu3gn6b+gvjwWVpk2bJjMTxYoVk1FbrJaLN6NTp07JugtI50mePLlasWKF3IQxZco6aEc7aNAgtWTJEgnyVq1aJduZimM98zHF+gro748bW6zLoFdEf/jwoYyyY8YIgR/Pc2tnTBFc4BxH8NauXTtplapbZGO2COtdcDE3a2amEcxhRgjHVQfHmMF7/PixXMtx7DGDh/O/YcOG0v4a68BgTSPdGpuIKChhgBHE4eXBugtYhRgLKmFkcdu2bfL1iBEjJB/a/EaFx+pFsZgmYj3c1CLYQ40AXgOs1g0M5L59kLFv3z5ZvRt/A/jezz//LLMXSBvRMxoUMPq8Rc3FlStXVPjw4SWvX6+pgyADgxg//vijpEMhTRAfWEsHqYHkGPM1u1+/fmrLli2yeGHNmjWl7gKpabjW4FzH9gQJEkgAglkmvE4I/Lp37y6rqpvrk4iIggoGGG4AI4UYRdyxY4c6ePCgqlKliqSN4A0fi7thwSXcAJjzcbmC67eDmSPUvRw7dkyO+4ABA1y9Sx4TZKCAGwvoYRbpxYsXMnPHRSOdCy4wQo78ftzEYnYC6Zd169ZV5cqVk8dh1m7p0qWSDoUF3fD4XLlyuXr3gwXUd02ePFnSXbGgIQI61F5gxgjNDQCpmDj2eK1atmwp5zmu/RcuXJCZO85gEFGQ5Oo2VuQ/2bNnN4oVKyaLvOk2kbqVZ6FChaRVJwUetIasU6eOtI1ka+Bvy9zXv3HjxtIqNUuWLLa+/2zNGTDm9XK2bdsmi7ZNnDjR1pIZ7VHz5MljLFq0yPa4vXv3yoJu169fd8k+B0doL54uXTpZTA92794t613kzp1b1raYN2+ej59BK+DmzZvLmiOnTp1ywV4TEfkPZzCCOD0TsXLlShnVQvoC6iwAI12YzcCoIrrpsA4g8GeWkI6G14cpUoE3k4FGBnoklzMX/jd9+nS5XqCGBdcVpNwg5QzHdeTIkdKGGU0LUET89u1bST9DW1Q9k0HO8T6rjOONmTh07kKKFJpHYGa6QIECMjP6/fffy2wdZpd0+uumTZukdTD+BtAxjYgoqGKAEUR4v0H1Xjj85MkTmUpHoTduAGLEiCGpOpg6P3r0qKSJsNjYNZiOFji8BxMMLvwP14/MmTNLGg7SzCJFiiTb0ZIWef1Ir8RNLR6DQARrYCAY+eGHH1T//v1lTRKyhl43B9drfI6Ws+g8h7UuevXqJddwrGmEDlJo5jF69GjbewMej/NeNzogIgqqeFcUBCDvWb+BoDMIeA8UEFCgDS0WF0PbVHQbQZEr6gB0DjqDC9dgcBEwekzDPLahW/x+jfdggsGF/+H6gdFvXCvQnUi3/E2ZMqW09929e7dcgzBjAQhAcMNbuHBhaYFNjjOf25ixSJw4sXSNwvUaBdoINK5fvy6vDbYhiEAgiLbkOrjQz4HAhMEFEbkD3hm5GBZqQ8cQFG8jBap+/foycuUbpONg+hxF3VgtGukNesVi3myRO8CNkg6mX716JYXavgVpnFi1HmY+0QEKxxbXEQQZuvsW0qXQtQgdigApl5jNQDODRIkSuXjPg8fsJoILXNsxm4TBIQQZgHS0tGnTytoWKPpGd7rLly/LDJIOLjiIQUTuhilSLoY3G/Tyx5sN0p127twpb+x+vanolwtvPMz7J3diPl8HDx4saTg457GWAmoA0qRJ4+faLTzXnWM+fkiLql69uoyW79mzR0bRkWaJdUYQZGCE/Ny5c3LDmzFjRlfverCAwSAsFolZaAQPaDWOQSHMHGE2Gh0CUVuBmQzMUKNrF/4WGFwQkbtigOFCOoccfdAxUogRxlGjRql8+fLJmz9vqig4Qp751KlT1ZAhQ1S2bNlUyZIlZdV59PbHzZWG1aLxNfr9k2P0NQSNIHC90bUXFy9elJlTXH8QSCDIwODGiRMnZLADM6loKEHOQ0BXvHhxNWXKFFWmTBnZhuOMAm7M4CHIQ5CBGT3UY4QJE4brGBGR2+PQiAvofFrziq0YwQoXLpzq2bOndBQxp5JoSIUicme3b99WGzdulFXn69WrJ/VHSNXB6sTm4AI3WwiyseYCRtXJ8eACayXUqVNHaioQtCHFEsHDsmXL5HEY0MBrgHoLpGli3QsGF9bBscVMXfLkyW3b0AEKs3b379+XoAMduzBzhPcEnRbF4IKI3BkDjEBmnvJGvjNGsHLnzq3y5s0r0+IfP36U2QxMoWtDhw6Vf1nETe4O5/vjx4+lSw4CDXQnwkwGRnNxI4ZOaYCbrUaNGslNsi5IpoDBjeratWsllx+F3JgpxewE0nTQHAIpaQsWLJAb2XTp0qk3b964epfdnm8JAQgmUMeC+hcN7wEZMmSQ437t2jUZZEI3L32NZ1oUEbk7XsUCmX7jwEwFCv0wqtitWzeZMo8XL56kiaDgUqdN/fLLL/IvZy/Inbvn6CABN7UJEyaUlYirVasmo7j4HO7cuSNd1LZv3y5f4wYMo+nmkV8KWDA3YcIEWWkeaWYYKd+1a5ekPyE1DXCDO3v2bHlNdNExOcY864w1KzBrAQjgypYtKyloOoDW7wVoA4zAA4EFAm0iouCCNRiBxFxPgUXzsHjSpEmT1JEjR+QDb04IJHLmzCkpIRhlxJsUcnIRdLDgj9yJ+VxFxzMsSohe/0i96dKli5o5c6aqUKGCrLkAqBHA9/F3glF337pKsR7Jd34dG7Q7xcg4rjNIP8MsKWaOUAsAOM4I3hD0YfQcuf/kPLSXxQz03bt3ZRG9Jk2aSKeo9u3bq9OnT6skSZKoQoUKSdE3ICUWNRoI9swBCBGRO+PdaiDRNwDonLNv3z71+++/SzvCgQMHSjCBN/euXbtKsIGCP4zkImVq3bp1tnUuGFyQu9DnKrrn4FzHjSwKiTGai1W4kfePWTvUYfTo0UMKvW/duiXBNH7W+7oYDC6+PmqOHH50fsINrIaUJxR1Hz58WFboRrc6fQOLWhjUYJw/f16+ZnDhOPO5OnHiRAngkPqH6zuCCnTnwjUca1ogFRApgosWLZLrPNqUhw8fXta9wNcIFjnmR0TBAmYwKHAcP37cyJo1qxEtWjRj8uTJdt9bs2aNUbp0aaNo0aLG/v377b735cuXQN5TIuetXr3aSJQokXHw4EEf5/KlS5eMUaNGGfny5TOqVKlidOjQwfj8+bN8T/9LX/fvv//Kv6dPnzZy5MhhJE6c2Pjhhx+MJk2a2B4zaNAgI0SIEHJtMevWrZuRJk0a4+bNm4G+38GNPqdPnjxp9OzZ01i1apXte4sWLTKiRIlitGrVynj8+LFt+/v3722fd+7c2YgZM6b8TRARBRcMML4h3wKDqVOnGunTpzdy585tXLlyxe5769atM3LmzGn89ttvgbiXRN8GAgic52/evPFxU+yXf/75JxD2zP3p44ib2ogRI0qAtmPHDqNly5ZGmDBhjPHjx8v3P336ZLRu3doIHTq00bdvX6N3795G06ZNjciRIxsnTpxw8W/h3o4cOWL7/NChQxLIhQsXzliwYIHd4xBkeHl5GW3btjUuX75s237q1CmjQYMGRpIkSWTwiYgoOGHOTSAU/CG/HDno0LhxYynqRhoI1gNABxENRZgoesVUOpG70g0JUEuEhgURI0a0bdfpT2idipQe79gpzX9wHNGFDh3o0Fp2+PDh0mYWOf+ABdsAqTljxoyRNDXUBWCFbtRbHDhwQBb0JMcg1QyF2xcuXJCvUTuHtV3QBfDgwYNSP6ehmQG+h9cB572GJgZVq1aVFuXo8kVEFKy4OsIJjsyjtEOGDDGKFy9upEyZ0qhdu7aMOMKMGTOMAgUKGDVq1DCuXbv21ecgCsr8Olf37dsno7pjx4612/78+XOjQoUKxvz58wNpD4PnMUeaE1JrMFOk/fHHH3LMy5Yta4wcOdKYO3euXToOfu7jx48u2uvg4c8//zRChgxprFixwsf3xowZI8cfqWkvXryw+962bdts6X+8vhNRcMeVfL5xK1p0yUFXEYxQFS1aVD148EAK/Bo0aCAjufPmzZM2neiqgza13p+DKChDmqU+V9EV5+bNmyp16tQyoouuRSjgxqg6WqaiaxRm83r37i0LjGFklxyDY47mEOgUhesJus2hFfCwYcPkmGN2AgvqoZgbzSPQvatNmzYy6s6Cbsf9+eefctzRgAPns7Z//34531u3bi1ft23bVv5Ft0Cs6QIotAeu0E1EnoBXuW/k8uXLavXq1dINqlixYpKSgBSR6tWrq+jRo8tjsJAY2hdevHhRxYkTx9W7TORwe1R0i5o1a5aKESOGnOcIqLFAZP/+/aVFKoJttEvFzRYCaXQ2QjoUHsu0KMfgOCJ4QCc6pN9cvXpVbd682XYjW65cObmRHT9+vDp+/DjXE3ESOpw1b95crutYn0jDcUYXqIwZM0rXLgQZ+LtABykEfViDRKcJAoMLIvIEvNJ9I8jFBQQXeGOqU6eO1FcgqMCbzqZNm2SFXbwZ6Rs1rnNB7kQHF2iNiloinNNYtRizcli8DTdjWAMDo7hYVBI1GRg9R+45znOO5DoPAxMI3nA8sZAbWv/qAEO3T8WIO4+189dzBG9Jkya11bcA1m7BYBLajyO40AHzb7/9JrN2+JvAQodERJ6GC+19o4WukAqFRa4wjY4Cv8GDB9tWLD527JikjWAbijT9eg6ioA7pOUgbwRoXS5YsUeHChbNtx3oA6PE/atQolTJlSrufYzBtLVxvMJOBdXRwzcFihsDAwjpI68Nq24cOHZKZ6L1796pLly7JwqkIPHwbKNLbeH0nIk/Dd3gLu0VhYSsNiyZhoSV0G8GbkQ4uMBLWt29fSRVBnrrGNx9yR0jLwc3tqVOnbLN2gHMei4qhixRm77CqsRmDC+tnMlB7kSNHDlmhG3VfwODCOkj1Q0pa9uzZJSVt+/btMnOB4ALnub6GI31KB3h64Txe34nI03AGwyKDBg2SOgu0gMSbe65cuaS2Avm3Z86ckZVdMbq7Z88e9ejRI8mJRgtJjuSSu/DrXMUMBmYpEDCjyBjBtYbmBSdPnpTv8zz/9hDsoQ32nTt3ZBZJ13uRdZDq98cff6h9+/ZJIN2xY0fZjvQoFNGjfTCu+bi+ExF5KgYYFpgwYYLMSrRs2VJt3LhR3bt3T9a4wJoXyM/FFDpy0tHJJVGiRFKLgZFFpi+QOwYXGLlF9yJ0hEIOOkycOFG6FuEcR+pfrFixvvoc9G1vgMEc6NG3SUlDswLU0iHIQLE3BpVQk4Tggtd3IvJkDDAc4P1GCXm5SZIkkUWTAKkhW7duVZ06dVJ169ZVESJEkJsxnZ8O7J5D7ggpIhgZRwcj5J+jHSrO/2zZsknaCNp3pkmTRhZ2Q0oJUXAOMjCTgZo6zFpEjRrVNnPB4IKIPB2HE53o+49cZ7ShPXv2rPLy8rJLGUH3KKyuO3fuXPX06VO74ALPweCC3A3qidCKFjNy6PuPmQrMZqBbDmCdBaxtsWvXLnkcUXCve0EKLNr/IsBmcEFE9H94FQwAc7EepsTRHQo5zjdu3JBtWbNmVTFjxrTdjKE9Jx6nC741FvxRUHf+/Hnp/IRAWJ/32IY2y1jjArMYOLeRHlikSBFpcIA2nWjPifMdNUdEnhBkjB49WgaY2HqZiOj/cAYjAHRggF7zmBJHX3QUsKJjCLroYEGrJ0+e2B6PvHQUfJsXZSIK6lAkjE45aFqgu6Thxgm55aitQEpIkyZNZAYDa10g3Q/pUajBAKQK6kX0iII7LLKH4AJ/KwwuiIj+hzUYDvb9R74t+v7rTiGYKseiSggmMIqLFY3NWHNB7iRv3rzq8ePHasaMGfI5zl3M2KG2AusBoDsU2s/Cq1evpNg7X758tvaoRERE5Lk4gxFA6AqFLlGYuTD3/UexX6lSpaSLFFZuffnypd3PMbigoA71QkiDAtRYIEiuX7++fA6FChWSdRbQKSpx4sSyDemBaNWJOgysw0BERETEAOMrMOXtHdrPtm3bVoUJE0a1atVK1rTQ0LYQawFgRBcL6RG5C6T7IZhA0wIE0YAUKaRE1atXT3r+oyYD5zwCDATTyZIlk9acCC7wfaSHMC2KiIiImCLlj1a0O3bskL7/WESvQoUKsm3cuHFq4cKFKm3atJKLbk6J0kWxXMGV3AlS/xAk16hRQ9ZwSZEihWzPkyePpEUtWLBA0qVQZ4SOOdeuXZN1XX788UeZoWOBKxEREQEDDH/2/UdPf/T9R/ErAgp00sGCeStWrFDp0qWT3HTzwlYMLsgdg2l0P+vfv7+qXbu2r0EGCrmxSr33QII1RkRERKQxReorJk2aJP38EUQgXWTQoEFqy5Yt6vnz5/L99u3bS3Er1gJA0asZgwtyp3VdMPsAv/76qzQsQCAxbdo0u3QpLK7XoEEDtXPnTvk5MwYXREREpDGf4StQ8Ip2nFjfYvHixapz587S9/+nn35Sb9++VREjRpR6DPRCr1Kliqt3l8jhmQs0LEAKIFadb9mypa1xAeiZDBR7Y1GxKVOmqKJFi7p034mIiCjoYoqUHzdeOCxYQAyBQ+7cuVXhwoXVsGHDZIQX6SCYzUCRK/LVNaaJkDsGF0j1w8wc6oxQ1I3ZOCyah3QpdETT6VIILoDnOREREX0NZzC83WyB/hzBA26wvPf9x+zF7t27fXSZ4k0XuQt9jiMdavr06bJ+BQq2a9asaWu3jGAaEEyj7TLa0CZIkMC2iB7PdyIiIvKNx9dgmIML5JljsTy03cQMBtJAsmXLJm05MVsBN2/etPX9x80ZkbtC04L169dLd6gWLVrI3wFqh2rVqiUzGIAgA99DkB0/fnzbzzK4ICIiIr8wRer/69ixo5o3b556//69FLN269ZNbrSQdz58+HC1bds26SSFHHXUXuzatUtW8eZILrkrnNuYpUPQvG7dOvkc53qzZs3U69evpe4IqVHA1stERETkXx6bImW+Udq6dausdYF2tEmTJpXgAjdab968kZstLD525MgRuRFLmDCh1Gaw7z+560zdhw8fVLhw4VTq1KllZq5nz55qzJgxasSIEapp06bymCtXrqjly5erDBkySFtaYHBBRERE/uHxMxgIKhA8hA8fXuotNHSPOnjwoKSIoPbC+8rcnLkgdwwusJgevi5ZsqQsDonVu5Emhc5RCDB0AFKpUiWZoUOLZnN9EhEREdF/8bgAw5zqgRut/Pnzq0OHDqmyZcuqVatW2T0WQcbx48dlrQu0o0UQQuSuOnXqpGbPnq2GDh2qihUrJjUVaMWMmqLvv/9eFpFEETf+DrBaN859BBnemyAQERERfY1H3TWYUzwePXokMxCopcBo7alTp2Q2A+sBaFOnTlVJkiRRFy9elJQSIne1ZMkStXDhQukOhVkLBBcIHNKkSSO1R1iZfvPmzdKuFqlTJ06ckOACaYAMLoiIiCggPGYGwzwKi1WKkRbStWtXlTFjRllgDDMYjx8/lm3lypVTYcKE8fGzzEEnd/X777+rffv2qTVr1si5jfPY+8zE58+fpaZIn+OsMSIiIiJHeMTQpPlGCvUWSAFBV6jx48ers2fPyg0XbrxixoypBg8erNauXStBh4afxXMwuCB34NuYAYq2cU6HDRtWzmPUEOG8xr/bt2+XBgaYsdDnOJ6DwQURERE5wiMCDB1ctGvXTjVo0EDyzXPkyCH9/0ePHi3pUTrIiB07ttRbYLTXt+cgCup0kDBw4EAJpKFq1aqyzsvcuXPla92gALUWkyZNkkDbt+cgIiIiCiiPGaLEjRZyzTds2CDBBUycOFE+MFrbvn17lTZtWrVy5UppU1uwYEFX7zKRw7Dy9rJly1Ty5MnlaxRwN2zYUPXq1UtWoq9SpYp68OCB6tKli/xbokQJV+8yERERBRMeE2AgxQmzFOZ2s1ihGGkjWGQPMxStWrWSmoyRI0fK99mKltyF93oKLy8vOdcRWFerVk3FiRNHtWnTRtIAEUz369dPvo+vMbOB85znOxEREVnBY/J+cOOEItanT5/K17rGAutcJEqUSNa8QAtPpIyYf4bIHejg4vr16+rhw4fyeaZMmWz1GAhAUqVKpXr37i0pgTNnzlQzZsxQu3fvtnWL4vlOREREVgh2XaS+1rO/TJky0vd/586dElTAnTt3VI8ePeRrpEuhwDtv3ryBvNdEjjl69KikPwFSolBrgdXmke6HYAOpUggm4sWLJ6ty60JvM85cEBERkZWCVYBhDi6WL1+uLl26pKJHjy43YFmzZlXPnj2TdrTXrl1TPXv2VJEjR5aiV4zgom1t0qRJ5QYNnaSIgrrJkydL+1l0gcLaFTi/cc5jJe69e/eqW7duqWnTpqlYsWLJIpH420DxNhbaq1ixoqt3n4iIiIKpYFODgThJBxcoXJ0zZ44sHoYZCuSfN2rUSHLRMXvRrFkz9eeff8qNWOLEiSUYAQQjKVOmdPFvQvTfpkyZolq2bCmzFgguAN3RcufOLZ8XLlxYZjCwSCQKu1OkSCGLSiJFEEE2ERER0bcSbAIM3VZz3LhxsiL36tWrVc6cOSXtCe1pnz9/LgFFvXr11PTp09X9+/dlVDdq1Kjyc8hNRzcd3JgRBWUIjtGQYOnSpapChQq27agj0gEGxIgRQ507d07O9aJFi6q6devavsdF9IiIiOhbCVZ3GO/evZMFxRBQILjAgnqor+jcubM6fPiwpD4h17x27doqbty48jMXLlyQlBGkSG3atEnSpIiCKpzTzZs3lwD6l19+sW3H6vPRokWTwm4EzqirQAoguqLpom8zBhdERET0rQSrFKkIESJIK04UsSI1BO1n+/TpIwvn4YasTp060p4TN164IdNpUUgZ6d69u23NAKKg6OPHj2rz5s0SBCP9SatcubK6fPmyrPGC4AJ00TZa0Z48edL2N8IF9IiIiOhbCx1cukXpGyc9A4EWnAge6tevb7u5KlSokHyYR36xDkD58uUDff+JAgqBM1L58O/ChQvlnEYxN4KLdevWST2RDiL03wfqkfTCkgwuiIiIKDCEdveC7gkTJkjnHBSvYk0L9PpH0ICbKdRdIC8dQQUCDnSS6tChg3yPrTnJHSG1r2vXrmrgwIFqzJgx0oYW61rEjx9f1nlBRzTdkhlpgpixA57vREREFFjcrk2teeYCN1ooeC1WrJi6ffu2tJ9FtygUwKIeAwEHUqVwY4VUkWPHjskNGFNFyN2hruKPP/5Q+/btU9WrV5d0QB1IIOUPtUhnzpyxBRxEREREgcXtZjB0cIEZC7SgRWF2rly5ZNvw4cNlNW7koaM154gRI9SNGzfksegehUCD3XMoOIgdO7bq1q2bzGSgmxQgyMD6FlevXrUFFzzfiYiIKLC53QwGYPEwFG6j3mLx4sUqTZo0tu8NGDBAjRo1Stpz4ibMjGkiFNygtTJmMjA7h1kLtF1mcEFERESu9H9V0m4ERauYtUD60+vXr2Xbp0+fbKO4mOXYsWOHj59jcEHBDRaR1B3QsmXLxuCCiIiIXC7Iz2B47xalZyKwfgXSnlBrsX37drnRAtRi5M+fXxbYQ6ErkSdAQwMvLy/5W2FwQURERK4UpAMMczH2mjVr5CYK6VDojgPnz59XNWrUkCADi+uhLe2cOXOkNgMpI5yxIE/jW0BOREREFJiC9J2IDi6QAoJAAkXcuXPnljoLtOdEsIH1AGLEiKFatmypdu7cqfLlyyetaRFcYKaDyJMwuCAiIiJXCx2UZy7w7/379yVg2LZtm0qXLp1avny5atiwodReoIsOgoypU6eqZs2aScvO3bt3q3Dhwsmqx1iQjIiIiIiIAk/IoJjioWcuHj16JIFE9uzZVebMmVXkyJFlZe65c+eqYcOGqcGDB6sXL15I4DFlyhT5uR9//FFSqRhcEBEREREFviBbg4HZiY0bN6rr16+rWLFiqSVLlqgsWbLYvj9//nwp8m7SpIkEG5EiRZKajFKlSqkECRKoPXv2cDE9IiIiIiJPncHAzIW2bNkyCSBatGghxdtYtRhpUJcvX7Y9platWmrSpEnq1KlTsrAeIF1q8+bNUujN4IKIiIiIKPAFuRkMtJxFgJE1a1bVuHFj2bZgwQLVpUsXVb58edW6dWuVIkUKHz/HRfSIiIiIiFwvSBV5Y/XtX3/9Vd29e1fFjx/ftr1mzZryL4IMBBEo6Dav3g0MLoiIiIiIPDxFSk+e6H/Tpk2rhg4dqpIlSyapTocPH7YLMvC98ePHy/eIiIiIiCjocVmKlHlBMLSUDRMmjK1uAilS6BCFgAMpUegipW3ZskX99NNPnLEgIiIiIgqCXBJgmIOL0aNHqx07dsgsRsKECdW4cePke0uXLpUZC6RCtWnTRmXLls3uOVhzQUREREQU9LgkRUoHF2hFi1W5M2bMqOLFi6c2bdokn9+7d09VqVJFdejQQV26dEn16dNHXbx40e45GFwQEREREQU9LivyvnDhgsxSYNE8rF0Bt27dksCidOnS6uTJk6p69erq06dPsjq3b52jiIiIiIgoaHFZkTdW4H769KlKlSqVfI0UqUSJEqmZM2fK9tmzZ8v2unXrqmnTpsmsh3mtDCIiIiIi8tAAwxwYvH79Wv5Nnz698vLyklkM0AXecePGVREiRFCvXr3yM7WKiIiIiIiCppCBWdA9duxYNWLECHX27P9r795BsnrjOID/iG5DBAVhJNgSUQoNieViEG1RCTkEOgQSNAi1RJchKOg25KZLJBYEiZARKAalU1MqEvSPiG5LRNCFpm4Of54HTlg56SHS9/MBOe97lNfj5pfnd/kvli1bFnv37s0jZ9PW7kLayr1y5cr8fQAAYH75a1Okjh8/nsuf0tSopqamXA71/Pnz3Oj96tWrqKuri4aGhrh161a8f/8+JicnY/Hif2oPIAAA8C8EjMHBwejo6Ij+/v7Yvn17vpd+bSqLev36ddy5cydu3LiRS6aqqqri2rVrsWTJEqNoAQBgnvkrASPttkgBYmRkJFasWPFH6VTh69evsXz58vx6amrKCQYAAFR6D8ZMk57evXsXP378+Bku0slEMRVqaGgoHj9+nO8X4SJlHuECAAAqPGBMP5W4fft2vHz5Mr9ubm7Oey1S/0VSlD2lSVE9PT3x6NGjXz6nmCgFAADML6UdE6RThyJcnDx5Mm7evBkHDx7Mr+vr6+Ps2bO50Tvtv9i/f38uhzpz5kze2n3gwIGyHgMAAFhIPRhpDO3Fixfz+Nm0fTuNnE0+fvwYAwMDOXAsXbo036+uro67d+9q6AYAgAWi1IDx7du3aGtri8bGxjh27NjPkqnppVPpxOLt27c5VKRle+m+hm4AAFgYSv2v/vv37zE2Nha1tbX5fQoPRenUly9fcnnUunXr8lchhQ/hAgAAKrzJu5gWNf2atm+n04sXL17kU4rpDdupkfvo0aN5otQvD/DbqFoAAGD+mtV/9319fXHo0KF49uxZPpnIH7RoUe6t2LdvX97GfeXKlbxEr+i/uHTpUnz+/DnWrFlT7l8AAADM3x6MNFp269at+bp27drYtm1bNDU15YlRha6urjh//nzU1NTkxu3UY5H6M8bHx3PvxUxL9gAAgAoMGGna0+nTp2P9+vXR0NAQo6OjOUzs3r07Nm/eHCdOnMghYmJiIh4+fBhPnz6NjRs3xuHDh3OvhYZuAABYuGY1RWp4eDjvrnjw4EFs2bIl77S4cOFCnDt3Lr9vbW2NPXv2/Gz2LhhFCwAAC9usx9R2dHTka3d3d77W1dXlk4oNGzbkhu779+/H1atXo729vdwnBgAA/lmzrlVKfRi9vb3x6dOn2LVrV6xatSquX7+eF+i9efMmn260tLSU+7QAAMDCXbSXGrxT4/aOHTvylu7Vq1f/8TN6LgAAoHLMapRTkUmOHDmSS6M6OztzuJgpqwgXAABQOWYVMIrleTt37owPHz7EvXv3frkPAABUpjkto6iuro5Tp07F5cuX48mTJ+U9FQAAMC/NuX4p7b9IfRibNm0q54kAAIDKbPIupI9I5VH2XAAAQGUrJWAAAADMuQcDAABgOgEDAAAojYABAACURsAAAABKI2AAAAClETAAAIDSCBgAAEBpBAwAAKA0AgYAAFAaAQMAAIiy/A8Eyo6Wlj3ZAgAAAABJRU5ErkJggg==",
      "text/plain": [
       "<Figure size 800x600 with 1 Axes>"
      ]
     },
     "metadata": {},
     "output_type": "display_data"
    }
   ],
   "source": [
    "#première classification : on regarde le nombre d'occurrences de chaque mot associé à chaque \n",
    "#catégorie, à partir de là on établit un score pour chaque catégorie et on assigne à une offre \n",
    "#d'emploi la catégorie pour laquelle le score est le plus élevé \n",
    "\n",
    "\n",
    "#Fonction de classification et dict. de mots‑clés (5 catégories seulement) ---\n",
    "def classify_offer(text, keywords_dict):\n",
    "    scores = {cat: 0 for cat in keywords_dict}\n",
    "    for cat, kws in keywords_dict.items():\n",
    "        scores[cat] += sum(text.lower().count(k.lower()) for k in kws)\n",
    "    return max(scores, key=scores.get) if max(scores.values()) > 0 else \"inconnu\"\n",
    "\n",
    "keywords_dict = {\n",
    "    \"Excellence, Leadership et Performance\": [\n",
    "        \"leader\", \"leadership\", \"lead\", \"diriger\", \"décider\", \"excellence\", \"exceller\",\n",
    "        \"haut niveau\", \"prestigieux\", \"prestige\", \"réputation\", \"réputé\", \"certification\",\n",
    "        \"expert\", \"expertise\", \"compétence\", \"qualifié\", \"qualité\", \"performance\",\n",
    "        \"performant\", \"responsabilité\"\n",
    "    ],\n",
    "    \"Accompagnement et Evolution Professionnelle\": [\n",
    "        \"accompagnement\", \"accompagner\", \"évolution\", \"évoluer\", \"formation\", \"formation continu\",\n",
    "        \"développement\", \"développer\", \"carrière\", \"professionnel\", \"promotion\", \"succès\",\n",
    "        \"opportunité\", \"soutien\"\n",
    "    ],\n",
    "    \"Proximité et Ancrage Local\": [\n",
    "        \"proximité\", \"ancrage local\", \"lien\", \"relation client\", \"territoire\", \"local\",\n",
    "        \"régional\", \"implantation\", \"département\", \"acteur\", \"région\"\n",
    "    ],\n",
    "    \"Relations Humaines et Collectif\": [\n",
    "        \"esprit d'équipe\", \"équipe\", \"familial\", \"convivialité\", \"convivial\", \"entraide\",\n",
    "        \"partage\", \"solidarité\", \"respect\", \"famille\", \"cohésion\"\n",
    "    ],\n",
    "    \"Engagement Social et Bien‑être\": [\n",
    "        \"rse\", \"social\", \"citoyen\", \"planete\", \"durable\", \"développement durable\",\n",
    "        \"inclusion\", \"handicap\", \"diversité\", \"impact social\", \"bienêtre\", \"environnement\",\n",
    "        \"santé\"\n",
    "    ]\n",
    "}\n",
    "\n",
    "# Appliquer la classification\n",
    "df['valeur_dominante'] = df['offre_emploi'].apply(lambda txt: classify_offer(txt, keywords_dict))\n",
    "\n",
    "# --- 3. Calcul et graphique ---\n",
    "proportions = df['valeur_dominante'].value_counts(normalize=True)\n",
    "\n",
    "plt.figure(figsize=(8, 6))\n",
    "plt.bar(proportions.index, proportions.values)\n",
    "plt.ylabel('Proportion des offres')\n",
    "plt.title('Répartition des offres par catégorie')\n",
    "plt.xticks(rotation=45, ha='right')\n",
    "plt.tight_layout()\n",
    "plt.show()"
   ]
  },
  {
   "cell_type": "markdown",
   "metadata": {},
   "source": [
    "Classification **TF-IDF**"
   ]
  },
  {
   "cell_type": "code",
   "execution_count": 16,
   "metadata": {},
   "outputs": [
    {
     "data": {
      "image/png": "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",
      "text/plain": [
       "<Figure size 800x600 with 1 Axes>"
      ]
     },
     "metadata": {},
     "output_type": "display_data"
    },
    {
     "name": "stdout",
     "output_type": "stream",
     "text": [
      "Fichier de classification TF‑IDF enregistré ici : c:\\Users\\stani\\statapp\\csv's\\offres_classification_tfidf.csv\n"
     ]
    }
   ],
   "source": [
    "#deuxième classification : on fait la même chose mais on accorde davantage de poids aux mots rares\n",
    "#car ils sont plus discriminants, en utilisant TF-IDF \n",
    "output_dir = os.path.join(os.getcwd(), \"csv's\")\n",
    "os.makedirs(output_dir, exist_ok=True)\n",
    "\n",
    "liste_valeurs = [mot for mots in keywords_dict.values() for mot in mots]\n",
    "\n",
    "# --- 1. Calculer la fréquence globale de chaque mot‑clé (pour normalisation si besoin) ---\n",
    "# (optionnel : liste2 = [freq/montotal for freq in liste1])\n",
    "liste1 = []\n",
    "for mot in liste_valeurs:\n",
    "    cnt = 0\n",
    "    for texte in df['offre_emploi']:\n",
    "        if isinstance(texte, str):\n",
    "            cnt += len(re.findall(r'\\b' + re.escape(mot) + r'\\b', texte, flags=re.IGNORECASE))\n",
    "    liste1.append(cnt)\n",
    "total_occ = sum(liste1)\n",
    "liste2 = [freq / total_occ if total_occ > 0 else 0 for freq in liste1]\n",
    "# print(liste2, liste_valeurs)\n",
    "\n",
    "# --- 2. Calculer l’IDF pour chaque mot‑clé ---\n",
    "N = len(df)\n",
    "idf_dict = {}\n",
    "for mot in liste_valeurs:\n",
    "    df_count = df['offre_emploi'].astype(str).apply(\n",
    "        lambda txt: bool(re.search(r'\\b' + re.escape(mot) + r'\\b', txt, flags=re.IGNORECASE))\n",
    "    ).sum()\n",
    "    idf_dict[mot] = math.log((N) / (1 + df_count))\n",
    "\n",
    "# --- 3. Fonction de classification TF‑IDF pondérée ---\n",
    "def classify_offer2(offre):\n",
    "    scores = {cat: 0.0 for cat in keywords_dict}\n",
    "    for cat, mots in keywords_dict.items():\n",
    "        for mot in mots:\n",
    "            occ = len(re.findall(r'\\b' + re.escape(mot) + r'\\b', offre, flags=re.IGNORECASE))\n",
    "            scores[cat] += occ * idf_dict.get(mot, 0.0)\n",
    "    best_cat = max(scores, key=scores.get)\n",
    "    return best_cat if scores[best_cat] > 0 else \"inconnu\"\n",
    "\n",
    "# --- 4. Appliquer la classification et tracer les proportions ---\n",
    "df['valeur_dominante_2'] = df['offre_emploi'].astype(str).apply(classify_offer2)\n",
    "\n",
    "proportions2 = df['valeur_dominante_2'].value_counts(normalize=True)\n",
    "\n",
    "plt.figure(figsize=(8, 6))\n",
    "plt.bar(proportions2.index, proportions2.values)\n",
    "plt.ylabel('Proportion des offres')\n",
    "plt.title('Répartition des offres par catégorie (TF‑IDF)')\n",
    "plt.xticks(rotation=45, ha='right')\n",
    "plt.tight_layout()\n",
    "plt.show()\n",
    "\n",
    "output_path = os.path.join(output_dir, \"offres_classification_tfidf.csv\")\n",
    "df.to_csv(output_path, sep=\";\", index=False, encoding=\"utf-8\")\n",
    "print(\"Fichier de classification TF‑IDF enregistré ici :\", output_path)"
   ]
  },
  {
   "cell_type": "markdown",
   "metadata": {},
   "source": [
    "**Résultat** de la classification naïve dans offres_classification_tfidf.csv"
   ]
  },
  {
   "cell_type": "markdown",
   "metadata": {},
   "source": [
    "## **II.** Modèle non-supervisé : **K-means clustering** (**à modifier**)"
   ]
  },
  {
   "cell_type": "markdown",
   "metadata": {},
   "source": [
    "**Clustering** des offres avec k-means++ en Camembert embedding"
   ]
  },
  {
   "cell_type": "code",
   "execution_count": 4,
   "metadata": {},
   "outputs": [
    {
     "name": "stderr",
     "output_type": "stream",
     "text": [
      "Xet Storage is enabled for this repo, but the 'hf_xet' package is not installed. Falling back to regular HTTP download. For better performance, install the package with: `pip install huggingface_hub[hf_xet]` or `pip install hf_xet`\n"
     ]
    },
    {
     "name": "stdout",
     "output_type": "stream",
     "text": [
      "Calcul des embeddings avec CamemBERT…\n"
     ]
    },
    {
     "name": "stderr",
     "output_type": "stream",
     "text": [
      "Embedding: 100%|██████████| 589/589 [09:18<00:00,  1.06it/s]\n"
     ]
    },
    {
     "name": "stdout",
     "output_type": "stream",
     "text": [
      "Embeddings calculés : (589, 768)\n"
     ]
    },
    {
     "name": "stderr",
     "output_type": "stream",
     "text": [
      "Elbow: 100%|██████████| 9/9 [00:00<00:00, 30.15it/s]\n"
     ]
    },
    {
     "name": "stdout",
     "output_type": "stream",
     "text": [
      "Application de KMeans avec k = 5…\n"
     ]
    },
    {
     "data": {
      "image/png": "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",
      "text/plain": [
       "<Figure size 1000x700 with 1 Axes>"
      ]
     },
     "metadata": {},
     "output_type": "display_data"
    }
   ],
   "source": [
    "from transformers import CamembertTokenizer, CamembertModel\n",
    "from sklearn.cluster import KMeans\n",
    "from sklearn.decomposition import PCA\n",
    "\n",
    "# 1. Chargement et préparation des données\n",
    "file_path = os.path.join(os.getcwd(), \"csv's\", \"lematised589.csv\")\n",
    "df = pd.read_csv(file_path, sep=\",\", low_memory=False)\n",
    "cols_to_merge = [col for col in df.columns if col.lower() != \"catégories\"]\n",
    "df[\"offre_emploi\"] = df[cols_to_merge].apply(lambda x: \" \".join(x.dropna().astype(str)), axis=1)\n",
    "\n",
    "# 2. Calcul des embeddings Camembert\n",
    "model_name = \"camembert-base\"\n",
    "device = \"cuda\" if torch.cuda.is_available() else \"cpu\"\n",
    "tokenizer = CamembertTokenizer.from_pretrained(model_name)\n",
    "model = CamembertModel.from_pretrained(model_name).to(device).eval()\n",
    "\n",
    "def embed_text(text):\n",
    "    inputs = tokenizer(\n",
    "        text,\n",
    "        return_tensors=\"pt\",\n",
    "        truncation=True,\n",
    "        padding=\"max_length\",\n",
    "        max_length=512\n",
    "    ).to(device)\n",
    "    with torch.no_grad():\n",
    "        outputs = model(**inputs)\n",
    "    return outputs.last_hidden_state[:, 0, :].squeeze().cpu().numpy()\n",
    "\n",
    "print(\"Calcul des embeddings avec CamemBERT…\")\n",
    "texts = df[\"offre_emploi\"].tolist()\n",
    "embeddings = []\n",
    "for text in tqdm(texts, desc=\"Embedding\"):\n",
    "    embeddings.append(embed_text(text))\n",
    "embeddings = np.vstack(embeddings)\n",
    "print(\"Embeddings calculés :\", embeddings.shape)\n",
    "\n",
    "# 3. Elbow Method (optionnel, avec tqdm)\n",
    "wcss = []\n",
    "K_range = range(2, 11)\n",
    "for k in tqdm(K_range, desc=\"Elbow\"):\n",
    "    km = KMeans(n_clusters=k, init=\"k-means++\", random_state=42)\n",
    "    km.fit(embeddings)\n",
    "    wcss.append(km.inertia_)\n",
    "\n",
    "# 4. Clustering final avec KMeans\n",
    "optimal_k = 5\n",
    "print(f\"Application de KMeans avec k = {optimal_k}…\")\n",
    "kmeans = KMeans(n_clusters=optimal_k, init=\"k-means++\", random_state=42)\n",
    "cluster_labels = kmeans.fit_predict(embeddings)\n",
    "df[\"cluster\"] = cluster_labels\n",
    "\n",
    "# 5. Projection PCA en 2D et visualisation\n",
    "pca = PCA(n_components=2)\n",
    "embeddings_2d = pca.fit_transform(embeddings)\n",
    "\n",
    "plt.figure(figsize=(10, 7))\n",
    "scatter = plt.scatter(\n",
    "    embeddings_2d[:, 0],\n",
    "    embeddings_2d[:, 1],\n",
    "    c=cluster_labels,\n",
    "    cmap='tab10',\n",
    "    s=10\n",
    ")\n",
    "plt.title('Projection 2D des embeddings CamemBERT par cluster (PCA)')\n",
    "plt.xlabel('Composante principale 1')\n",
    "plt.ylabel('Composante principale 2')\n",
    "plt.legend(*scatter.legend_elements(), title=\"Clusters\")\n",
    "plt.grid(True)\n",
    "plt.tight_layout()\n",
    "plt.show()"
   ]
  },
  {
   "cell_type": "markdown",
   "metadata": {},
   "source": [
    "Sauvegarde et comptage"
   ]
  },
  {
   "cell_type": "code",
   "execution_count": null,
   "metadata": {},
   "outputs": [
    {
     "name": "stdout",
     "output_type": "stream",
     "text": [
      "Nombre d'offres par cluster :\n",
      "cluster_0    116\n",
      "cluster_1    147\n",
      "cluster_2     93\n",
      "cluster_3     68\n",
      "cluster_4    165\n",
      "dtype: int64\n"
     ]
    },
    {
     "data": {
      "image/png": "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",
      "text/plain": [
       "<Figure size 640x480 with 1 Axes>"
      ]
     },
     "metadata": {},
     "output_type": "display_data"
    }
   ],
   "source": [
    "# Chargement du fichier de clustering\n",
    "df_clusters = pd.read_csv(\"csv's\", \"kmeans_clusters.csv\", sep=\";\", low_memory=False)\n",
    "\n",
    "# Comptage du nombre d'offres non nulles dans chaque cluster\n",
    "cluster_counts = df_clusters.notna().sum()\n",
    "\n",
    "# Affichage des résultats\n",
    "print(\"Nombre d'offres par cluster :\")\n",
    "print(cluster_counts)\n",
    "\n",
    "cluster_counts.plot(kind='bar')\n",
    "plt.title(\"Nombre d'offres par cluster\")\n",
    "plt.xlabel(\"Cluster\")\n",
    "plt.ylabel(\"Nombre d'offres\")\n",
    "plt.grid(True)\n",
    "plt.tight_layout()\n",
    "plt.show()"
   ]
  },
  {
   "cell_type": "markdown",
   "metadata": {},
   "source": [
    "**Analyse de ces clusters et classification** A FAIRE"
   ]
  },
  {
   "cell_type": "code",
   "execution_count": 17,
   "metadata": {},
   "outputs": [
    {
     "name": "stdout",
     "output_type": "stream",
     "text": [
      "✅ Fichier réétiqueté enregistré ici : c:\\Users\\stani\\statapp\\csv's\\kmeans_clusters_categorise.csv\n"
     ]
    }
   ],
   "source": [
    "csv_dir = os.path.join(os.getcwd(), \"csv's\")\n",
    "input_path = os.path.join(csv_dir, \"kmeans_clusters.csv\")\n",
    "output_path = os.path.join(csv_dir, \"kmeans_clusters_categorise.csv\")\n",
    "\n",
    "# 1. Charger le CSV issu du KMeans (colonnes cluster_0 … cluster_4)\n",
    "df_clusters = pd.read_csv(input_path, sep=\";\", encoding=\"utf-8\")\n",
    "\n",
    "# 2. Définir le mapping “cluster_i” → libellé en inspectant quelques offres\n",
    "cluster_to_label = {\n",
    "    \"cluster_0\": \"???\",  # à remplacer par ex. \"formation\"\n",
    "    \"cluster_1\": \"???\",  # ex. \"proximité\"\n",
    "    \"cluster_2\": \"???\",  # ex. \"équilibre vie pro\"\n",
    "    \"cluster_3\": \"???\",  # ex. \"impact social\"\n",
    "    \"cluster_4\": \"???\"   # ex. \"leadership\"\n",
    "}\n",
    "\n",
    "# 3. Renommer les colonnes selon ce mapping\n",
    "df_clusters = df_clusters.rename(columns=cluster_to_label)\n",
    "\n",
    "# 4. Sauvegarder le nouveau CSV avec des noms de colonnes parlants\n",
    "df_clusters.to_csv(output_path, sep=\";\", index=False, encoding=\"utf-8\")\n",
    "\n",
    "print(\"✅ Fichier réétiqueté enregistré ici :\", output_path)\n",
    "\n"
   ]
  },
  {
   "cell_type": "markdown",
   "metadata": {},
   "source": [
    "**Résultats et commentaires** :"
   ]
  },
  {
   "cell_type": "markdown",
   "metadata": {},
   "source": [
    "## **III.**    **Modèles supervisés**"
   ]
  },
  {
   "cell_type": "markdown",
   "metadata": {},
   "source": [
    "(Inutile d'éxécuter)"
   ]
  },
  {
   "cell_type": "code",
   "execution_count": 3,
   "metadata": {},
   "outputs": [
    {
     "name": "stdout",
     "output_type": "stream",
     "text": [
      "                    entreprise_nom  \\\n",
      "0                 Triangle Intérim   \n",
      "1                          Abalone   \n",
      "2                   123webimmo.com   \n",
      "3  Fondation des Amis de l'Atelier   \n",
      "4                           WEETEC   \n",
      "\n",
      "                                     description_job  \\\n",
      "0  La société TRIANGLE, entreprise à taille humai...   \n",
      "1  Nous recherchons un BOUCHER INDUSTRIEL (H/F) E...   \n",
      "2  En tant qu’agent commercial immobilier au sein...   \n",
      "3  Au sein de l'équipe de Direction, vous partici...   \n",
      "4  Rattaché(e) au responsable d’affaire, vos prin...   \n",
      "\n",
      "                                job_title  \\\n",
      "0         Technicien de maintenance (H/F)   \n",
      "1                           Boucher (H/F)   \n",
      "2             Conseiller immobilier (H/F)   \n",
      "3  Cadre administratif et financier (H/F)   \n",
      "4                  Chef de chantier (H/F)   \n",
      "\n",
      "                                  description_profil  \\\n",
      "0  Vous avez des connaissances en maintenance ind...   \n",
      "1  De formation CAP Boucherie Travail physique, r...   \n",
      "2  Que vous soyez débutant(e) ou confirmé(e) dans...   \n",
      "3  Titulaire d’un Master en gestion, vous avez ac...   \n",
      "4  De formation électrotechnique ou électricité (...   \n",
      "\n",
      "                              description_entreprise  catégories  \\\n",
      "0    Chez TRIANGLE SOLUTIONS RH , nos liens sont ...         4.0   \n",
      "1    Créé en 1991 par François-Xavier Moutel, ABA...         1.0   \n",
      "2                                                NaN         1.0   \n",
      "3   123 webimmo . comest un réseau de 90 agences ...         5.0   \n",
      "4   La société CESA spécialisée dans les travaux ...         1.0   \n",
      "\n",
      "                                        offre_emploi  \n",
      "0  La société TRIANGLE, entreprise à taille humai...  \n",
      "1  Nous recherchons un BOUCHER INDUSTRIEL (H/F) E...  \n",
      "2  En tant qu’agent commercial immobilier au sein...  \n",
      "3  Au sein de l'équipe de Direction, vous partici...  \n",
      "4  Rattaché(e) au responsable d’affaire, vos prin...  \n",
      "Index(['entreprise_nom', 'description_job', 'job_title', 'description_profil',\n",
      "       'description_entreprise', 'catégories', 'offre_emploi'],\n",
      "      dtype='object')\n"
     ]
    }
   ],
   "source": [
    "#import du fichier qu'on utilise pour les modèles (avec des labels)\n",
    "\n",
    "file_path = os.path.join(os.getcwd(), \"csv's\", \"offres589.csv\")\n",
    "df = pd.read_csv(file_path, sep=\",\", low_memory=False)\n",
    "\n",
    "df['offre_emploi'] = df[['description_job', 'description_profil', 'description_entreprise']].apply(\n",
    "    lambda x: ' '.join(x.dropna()), axis=1\n",
    ")\n",
    "\n",
    "print(df.head())\n",
    "print(df.columns)"
   ]
  },
  {
   "cell_type": "markdown",
   "metadata": {},
   "source": [
    "(Inutile d'éxécuter)"
   ]
  },
  {
   "cell_type": "code",
   "execution_count": null,
   "metadata": {},
   "outputs": [
    {
     "name": "stderr",
     "output_type": "stream",
     "text": [
      "[nltk_data] Downloading package stopwords to\n",
      "[nltk_data]     C:\\Users\\stani\\AppData\\Roaming\\nltk_data...\n",
      "[nltk_data]   Package stopwords is already up-to-date!\n"
     ]
    },
    {
     "name": "stdout",
     "output_type": "stream",
     "text": [
      "✅ Fichier lemmatisé enregistré dans : c:\\Users\\stani\\statapp-1\\csv's\\lematised589.csv\n"
     ]
    }
   ],
   "source": [
    "#création du csv lematised700.csv (qu'on utilisera/modifiera)\n",
    "df[\"offre_emploi\"] = df[\"offre_emploi\"].str.lower()\n",
    "\n",
    "nltk.download('stopwords')  \n",
    "stop_words = set(stopwords.words('french'))\n",
    "\n",
    "nlp = spacy.load(\"fr_core_news_sm\")\n",
    "\n",
    "# Fonction de nettoyage avec lemmatisation\n",
    "def clean_and_lemmatize(text):\n",
    "    if isinstance(text, str):  \n",
    "        text = text.lower()  # Minuscule\n",
    "        text = re.sub(r'\\d+', '', text)  # Suppression des chiffres\n",
    "        text = re.sub(r'[^\\w\\s]', '', text)  # Suppression de la ponctuation\n",
    "        doc = nlp(text)  # Analyse du texte avec SpaCy\n",
    "        words = [token.lemma_ for token in doc if token.text not in stop_words]  # Lemmatisation + suppression stopwords\n",
    "        return \" \".join(words)  # Reconstituer le texte nettoyé\n",
    "    return \"\"\n",
    "\n",
    "df[\"offre_emploi\"] = df[\"offre_emploi\"].apply(clean_and_lemmatize)\n",
    "# --- Sauvegarde dans le dossier \"csv's\" ---\n",
    "output_dir = os.path.join(os.getcwd(), \"csv's\")\n",
    "os.makedirs(output_dir, exist_ok=True)\n",
    "output_path = os.path.join(output_dir, \"lematised589.csv\")\n",
    "\n",
    "df.to_csv(output_path, sep=\",\", index=False, encoding='utf-8')\n",
    "print(\"✅ Fichier lemmatisé enregistré dans :\", output_path)"
   ]
  },
  {
   "cell_type": "markdown",
   "metadata": {},
   "source": [
    "**On utilise directement :**"
   ]
  },
  {
   "cell_type": "code",
   "execution_count": 21,
   "metadata": {},
   "outputs": [],
   "source": [
    "file_path = os.path.join(os.getcwd(), \"csv's\", \"lematised589.csv\")\n",
    "df = pd.read_csv(file_path, sep=\",\", low_memory=False)"
   ]
  },
  {
   "cell_type": "markdown",
   "metadata": {},
   "source": [
    "1) Régression logistique en TF-IDF embedding"
   ]
  },
  {
   "cell_type": "code",
   "execution_count": 7,
   "metadata": {},
   "outputs": [
    {
     "name": "stdout",
     "output_type": "stream",
     "text": [
      "Répartition des classes:\n",
      "catégories\n",
      "2    151\n",
      "1    145\n",
      "3    129\n",
      "4     84\n",
      "5     71\n",
      "Name: count, dtype: int64\n",
      "Validation croisée (5-fold) sur l'ensemble d'entraînement...\n"
     ]
    },
    {
     "name": "stderr",
     "output_type": "stream",
     "text": [
      "/usr/local/lib/python3.12/site-packages/sklearn/linear_model/_logistic.py:1247: FutureWarning: 'multi_class' was deprecated in version 1.5 and will be removed in 1.7. From then on, it will always use 'multinomial'. Leave it to its default value to avoid this warning.\n",
      "  warnings.warn(\n",
      "/usr/local/lib/python3.12/site-packages/sklearn/linear_model/_logistic.py:1247: FutureWarning: 'multi_class' was deprecated in version 1.5 and will be removed in 1.7. From then on, it will always use 'multinomial'. Leave it to its default value to avoid this warning.\n",
      "  warnings.warn(\n",
      "/usr/local/lib/python3.12/site-packages/sklearn/linear_model/_logistic.py:1247: FutureWarning: 'multi_class' was deprecated in version 1.5 and will be removed in 1.7. From then on, it will always use 'multinomial'. Leave it to its default value to avoid this warning.\n",
      "  warnings.warn(\n",
      "/usr/local/lib/python3.12/site-packages/sklearn/linear_model/_logistic.py:1247: FutureWarning: 'multi_class' was deprecated in version 1.5 and will be removed in 1.7. From then on, it will always use 'multinomial'. Leave it to its default value to avoid this warning.\n",
      "  warnings.warn(\n",
      "/usr/local/lib/python3.12/site-packages/sklearn/linear_model/_logistic.py:1247: FutureWarning: 'multi_class' was deprecated in version 1.5 and will be removed in 1.7. From then on, it will always use 'multinomial'. Leave it to its default value to avoid this warning.\n",
      "  warnings.warn(\n"
     ]
    },
    {
     "name": "stdout",
     "output_type": "stream",
     "text": [
      "Scores F1 Macro pour chaque fold : [0.37367913 0.33618941 0.32332621 0.41590909 0.41677844]\n",
      "F1 Macro moyen : 0.3731764553852074\n"
     ]
    },
    {
     "name": "stderr",
     "output_type": "stream",
     "text": [
      "/usr/local/lib/python3.12/site-packages/sklearn/linear_model/_logistic.py:1247: FutureWarning: 'multi_class' was deprecated in version 1.5 and will be removed in 1.7. From then on, it will always use 'multinomial'. Leave it to its default value to avoid this warning.\n",
      "  warnings.warn(\n"
     ]
    },
    {
     "name": "stdout",
     "output_type": "stream",
     "text": [
      "Rapport de classification :\n",
      "              precision    recall  f1-score   support\n",
      "\n",
      "           1       0.42      0.62      0.50        29\n",
      "           2       0.51      0.80      0.62        30\n",
      "           3       0.50      0.38      0.43        26\n",
      "           4       1.00      0.24      0.38        17\n",
      "           5       1.00      0.14      0.25        14\n",
      "\n",
      "    accuracy                           0.50       116\n",
      "   macro avg       0.69      0.44      0.44       116\n",
      "weighted avg       0.62      0.50      0.47       116\n",
      "\n"
     ]
    }
   ],
   "source": [
    "from sklearn.model_selection import train_test_split, StratifiedKFold, cross_val_score\n",
    "from sklearn.feature_extraction.text import TfidfVectorizer\n",
    "\n",
    "# Filtrer pour conserver uniquement les lignes avec catégorie (excluant les NaN)\n",
    "df = df.dropna(subset=['catégories'])\n",
    "df = df.dropna(subset=['description_entreprise'])\n",
    "df['catégories'] = df['catégories'].astype(int)\n",
    "\n",
    "# Vérification de la répartition des classes\n",
    "print(\"Répartition des classes:\")\n",
    "print(df['catégories'].value_counts())\n",
    "\n",
    "# Séparation des données en ensembles d'entraînement et de test (80%/20% avec stratification)\n",
    "X = df[\"description_entreprise\"]\n",
    "y = df[\"catégories\"]\n",
    "X_train, X_test, y_train, y_test = train_test_split(\n",
    "    X, y, test_size=0.2, random_state=42, stratify=y\n",
    ")\n",
    "\n",
    "# --- Création du pipeline ---\n",
    "pipeline = Pipeline([\n",
    "    ('tfidf', TfidfVectorizer()),\n",
    "    ('clf', LogisticRegression(multi_class='multinomial', solver='lbfgs', max_iter=500))\n",
    "])\n",
    "\n",
    "# --- Validation croisée ---\n",
    "cv = StratifiedKFold(n_splits=5, shuffle=True, random_state=42)\n",
    "print(\"Validation croisée (5-fold) sur l'ensemble d'entraînement...\")\n",
    "scores = cross_val_score(pipeline, X_train, y_train, cv=cv, scoring='f1_macro')\n",
    "print(\"Scores F1 Macro pour chaque fold :\", scores)\n",
    "print(\"F1 Macro moyen :\", scores.mean())\n",
    "\n",
    "# --- Entraînement final sur l'ensemble d'entraînement ---\n",
    "pipeline.fit(X_train, y_train)\n",
    "\n",
    "# Prédiction sur l'ensemble de test\n",
    "y_pred = pipeline.predict(X_test)\n",
    "\n",
    "# Affichage du rapport de classification\n",
    "print(\"Rapport de classification :\")\n",
    "print(classification_report(y_test, y_pred))\n"
   ]
  },
  {
   "cell_type": "markdown",
   "metadata": {},
   "source": [
    "Embedding pour la suite"
   ]
  },
  {
   "cell_type": "code",
   "execution_count": 17,
   "metadata": {},
   "outputs": [
    {
     "name": "stdout",
     "output_type": "stream",
     "text": [
      "Encodage train…\n",
      "Encodage test…\n",
      "Shapes finales : (600, 768) (600,)\n"
     ]
    }
   ],
   "source": [
    "# Cell 1 – Précompute embeddings Camembert\n",
    "import numpy as np\n",
    "import torch\n",
    "from transformers import CamembertTokenizer, CamembertModel\n",
    "from imblearn.over_sampling import SMOTE\n",
    "from sklearn.model_selection import train_test_split\n",
    "\n",
    "# 1. Chargement & préparation\n",
    "df = df.dropna(subset=['catégories'])\n",
    "df['catégories'] = df['catégories'].astype(int) - 1\n",
    "X = df['offre_emploi'].tolist()\n",
    "y = df['catégories'].values\n",
    "\n",
    "# 2. Split train/test\n",
    "X_train_txt, X_test_txt, y_train, y_test = train_test_split(\n",
    "    X, y, stratify=y, test_size=0.2, random_state=42\n",
    ")\n",
    "\n",
    "# 3. Initialise Camembert\n",
    "device = 'cuda' if torch.cuda.is_available() else 'cpu'\n",
    "tokenizer = CamembertTokenizer.from_pretrained('camembert-base')\n",
    "model = CamembertModel.from_pretrained('camembert-base').to(device).eval()\n",
    "\n",
    "# 4. Fonction d’encodage\n",
    "def encode_texts(texts, batch_size=16, max_length=512):\n",
    "    all_embs = []\n",
    "    for i in range(0, len(texts), batch_size):\n",
    "        batch = texts[i:i+batch_size]\n",
    "        inputs = tokenizer(\n",
    "            batch,\n",
    "            return_tensors='pt',\n",
    "            truncation=True,\n",
    "            padding='max_length',\n",
    "            max_length=max_length\n",
    "        ).to(device)\n",
    "        with torch.no_grad():\n",
    "            out = model(**inputs)\n",
    "        # average pooling\n",
    "        embs = out.last_hidden_state.mean(dim=1).cpu().numpy()\n",
    "        all_embs.append(embs)\n",
    "    return np.vstack(all_embs)\n",
    "\n",
    "# 5. Encode une seule fois\n",
    "print(\"Encodage train…\")\n",
    "X_train = encode_texts(X_train_txt)\n",
    "print(\"Encodage test…\")\n",
    "X_test  = encode_texts(X_test_txt)\n",
    "\n",
    "# 6. Applique SMOTE sur le train\n",
    "sm = SMOTE(random_state=42)\n",
    "X_train_res, y_train_res = sm.fit_resample(X_train, y_train)\n",
    "\n",
    "print(\"Shapes finales :\", X_train_res.shape, y_train_res.shape)\n"
   ]
  },
  {
   "cell_type": "markdown",
   "metadata": {},
   "source": [
    "2) Régression logistique en CamemBERT embedding"
   ]
  },
  {
   "cell_type": "code",
<<<<<<< HEAD
   "execution_count": 5,
=======
   "execution_count": 26,
>>>>>>> dc6fc9583d82e863bba4a373dd0f1144b39e9d49
   "metadata": {},
   "outputs": [
    {
     "name": "stdout",
     "output_type": "stream",
     "text": [
      "Cross-validation F1_macro scores: [0.54574989 0.51974404 0.58694045 0.56651313 0.54389825]\n",
      "Mean CV F1_macro: 0.5526\n",
      "Starting GridSearchCV for Logistic Regression…\n"
     ]
    },
    {
     "name": "stderr",
     "output_type": "stream",
     "text": [
<<<<<<< HEAD
      "Validation croisée:   0%|          | 0/5 [00:00<?, ?it/s]"
     ]
    },
    {
     "name": "stdout",
     "output_type": "stream",
     "text": [
      "Extraction des embeddings CamemBERT...\n"
     ]
    },
    {
     "name": "stderr",
     "output_type": "stream",
     "text": [
      "Vectorisation: 100%|██████████| 371/371 [02:57<00:00,  2.09it/s]\n",
      "/usr/local/lib/python3.12/site-packages/sklearn/linear_model/_logistic.py:1247: FutureWarning: 'multi_class' was deprecated in version 1.5 and will be removed in 1.7. From then on, it will always use 'multinomial'. Leave it to its default value to avoid this warning.\n",
=======
      "GridSearchLR: 100%|██████████| 4/4 [00:00<?, ?it/s]\n",
      "C:\\Users\\stani\\AppData\\Roaming\\Python\\Python312\\site-packages\\sklearn\\linear_model\\_logistic.py:1247: FutureWarning: 'multi_class' was deprecated in version 1.5 and will be removed in 1.7. From then on, it will always use 'multinomial'. Leave it to its default value to avoid this warning.\n",
>>>>>>> dc6fc9583d82e863bba4a373dd0f1144b39e9d49
      "  warnings.warn(\n"
     ]
    },
    {
     "name": "stdout",
     "output_type": "stream",
     "text": [
<<<<<<< HEAD
      "Extraction des embeddings CamemBERT...\n"
     ]
    },
    {
     "name": "stderr",
     "output_type": "stream",
     "text": [
      "Vectorisation: 100%|██████████| 93/93 [00:52<00:00,  1.76it/s]\n",
      "Validation croisée:  20%|██        | 1/5 [03:50<15:22, 230.50s/it]"
     ]
    },
    {
     "name": "stdout",
     "output_type": "stream",
     "text": [
      "Extraction des embeddings CamemBERT...\n"
     ]
    },
    {
     "name": "stderr",
     "output_type": "stream",
     "text": [
      "Vectorisation: 100%|██████████| 371/371 [03:09<00:00,  1.96it/s]\n",
      "/usr/local/lib/python3.12/site-packages/sklearn/linear_model/_logistic.py:1247: FutureWarning: 'multi_class' was deprecated in version 1.5 and will be removed in 1.7. From then on, it will always use 'multinomial'. Leave it to its default value to avoid this warning.\n",
      "  warnings.warn(\n"
     ]
    },
    {
     "name": "stdout",
     "output_type": "stream",
     "text": [
      "Extraction des embeddings CamemBERT...\n"
     ]
    },
    {
     "name": "stderr",
     "output_type": "stream",
     "text": [
      "Vectorisation: 100%|██████████| 93/93 [00:45<00:00,  2.05it/s]\n",
      "Validation croisée:  40%|████      | 2/5 [07:45<11:39, 233.18s/it]"
     ]
    },
    {
     "name": "stdout",
     "output_type": "stream",
     "text": [
      "Extraction des embeddings CamemBERT...\n"
     ]
    },
    {
     "name": "stderr",
     "output_type": "stream",
     "text": [
      "Vectorisation: 100%|██████████| 371/371 [03:02<00:00,  2.04it/s]\n",
      "/usr/local/lib/python3.12/site-packages/sklearn/linear_model/_logistic.py:1247: FutureWarning: 'multi_class' was deprecated in version 1.5 and will be removed in 1.7. From then on, it will always use 'multinomial'. Leave it to its default value to avoid this warning.\n",
      "  warnings.warn(\n"
     ]
    },
    {
     "name": "stdout",
     "output_type": "stream",
     "text": [
      "Extraction des embeddings CamemBERT...\n"
     ]
    },
    {
     "name": "stderr",
     "output_type": "stream",
     "text": [
      "Vectorisation: 100%|██████████| 93/93 [00:42<00:00,  2.20it/s]\n",
      "Validation croisée:  60%|██████    | 3/5 [11:30<07:38, 229.31s/it]"
     ]
    },
    {
     "name": "stdout",
     "output_type": "stream",
     "text": [
      "Extraction des embeddings CamemBERT...\n"
     ]
    },
    {
     "name": "stderr",
     "output_type": "stream",
     "text": [
      "Vectorisation: 100%|██████████| 371/371 [03:10<00:00,  1.95it/s]\n",
      "/usr/local/lib/python3.12/site-packages/sklearn/linear_model/_logistic.py:1247: FutureWarning: 'multi_class' was deprecated in version 1.5 and will be removed in 1.7. From then on, it will always use 'multinomial'. Leave it to its default value to avoid this warning.\n",
      "  warnings.warn(\n"
     ]
    },
    {
     "name": "stdout",
     "output_type": "stream",
     "text": [
      "Extraction des embeddings CamemBERT...\n"
     ]
    },
    {
     "name": "stderr",
     "output_type": "stream",
     "text": [
      "Vectorisation: 100%|██████████| 93/93 [00:56<00:00,  1.65it/s]\n",
      "Validation croisée:  80%|████████  | 4/5 [15:37<03:56, 236.33s/it]"
     ]
    },
    {
     "name": "stdout",
     "output_type": "stream",
     "text": [
      "Extraction des embeddings CamemBERT...\n"
     ]
    },
    {
     "name": "stderr",
     "output_type": "stream",
     "text": [
      "Vectorisation: 100%|██████████| 372/372 [03:34<00:00,  1.74it/s]\n",
      "/usr/local/lib/python3.12/site-packages/sklearn/linear_model/_logistic.py:1247: FutureWarning: 'multi_class' was deprecated in version 1.5 and will be removed in 1.7. From then on, it will always use 'multinomial'. Leave it to its default value to avoid this warning.\n",
      "  warnings.warn(\n"
     ]
    },
    {
     "name": "stdout",
     "output_type": "stream",
     "text": [
      "Extraction des embeddings CamemBERT...\n"
     ]
    },
    {
     "name": "stderr",
     "output_type": "stream",
     "text": [
      "Vectorisation: 100%|██████████| 92/92 [00:57<00:00,  1.61it/s]\n",
      "Validation croisée: 100%|██████████| 5/5 [20:09<00:00, 241.81s/it]\n"
     ]
    },
    {
     "name": "stdout",
     "output_type": "stream",
     "text": [
      "Scores F1 Macro pour chaque fold : [0.5573581011351909, 0.4357879767291532, 0.47959120617944145, 0.5158770614692654, 0.5584345479082321]\n",
      "F1 Macro moyen : 0.5094097786842566\n",
      "\n",
      "Entraînement final du modèle sur tout l'ensemble d'entraînement...\n",
      "Extraction des embeddings CamemBERT...\n"
     ]
    },
    {
     "name": "stderr",
     "output_type": "stream",
     "text": [
      "Vectorisation: 100%|██████████| 464/464 [04:49<00:00,  1.60it/s]\n",
      "/usr/local/lib/python3.12/site-packages/sklearn/linear_model/_logistic.py:1247: FutureWarning: 'multi_class' was deprecated in version 1.5 and will be removed in 1.7. From then on, it will always use 'multinomial'. Leave it to its default value to avoid this warning.\n",
      "  warnings.warn(\n"
     ]
    },
    {
     "name": "stdout",
     "output_type": "stream",
     "text": [
      "Extraction des embeddings CamemBERT...\n"
     ]
    },
    {
     "name": "stderr",
     "output_type": "stream",
     "text": [
      "Vectorisation: 100%|██████████| 116/116 [00:56<00:00,  2.07it/s]"
     ]
    },
    {
     "name": "stdout",
     "output_type": "stream",
     "text": [
      "\n",
      "Camembert-based Classification Report:\n",
      "              precision    recall  f1-score   support\n",
      "\n",
      "           1       0.50      0.55      0.52        29\n",
      "           2       0.56      0.80      0.66        30\n",
      "           3       0.59      0.50      0.54        26\n",
      "           4       0.45      0.29      0.36        17\n",
      "           5       0.75      0.43      0.55        14\n",
      "\n",
      "    accuracy                           0.55       116\n",
      "   macro avg       0.57      0.51      0.53       116\n",
      "weighted avg       0.56      0.55      0.54       116\n",
      "\n"
     ]
    },
    {
     "name": "stderr",
     "output_type": "stream",
     "text": [
      "\n"
     ]
    }
   ],
   "source": [
    "import pandas as pd\n",
    "import numpy as np\n",
    "import torch\n",
    "from sklearn.base import BaseEstimator, TransformerMixin\n",
    "from sklearn.pipeline import Pipeline\n",
    "from sklearn.linear_model import LogisticRegression\n",
    "from sklearn.model_selection import train_test_split, StratifiedKFold\n",
    "from sklearn.metrics import classification_report, f1_score\n",
    "from transformers import CamembertTokenizer, CamembertModel\n",
    "from tqdm import tqdm\n",
    "\n",
    "# Garder seulement les lignes où 'catégories' n'est pas NaN et convertir en int\n",
    "df = df.dropna(subset=['catégories'])\n",
    "df = df.dropna(subset=['description_entreprise'])\n",
    "df['catégories'] = df['catégories'].astype(int)\n",
    "\n",
    "# Séparation en ensemble d'entraînement et de test (80%/20% en stratifiant)\n",
    "X = df[\"description_entreprise\"]\n",
    "y = df[\"catégories\"]\n",
    "X_train, X_test, y_train, y_test = train_test_split(\n",
    "    X, y, test_size=0.2, random_state=42, stratify=y\n",
    ")\n",
    "\n",
    "# --- Définition du transformeur Camembert ---\n",
    "class CamembertVectorizer(BaseEstimator, TransformerMixin):\n",
    "    \"\"\"\n",
    "    Transformeur scikit-learn qui convertit un texte en un vecteur d'embedding\n",
    "    à l'aide du modèle Camembert.\n",
    "    \"\"\"\n",
    "    def __init__(self, model_name='camembert-base', device='cpu', max_length=512):\n",
    "        self.model_name = model_name\n",
    "        self.device = device\n",
    "        self.max_length = max_length\n",
    "        self.tokenizer = CamembertTokenizer.from_pretrained(model_name)\n",
    "        self.model = CamembertModel.from_pretrained(model_name)\n",
    "        self.model.to(self.device)\n",
    "        self.model.eval()\n",
    "    \n",
    "    def fit(self, X, y=None):\n",
    "        return self\n",
    "    \n",
    "    def transform(self, X):\n",
    "        embeddings = []\n",
    "        print(\"Extraction des embeddings CamemBERT...\")\n",
    "        for text in tqdm(X, desc=\"Vectorisation\"):\n",
    "            inputs = self.tokenizer(\n",
    "                text,\n",
    "                return_tensors='pt',\n",
    "                truncation=True,\n",
    "                padding='max_length',\n",
    "                max_length=self.max_length\n",
    "            )\n",
    "            inputs = {k: v.to(self.device) for k, v in inputs.items()}\n",
    "            with torch.no_grad():\n",
    "                outputs = self.model(**inputs)\n",
    "            emb = outputs.last_hidden_state[:, 0, :].squeeze().cpu().numpy()\n",
    "            embeddings.append(emb)\n",
    "        return np.array(embeddings)\n",
    "\n",
    "# Définir le device (utiliser \"cuda\" si disponible, sinon \"cpu\")\n",
    "device = 'cuda' if torch.cuda.is_available() else 'cpu'\n",
    "\n",
    "# --- Construction du pipeline Camembert + Régression Logistique ---\n",
    "pipeline_camembert = Pipeline([\n",
    "    ('camembert', CamembertVectorizer(device=device)),\n",
    "    ('clf', LogisticRegression(multi_class='multinomial', solver='lbfgs', max_iter=500))\n",
    "])\n",
    "\n",
    "# --- Validation croisée manuelle avec barre de progression ---\n",
    "cv = StratifiedKFold(n_splits=5, shuffle=True, random_state=42)\n",
    "scores = []\n",
    "\n",
    "print(\"Validation croisée (5-fold) sur l'ensemble d'entraînement...\")\n",
    "for fold_idx, (train_idx, val_idx) in enumerate(tqdm(cv.split(X_train, y_train), total=5, desc=\"Validation croisée\")):\n",
    "    X_fold_train = X_train.iloc[train_idx]\n",
    "    y_fold_train = y_train.iloc[train_idx]\n",
    "    X_fold_val = X_train.iloc[val_idx]\n",
    "    y_fold_val = y_train.iloc[val_idx]\n",
    "    \n",
    "    pipeline_camembert.fit(X_fold_train, y_fold_train)\n",
    "    y_pred_val = pipeline_camembert.predict(X_fold_val)\n",
    "    f1 = f1_score(y_fold_val, y_pred_val, average='macro')\n",
    "    scores.append(f1)\n",
    "\n",
    "print(\"Scores F1 Macro pour chaque fold :\", scores)\n",
    "print(\"F1 Macro moyen :\", np.mean(scores))\n",
    "\n",
    "# --- Entraînement final ---\n",
    "print(\"\\nEntraînement final du modèle sur tout l'ensemble d'entraînement...\")\n",
    "pipeline_camembert.fit(X_train, y_train)\n",
    "\n",
    "# Prédiction sur l'ensemble de test et affichage du rapport de classification\n",
    "y_pred = pipeline_camembert.predict(X_test)\n",
    "print(\"\\nCamembert-based Classification Report:\")\n",
    "print(classification_report(y_test, y_pred))"
=======
      "Best LR params: {'C': 10.0}\n",
      "Best LR F1_macro: 0.6044140060312297\n",
      "Logistic Regression Classification Report:\n",
      "              precision    recall  f1-score   support\n",
      "\n",
      "           0       0.52      0.55      0.53        29\n",
      "           1       0.47      0.55      0.51        31\n",
      "           2       0.52      0.50      0.51        26\n",
      "           3       0.20      0.12      0.15        17\n",
      "           4       0.47      0.50      0.48        14\n",
      "\n",
      "    accuracy                           0.47       117\n",
      "   macro avg       0.44      0.44      0.44       117\n",
      "weighted avg       0.45      0.47      0.46       117\n",
      "\n",
      "Saved confusion_matrix_lr.png\n"
     ]
    },
    {
     "data": {
      "image/png": "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",
      "text/plain": [
       "<Figure size 640x480 with 2 Axes>"
      ]
     },
     "metadata": {},
     "output_type": "display_data"
    }
   ],
   "source": [
    "import matplotlib.pyplot as plt\n",
    "from sklearn.linear_model import LogisticRegression\n",
    "from sklearn.model_selection import GridSearchCV, StratifiedKFold, ParameterGrid, cross_val_score\n",
    "from sklearn.metrics import classification_report, confusion_matrix, ConfusionMatrixDisplay, make_scorer, f1_score\n",
    "from tqdm import tqdm\n",
    "\n",
    "# Custom GridSearchCV subclass to integrate tqdm using ParameterGrid\n",
    "class GridSearchCVProgress(GridSearchCV):\n",
    "    def _run_search(self, evaluate_candidates):\n",
    "        params_list = list(ParameterGrid(self.param_grid))\n",
    "        evaluate_candidates(tqdm(params_list, desc=\"GridSearchLR\"))\n",
    "\n",
    "# Assumes X_train_res, y_train_res, X_test, y_test from Cell 1\n",
    "logistic = LogisticRegression(multi_class='multinomial', solver='lbfgs', max_iter=1000, random_state=42)\n",
    "param_grid_lr = {\n",
    "    'C': [0.01, 0.1, 1.0, 10.0]\n",
    "}\n",
    "\n",
    "cv = StratifiedKFold(n_splits=5, shuffle=True, random_state=42)\n",
    "f1_macro = make_scorer(f1_score, average='macro')\n",
    "\n",
    "# Perform cross-validation before grid search\n",
    "cv_scores = cross_val_score(logistic, X_train_res, y_train_res, cv=cv, scoring=f1_macro, n_jobs=-1)\n",
    "print(f\"Cross-validation F1_macro scores: {cv_scores}\")\n",
    "print(f\"Mean CV F1_macro: {cv_scores.mean():.4f}\")\n",
    "\n",
    "# Grid Search with progress bar\n",
    "gs_lr = GridSearchCVProgress(\n",
    "    estimator=logistic,\n",
    "    param_grid=param_grid_lr,\n",
    "    scoring=f1_macro,\n",
    "    cv=cv,\n",
    "    n_jobs=-1,\n",
    "    verbose=0\n",
    ")\n",
    "print(\"Starting GridSearchCV for Logistic Regression…\")\n",
    "gs_lr.fit(X_train_res, y_train_res)\n",
    "print(\"Best LR params:\", gs_lr.best_params_)\n",
    "print(\"Best LR F1_macro:\", gs_lr.best_score_)\n",
    "\n",
    "# Evaluation and confusion matrix\n",
    "y_pred_lr = gs_lr.predict(X_test)\n",
    "print(\"Logistic Regression Classification Report:\")\n",
    "print(classification_report(y_test, y_pred_lr))\n",
    "\n",
    "cm = confusion_matrix(y_test, y_pred_lr)\n",
    "disp = ConfusionMatrixDisplay(confusion_matrix=cm)\n",
    "plt.figure()\n",
    "disp.plot(ax=plt.gca(), cmap='Blues', values_format='d')\n",
    "plt.title('Confusion Matrix – Logistic Regression')\n",
    "plt.savefig('confusion_matrix_lr.png')\n",
    "print(\"Saved confusion_matrix_lr.png\")"
>>>>>>> dc6fc9583d82e863bba4a373dd0f1144b39e9d49
   ]
  },
  {
   "cell_type": "markdown",
   "metadata": {},
   "source": [
    "2) Résultats"
   ]
  },
  {
   "cell_type": "markdown",
   "metadata": {},
   "source": [
    "3) Random Forests"
   ]
  },
  {
   "cell_type": "code",
<<<<<<< HEAD
   "execution_count": 4,
=======
   "execution_count": 27,
>>>>>>> dc6fc9583d82e863bba4a373dd0f1144b39e9d49
   "metadata": {},
   "outputs": [
    {
     "name": "stdout",
     "output_type": "stream",
     "text": [
<<<<<<< HEAD
      "Validation croisée (5-fold) sur l'ensemble d'entraînement...\n"
=======
      "Starting GridSearchCV for Random Forest…\n"
>>>>>>> dc6fc9583d82e863bba4a373dd0f1144b39e9d49
     ]
    },
    {
     "name": "stderr",
     "output_type": "stream",
     "text": [
<<<<<<< HEAD
      "Validation Croisée:   0%|          | 0/5 [00:00<?, ?it/s]"
=======
      "GridSearchRF: 100%|██████████| 18/18 [00:00<?, ?it/s]\n"
>>>>>>> dc6fc9583d82e863bba4a373dd0f1144b39e9d49
     ]
    },
    {
     "name": "stdout",
     "output_type": "stream",
     "text": [
<<<<<<< HEAD
      "Vectorisation des textes avec CamemBERT...\n"
     ]
    },
    {
     "name": "stderr",
     "output_type": "stream",
     "text": [
      "CamemBERT Vectorisation: 100%|██████████| 371/371 [10:23<00:00,  1.68s/it]\n"
     ]
    },
    {
     "name": "stdout",
     "output_type": "stream",
     "text": [
      "Vectorisation des textes avec CamemBERT...\n"
     ]
    },
    {
     "name": "stderr",
     "output_type": "stream",
     "text": [
      "CamemBERT Vectorisation: 100%|██████████| 93/93 [02:28<00:00,  1.59s/it]\n",
      "Validation Croisée:  20%|██        | 1/5 [12:55<51:41, 775.31s/it]"
     ]
    },
    {
     "name": "stdout",
     "output_type": "stream",
     "text": [
      "Vectorisation des textes avec CamemBERT...\n"
     ]
    },
    {
     "name": "stderr",
     "output_type": "stream",
     "text": [
      "CamemBERT Vectorisation: 100%|██████████| 371/371 [10:14<00:00,  1.66s/it]\n"
     ]
    },
    {
     "name": "stdout",
     "output_type": "stream",
     "text": [
      "Vectorisation des textes avec CamemBERT...\n"
     ]
    },
    {
     "name": "stderr",
     "output_type": "stream",
     "text": [
      "CamemBERT Vectorisation: 100%|██████████| 93/93 [03:07<00:00,  2.02s/it]\n",
      "Validation Croisée:  40%|████      | 2/5 [26:20<39:39, 793.14s/it]"
     ]
    },
    {
     "name": "stdout",
     "output_type": "stream",
     "text": [
      "Vectorisation des textes avec CamemBERT...\n"
     ]
    },
    {
     "name": "stderr",
     "output_type": "stream",
     "text": [
      "CamemBERT Vectorisation: 100%|██████████| 371/371 [11:16<00:00,  1.82s/it]\n"
     ]
    },
    {
     "name": "stdout",
     "output_type": "stream",
     "text": [
      "Vectorisation des textes avec CamemBERT...\n"
     ]
    },
    {
     "name": "stderr",
     "output_type": "stream",
     "text": [
      "CamemBERT Vectorisation: 100%|██████████| 93/93 [02:41<00:00,  1.74s/it]\n",
      "Validation Croisée:  60%|██████    | 3/5 [40:21<27:09, 814.99s/it]"
     ]
    },
    {
     "name": "stdout",
     "output_type": "stream",
     "text": [
      "Vectorisation des textes avec CamemBERT...\n"
     ]
    },
    {
     "name": "stderr",
     "output_type": "stream",
     "text": [
      "CamemBERT Vectorisation: 100%|██████████| 371/371 [11:02<00:00,  1.79s/it]\n"
     ]
    },
    {
     "name": "stdout",
     "output_type": "stream",
     "text": [
      "Vectorisation des textes avec CamemBERT...\n"
     ]
    },
    {
     "name": "stderr",
     "output_type": "stream",
     "text": [
      "CamemBERT Vectorisation: 100%|██████████| 93/93 [02:22<00:00,  1.53s/it]\n",
      "Validation Croisée:  80%|████████  | 4/5 [53:50<13:32, 812.43s/it]"
     ]
    },
    {
     "name": "stdout",
     "output_type": "stream",
     "text": [
      "Vectorisation des textes avec CamemBERT...\n"
     ]
    },
    {
     "name": "stderr",
     "output_type": "stream",
     "text": [
      "CamemBERT Vectorisation: 100%|██████████| 372/372 [09:56<00:00,  1.60s/it]\n"
     ]
    },
    {
     "name": "stdout",
     "output_type": "stream",
     "text": [
      "Vectorisation des textes avec CamemBERT...\n"
     ]
    },
    {
     "name": "stderr",
     "output_type": "stream",
     "text": [
      "CamemBERT Vectorisation: 100%|██████████| 92/92 [02:33<00:00,  1.67s/it]\n",
      "Validation Croisée: 100%|██████████| 5/5 [1:06:23<00:00, 796.76s/it]\n"
     ]
    },
    {
     "name": "stdout",
     "output_type": "stream",
     "text": [
      "Scores F1 Macro pour chaque fold : [0.48800037728730433, 0.3842012578616352, 0.42196154529851115, 0.47773371183657565, 0.43922830124957785]\n",
      "F1 Macro moyen : 0.44222503870672086\n",
      "\n",
      "Entraînement final du modèle sur tout l'ensemble d'entraînement...\n",
      "Vectorisation des textes avec CamemBERT...\n"
     ]
    },
    {
     "name": "stderr",
     "output_type": "stream",
     "text": [
      "CamemBERT Vectorisation: 100%|██████████| 464/464 [12:07<00:00,  1.57s/it]\n"
     ]
    },
    {
     "name": "stdout",
     "output_type": "stream",
     "text": [
      "Vectorisation des textes avec CamemBERT...\n"
     ]
    },
    {
     "name": "stderr",
     "output_type": "stream",
     "text": [
      "CamemBERT Vectorisation: 100%|██████████| 116/116 [03:15<00:00,  1.69s/it]"
     ]
    },
    {
     "name": "stdout",
     "output_type": "stream",
     "text": [
      "\n",
      "Random Forest + Camembert Classification Report:\n",
      "              precision    recall  f1-score   support\n",
      "\n",
      "           1       0.43      0.52      0.47        29\n",
      "           2       0.52      0.87      0.65        30\n",
      "           3       0.47      0.31      0.37        26\n",
      "           4       0.40      0.24      0.30        17\n",
      "           5       1.00      0.29      0.44        14\n",
      "\n",
      "    accuracy                           0.49       116\n",
      "   macro avg       0.56      0.44      0.45       116\n",
      "weighted avg       0.53      0.49      0.47       116\n",
      "\n"
     ]
    },
    {
     "name": "stderr",
     "output_type": "stream",
     "text": [
      "\n"
=======
      "Best RF params: {'rf__max_depth': None, 'rf__min_samples_split': 5, 'rf__n_estimators': 200}\n",
      "Best RF F1_macro: 0.581765217374501\n",
      "\n",
      "Random Forest Classification Report:\n",
      "              precision    recall  f1-score   support\n",
      "\n",
      "           0       0.32      0.41      0.36        29\n",
      "           1       0.47      0.45      0.46        31\n",
      "           2       0.30      0.23      0.26        26\n",
      "           3       0.27      0.18      0.21        17\n",
      "           4       0.33      0.43      0.38        14\n",
      "\n",
      "    accuracy                           0.35       117\n",
      "   macro avg       0.34      0.34      0.33       117\n",
      "weighted avg       0.35      0.35      0.34       117\n",
      "\n",
      "Saved confusion_matrix_rf.png\n"
>>>>>>> dc6fc9583d82e863bba4a373dd0f1144b39e9d49
     ]
    },
    {
     "data": {
      "image/png": "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",
      "text/plain": [
       "<Figure size 640x480 with 2 Axes>"
      ]
     },
     "metadata": {},
     "output_type": "display_data"
    }
   ],
   "source": [
<<<<<<< HEAD
    "import pandas as pd\n",
    "import numpy as np\n",
    "import torch\n",
    "from sklearn.model_selection import train_test_split, StratifiedKFold\n",
    "from sklearn.metrics import classification_report, f1_score\n",
    "from sklearn.base import BaseEstimator, TransformerMixin\n",
    "from transformers import CamembertTokenizer, CamembertModel\n",
    "from imblearn.pipeline import Pipeline  # Pipeline compatible avec imblearn\n",
    "from imblearn.over_sampling import RandomOverSampler\n",
    "from sklearn.ensemble import RandomForestClassifier\n",
    "from tqdm import tqdm  # Barre de progression\n",
    "\n",
    "# Prétraitement des données\n",
    "df = df.dropna(subset=['catégories', 'description_entreprise'])\n",
    "df['catégories'] = df['catégories'].astype(int)\n",
    "\n",
    "# Séparation train/test avec stratification\n",
    "X = df[\"description_entreprise\"]\n",
    "y = df[\"catégories\"]\n",
    "X_train, X_test, y_train, y_test = train_test_split(X, y, test_size=0.2,\n",
    "                                                    random_state=42, stratify=y)\n",
    "\n",
    "# --- Définition du transformeur Camembert ---\n",
    "class CamembertVectorizer(BaseEstimator, TransformerMixin):\n",
    "    def __init__(self, model_name='camembert-base', device='cpu', max_length=512):\n",
    "        self.model_name = model_name\n",
    "        self.device = device\n",
    "        self.max_length = max_length\n",
    "        self.tokenizer = CamembertTokenizer.from_pretrained(model_name)\n",
    "        self.model = CamembertModel.from_pretrained(model_name)\n",
    "        self.model.to(self.device)\n",
    "        self.model.eval()\n",
    "\n",
    "    def fit(self, X, y=None):\n",
    "        return self\n",
    "\n",
    "    def transform(self, X):\n",
    "        embeddings = []\n",
    "        print(\"Vectorisation des textes avec CamemBERT...\")\n",
    "        for text in tqdm(X, desc=\"CamemBERT Vectorisation\"):\n",
    "            inputs = self.tokenizer(\n",
    "                text,\n",
    "                return_tensors='pt',\n",
    "                truncation=True,\n",
    "                padding='max_length',\n",
    "                max_length=self.max_length\n",
    "            )\n",
    "            inputs = {k: v.to(self.device) for k, v in inputs.items()}\n",
    "            with torch.no_grad():\n",
    "                outputs = self.model(**inputs)\n",
    "            emb = outputs.last_hidden_state[:, 0, :].squeeze().cpu().numpy()\n",
    "            embeddings.append(emb)\n",
    "        return np.array(embeddings)\n",
    "\n",
    "# --- Wrapper pour l'oversampling ---\n",
    "class OversampleTransformer(BaseEstimator, TransformerMixin):\n",
    "    def __init__(self, sampler):\n",
    "        self.sampler = sampler\n",
    "\n",
    "    def fit(self, X, y=None):\n",
    "        self.X_res_, self.y_res_ = self.sampler.fit_resample(X, y)\n",
    "        return self\n",
    "\n",
    "    def transform(self, X):\n",
    "        return X\n",
    "\n",
    "# Détection du device\n",
    "device = 'cuda' if torch.cuda.is_available() else 'cpu'\n",
    "\n",
    "# --- Pipeline complet avec CamemBERT, oversampling et Random Forest ---\n",
    "pipeline_camembert_rf = Pipeline([\n",
    "    ('camembert', CamembertVectorizer(device=device)),\n",
    "    ('oversample', OversampleTransformer(RandomOverSampler(random_state=42))),\n",
    "    ('clf', RandomForestClassifier(n_estimators=300, max_depth=10, random_state=42))\n",
=======
    "# Cell 3 – Random Forest on Precomputed Embeddings with Fixed Progress Bar\n",
    "import matplotlib.pyplot as plt\n",
    "from sklearn.ensemble import RandomForestClassifier\n",
    "from sklearn.preprocessing import StandardScaler\n",
    "from sklearn.pipeline import Pipeline\n",
    "from sklearn.model_selection import GridSearchCV, StratifiedKFold, ParameterGrid\n",
    "from sklearn.metrics import classification_report, confusion_matrix, ConfusionMatrixDisplay, make_scorer, f1_score\n",
    "from tqdm import tqdm\n",
    "\n",
    "# Custom GridSearchCV subclass to integrate tqdm using ParameterGrid\n",
    "class GridSearchCVProgress(GridSearchCV):\n",
    "    def _run_search(self, evaluate_candidates):\n",
    "        params_list = list(ParameterGrid(self.param_grid))\n",
    "        evaluate_candidates(tqdm(params_list, desc=\"GridSearchRF\"))\n",
    "\n",
    "# Assumes X_train_res, y_train_res, X_test, y_test from Cell 1\n",
    "pipe_rf = Pipeline([\n",
    "    ('scaler', StandardScaler()),\n",
    "    ('rf', RandomForestClassifier(random_state=42))\n",
>>>>>>> dc6fc9583d82e863bba4a373dd0f1144b39e9d49
    "])\n",
    "param_grid_rf = {\n",
    "    'rf__n_estimators': [100, 200, 300],\n",
    "    'rf__max_depth': [None, 10, 20],\n",
    "    'rf__min_samples_split': [2, 5]\n",
    "}\n",
    "\n",
<<<<<<< HEAD
    "# --- Validation croisée manuelle avec barre de progression ---\n",
    "cv = StratifiedKFold(n_splits=5, shuffle=True, random_state=42)\n",
    "scores = []\n",
    "\n",
    "print(\"Validation croisée (5-fold) sur l'ensemble d'entraînement...\")\n",
    "for train_idx, val_idx in tqdm(cv.split(X_train, y_train), total=5, desc=\"Validation Croisée\"):\n",
    "    X_fold_train = X_train.iloc[train_idx]\n",
    "    y_fold_train = y_train.iloc[train_idx]\n",
    "    X_fold_val = X_train.iloc[val_idx]\n",
    "    y_fold_val = y_train.iloc[val_idx]\n",
    "\n",
    "    pipeline_camembert_rf.fit(X_fold_train, y_fold_train)\n",
    "    y_pred_val = pipeline_camembert_rf.predict(X_fold_val)\n",
    "    f1 = f1_score(y_fold_val, y_pred_val, average='macro')\n",
    "    scores.append(f1)\n",
    "\n",
    "print(\"Scores F1 Macro pour chaque fold :\", scores)\n",
    "print(\"F1 Macro moyen :\", np.mean(scores))\n",
    "\n",
    "# --- Entraînement final ---\n",
    "print(\"\\nEntraînement final du modèle sur tout l'ensemble d'entraînement...\")\n",
    "pipeline_camembert_rf.fit(X_train, y_train)\n",
    "\n",
    "# --- Prédiction finale ---\n",
    "y_pred_rf = pipeline_camembert_rf.predict(X_test)\n",
    "print(\"\\nRandom Forest + Camembert Classification Report:\")\n",
    "print(classification_report(y_test, y_pred_rf))\n"
   ]
  },
  {
   "cell_type": "markdown",
   "metadata": {},
   "source": [
    "Random Forest en TF-IDF embedding"
   ]
  },
  {
   "cell_type": "code",
   "execution_count": 6,
   "metadata": {},
   "outputs": [
    {
     "name": "stdout",
     "output_type": "stream",
     "text": [
      "Validation croisée (5-fold) sur l'ensemble d'entraînement...\n"
     ]
    },
    {
     "name": "stderr",
     "output_type": "stream",
     "text": [
      "Validation Croisée: 100%|██████████| 5/5 [00:04<00:00,  1.04it/s]\n"
     ]
    },
    {
     "name": "stdout",
     "output_type": "stream",
     "text": [
      "Scores F1 Macro pour chaque fold : [0.27820730807481314, 0.341945957048416, 0.33019124168514413, 0.3929341736694678, 0.3069812229176697]\n",
      "F1 Macro moyen : 0.33005198067910213\n",
      "\n",
      "Entraînement final du modèle sur tout l'ensemble d'entraînement...\n",
      "\n",
      "Random Forest + TF-IDF Classification Report:\n",
      "              precision    recall  f1-score   support\n",
      "\n",
      "           1       0.38      0.62      0.47        29\n",
      "           2       0.47      0.83      0.60        30\n",
      "           3       0.46      0.23      0.31        26\n",
      "           4       1.00      0.12      0.21        17\n",
      "           5       1.00      0.07      0.13        14\n",
      "\n",
      "    accuracy                           0.45       116\n",
      "   macro avg       0.66      0.37      0.35       116\n",
      "weighted avg       0.59      0.45      0.39       116\n",
      "\n"
     ]
    }
   ],
   "source": [
    "import pandas as pd\n",
    "import numpy as np\n",
    "from sklearn.model_selection import train_test_split, StratifiedKFold\n",
    "from sklearn.metrics import classification_report, f1_score\n",
    "from sklearn.feature_extraction.text import TfidfVectorizer\n",
    "from sklearn.ensemble import RandomForestClassifier\n",
    "from imblearn.pipeline import Pipeline  # Pipeline compatible avec imblearn\n",
    "from imblearn.over_sampling import RandomOverSampler\n",
    "from sklearn.base import BaseEstimator, TransformerMixin\n",
    "from tqdm import tqdm\n",
    "\n",
    "# --- Prétraitement des données ---\n",
    "df = df.dropna(subset=['catégories', 'description_entreprise'])\n",
    "df['catégories'] = df['catégories'].astype(int)\n",
    "\n",
    "X = df[\"description_entreprise\"]\n",
    "y = df[\"catégories\"]\n",
    "X_train, X_test, y_train, y_test = train_test_split(X, y, test_size=0.2,\n",
    "                                                    random_state=42, stratify=y)\n",
    "\n",
    "# --- Wrapper pour l'oversampling ---\n",
    "class OversampleTransformer(BaseEstimator, TransformerMixin):\n",
    "    def __init__(self, sampler):\n",
    "        self.sampler = sampler\n",
    "\n",
    "    def fit(self, X, y=None):\n",
    "        self.X_res_, self.y_res_ = self.sampler.fit_resample(X, y)\n",
    "        return self\n",
    "\n",
    "    def transform(self, X):\n",
    "        return X\n",
    "\n",
    "# --- Pipeline complet avec TF-IDF, oversampling et Random Forest ---\n",
    "pipeline_tfidf_rf = Pipeline([\n",
    "    ('tfidf', TfidfVectorizer(max_features=5000, ngram_range=(1,2))),\n",
    "    ('oversample', OversampleTransformer(RandomOverSampler(random_state=42))),\n",
    "    ('clf', RandomForestClassifier(n_estimators=300, max_depth=10, random_state=42))\n",
    "])\n",
    "\n",
    "# --- Validation croisée manuelle avec barre de progression ---\n",
    "cv = StratifiedKFold(n_splits=5, shuffle=True, random_state=42)\n",
    "scores = []\n",
    "\n",
    "print(\"Validation croisée (5-fold) sur l'ensemble d'entraînement...\")\n",
    "for train_idx, val_idx in tqdm(cv.split(X_train, y_train), total=5, desc=\"Validation Croisée\"):\n",
    "    X_fold_train = X_train.iloc[train_idx]\n",
    "    y_fold_train = y_train.iloc[train_idx]\n",
    "    X_fold_val = X_train.iloc[val_idx]\n",
    "    y_fold_val = y_train.iloc[val_idx]\n",
    "\n",
    "    pipeline_tfidf_rf.fit(X_fold_train, y_fold_train)\n",
    "    y_pred_val = pipeline_tfidf_rf.predict(X_fold_val)\n",
    "    f1 = f1_score(y_fold_val, y_pred_val, average='macro')\n",
    "    scores.append(f1)\n",
    "\n",
    "print(\"Scores F1 Macro pour chaque fold :\", scores)\n",
    "print(\"F1 Macro moyen :\", np.mean(scores))\n",
    "\n",
    "# --- Entraînement final ---\n",
    "print(\"\\nEntraînement final du modèle sur tout l'ensemble d'entraînement...\")\n",
    "pipeline_tfidf_rf.fit(X_train, y_train)\n",
    "\n",
    "# --- Prédiction finale ---\n",
    "y_pred_rf = pipeline_tfidf_rf.predict(X_test)\n",
    "print(\"\\nRandom Forest + TF-IDF Classification Report:\")\n",
    "print(classification_report(y_test, y_pred_rf))\n"
=======
    "cv = StratifiedKFold(n_splits=5, shuffle=True, random_state=42)\n",
    "f1_macro = make_scorer(f1_score, average='macro')\n",
    "\n",
    "gs_rf = GridSearchCVProgress(\n",
    "    estimator=pipe_rf,\n",
    "    param_grid=param_grid_rf,\n",
    "    scoring=f1_macro,\n",
    "    cv=cv,\n",
    "    n_jobs=-1,\n",
    "    verbose=0\n",
    ")\n",
    "print(\"Starting GridSearchCV for Random Forest…\")\n",
    "gs_rf.fit(X_train_res, y_train_res)\n",
    "print(\"Best RF params:\", gs_rf.best_params_)\n",
    "print(\"Best RF F1_macro:\", gs_rf.best_score_)\n",
    "\n",
    "# Evaluation and confusion matrix\n",
    "y_pred_rf = gs_rf.predict(X_test)\n",
    "print(\"\\nRandom Forest Classification Report:\")\n",
    "print(classification_report(y_test, y_pred_rf))\n",
    "\n",
    "cm = confusion_matrix(y_test, y_pred_rf)\n",
    "disp = ConfusionMatrixDisplay(confusion_matrix=cm)\n",
    "plt.figure()\n",
    "disp.plot(ax=plt.gca(), cmap='Blues', values_format='d')\n",
    "plt.title('Confusion Matrix – Random Forest')\n",
    "plt.savefig('confusion_matrix_rf.png')\n",
    "print(\"Saved confusion_matrix_rf.png\")"
>>>>>>> dc6fc9583d82e863bba4a373dd0f1144b39e9d49
   ]
  },
  {
   "cell_type": "markdown",
   "metadata": {},
   "source": [
    "3) Résultats"
   ]
  },
  {
   "cell_type": "markdown",
   "metadata": {},
   "source": [
    "4) XGB Multiclasse \n",
    "\n",
    "Camembert embedding"
   ]
  },
  {
   "cell_type": "code",
<<<<<<< HEAD
   "execution_count": 3,
=======
   "execution_count": 8,
>>>>>>> dc6fc9583d82e863bba4a373dd0f1144b39e9d49
   "metadata": {},
   "outputs": [
    {
     "name": "stdout",
     "output_type": "stream",
     "text": [
<<<<<<< HEAD
      "Validation croisée (5-fold)...\n",
      "Encodage des textes avec CamemBERT...\n"
=======
      "Starting GridSearchCV for XGBoost…\n"
>>>>>>> dc6fc9583d82e863bba4a373dd0f1144b39e9d49
     ]
    },
    {
     "name": "stderr",
     "output_type": "stream",
     "text": [
<<<<<<< HEAD
      "Encodage: 100%|██████████| 371/371 [11:49<00:00,  1.91s/it]\n",
      "/usr/local/lib/python3.12/site-packages/xgboost/training.py:183: UserWarning: [14:36:06] WARNING: /workspace/src/learner.cc:738: \n",
=======
      "GridSearchXGB: 100%|██████████| 8/8 [00:00<?, ?it/s]\n",
      "C:\\Users\\stani\\AppData\\Roaming\\Python\\Python312\\site-packages\\xgboost\\training.py:183: UserWarning: [17:24:36] WARNING: C:\\actions-runner\\_work\\xgboost\\xgboost\\src\\learner.cc:738: \n",
>>>>>>> dc6fc9583d82e863bba4a373dd0f1144b39e9d49
      "Parameters: { \"use_label_encoder\" } are not used.\n",
      "\n",
      "  bst.update(dtrain, iteration=i, fobj=obj)\n"
     ]
    },
    {
     "name": "stdout",
     "output_type": "stream",
     "text": [
<<<<<<< HEAD
      "Encodage des textes avec CamemBERT...\n"
     ]
    },
    {
     "name": "stderr",
     "output_type": "stream",
     "text": [
      "Encodage: 100%|██████████| 93/93 [03:01<00:00,  1.96s/it]\n"
     ]
    },
    {
     "name": "stdout",
     "output_type": "stream",
     "text": [
      "Encodage des textes avec CamemBERT...\n"
     ]
    },
    {
     "name": "stderr",
     "output_type": "stream",
     "text": [
      "Encodage: 100%|██████████| 371/371 [11:49<00:00,  1.91s/it]\n",
      "/usr/local/lib/python3.12/site-packages/xgboost/training.py:183: UserWarning: [14:51:04] WARNING: /workspace/src/learner.cc:738: \n",
      "Parameters: { \"use_label_encoder\" } are not used.\n",
      "\n",
      "  bst.update(dtrain, iteration=i, fobj=obj)\n"
     ]
    },
    {
     "name": "stdout",
     "output_type": "stream",
     "text": [
      "Encodage des textes avec CamemBERT...\n"
     ]
    },
    {
     "name": "stderr",
     "output_type": "stream",
     "text": [
      "Encodage: 100%|██████████| 93/93 [02:55<00:00,  1.89s/it]\n"
     ]
    },
    {
     "name": "stdout",
     "output_type": "stream",
     "text": [
      "Encodage des textes avec CamemBERT...\n"
     ]
    },
    {
     "name": "stderr",
     "output_type": "stream",
     "text": [
      "Encodage: 100%|██████████| 371/371 [11:47<00:00,  1.91s/it]\n",
      "/usr/local/lib/python3.12/site-packages/xgboost/training.py:183: UserWarning: [15:05:53] WARNING: /workspace/src/learner.cc:738: \n",
      "Parameters: { \"use_label_encoder\" } are not used.\n",
      "\n",
      "  bst.update(dtrain, iteration=i, fobj=obj)\n"
     ]
    },
    {
     "name": "stdout",
     "output_type": "stream",
     "text": [
      "Encodage des textes avec CamemBERT...\n"
     ]
    },
    {
     "name": "stderr",
     "output_type": "stream",
     "text": [
      "Encodage: 100%|██████████| 93/93 [03:05<00:00,  2.00s/it]\n"
     ]
    },
    {
     "name": "stdout",
     "output_type": "stream",
     "text": [
      "Encodage des textes avec CamemBERT...\n"
     ]
    },
    {
     "name": "stderr",
     "output_type": "stream",
     "text": [
      "Encodage: 100%|██████████| 371/371 [12:08<00:00,  1.96s/it]\n",
      "/usr/local/lib/python3.12/site-packages/xgboost/training.py:183: UserWarning: [15:21:14] WARNING: /workspace/src/learner.cc:738: \n",
      "Parameters: { \"use_label_encoder\" } are not used.\n",
      "\n",
      "  bst.update(dtrain, iteration=i, fobj=obj)\n"
     ]
    },
    {
     "name": "stdout",
     "output_type": "stream",
     "text": [
      "Encodage des textes avec CamemBERT...\n"
     ]
    },
    {
     "name": "stderr",
     "output_type": "stream",
     "text": [
      "Encodage: 100%|██████████| 93/93 [03:01<00:00,  1.95s/it]\n"
     ]
    },
    {
     "name": "stdout",
     "output_type": "stream",
     "text": [
      "Encodage des textes avec CamemBERT...\n"
     ]
    },
    {
     "name": "stderr",
     "output_type": "stream",
     "text": [
      "Encodage: 100%|██████████| 372/372 [11:49<00:00,  1.91s/it]\n",
      "/usr/local/lib/python3.12/site-packages/xgboost/training.py:183: UserWarning: [15:36:12] WARNING: /workspace/src/learner.cc:738: \n",
      "Parameters: { \"use_label_encoder\" } are not used.\n",
      "\n",
      "  bst.update(dtrain, iteration=i, fobj=obj)\n"
     ]
    },
    {
     "name": "stdout",
     "output_type": "stream",
     "text": [
      "Encodage des textes avec CamemBERT...\n"
     ]
    },
    {
     "name": "stderr",
     "output_type": "stream",
     "text": [
      "Encodage: 100%|██████████| 92/92 [03:09<00:00,  2.06s/it]\n"
     ]
    },
    {
     "name": "stdout",
     "output_type": "stream",
     "text": [
      "Scores F1 Macro pour chaque fold: [0.51150079 0.39434394 0.32872754 0.50018894 0.41805455]\n",
      "F1 Macro moyen: 0.4305631530344726\n",
      "\n",
      "Entraînement final sur l'ensemble d'entraînement...\n",
      "Encodage des textes avec CamemBERT...\n"
     ]
    },
    {
     "name": "stderr",
     "output_type": "stream",
     "text": [
      "Encodage: 100%|██████████| 464/464 [08:26<00:00,  1.09s/it]\n",
      "/usr/local/lib/python3.12/site-packages/xgboost/training.py:183: UserWarning: [15:47:54] WARNING: /workspace/src/learner.cc:738: \n",
      "Parameters: { \"use_label_encoder\" } are not used.\n",
      "\n",
      "  bst.update(dtrain, iteration=i, fobj=obj)\n"
     ]
    },
    {
     "name": "stdout",
     "output_type": "stream",
     "text": [
      "Prédictions sur l'ensemble de test...\n",
      "Encodage des textes avec CamemBERT...\n"
     ]
    },
    {
     "name": "stderr",
     "output_type": "stream",
     "text": [
      "Encodage: 100%|██████████| 116/116 [01:06<00:00,  1.74it/s]"
     ]
    },
    {
     "name": "stdout",
     "output_type": "stream",
     "text": [
      "\n",
      "Classification Report (Camembert + XGBoost + Oversampling):\n",
      "              precision    recall  f1-score   support\n",
      "\n",
      "           0       0.45      0.52      0.48        29\n",
      "           1       0.54      0.63      0.58        30\n",
      "           2       0.44      0.46      0.45        26\n",
      "           3       0.40      0.24      0.30        17\n",
      "           4       0.55      0.43      0.48        14\n",
      "\n",
      "    accuracy                           0.48       116\n",
      "   macro avg       0.48      0.46      0.46       116\n",
      "weighted avg       0.48      0.48      0.48       116\n",
      "\n"
     ]
    },
    {
     "name": "stderr",
     "output_type": "stream",
     "text": [
      "\n"
=======
      "Best XGB params: {'learning_rate': 0.1, 'max_depth': 3, 'n_estimators': 300}\n",
      "Best XGB F1_macro: 0.5957555587183869\n",
      "\n",
      "XGBoost Classification Report:\n",
      "              precision    recall  f1-score   support\n",
      "\n",
      "           0       0.39      0.48      0.43        29\n",
      "           1       0.42      0.55      0.48        31\n",
      "           2       0.39      0.27      0.32        26\n",
      "           3       0.18      0.12      0.14        17\n",
      "           4       0.33      0.29      0.31        14\n",
      "\n",
      "    accuracy                           0.38       117\n",
      "   macro avg       0.34      0.34      0.34       117\n",
      "weighted avg       0.36      0.38      0.36       117\n",
      "\n",
      "Saved confusion_matrix_xgb.png\n"
>>>>>>> dc6fc9583d82e863bba4a373dd0f1144b39e9d49
     ]
    },
    {
     "data": {
      "image/png": "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",
      "text/plain": [
       "<Figure size 640x480 with 2 Axes>"
      ]
     },
     "metadata": {},
     "output_type": "display_data"
    }
   ],
   "source": [
    "# Cell 4 – XGBoost on Precomputed Embeddings with Progress Bar\n",
    "import matplotlib.pyplot as plt\n",
    "from xgboost import XGBClassifier\n",
<<<<<<< HEAD
    "from sklearn.model_selection import StratifiedKFold, cross_val_score, train_test_split\n",
    "from sklearn.base import BaseEstimator, TransformerMixin\n",
    "from sklearn.metrics import classification_report\n",
    "import torch\n",
    "import numpy as np\n",
    "from tqdm import tqdm\n",
    "\n",
    "# Nettoyage des données\n",
    "df = df.dropna(subset=['catégories'])\n",
    "df = df.dropna(subset=['description_entreprise'])\n",
    "df['catégories'] = df['catégories'].astype(int)\n",
    "\n",
    "X = df[\"description_entreprise\"]\n",
    "y = df[\"catégories\"]\n",
    "X_train, X_test, y_train, y_test = train_test_split(\n",
    "    X, y, test_size=0.2, random_state=42, stratify=y\n",
=======
    "from sklearn.model_selection import GridSearchCV, StratifiedKFold, ParameterGrid\n",
    "from sklearn.metrics import classification_report, confusion_matrix, ConfusionMatrixDisplay, make_scorer, f1_score\n",
    "from tqdm import tqdm\n",
    "\n",
    "# Custom GridSearchCV subclass to integrate tqdm progress bar\n",
    "class GridSearchCVProgress(GridSearchCV):\n",
    "    def _run_search(self, evaluate_candidates):\n",
    "        # Wrap ParameterGrid for proper parameter mappings\n",
    "        params_list = list(ParameterGrid(self.param_grid))\n",
    "        evaluate_candidates(tqdm(params_list, desc=\"GridSearchXGB\"))\n",
    "\n",
    "# Assumes X_train_res, y_train_res, X_test, y_test from Cell 1\n",
    "xgb = XGBClassifier(\n",
    "    objective='multi:softprob',\n",
    "    eval_metric='mlogloss',\n",
    "    use_label_encoder=False,\n",
    "    random_state=42\n",
>>>>>>> dc6fc9583d82e863bba4a373dd0f1144b39e9d49
    ")\n",
    "param_grid_xgb = {\n",
    "    'n_estimators': [100, 300],\n",
    "    'max_depth': [3, 5],\n",
    "    'learning_rate': [0.01, 0.1]\n",
    "}\n",
    "\n",
<<<<<<< HEAD
    "# Vectoriseur CamemBERT avec barre de progression\n",
    "class CamembertVectorizer(BaseEstimator, TransformerMixin):\n",
    "    def __init__(self, model_name='camembert-base', device='cpu', max_length=512):\n",
    "        self.model_name = model_name\n",
    "        self.device = device\n",
    "        self.max_length = max_length\n",
    "        self.tokenizer = CamembertTokenizer.from_pretrained(model_name)\n",
    "        self.model = CamembertModel.from_pretrained(model_name).to(device).eval()\n",
    "\n",
    "    def fit(self, X, y=None):\n",
    "        return self\n",
    "\n",
    "    def transform(self, X):\n",
    "        embeddings = []\n",
    "        print(\"Encodage des textes avec CamemBERT...\")\n",
    "        for text in tqdm(X, desc=\"Encodage\"):\n",
    "            inputs = self.tokenizer(\n",
    "                text,\n",
    "                return_tensors='pt',\n",
    "                truncation=True,\n",
    "                padding='max_length',\n",
    "                max_length=self.max_length\n",
    "            )\n",
    "            inputs = {k: v.to(self.device) for k, v in inputs.items()}\n",
    "            with torch.no_grad():\n",
    "                outputs = self.model(**inputs)\n",
    "            emb = outputs.last_hidden_state[:, 0, :].squeeze().cpu().numpy()\n",
    "            embeddings.append(emb)\n",
    "        return np.array(embeddings)\n",
    "\n",
    "# Détection de GPU\n",
    "device = 'cuda' if torch.cuda.is_available() else 'cpu'\n",
    "\n",
    "# Ajustement des classes à partir de 0\n",
    "y_train_adj = y_train - 1\n",
    "y_test_adj = y_test - 1\n",
    "\n",
    "# Pipeline complet avec oversampling + XGBoost\n",
    "pipeline_camembert_xgb = Pipeline([\n",
    "    ('camembert', CamembertVectorizer(device=device)),\n",
    "    ('oversample', RandomOverSampler(random_state=42)),\n",
    "    ('clf', XGBClassifier(\n",
    "        n_estimators=100,\n",
    "        max_depth=4,\n",
    "        learning_rate=0.05,\n",
    "        subsample=0.8,\n",
    "        colsample_bytree=0.8,\n",
    "        objective='multi:softprob',\n",
    "        use_label_encoder=False,\n",
    "        eval_metric='mlogloss',\n",
    "        random_state=42\n",
    "    ))\n",
    "])\n",
    "\n",
    "# Validation croisée\n",
=======
>>>>>>> dc6fc9583d82e863bba4a373dd0f1144b39e9d49
    "cv = StratifiedKFold(n_splits=5, shuffle=True, random_state=42)\n",
    "f1_macro = make_scorer(f1_score, average='macro')\n",
    "\n",
<<<<<<< HEAD
    "# Entraînement final + évaluation\n",
    "print(\"\\nEntraînement final sur l'ensemble d'entraînement...\")\n",
    "pipeline_camembert_xgb.fit(X_train.tolist(), y_train_adj)\n",
    "print(\"Prédictions sur l'ensemble de test...\")\n",
    "y_pred = pipeline_camembert_xgb.predict(X_test.tolist())\n",
    "\n",
    "print(\"\\nClassification Report (Camembert + XGBoost + Oversampling):\")\n",
    "print(classification_report(y_test_adj, y_pred))"
=======
    "gs_xgb = GridSearchCVProgress(\n",
    "    estimator=xgb,\n",
    "    param_grid=param_grid_xgb,\n",
    "    scoring=f1_macro,\n",
    "    cv=cv,\n",
    "    n_jobs=-1,\n",
    "    verbose=0\n",
    ")\n",
    "print(\"Starting GridSearchCV for XGBoost…\")\n",
    "gs_xgb.fit(X_train_res, y_train_res)\n",
    "print(\"Best XGB params:\", gs_xgb.best_params_)\n",
    "print(\"Best XGB F1_macro:\", gs_xgb.best_score_)\n",
    "\n",
    "# Evaluation and confusion matrix\n",
    "y_pred_xgb = gs_xgb.predict(X_test)\n",
    "print(\"\\nXGBoost Classification Report:\")\n",
    "print(classification_report(y_test, y_pred_xgb))\n",
    "\n",
    "cm = confusion_matrix(y_test, y_pred_xgb)\n",
    "disp = ConfusionMatrixDisplay(confusion_matrix=cm)\n",
    "plt.figure()\n",
    "disp.plot(ax=plt.gca(), cmap='Blues', values_format='d')\n",
    "plt.title('Confusion Matrix – XGBoost')\n",
    "plt.savefig('confusion_matrix_xgb.png')\n",
    "print(\"Saved confusion_matrix_xgb.png\")"
>>>>>>> dc6fc9583d82e863bba4a373dd0f1144b39e9d49
   ]
  },
  {
   "cell_type": "markdown",
   "metadata": {},
   "source": [
    "TF-IDF embedding XGB Multiclasse"
   ]
  },
  {
   "cell_type": "code",
   "execution_count": 4,
   "metadata": {},
   "outputs": [
    {
     "name": "stdout",
     "output_type": "stream",
     "text": [
      "Validation croisée (5-fold)...\n"
     ]
    },
    {
     "name": "stderr",
     "output_type": "stream",
     "text": [
      "/usr/local/lib/python3.12/site-packages/xgboost/training.py:183: UserWarning: [15:52:01] WARNING: /workspace/src/learner.cc:738: \n",
      "Parameters: { \"use_label_encoder\" } are not used.\n",
      "\n",
      "  bst.update(dtrain, iteration=i, fobj=obj)\n",
      "/usr/local/lib/python3.12/site-packages/xgboost/training.py:183: UserWarning: [15:52:03] WARNING: /workspace/src/learner.cc:738: \n",
      "Parameters: { \"use_label_encoder\" } are not used.\n",
      "\n",
      "  bst.update(dtrain, iteration=i, fobj=obj)\n",
      "/usr/local/lib/python3.12/site-packages/xgboost/training.py:183: UserWarning: [15:52:04] WARNING: /workspace/src/learner.cc:738: \n",
      "Parameters: { \"use_label_encoder\" } are not used.\n",
      "\n",
      "  bst.update(dtrain, iteration=i, fobj=obj)\n",
      "/usr/local/lib/python3.12/site-packages/xgboost/training.py:183: UserWarning: [15:52:06] WARNING: /workspace/src/learner.cc:738: \n",
      "Parameters: { \"use_label_encoder\" } are not used.\n",
      "\n",
      "  bst.update(dtrain, iteration=i, fobj=obj)\n",
      "/usr/local/lib/python3.12/site-packages/xgboost/training.py:183: UserWarning: [15:52:07] WARNING: /workspace/src/learner.cc:738: \n",
      "Parameters: { \"use_label_encoder\" } are not used.\n",
      "\n",
      "  bst.update(dtrain, iteration=i, fobj=obj)\n"
     ]
    },
    {
     "name": "stdout",
     "output_type": "stream",
     "text": [
      "Scores F1 Macro pour chaque fold: [0.40697921 0.38396332 0.22972908 0.43779891 0.33445904]\n",
      "F1 Macro moyen: 0.3585859118177594\n",
      "\n",
      "Entraînement final sur l'ensemble d'entraînement...\n"
     ]
    },
    {
     "name": "stderr",
     "output_type": "stream",
     "text": [
      "/usr/local/lib/python3.12/site-packages/xgboost/training.py:183: UserWarning: [15:52:09] WARNING: /workspace/src/learner.cc:738: \n",
      "Parameters: { \"use_label_encoder\" } are not used.\n",
      "\n",
      "  bst.update(dtrain, iteration=i, fobj=obj)\n"
     ]
    },
    {
     "name": "stdout",
     "output_type": "stream",
     "text": [
      "Prédictions sur l'ensemble de test...\n",
      "\n",
      "Classification Report (TF-IDF + XGBoost + Oversampling):\n",
      "              precision    recall  f1-score   support\n",
      "\n",
      "           0       0.50      0.66      0.57        29\n",
      "           1       0.72      0.70      0.71        30\n",
      "           2       0.43      0.50      0.46        26\n",
      "           3       0.67      0.47      0.55        17\n",
      "           4       0.57      0.29      0.38        14\n",
      "\n",
      "    accuracy                           0.56       116\n",
      "   macro avg       0.58      0.52      0.54       116\n",
      "weighted avg       0.58      0.56      0.56       116\n",
      "\n"
     ]
    }
   ],
   "source": [
    "from sklearn.feature_extraction.text import TfidfVectorizer\n",
    "from imblearn.pipeline import Pipeline\n",
    "from imblearn.over_sampling import RandomOverSampler\n",
    "from xgboost import XGBClassifier\n",
    "from sklearn.model_selection import StratifiedKFold, cross_val_score, train_test_split\n",
    "from sklearn.metrics import classification_report\n",
    "import pandas as pd\n",
    "\n",
    "# Nettoyage des données\n",
    "df = df.dropna(subset=['catégories'])\n",
    "df = df.dropna(subset=['description_entreprise'])\n",
    "df['catégories'] = df['catégories'].astype(int)\n",
    "\n",
    "X = df[\"description_entreprise\"]\n",
    "y = df[\"catégories\"]\n",
    "X_train, X_test, y_train, y_test = train_test_split(\n",
    "    X, y, test_size=0.2, random_state=42, stratify=y\n",
    ")\n",
    "\n",
    "# Ajustement des classes à partir de 0 (optionnel selon les modèles)\n",
    "y_train_adj = y_train - 1\n",
    "y_test_adj = y_test - 1\n",
    "\n",
    "# Pipeline TF-IDF + Oversampling + XGBoost\n",
    "pipeline_tfidf_xgb = Pipeline([\n",
    "    ('tfidf', TfidfVectorizer(max_features=5000, ngram_range=(1,2))),  # Ajuste les params si besoin\n",
    "    ('oversample', RandomOverSampler(random_state=42)),\n",
    "    ('clf', XGBClassifier(\n",
    "        n_estimators=100,\n",
    "        max_depth=4,\n",
    "        learning_rate=0.05,\n",
    "        subsample=0.8,\n",
    "        colsample_bytree=0.8,\n",
    "        objective='multi:softprob',\n",
    "        use_label_encoder=False,\n",
    "        eval_metric='mlogloss',\n",
    "        random_state=42\n",
    "    ))\n",
    "])\n",
    "\n",
    "# Validation croisée\n",
    "cv = StratifiedKFold(n_splits=5, shuffle=True, random_state=42)\n",
    "print(\"Validation croisée (5-fold)...\")\n",
    "scores = cross_val_score(pipeline_tfidf_xgb, X_train, y_train_adj, cv=cv, scoring='f1_macro')\n",
    "print(\"Scores F1 Macro pour chaque fold:\", scores)\n",
    "print(\"F1 Macro moyen:\", scores.mean())\n",
    "\n",
    "# Entraînement final + évaluation\n",
    "print(\"\\nEntraînement final sur l'ensemble d'entraînement...\")\n",
    "pipeline_tfidf_xgb.fit(X_train.tolist(), y_train_adj)\n",
    "print(\"Prédictions sur l'ensemble de test...\")\n",
    "y_pred = pipeline_tfidf_xgb.predict(X_test.tolist())\n",
    "\n",
    "print(\"\\nClassification Report (TF-IDF + XGBoost + Oversampling):\")\n",
    "print(classification_report(y_test_adj, y_pred))\n"
   ]
  },
  {
   "cell_type": "markdown",
   "metadata": {},
   "source": [
    "4) Résultats :"
   ]
  },
  {
   "cell_type": "markdown",
   "metadata": {},
   "source": [
    "5.1) SVM en tf-idf embedding"
   ]
  },
  {
   "cell_type": "code",
<<<<<<< HEAD
   "execution_count": 6,
=======
   "execution_count": 9,
>>>>>>> dc6fc9583d82e863bba4a373dd0f1144b39e9d49
   "metadata": {},
   "outputs": [
    {
     "name": "stderr",
     "output_type": "stream",
     "text": [
<<<<<<< HEAD
      "[nltk_data] Downloading package stopwords to /home/onyxia/nltk_data...\n",
      "[nltk_data]   Package stopwords is already up-to-date!\n"
=======
      "[nltk_data] Downloading package stopwords to\n",
      "[nltk_data]     C:\\Users\\stani\\AppData\\Roaming\\nltk_data...\n",
      "[nltk_data]   Unzipping corpora\\stopwords.zip.\n"
>>>>>>> dc6fc9583d82e863bba4a373dd0f1144b39e9d49
     ]
    },
    {
     "name": "stdout",
     "output_type": "stream",
     "text": [
      "Prétraitement des textes (progression sur TF-IDF)...\n"
     ]
    },
    {
     "name": "stderr",
     "output_type": "stream",
     "text": [
      "100%|██████████| 464/464 [00:00<00:00, 697047.66it/s]\n",
      "100%|██████████| 116/116 [00:00<00:00, 340713.77it/s]\n",
      "Vectorisation TF-IDF: 100%|██████████| 464/464 [00:00<00:00, 7008.58it/s]\n",
      "Vectorisation test: 100%|██████████| 116/116 [00:00<00:00, 10668.32it/s]\n"
     ]
    },
    {
     "name": "stdout",
     "output_type": "stream",
     "text": [
      "Application du RandomOverSampler...\n",
      "Standardisation des données...\n",
      "Entraînement du SVM...\n",
      "\n",
      "Prédiction et évaluation...\n",
      "              precision    recall  f1-score   support\n",
      "\n",
<<<<<<< HEAD
      "           1       0.42      0.55      0.48        29\n",
      "           2       0.45      0.73      0.56        30\n",
      "           3       0.40      0.38      0.39        26\n",
      "           4       1.00      0.12      0.21        17\n",
      "           5       1.00      0.14      0.25        14\n",
=======
      "           0       0.45      0.34      0.39        29\n",
      "           1       0.32      0.81      0.45        31\n",
      "           2       0.23      0.12      0.15        26\n",
      "           3       1.00      0.06      0.11        17\n",
      "           4       1.00      0.14      0.25        14\n",
>>>>>>> dc6fc9583d82e863bba4a373dd0f1144b39e9d49
      "\n",
      "    accuracy                           0.45       116\n",
      "   macro avg       0.65      0.39      0.38       116\n",
      "weighted avg       0.58      0.45      0.41       116\n",
      "\n"
     ]
    }
   ],
   "source": [
    "import numpy as np\n",
    "import pandas as pd\n",
    "from tqdm import tqdm\n",
    "tqdm.pandas()  # pour progres_apply()\n",
    "\n",
    "import nltk\n",
    "nltk.download('stopwords')\n",
    "from nltk.corpus import stopwords\n",
    "\n",
    "from sklearn.model_selection import train_test_split\n",
    "from imblearn.pipeline import Pipeline\n",
    "from imblearn.over_sampling import RandomOverSampler\n",
    "from sklearn.feature_extraction.text import TfidfVectorizer\n",
    "from sklearn.svm import SVC\n",
    "from sklearn.preprocessing import StandardScaler\n",
    "from sklearn.metrics import classification_report\n",
    "\n",
    "# Télécharger et charger la liste de stopwords français\n",
    "french_stop_words = stopwords.words('french')\n",
    "\n",
    "# Supposons que df est déjà chargé\n",
    "# Exemple : df = pd.read_csv(\"ton_fichier.csv\")\n",
    "\n",
    "# Nettoyage des données\n",
    "df = df.dropna(subset=['catégories'])\n",
    "df = df.dropna(subset=['description_entreprise'])\n",
    "df['catégories'] = df['catégories'].astype(int)\n",
    "\n",
    "# Séparation en ensemble d'entraînement et de test\n",
    "X = df[\"description_entreprise\"]\n",
    "y = df[\"catégories\"]\n",
    "X_train, X_test, y_train, y_test = train_test_split(\n",
    "    X, y, test_size=0.2, random_state=42, stratify=y\n",
    ")\n",
    "\n",
    "# Affichage de la progression pour le prétraitement du texte\n",
    "print(\"Prétraitement des textes (progression sur TF-IDF)...\")\n",
    "X_train_progress = X_train.progress_apply(str)  # conversion explicite pour éviter erreurs\n",
    "X_test_progress = X_test.progress_apply(str)\n",
    "\n",
    "# Vectoriseur TF-IDF avec max_features\n",
    "vectorizer = TfidfVectorizer(\n",
    "    max_features=20000,\n",
    "    ngram_range=(1, 2),\n",
    "    min_df=2,\n",
    "    stop_words=french_stop_words\n",
    ")\n",
    "\n",
    "# Vectorisation avec barre de progression\n",
    "X_train_tfidf = vectorizer.fit_transform(tqdm(X_train_progress, desc=\"Vectorisation TF-IDF\"))\n",
    "X_test_tfidf = vectorizer.transform(tqdm(X_test_progress, desc=\"Vectorisation test\"))\n",
    "\n",
    "# Oversampling\n",
    "print(\"Application du RandomOverSampler...\")\n",
    "ros = RandomOverSampler(random_state=42)\n",
    "X_resampled, y_resampled = ros.fit_resample(X_train_tfidf, y_train)\n",
    "\n",
    "# Mise à l'échelle\n",
    "print(\"Standardisation des données...\")\n",
    "scaler = StandardScaler(with_mean=False)\n",
    "X_scaled = scaler.fit_transform(X_resampled)\n",
    "X_test_scaled = scaler.transform(X_test_tfidf)\n",
    "\n",
    "# Entraînement du modèle avec barre de progression\n",
    "print(\"Entraînement du SVM...\")\n",
    "clf = SVC(\n",
    "    kernel='rbf',\n",
    "    C=1.0,\n",
    "    gamma='scale',\n",
    "    probability=True,\n",
    "    class_weight='balanced',\n",
    "    random_state=42\n",
    ")\n",
    "clf.fit(X_scaled, y_resampled)\n",
    "\n",
    "# Prédiction\n",
    "print(\"\\nPrédiction et évaluation...\")\n",
    "y_pred = clf.predict(X_test_scaled)\n",
    "print(classification_report(y_test, y_pred))\n"
   ]
  },
  {
   "cell_type": "markdown",
   "metadata": {},
   "source": [
    "5.2) SVM (kernel RBF, C=1.0, gamma réglé sur 'scale', et une graine pour la reproductibilité.)"
   ]
  },
  {
   "cell_type": "code",
<<<<<<< HEAD
   "execution_count": 8,
=======
   "execution_count": 28,
>>>>>>> dc6fc9583d82e863bba4a373dd0f1144b39e9d49
   "metadata": {},
   "outputs": [
    {
     "name": "stdout",
     "output_type": "stream",
     "text": [
<<<<<<< HEAD
      "Entraînement du modèle avec Camembert + SVM + Oversampling...\n",
      "Encodage Camembert en batch...\n"
=======
      "Starting GridSearchCV for SVM…\n"
>>>>>>> dc6fc9583d82e863bba4a373dd0f1144b39e9d49
     ]
    },
    {
     "name": "stderr",
     "output_type": "stream",
     "text": [
<<<<<<< HEAD
      "Batch embeddings: 100%|██████████| 29/29 [02:16<00:00,  4.71s/it]\n"
     ]
    },
    {
     "name": "stdout",
     "output_type": "stream",
     "text": [
      "Application du RandomOverSampler...\n",
      "Encodage Camembert en batch...\n"
     ]
    },
    {
     "name": "stderr",
     "output_type": "stream",
     "text": [
      "Batch embeddings: 100%|██████████| 8/8 [00:32<00:00,  4.08s/it]"
=======
      "GridSearchSVM: 100%|██████████| 9/9 [00:00<?, ?it/s]\n"
>>>>>>> dc6fc9583d82e863bba4a373dd0f1144b39e9d49
     ]
    },
    {
     "name": "stdout",
     "output_type": "stream",
     "text": [
<<<<<<< HEAD
      "\n",
      "SVM + Camembert Classification Report:\n",
      "              precision    recall  f1-score   support\n",
      "\n",
      "           1       0.50      0.59      0.54        29\n",
      "           2       0.59      0.77      0.67        30\n",
      "           3       0.61      0.54      0.57        26\n",
      "           4       0.55      0.35      0.43        17\n",
      "           5       0.67      0.43      0.52        14\n",
      "\n",
      "    accuracy                           0.57       116\n",
      "   macro avg       0.58      0.53      0.55       116\n",
      "weighted avg       0.57      0.57      0.56       116\n",
      "\n"
     ]
    },
    {
     "name": "stderr",
     "output_type": "stream",
     "text": [
      "\n"
=======
      "Best SVM params:    {'svc__C': 10, 'svc__gamma': 'scale', 'svc__kernel': 'rbf'}\n",
      "Best SVM F1_macro: 0.6541986594517976\n",
      "\n",
      "SVM Classification Report:\n",
      "              precision    recall  f1-score   support\n",
      "\n",
      "           0       0.52      0.52      0.52        29\n",
      "           1       0.52      0.77      0.62        31\n",
      "           2       0.38      0.38      0.38        26\n",
      "           3       0.29      0.12      0.17        17\n",
      "           4       0.33      0.21      0.26        14\n",
      "\n",
      "    accuracy                           0.46       117\n",
      "   macro avg       0.41      0.40      0.39       117\n",
      "weighted avg       0.43      0.46      0.43       117\n",
      "\n",
      "Saved confusion_matrix_svm.png\n"
>>>>>>> dc6fc9583d82e863bba4a373dd0f1144b39e9d49
     ]
    },
    {
     "data": {
      "image/png": "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",
      "text/plain": [
       "<Figure size 640x480 with 2 Axes>"
      ]
     },
     "metadata": {},
     "output_type": "display_data"
    }
   ],
   "source": [
<<<<<<< HEAD
    "from transformers import CamembertTokenizer, CamembertModel\n",
    "from imblearn.pipeline import Pipeline\n",
    "from imblearn.over_sampling import RandomOverSampler\n",
    "from sklearn.svm import SVC\n",
    "from sklearn.preprocessing import StandardScaler\n",
    "from sklearn.metrics import classification_report\n",
    "from sklearn.base import BaseEstimator, TransformerMixin\n",
    "from sklearn.model_selection import train_test_split\n",
    "import torch\n",
    "import numpy as np\n",
    "from tqdm import tqdm\n",
    "\n",
    "# Nettoyage\n",
    "df = df.dropna(subset=['catégories'])\n",
    "df = df.dropna(subset=['description_entreprise'])\n",
    "df['catégories'] = df['catégories'].astype(int)\n",
    "\n",
    "X = df[\"description_entreprise\"]\n",
    "y = df[\"catégories\"]\n",
    "\n",
    "X_train, X_test, y_train, y_test = train_test_split(\n",
    "    X, y, test_size=0.2, random_state=42, stratify=y\n",
    ")\n",
    "\n",
    "# CamembertVectorizer avec barre de progression\n",
    "class CamembertVectorizer(BaseEstimator, TransformerMixin):\n",
    "    def __init__(self, model_name='camembert-base', device='cpu', max_length=512, batch_size=16):\n",
    "        self.model_name = model_name\n",
    "        self.device = device\n",
    "        self.max_length = max_length\n",
    "        self.batch_size = batch_size\n",
    "        self.tokenizer = CamembertTokenizer.from_pretrained(model_name)\n",
    "        self.model = CamembertModel.from_pretrained(model_name)\n",
    "        self.model.to(self.device)\n",
    "        self.model.eval()\n",
    "\n",
    "    def fit(self, X, y=None):\n",
    "        return self\n",
    "\n",
    "    def transform(self, X):\n",
    "        all_embeddings = []\n",
    "        print(\"Encodage Camembert en batch...\")\n",
    "        for i in tqdm(range(0, len(X), self.batch_size), desc=\"Batch embeddings\"):\n",
    "            batch_texts = X[i:i + self.batch_size]\n",
    "            inputs = self.tokenizer(\n",
    "                list(batch_texts),\n",
    "                return_tensors='pt',\n",
    "                padding='max_length',\n",
    "                truncation=True,\n",
    "                max_length=self.max_length\n",
    "            )\n",
    "            inputs = {k: v.to(self.device) for k, v in inputs.items()}\n",
    "            with torch.no_grad():\n",
    "                outputs = self.model(**inputs)\n",
    "            batch_embeddings = outputs.last_hidden_state[:, 0, :].cpu().numpy()\n",
    "            all_embeddings.append(batch_embeddings)\n",
    "        return np.vstack(all_embeddings)\n",
    "\n",
    "\n",
    "# Wrapper pour oversampling\n",
    "class OversampleTransformer(BaseEstimator, TransformerMixin):\n",
    "    def __init__(self, sampler):\n",
    "        self.sampler = sampler\n",
    "        \n",
    "    def fit(self, X, y=None):\n",
    "        print(\"Application du RandomOverSampler...\")\n",
    "        self.X_res_, self.y_res_ = self.sampler.fit_resample(X, y)\n",
    "        return self\n",
    "    \n",
    "    def transform(self, X):\n",
    "        return X\n",
    "\n",
    "# Device\n",
    "device = 'cuda' if torch.cuda.is_available() else 'cpu'\n",
    "\n",
    "# Pipeline\n",
    "pipeline_camembert_svm = Pipeline([\n",
    "    ('camembert', CamembertVectorizer(device=device)),\n",
    "    ('oversample', OversampleTransformer(RandomOverSampler(random_state=42))),\n",
    "    ('scaler', StandardScaler()),\n",
    "    ('clf', SVC(\n",
    "        kernel='rbf',\n",
    "        C=1.0,\n",
    "        gamma='scale',\n",
    "        probability=True,\n",
    "        random_state=42\n",
    "    ))\n",
    "])\n",
    "\n",
    "# Entraînement avec message\n",
    "print(\"Entraînement du modèle avec Camembert + SVM + Oversampling...\")\n",
    "pipeline_camembert_svm.fit(X_train.tolist(), y_train)  # .tolist() pour tqdm compatibilité\n",
    "\n",
    "# Prédictions et rapport\n",
    "y_pred_svm = pipeline_camembert_svm.predict(X_test.tolist())\n",
    "print(\"\\nSVM + Camembert Classification Report:\")\n",
    "print(classification_report(y_test, y_pred_svm))\n"
=======
    "# Cell 5 – SVM on Precomputed Embeddings with Progress Bar\n",
    "import matplotlib.pyplot as plt\n",
    "from sklearn.svm import SVC\n",
    "from sklearn.preprocessing import StandardScaler\n",
    "from sklearn.pipeline import Pipeline\n",
    "from sklearn.model_selection import GridSearchCV, StratifiedKFold, ParameterGrid\n",
    "from sklearn.metrics import classification_report, confusion_matrix, ConfusionMatrixDisplay, make_scorer, f1_score\n",
    "from tqdm import tqdm\n",
    "\n",
    "# Custom GridSearchCV subclass to integrate tqdm using ParameterGrid\n",
    "class GridSearchCVProgress(GridSearchCV):\n",
    "    def _run_search(self, evaluate_candidates):\n",
    "        params_list = list(ParameterGrid(self.param_grid))\n",
    "        evaluate_candidates(tqdm(params_list, desc=\"GridSearchSVM\"))\n",
    "\n",
    "# Pipeline: scaling + SVM on embeddings\n",
    "pipe_svm = Pipeline([\n",
    "    ('scaler', StandardScaler()),\n",
    "    ('svc',    SVC(probability=True, random_state=42))\n",
    "])\n",
    "\n",
    "param_grid_svm = {\n",
    "    'svc__C':     [0.1, 1, 10],\n",
    "    'svc__gamma': ['scale', 0.01, 0.1],\n",
    "    'svc__kernel':['rbf']\n",
    "}\n",
    "\n",
    "cv = StratifiedKFold(n_splits=5, shuffle=True, random_state=42)\n",
    "f1_macro = make_scorer(f1_score, average='macro')\n",
    "\n",
    "gs_svm = GridSearchCVProgress(\n",
    "    estimator=pipe_svm,\n",
    "    param_grid=param_grid_svm,\n",
    "    scoring=f1_macro,\n",
    "    cv=cv,\n",
    "    n_jobs=-1,\n",
    "    verbose=0\n",
    ")\n",
    "print(\"Starting GridSearchCV for SVM…\")\n",
    "gs_svm.fit(X_train_res, y_train_res)\n",
    "\n",
    "print(\"Best SVM params:   \", gs_svm.best_params_)\n",
    "print(\"Best SVM F1_macro:\", gs_svm.best_score_)\n",
    "\n",
    "# Evaluation and confusion matrix\n",
    "y_pred_svm = gs_svm.predict(X_test)\n",
    "print(\"\\nSVM Classification Report:\")\n",
    "print(classification_report(y_test, y_pred_svm))\n",
    "\n",
    "cm = confusion_matrix(y_test, y_pred_svm)\n",
    "disp = ConfusionMatrixDisplay(confusion_matrix=cm)\n",
    "plt.figure()\n",
    "disp.plot(ax=plt.gca(), cmap='Blues', values_format='d')\n",
    "plt.title('Confusion Matrix – SVM')\n",
    "plt.savefig('confusion_matrix_svm.png')\n",
    "print(\"Saved confusion_matrix_svm.png\")\n"
>>>>>>> dc6fc9583d82e863bba4a373dd0f1144b39e9d49
   ]
  },
  {
   "cell_type": "markdown",
   "metadata": {},
   "source": [
    "5) Résultats :"
   ]
  },
  {
   "cell_type": "markdown",
   "metadata": {},
   "source": [
    "**Chatgpt** (pas gratuit)"
   ]
  },
  {
   "cell_type": "code",
   "execution_count": null,
   "metadata": {},
   "outputs": [
    {
     "name": "stdout",
     "output_type": "stream",
     "text": [
      "Entrez votre clé OpenAI (sk-...) : "
     ]
    }
   ],
   "source": [
    "import os\n",
    "import time\n",
    "import requests\n",
    "import pandas as pd\n",
    "\n",
    "# Fichiers CSV en entrée et sortie\n",
    "INPUT_CSV = '700offers.200classified.csv'\n",
    "OUTPUT_CSV = '700offers.200classified_updated.csv'\n",
    "\n",
    "# Récupération de la clé API OpenAI\n",
    "def get_api_key():\n",
    "    key = os.getenv('OPENAI_API_KEY')\n",
    "    if key:\n",
    "        return key\n",
    "    print(\"Entrez votre clé OpenAI (sk-...) :\", end=' ')\n",
    "    return input().strip()\n",
    "\n",
    "API_KEY = get_api_key()\n",
    "if not API_KEY:\n",
    "    raise RuntimeError('Clé API OpenAI manquante.')\n",
    "\n",
    "HEADERS = {\n",
    "    'Authorization': f'Bearer {API_KEY}',\n",
    "    'Content-Type': 'application/json'\n",
    "}\n",
    "MODEL = 'gpt-3.5-turbo'  # ou 'gpt-4' si disponible\n",
    "\n",
    "# Prompt système pour la classification\n",
    "SYSTEM_PROMPT = (\n",
    "    \"Tu es un assistant qui classe des offres d'emploi dans UNE SEULE catégorie de valeurs. \"\n",
    "    \"Les catégories sont :\\n\"\n",
    "    \"1) Excellence, Leadership et Performance\\n\"\n",
    "    \"2) Accompagnement et Evolution Professionnelle\\n\"\n",
    "    \"3) Proximité et Ancrage Local\\n\"\n",
    "    \"4) Relations Humaines et Collectif\\n\"\n",
    "    \"5) Engagement Social et Bien-être\\n\"\n",
    "    \"Renvoie **uniquement** le chiffre (1-5) sans autre texte.\"\n",
    ")\n",
    "\n",
    "# Fonction de classification via l'API OpenAI\n",
    "\n",
    "def classify_offer(text: str) -> int:\n",
    "    payload = {\n",
    "        'model': MODEL,\n",
    "        'messages': [\n",
    "            {'role': 'system', 'content': SYSTEM_PROMPT},\n",
    "            {'role': 'user', 'content': text}\n",
    "        ],\n",
    "        'temperature': 0,\n",
    "        'max_tokens': 3\n",
    "    }\n",
    "    response = requests.post(\n",
    "        'https://api.openai.com/v1/chat/completions',\n",
    "        headers=HEADERS,\n",
    "        json=payload\n",
    "    )\n",
    "    response.raise_for_status()\n",
    "    content = response.json()['choices'][0]['message']['content'].strip()\n",
    "    try:\n",
    "        return int(content)\n",
    "    except ValueError:\n",
    "        raise ValueError(f\"Réponse inattendue de l'API : '{content}'\")\n",
    "\n",
    "# Chargement du CSV\n",
    "print(f\"Chargement de {INPUT_CSV}...\")\n",
    "df = pd.read_csv(INPUT_CSV)\n",
    "\n",
    "# Itération et classification des offres sans catégorie\n",
    "for idx, row in df[df['category'].isna()].iterrows():\n",
    "    company = str(row.get('company', '')).strip()\n",
    "    description = str(row.get('description', '')).strip()\n",
    "    prompt_text = f\"{company}\\n\\n{description}\"\n",
    "    try:\n",
    "        cat = classify_offer(prompt_text)\n",
    "        df.at[idx, 'category'] = cat\n",
    "        print(f\"Ligne {idx+1} classée : {cat}\")\n",
    "        # Sauvegarde incrémentale\n",
    "        df.to_csv(OUTPUT_CSV, index=False)\n",
    "    except Exception as err:\n",
    "        print(f\"Erreur à la ligne {idx+1} : {err}\")\n",
    "    time.sleep(1)\n",
    "\n",
    "print(f\"Classification terminée, fichier enregistré sous : {OUTPUT_CSV}\")\n"
   ]
  },
  {
   "cell_type": "code",
   "execution_count": 24,
   "metadata": {},
   "outputs": [
    {
     "name": "stdout",
     "output_type": "stream",
     "text": [
      "Version de transformers: 4.51.3\n",
      "Valeurs uniques dans catégories avant transformation: [np.int64(1), np.int64(2), np.int64(3), np.int64(4), np.int64(5)]\n",
      "Valeurs uniques dans catégories après transformation: [np.int64(0), np.int64(1), np.int64(2), np.int64(3), np.int64(4)]\n",
      "Nombre de classes: 5\n"
     ]
    },
    {
     "name": "stderr",
     "output_type": "stream",
     "text": [
      "Some weights of CamembertForSequenceClassification were not initialized from the model checkpoint at camembert-base and are newly initialized: ['classifier.dense.bias', 'classifier.dense.weight', 'classifier.out_proj.bias', 'classifier.out_proj.weight']\n",
      "You should probably TRAIN this model on a down-stream task to be able to use it for predictions and inference.\n"
     ]
    },
    {
     "name": "stdout",
     "output_type": "stream",
     "text": [
      "Utilisation de l'appareil: cpu\n",
      "Début de l'entraînement...\n",
      "\n",
      "Epoch 1/3\n"
     ]
    },
    {
     "name": "stderr",
     "output_type": "stream",
     "text": [
      "Entraînement: 100%|██████████| 58/58 [06:40<00:00,  6.91s/it, loss=1.6025]\n"
     ]
    },
    {
     "name": "stdout",
     "output_type": "stream",
     "text": [
      "Perte moyenne d'entraînement: 1.6028\n",
      "\n",
      "Évaluation sur l'ensemble de validation...\n"
     ]
    },
    {
     "name": "stderr",
     "output_type": "stream",
     "text": [
      "Évaluation: 100%|██████████| 15/15 [00:59<00:00,  3.96s/it]\n"
     ]
    },
    {
     "name": "stdout",
     "output_type": "stream",
     "text": [
      "Précision: 0.2586\n",
      "\n",
      "Epoch 2/3\n"
     ]
    },
    {
     "name": "stderr",
     "output_type": "stream",
     "text": [
      "Entraînement: 100%|██████████| 58/58 [13:04<00:00, 13.53s/it, loss=1.6009]\n"
     ]
    },
    {
     "name": "stdout",
     "output_type": "stream",
     "text": [
      "Perte moyenne d'entraînement: 1.5709\n",
      "\n",
      "Évaluation sur l'ensemble de validation...\n"
     ]
    },
    {
     "name": "stderr",
     "output_type": "stream",
     "text": [
      "Évaluation: 100%|██████████| 15/15 [00:09<00:00,  1.63it/s]\n"
     ]
    },
    {
     "name": "stdout",
     "output_type": "stream",
     "text": [
      "Précision: 0.2672\n",
      "\n",
      "Epoch 3/3\n"
     ]
    },
    {
     "name": "stderr",
     "output_type": "stream",
     "text": [
      "Entraînement: 100%|██████████| 58/58 [04:20<00:00,  4.49s/it, loss=1.5352]\n"
     ]
    },
    {
     "name": "stdout",
     "output_type": "stream",
     "text": [
      "Perte moyenne d'entraînement: 1.5489\n",
      "\n",
      "Évaluation sur l'ensemble de validation...\n"
     ]
    },
    {
     "name": "stderr",
     "output_type": "stream",
     "text": [
      "Évaluation: 100%|██████████| 15/15 [00:12<00:00,  1.19it/s]\n"
     ]
    },
    {
     "name": "stdout",
     "output_type": "stream",
     "text": [
      "Précision: 0.3534\n",
      "\n",
      "Évaluation finale...\n"
     ]
    },
    {
     "name": "stderr",
     "output_type": "stream",
     "text": [
      "Évaluation: 100%|██████████| 15/15 [00:13<00:00,  1.11it/s]\n",
      "/usr/local/lib/python3.12/site-packages/sklearn/metrics/_classification.py:1565: UndefinedMetricWarning: Precision is ill-defined and being set to 0.0 in labels with no predicted samples. Use `zero_division` parameter to control this behavior.\n",
      "  _warn_prf(average, modifier, f\"{metric.capitalize()} is\", len(result))\n",
      "/usr/local/lib/python3.12/site-packages/sklearn/metrics/_classification.py:1565: UndefinedMetricWarning: Precision is ill-defined and being set to 0.0 in labels with no predicted samples. Use `zero_division` parameter to control this behavior.\n",
      "  _warn_prf(average, modifier, f\"{metric.capitalize()} is\", len(result))\n",
      "/usr/local/lib/python3.12/site-packages/sklearn/metrics/_classification.py:1565: UndefinedMetricWarning: Precision is ill-defined and being set to 0.0 in labels with no predicted samples. Use `zero_division` parameter to control this behavior.\n",
      "  _warn_prf(average, modifier, f\"{metric.capitalize()} is\", len(result))\n"
     ]
    },
    {
     "name": "stdout",
     "output_type": "stream",
     "text": [
      "\n",
      "Rapport de classification:\n",
      "              precision    recall  f1-score   support\n",
      "\n",
      "           0       0.38      0.48      0.42        29\n",
      "           1       0.34      0.90      0.50        30\n",
      "           2       0.00      0.00      0.00        26\n",
      "           3       0.00      0.00      0.00        17\n",
      "           4       0.00      0.00      0.00        14\n",
      "\n",
      "    accuracy                           0.35       116\n",
      "   macro avg       0.14      0.28      0.18       116\n",
      "weighted avg       0.18      0.35      0.23       116\n",
      "\n",
      "\n",
      "Modèle sauvegardé à ./model_camembert_classification\n",
      "\n",
      "Exemple d'utilisation du modèle pour de nouvelles prédictions:\n",
      "```python\n",
      "from transformers import CamembertTokenizer, CamembertForSequenceClassification\n",
      "import torch\n",
      "import pickle\n",
      "\n",
      "# Charger le modèle et le tokenizer\n",
      "model_path = './model_camembert_classification'\n",
      "tokenizer = CamembertTokenizer.from_pretrained(model_path)\n",
      "model = CamembertForSequenceClassification.from_pretrained(model_path)\n",
      "\n",
      "# Charger le label_encoder\n",
      "with open(f'{model_path}/label_encoder.pkl', 'rb') as f:\n",
      "    label_encoder = pickle.load(f)\n",
      "\n",
      "# Fonction de prédiction\n",
      "def predict(text):\n",
      "    inputs = tokenizer(text, return_tensors='pt', truncation=True, padding=True)\n",
      "    with torch.no_grad():\n",
      "        outputs = model(**inputs)\n",
      "    prediction_idx = torch.argmax(outputs.logits, dim=1).item()\n",
      "    # Convertir l'indice prédit en catégorie originale\n",
      "    original_category = label_encoder.inverse_transform([prediction_idx])[0]\n",
      "    return original_category\n",
      "\n",
      "# Exemple\n",
      "texte = 'Votre offre d emploi à analyser'\n",
      "categorie = predict(texte)\n",
      "print(f'Catégorie prédite: {categorie}')\n",
      "```\n"
     ]
    }
   ],
   "source": [
    "import torch\n",
    "import numpy as np\n",
    "import pandas as pd\n",
    "from sklearn.model_selection import train_test_split\n",
    "from sklearn.metrics import classification_report\n",
    "from sklearn.preprocessing import LabelEncoder\n",
    "from transformers import CamembertTokenizer, CamembertForSequenceClassification\n",
    "from torch.utils.data import DataLoader, TensorDataset\n",
    "from tqdm import tqdm\n",
    "\n",
    "# Afficher les versions des bibliothèques\n",
    "import transformers\n",
    "print(f\"Version de transformers: {transformers.__version__}\")\n",
    "\n",
    "# Charger les données\n",
    "df = df.dropna(subset=['offre_emploi', 'catégories'])\n",
    "\n",
    "# IMPORTANT: S'assurer que les étiquettes commencent à 0 et sont consécutives\n",
    "print(f\"Valeurs uniques dans catégories avant transformation: {sorted(df['catégories'].unique())}\")\n",
    "label_encoder = LabelEncoder()\n",
    "df['catégories_encoded'] = label_encoder.fit_transform(df['catégories'])\n",
    "print(f\"Valeurs uniques dans catégories après transformation: {sorted(df['catégories_encoded'].unique())}\")\n",
    "\n",
    "# Séparation en train/test\n",
    "X_train, X_test, y_train, y_test = train_test_split(\n",
    "    df[['offre_emploi']], df['catégories_encoded'], test_size=0.2, random_state=42, stratify=df['catégories_encoded']\n",
    ")\n",
    "\n",
    "# Tokenizer Camembert\n",
    "tokenizer = CamembertTokenizer.from_pretrained('camembert-base')\n",
    "\n",
    "# Préparation des données pour PyTorch (sans utiliser datasets)\n",
    "def prepare_data(texts, labels):\n",
    "    # Tokenization\n",
    "    encodings = tokenizer(\n",
    "        texts.tolist(), \n",
    "        truncation=True, \n",
    "        padding='max_length', \n",
    "        max_length=128,\n",
    "        return_tensors='pt'\n",
    "    )\n",
    "    \n",
    "    # Créer des tenseurs\n",
    "    input_ids = encodings['input_ids']\n",
    "    attention_mask = encodings['attention_mask']\n",
    "    labels_tensor = torch.tensor(labels.values)\n",
    "    \n",
    "    # Créer un TensorDataset\n",
    "    dataset = TensorDataset(input_ids, attention_mask, labels_tensor)\n",
    "    return dataset\n",
    "\n",
    "# Préparer les datasets\n",
    "train_dataset = prepare_data(X_train['offre_emploi'], y_train)\n",
    "test_dataset = prepare_data(X_test['offre_emploi'], y_test)\n",
    "\n",
    "# DataLoaders\n",
    "batch_size = 8\n",
    "train_dataloader = DataLoader(train_dataset, batch_size=batch_size, shuffle=True)\n",
    "test_dataloader = DataLoader(test_dataset, batch_size=batch_size)\n",
    "\n",
    "# Modèle\n",
    "num_labels = len(label_encoder.classes_)\n",
    "print(f\"Nombre de classes: {num_labels}\")\n",
    "model = CamembertForSequenceClassification.from_pretrained('camembert-base', num_labels=num_labels)\n",
    "\n",
    "# Vérifier si CUDA est disponible\n",
    "device = torch.device('cuda' if torch.cuda.is_available() else 'cpu')\n",
    "print(f\"Utilisation de l'appareil: {device}\")\n",
    "model.to(device)\n",
    "\n",
    "# Paramètres d'entraînement\n",
    "optimizer = torch.optim.AdamW(model.parameters(), lr=2e-5, weight_decay=0.01)\n",
    "num_epochs = 3\n",
    "total_steps = len(train_dataloader) * num_epochs\n",
    "scheduler = torch.optim.lr_scheduler.OneCycleLR(optimizer, max_lr=2e-5, total_steps=total_steps)\n",
    "\n",
    "# Fonction d'entraînement\n",
    "def train_epoch(model, dataloader, optimizer, scheduler, device):\n",
    "    model.train()\n",
    "    total_loss = 0\n",
    "    \n",
    "    progress_bar = tqdm(dataloader, desc=\"Entraînement\")\n",
    "    for batch in progress_bar:\n",
    "        batch = tuple(b.to(device) for b in batch)\n",
    "        input_ids, attention_mask, labels = batch\n",
    "        \n",
    "        # Forward pass\n",
    "        outputs = model(input_ids=input_ids, attention_mask=attention_mask, labels=labels)\n",
    "        loss = outputs.loss\n",
    "        total_loss += loss.item()\n",
    "        \n",
    "        # Backpropagation\n",
    "        loss.backward()\n",
    "        torch.nn.utils.clip_grad_norm_(model.parameters(), 1.0)\n",
    "        optimizer.step()\n",
    "        scheduler.step()\n",
    "        optimizer.zero_grad()\n",
    "        \n",
    "        # Update progress bar\n",
    "        progress_bar.set_postfix({'loss': f'{loss.item():.4f}'})\n",
    "    \n",
    "    return total_loss / len(dataloader)\n",
    "\n",
    "# Fonction d'évaluation\n",
    "def evaluate(model, dataloader, device):\n",
    "    model.eval()\n",
    "    predictions = []\n",
    "    true_labels = []\n",
    "    \n",
    "    with torch.no_grad():\n",
    "        for batch in tqdm(dataloader, desc=\"Évaluation\"):\n",
    "            batch = tuple(b.to(device) for b in batch)\n",
    "            input_ids, attention_mask, labels = batch\n",
    "            \n",
    "            outputs = model(input_ids=input_ids, attention_mask=attention_mask)\n",
    "            logits = outputs.logits\n",
    "            \n",
    "            # Convertir les logits en prédictions\n",
    "            preds = torch.argmax(logits, dim=1).cpu().numpy()\n",
    "            \n",
    "            predictions.extend(preds)\n",
    "            true_labels.extend(labels.cpu().numpy())\n",
    "    \n",
    "    return predictions, true_labels\n",
    "\n",
    "# Boucle d'entraînement\n",
    "print(\"Début de l'entraînement...\")\n",
    "for epoch in range(num_epochs):\n",
    "    print(f\"\\nEpoch {epoch+1}/{num_epochs}\")\n",
    "    \n",
    "    # Entraînement\n",
    "    avg_train_loss = train_epoch(model, train_dataloader, optimizer, scheduler, device)\n",
    "    print(f\"Perte moyenne d'entraînement: {avg_train_loss:.4f}\")\n",
    "    \n",
    "    # Évaluation\n",
    "    print(\"\\nÉvaluation sur l'ensemble de validation...\")\n",
    "    predictions, true_labels = evaluate(model, test_dataloader, device)\n",
    "    \n",
    "    # Calcul des métriques\n",
    "    accuracy = (np.array(predictions) == np.array(true_labels)).mean()\n",
    "    print(f\"Précision: {accuracy:.4f}\")\n",
    "\n",
    "# Évaluation finale\n",
    "print(\"\\nÉvaluation finale...\")\n",
    "predictions, true_labels = evaluate(model, test_dataloader, device)\n",
    "print(\"\\nRapport de classification:\")\n",
    "print(classification_report(true_labels, predictions))\n",
    "\n",
    "# Sauvegarder le modèle et le label_encoder\n",
    "import pickle\n",
    "model_path = \"./model_camembert_classification\"\n",
    "model.save_pretrained(model_path)\n",
    "tokenizer.save_pretrained(model_path)\n",
    "# Sauvegarder aussi le label_encoder pour pouvoir reconvertir les prédictions\n",
    "with open(f\"{model_path}/label_encoder.pkl\", \"wb\") as f:\n",
    "    pickle.dump(label_encoder, f)\n",
    "print(f\"\\nModèle sauvegardé à {model_path}\")\n",
    "\n",
    "# Comment utiliser le modèle pour de nouvelles prédictions\n",
    "print(\"\\nExemple d'utilisation du modèle pour de nouvelles prédictions:\")\n",
    "print(\"```python\")\n",
    "print(\"from transformers import CamembertTokenizer, CamembertForSequenceClassification\")\n",
    "print(\"import torch\")\n",
    "print(\"import pickle\")\n",
    "print(\"\")\n",
    "print(\"# Charger le modèle et le tokenizer\")\n",
    "print(\"model_path = './model_camembert_classification'\")\n",
    "print(\"tokenizer = CamembertTokenizer.from_pretrained(model_path)\")\n",
    "print(\"model = CamembertForSequenceClassification.from_pretrained(model_path)\")\n",
    "print(\"\")\n",
    "print(\"# Charger le label_encoder\")\n",
    "print(\"with open(f'{model_path}/label_encoder.pkl', 'rb') as f:\")\n",
    "print(\"    label_encoder = pickle.load(f)\")\n",
    "print(\"\")\n",
    "print(\"# Fonction de prédiction\")\n",
    "print(\"def predict(text):\")\n",
    "print(\"    inputs = tokenizer(text, return_tensors='pt', truncation=True, padding=True)\")\n",
    "print(\"    with torch.no_grad():\")\n",
    "print(\"        outputs = model(**inputs)\")\n",
    "print(\"    prediction_idx = torch.argmax(outputs.logits, dim=1).item()\")\n",
    "print(\"    # Convertir l'indice prédit en catégorie originale\")\n",
    "print(\"    original_category = label_encoder.inverse_transform([prediction_idx])[0]\")\n",
    "print(\"    return original_category\")\n",
    "print(\"\")\n",
    "print(\"# Exemple\")\n",
    "print(\"texte = 'Votre offre d emploi à analyser'\")\n",
    "print(\"categorie = predict(texte)\")\n",
    "print(\"print(f'Catégorie prédite: {categorie}')\")\n",
    "print(\"```\")"
   ]
  },
  {
   "cell_type": "markdown",
   "metadata": {},
   "source": [
    "## **IV. Stats desc**"
   ]
  }
 ],
 "metadata": {
  "kernelspec": {
   "display_name": "Python 3",
   "language": "python",
   "name": "python3"
  },
  "language_info": {
   "codemirror_mode": {
    "name": "ipython",
    "version": 3
   },
   "file_extension": ".py",
   "mimetype": "text/x-python",
   "name": "python",
   "nbconvert_exporter": "python",
   "pygments_lexer": "ipython3",
   "version": "3.12.3"
  }
 },
 "nbformat": 4,
 "nbformat_minor": 2
}
