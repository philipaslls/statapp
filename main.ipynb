{
 "cells": [
  {
   "cell_type": "markdown",
   "metadata": {},
   "source": [
    "## 📘 Documentation  \n",
    "➡️ [Voir le README du projet](https://github.com/philipython/statapp/blob/main/README.md)\n"
   ]
  },
  {
   "cell_type": "markdown",
   "metadata": {},
   "source": [
    "**Installs**"
   ]
  },
  {
   "cell_type": "code",
   "execution_count": 16,
   "metadata": {},
   "outputs": [
    {
     "name": "stdout",
     "output_type": "stream",
     "text": [
      "Requirement already satisfied: matplotlib in c:\\users\\stani\\appdata\\local\\programs\\python\\python312\\lib\\site-packages (3.10.1)\n",
      "Requirement already satisfied: contourpy>=1.0.1 in c:\\users\\stani\\appdata\\local\\programs\\python\\python312\\lib\\site-packages (from matplotlib) (1.3.1)\n",
      "Requirement already satisfied: cycler>=0.10 in c:\\users\\stani\\appdata\\local\\programs\\python\\python312\\lib\\site-packages (from matplotlib) (0.12.1)\n",
      "Requirement already satisfied: fonttools>=4.22.0 in c:\\users\\stani\\appdata\\local\\programs\\python\\python312\\lib\\site-packages (from matplotlib) (4.57.0)\n",
      "Requirement already satisfied: kiwisolver>=1.3.1 in c:\\users\\stani\\appdata\\local\\programs\\python\\python312\\lib\\site-packages (from matplotlib) (1.4.8)\n",
      "Requirement already satisfied: numpy>=1.23 in c:\\users\\stani\\appdata\\local\\programs\\python\\python312\\lib\\site-packages (from matplotlib) (2.2.4)\n",
      "Requirement already satisfied: packaging>=20.0 in c:\\users\\stani\\appdata\\roaming\\python\\python312\\site-packages (from matplotlib) (24.2)\n",
      "Requirement already satisfied: pillow>=8 in c:\\users\\stani\\appdata\\local\\programs\\python\\python312\\lib\\site-packages (from matplotlib) (11.2.1)\n",
      "Requirement already satisfied: pyparsing>=2.3.1 in c:\\users\\stani\\appdata\\local\\programs\\python\\python312\\lib\\site-packages (from matplotlib) (3.2.3)\n",
      "Requirement already satisfied: python-dateutil>=2.7 in c:\\users\\stani\\appdata\\roaming\\python\\python312\\site-packages (from matplotlib) (2.9.0.post0)\n",
      "Requirement already satisfied: six>=1.5 in c:\\users\\stani\\appdata\\roaming\\python\\python312\\site-packages (from python-dateutil>=2.7->matplotlib) (1.17.0)\n"
     ]
    },
    {
     "name": "stderr",
     "output_type": "stream",
     "text": [
      "\n",
      "[notice] A new release of pip is available: 24.3.1 -> 25.1.1\n",
      "[notice] To update, run: python.exe -m pip install --upgrade pip\n"
     ]
    },
    {
     "name": "stdout",
     "output_type": "stream",
     "text": [
      "Requirement already satisfied: nltk in c:\\users\\stani\\appdata\\local\\programs\\python\\python312\\lib\\site-packages (3.9.1)\n",
      "Requirement already satisfied: click in c:\\users\\stani\\appdata\\local\\programs\\python\\python312\\lib\\site-packages (from nltk) (8.1.8)\n",
      "Requirement already satisfied: joblib in c:\\users\\stani\\appdata\\local\\programs\\python\\python312\\lib\\site-packages (from nltk) (1.4.2)\n",
      "Requirement already satisfied: regex>=2021.8.3 in c:\\users\\stani\\appdata\\local\\programs\\python\\python312\\lib\\site-packages (from nltk) (2024.11.6)\n",
      "Requirement already satisfied: tqdm in c:\\users\\stani\\appdata\\local\\programs\\python\\python312\\lib\\site-packages (from nltk) (4.67.1)\n",
      "Requirement already satisfied: colorama in c:\\users\\stani\\appdata\\roaming\\python\\python312\\site-packages (from click->nltk) (0.4.6)\n"
     ]
    },
    {
     "name": "stderr",
     "output_type": "stream",
     "text": [
      "\n",
      "[notice] A new release of pip is available: 24.3.1 -> 25.1.1\n",
      "[notice] To update, run: python.exe -m pip install --upgrade pip\n"
     ]
    },
    {
     "name": "stdout",
     "output_type": "stream",
     "text": [
      "Requirement already satisfied: spacy in c:\\users\\stani\\appdata\\local\\programs\\python\\python312\\lib\\site-packages (3.8.5)\n",
      "Requirement already satisfied: spacy-legacy<3.1.0,>=3.0.11 in c:\\users\\stani\\appdata\\local\\programs\\python\\python312\\lib\\site-packages (from spacy) (3.0.12)\n",
      "Requirement already satisfied: spacy-loggers<2.0.0,>=1.0.0 in c:\\users\\stani\\appdata\\local\\programs\\python\\python312\\lib\\site-packages (from spacy) (1.0.5)\n",
      "Requirement already satisfied: murmurhash<1.1.0,>=0.28.0 in c:\\users\\stani\\appdata\\local\\programs\\python\\python312\\lib\\site-packages (from spacy) (1.0.12)\n",
      "Requirement already satisfied: cymem<2.1.0,>=2.0.2 in c:\\users\\stani\\appdata\\local\\programs\\python\\python312\\lib\\site-packages (from spacy) (2.0.11)\n",
      "Requirement already satisfied: preshed<3.1.0,>=3.0.2 in c:\\users\\stani\\appdata\\local\\programs\\python\\python312\\lib\\site-packages (from spacy) (3.0.9)\n",
      "Requirement already satisfied: thinc<8.4.0,>=8.3.4 in c:\\users\\stani\\appdata\\local\\programs\\python\\python312\\lib\\site-packages (from spacy) (8.3.6)\n",
      "Requirement already satisfied: wasabi<1.2.0,>=0.9.1 in c:\\users\\stani\\appdata\\local\\programs\\python\\python312\\lib\\site-packages (from spacy) (1.1.3)\n",
      "Requirement already satisfied: srsly<3.0.0,>=2.4.3 in c:\\users\\stani\\appdata\\local\\programs\\python\\python312\\lib\\site-packages (from spacy) (2.5.1)\n",
      "Requirement already satisfied: catalogue<2.1.0,>=2.0.6 in c:\\users\\stani\\appdata\\local\\programs\\python\\python312\\lib\\site-packages (from spacy) (2.0.10)\n",
      "Requirement already satisfied: weasel<0.5.0,>=0.1.0 in c:\\users\\stani\\appdata\\local\\programs\\python\\python312\\lib\\site-packages (from spacy) (0.4.1)\n",
      "Requirement already satisfied: typer<1.0.0,>=0.3.0 in c:\\users\\stani\\appdata\\local\\programs\\python\\python312\\lib\\site-packages (from spacy) (0.15.2)\n",
      "Requirement already satisfied: tqdm<5.0.0,>=4.38.0 in c:\\users\\stani\\appdata\\local\\programs\\python\\python312\\lib\\site-packages (from spacy) (4.67.1)\n",
      "Requirement already satisfied: numpy>=1.19.0 in c:\\users\\stani\\appdata\\local\\programs\\python\\python312\\lib\\site-packages (from spacy) (2.2.4)\n",
      "Requirement already satisfied: requests<3.0.0,>=2.13.0 in c:\\users\\stani\\appdata\\local\\programs\\python\\python312\\lib\\site-packages (from spacy) (2.32.3)\n",
      "Requirement already satisfied: pydantic!=1.8,!=1.8.1,<3.0.0,>=1.7.4 in c:\\users\\stani\\appdata\\local\\programs\\python\\python312\\lib\\site-packages (from spacy) (2.11.2)\n",
      "Requirement already satisfied: jinja2 in c:\\users\\stani\\appdata\\local\\programs\\python\\python312\\lib\\site-packages (from spacy) (3.1.6)\n",
      "Requirement already satisfied: setuptools in c:\\users\\stani\\appdata\\local\\programs\\python\\python312\\lib\\site-packages (from spacy) (78.1.0)\n",
      "Requirement already satisfied: packaging>=20.0 in c:\\users\\stani\\appdata\\roaming\\python\\python312\\site-packages (from spacy) (24.2)\n",
      "Requirement already satisfied: langcodes<4.0.0,>=3.2.0 in c:\\users\\stani\\appdata\\local\\programs\\python\\python312\\lib\\site-packages (from spacy) (3.5.0)\n",
      "Requirement already satisfied: language-data>=1.2 in c:\\users\\stani\\appdata\\local\\programs\\python\\python312\\lib\\site-packages (from langcodes<4.0.0,>=3.2.0->spacy) (1.3.0)\n",
      "Requirement already satisfied: annotated-types>=0.6.0 in c:\\users\\stani\\appdata\\local\\programs\\python\\python312\\lib\\site-packages (from pydantic!=1.8,!=1.8.1,<3.0.0,>=1.7.4->spacy) (0.7.0)\n",
      "Requirement already satisfied: pydantic-core==2.33.1 in c:\\users\\stani\\appdata\\local\\programs\\python\\python312\\lib\\site-packages (from pydantic!=1.8,!=1.8.1,<3.0.0,>=1.7.4->spacy) (2.33.1)\n",
      "Requirement already satisfied: typing-extensions>=4.12.2 in c:\\users\\stani\\appdata\\local\\programs\\python\\python312\\lib\\site-packages (from pydantic!=1.8,!=1.8.1,<3.0.0,>=1.7.4->spacy) (4.13.1)\n",
      "Requirement already satisfied: typing-inspection>=0.4.0 in c:\\users\\stani\\appdata\\local\\programs\\python\\python312\\lib\\site-packages (from pydantic!=1.8,!=1.8.1,<3.0.0,>=1.7.4->spacy) (0.4.0)\n",
      "Requirement already satisfied: charset-normalizer<4,>=2 in c:\\users\\stani\\appdata\\local\\programs\\python\\python312\\lib\\site-packages (from requests<3.0.0,>=2.13.0->spacy) (3.4.1)\n",
      "Requirement already satisfied: idna<4,>=2.5 in c:\\users\\stani\\appdata\\local\\programs\\python\\python312\\lib\\site-packages (from requests<3.0.0,>=2.13.0->spacy) (3.10)\n",
      "Requirement already satisfied: urllib3<3,>=1.21.1 in c:\\users\\stani\\appdata\\local\\programs\\python\\python312\\lib\\site-packages (from requests<3.0.0,>=2.13.0->spacy) (2.3.0)\n",
      "Requirement already satisfied: certifi>=2017.4.17 in c:\\users\\stani\\appdata\\local\\programs\\python\\python312\\lib\\site-packages (from requests<3.0.0,>=2.13.0->spacy) (2025.1.31)\n",
      "Requirement already satisfied: blis<1.4.0,>=1.3.0 in c:\\users\\stani\\appdata\\local\\programs\\python\\python312\\lib\\site-packages (from thinc<8.4.0,>=8.3.4->spacy) (1.3.0)\n",
      "Requirement already satisfied: confection<1.0.0,>=0.0.1 in c:\\users\\stani\\appdata\\local\\programs\\python\\python312\\lib\\site-packages (from thinc<8.4.0,>=8.3.4->spacy) (0.1.5)\n",
      "Requirement already satisfied: colorama in c:\\users\\stani\\appdata\\roaming\\python\\python312\\site-packages (from tqdm<5.0.0,>=4.38.0->spacy) (0.4.6)\n",
      "Requirement already satisfied: click>=8.0.0 in c:\\users\\stani\\appdata\\local\\programs\\python\\python312\\lib\\site-packages (from typer<1.0.0,>=0.3.0->spacy) (8.1.8)\n",
      "Requirement already satisfied: shellingham>=1.3.0 in c:\\users\\stani\\appdata\\local\\programs\\python\\python312\\lib\\site-packages (from typer<1.0.0,>=0.3.0->spacy) (1.5.4)\n",
      "Requirement already satisfied: rich>=10.11.0 in c:\\users\\stani\\appdata\\local\\programs\\python\\python312\\lib\\site-packages (from typer<1.0.0,>=0.3.0->spacy) (14.0.0)\n",
      "Requirement already satisfied: cloudpathlib<1.0.0,>=0.7.0 in c:\\users\\stani\\appdata\\local\\programs\\python\\python312\\lib\\site-packages (from weasel<0.5.0,>=0.1.0->spacy) (0.21.0)\n",
      "Requirement already satisfied: smart-open<8.0.0,>=5.2.1 in c:\\users\\stani\\appdata\\local\\programs\\python\\python312\\lib\\site-packages (from weasel<0.5.0,>=0.1.0->spacy) (7.1.0)\n",
      "Requirement already satisfied: MarkupSafe>=2.0 in c:\\users\\stani\\appdata\\local\\programs\\python\\python312\\lib\\site-packages (from jinja2->spacy) (3.0.2)\n",
      "Requirement already satisfied: marisa-trie>=1.1.0 in c:\\users\\stani\\appdata\\local\\programs\\python\\python312\\lib\\site-packages (from language-data>=1.2->langcodes<4.0.0,>=3.2.0->spacy) (1.2.1)\n",
      "Requirement already satisfied: markdown-it-py>=2.2.0 in c:\\users\\stani\\appdata\\local\\programs\\python\\python312\\lib\\site-packages (from rich>=10.11.0->typer<1.0.0,>=0.3.0->spacy) (3.0.0)\n",
      "Requirement already satisfied: pygments<3.0.0,>=2.13.0 in c:\\users\\stani\\appdata\\roaming\\python\\python312\\site-packages (from rich>=10.11.0->typer<1.0.0,>=0.3.0->spacy) (2.19.1)\n",
      "Requirement already satisfied: wrapt in c:\\users\\stani\\appdata\\local\\programs\\python\\python312\\lib\\site-packages (from smart-open<8.0.0,>=5.2.1->weasel<0.5.0,>=0.1.0->spacy) (1.17.2)\n",
      "Requirement already satisfied: mdurl~=0.1 in c:\\users\\stani\\appdata\\local\\programs\\python\\python312\\lib\\site-packages (from markdown-it-py>=2.2.0->rich>=10.11.0->typer<1.0.0,>=0.3.0->spacy) (0.1.2)\n"
     ]
    },
    {
     "name": "stderr",
     "output_type": "stream",
     "text": [
      "\n",
      "[notice] A new release of pip is available: 24.3.1 -> 25.1.1\n",
      "[notice] To update, run: python.exe -m pip install --upgrade pip\n"
     ]
    },
    {
     "name": "stdout",
     "output_type": "stream",
     "text": [
      "Collecting fr-core-news-sm==3.8.0\n",
      "  Downloading https://github.com/explosion/spacy-models/releases/download/fr_core_news_sm-3.8.0/fr_core_news_sm-3.8.0-py3-none-any.whl (16.3 MB)\n",
      "     ---------------------------------------- 0.0/16.3 MB ? eta -:--:--\n",
      "     --- ------------------------------------ 1.3/16.3 MB 8.4 MB/s eta 0:00:02\n",
      "     ------ --------------------------------- 2.6/16.3 MB 7.9 MB/s eta 0:00:02\n",
      "     ------ --------------------------------- 2.6/16.3 MB 7.9 MB/s eta 0:00:02\n",
      "     ------ --------------------------------- 2.6/16.3 MB 7.9 MB/s eta 0:00:02\n",
      "     --------- ------------------------------ 3.9/16.3 MB 3.6 MB/s eta 0:00:04\n",
      "     -------------- ------------------------- 5.8/16.3 MB 4.5 MB/s eta 0:00:03\n",
      "     -------------- ------------------------- 6.0/16.3 MB 4.6 MB/s eta 0:00:03\n",
      "     -------------- ------------------------- 6.0/16.3 MB 4.6 MB/s eta 0:00:03\n",
      "     -------------- ------------------------- 6.0/16.3 MB 4.6 MB/s eta 0:00:03\n",
      "     ------------------- -------------------- 7.9/16.3 MB 3.7 MB/s eta 0:00:03\n",
      "     ---------------------- ----------------- 9.2/16.3 MB 4.0 MB/s eta 0:00:02\n",
      "     ---------------------- ----------------- 9.2/16.3 MB 4.0 MB/s eta 0:00:02\n",
      "     ---------------------- ----------------- 9.2/16.3 MB 4.0 MB/s eta 0:00:02\n",
      "     ----------------------- ---------------- 9.7/16.3 MB 3.2 MB/s eta 0:00:03\n",
      "     --------------------------- ------------ 11.3/16.3 MB 3.5 MB/s eta 0:00:02\n",
      "     ----------------------------- ---------- 12.1/16.3 MB 3.7 MB/s eta 0:00:02\n",
      "     ----------------------------- ---------- 12.1/16.3 MB 3.7 MB/s eta 0:00:02\n",
      "     ----------------------------- ---------- 12.1/16.3 MB 3.7 MB/s eta 0:00:02\n",
      "     -------------------------------- ------- 13.4/16.3 MB 3.3 MB/s eta 0:00:01\n",
      "     ------------------------------------ --- 14.7/16.3 MB 3.5 MB/s eta 0:00:01\n",
      "     ------------------------------------ --- 14.7/16.3 MB 3.5 MB/s eta 0:00:01\n",
      "     ------------------------------------ --- 14.7/16.3 MB 3.5 MB/s eta 0:00:01\n",
      "     ------------------------------------ --- 14.7/16.3 MB 3.5 MB/s eta 0:00:01\n",
      "     ---------------------------------------  16.3/16.3 MB 3.2 MB/s eta 0:00:01\n",
      "     ---------------------------------------- 16.3/16.3 MB 3.2 MB/s eta 0:00:00\n",
      "\u001b[38;5;2m✔ Download and installation successful\u001b[0m\n",
      "You can now load the package via spacy.load('fr_core_news_sm')\n"
     ]
    },
    {
     "name": "stderr",
     "output_type": "stream",
     "text": [
      "\n",
      "[notice] A new release of pip is available: 24.3.1 -> 25.1.1\n",
      "[notice] To update, run: python.exe -m pip install --upgrade pip\n"
     ]
    },
    {
     "name": "stdout",
     "output_type": "stream",
     "text": [
      "Requirement already satisfied: scikit-learn in c:\\users\\stani\\appdata\\local\\programs\\python\\python312\\lib\\site-packages (1.6.1)\n",
      "Requirement already satisfied: numpy>=1.19.5 in c:\\users\\stani\\appdata\\local\\programs\\python\\python312\\lib\\site-packages (from scikit-learn) (2.2.4)\n",
      "Requirement already satisfied: scipy>=1.6.0 in c:\\users\\stani\\appdata\\local\\programs\\python\\python312\\lib\\site-packages (from scikit-learn) (1.15.2)\n",
      "Requirement already satisfied: joblib>=1.2.0 in c:\\users\\stani\\appdata\\local\\programs\\python\\python312\\lib\\site-packages (from scikit-learn) (1.4.2)\n",
      "Requirement already satisfied: threadpoolctl>=3.1.0 in c:\\users\\stani\\appdata\\local\\programs\\python\\python312\\lib\\site-packages (from scikit-learn) (3.6.0)\n"
     ]
    },
    {
     "name": "stderr",
     "output_type": "stream",
     "text": [
      "\n",
      "[notice] A new release of pip is available: 24.3.1 -> 25.1.1\n",
      "[notice] To update, run: python.exe -m pip install --upgrade pip\n"
     ]
    },
    {
     "name": "stdout",
     "output_type": "stream",
     "text": [
      "Requirement already satisfied: imbalanced-learn in c:\\users\\stani\\appdata\\local\\programs\\python\\python312\\lib\\site-packages (0.13.0)\n",
      "Requirement already satisfied: numpy<3,>=1.24.3 in c:\\users\\stani\\appdata\\local\\programs\\python\\python312\\lib\\site-packages (from imbalanced-learn) (2.2.4)\n",
      "Requirement already satisfied: scipy<2,>=1.10.1 in c:\\users\\stani\\appdata\\local\\programs\\python\\python312\\lib\\site-packages (from imbalanced-learn) (1.15.2)\n",
      "Requirement already satisfied: scikit-learn<2,>=1.3.2 in c:\\users\\stani\\appdata\\local\\programs\\python\\python312\\lib\\site-packages (from imbalanced-learn) (1.6.1)\n",
      "Requirement already satisfied: sklearn-compat<1,>=0.1 in c:\\users\\stani\\appdata\\local\\programs\\python\\python312\\lib\\site-packages (from imbalanced-learn) (0.1.3)\n",
      "Requirement already satisfied: joblib<2,>=1.1.1 in c:\\users\\stani\\appdata\\local\\programs\\python\\python312\\lib\\site-packages (from imbalanced-learn) (1.4.2)\n",
      "Requirement already satisfied: threadpoolctl<4,>=2.0.0 in c:\\users\\stani\\appdata\\local\\programs\\python\\python312\\lib\\site-packages (from imbalanced-learn) (3.6.0)\n"
     ]
    },
    {
     "name": "stderr",
     "output_type": "stream",
     "text": [
      "\n",
      "[notice] A new release of pip is available: 24.3.1 -> 25.1.1\n",
      "[notice] To update, run: python.exe -m pip install --upgrade pip\n"
     ]
    },
    {
     "name": "stdout",
     "output_type": "stream",
     "text": [
      "Requirement already satisfied: transformers in c:\\users\\stani\\appdata\\local\\programs\\python\\python312\\lib\\site-packages (4.51.1)\n",
      "Requirement already satisfied: filelock in c:\\users\\stani\\appdata\\local\\programs\\python\\python312\\lib\\site-packages (from transformers) (3.18.0)\n",
      "Requirement already satisfied: huggingface-hub<1.0,>=0.30.0 in c:\\users\\stani\\appdata\\local\\programs\\python\\python312\\lib\\site-packages (from transformers) (0.30.2)\n",
      "Requirement already satisfied: numpy>=1.17 in c:\\users\\stani\\appdata\\local\\programs\\python\\python312\\lib\\site-packages (from transformers) (2.2.4)\n",
      "Requirement already satisfied: packaging>=20.0 in c:\\users\\stani\\appdata\\roaming\\python\\python312\\site-packages (from transformers) (24.2)\n",
      "Requirement already satisfied: pyyaml>=5.1 in c:\\users\\stani\\appdata\\local\\programs\\python\\python312\\lib\\site-packages (from transformers) (6.0.2)\n",
      "Requirement already satisfied: regex!=2019.12.17 in c:\\users\\stani\\appdata\\local\\programs\\python\\python312\\lib\\site-packages (from transformers) (2024.11.6)\n",
      "Requirement already satisfied: requests in c:\\users\\stani\\appdata\\local\\programs\\python\\python312\\lib\\site-packages (from transformers) (2.32.3)\n",
      "Requirement already satisfied: tokenizers<0.22,>=0.21 in c:\\users\\stani\\appdata\\local\\programs\\python\\python312\\lib\\site-packages (from transformers) (0.21.1)\n",
      "Requirement already satisfied: safetensors>=0.4.3 in c:\\users\\stani\\appdata\\local\\programs\\python\\python312\\lib\\site-packages (from transformers) (0.5.3)\n",
      "Requirement already satisfied: tqdm>=4.27 in c:\\users\\stani\\appdata\\local\\programs\\python\\python312\\lib\\site-packages (from transformers) (4.67.1)\n",
      "Requirement already satisfied: fsspec>=2023.5.0 in c:\\users\\stani\\appdata\\local\\programs\\python\\python312\\lib\\site-packages (from huggingface-hub<1.0,>=0.30.0->transformers) (2025.3.2)\n",
      "Requirement already satisfied: typing-extensions>=3.7.4.3 in c:\\users\\stani\\appdata\\local\\programs\\python\\python312\\lib\\site-packages (from huggingface-hub<1.0,>=0.30.0->transformers) (4.13.1)\n",
      "Requirement already satisfied: colorama in c:\\users\\stani\\appdata\\roaming\\python\\python312\\site-packages (from tqdm>=4.27->transformers) (0.4.6)\n",
      "Requirement already satisfied: charset-normalizer<4,>=2 in c:\\users\\stani\\appdata\\local\\programs\\python\\python312\\lib\\site-packages (from requests->transformers) (3.4.1)\n",
      "Requirement already satisfied: idna<4,>=2.5 in c:\\users\\stani\\appdata\\local\\programs\\python\\python312\\lib\\site-packages (from requests->transformers) (3.10)\n",
      "Requirement already satisfied: urllib3<3,>=1.21.1 in c:\\users\\stani\\appdata\\local\\programs\\python\\python312\\lib\\site-packages (from requests->transformers) (2.3.0)\n",
      "Requirement already satisfied: certifi>=2017.4.17 in c:\\users\\stani\\appdata\\local\\programs\\python\\python312\\lib\\site-packages (from requests->transformers) (2025.1.31)\n"
     ]
    },
    {
     "name": "stderr",
     "output_type": "stream",
     "text": [
      "\n",
      "[notice] A new release of pip is available: 24.3.1 -> 25.1.1\n",
      "[notice] To update, run: python.exe -m pip install --upgrade pip\n"
     ]
    },
    {
     "name": "stdout",
     "output_type": "stream",
     "text": [
      "Requirement already satisfied: torch in c:\\users\\stani\\appdata\\local\\programs\\python\\python312\\lib\\site-packages (2.6.0)\n",
      "Requirement already satisfied: filelock in c:\\users\\stani\\appdata\\local\\programs\\python\\python312\\lib\\site-packages (from torch) (3.18.0)\n",
      "Requirement already satisfied: typing-extensions>=4.10.0 in c:\\users\\stani\\appdata\\local\\programs\\python\\python312\\lib\\site-packages (from torch) (4.13.1)\n",
      "Requirement already satisfied: networkx in c:\\users\\stani\\appdata\\local\\programs\\python\\python312\\lib\\site-packages (from torch) (3.4.2)\n",
      "Requirement already satisfied: jinja2 in c:\\users\\stani\\appdata\\local\\programs\\python\\python312\\lib\\site-packages (from torch) (3.1.6)\n",
      "Requirement already satisfied: fsspec in c:\\users\\stani\\appdata\\local\\programs\\python\\python312\\lib\\site-packages (from torch) (2025.3.2)\n",
      "Requirement already satisfied: setuptools in c:\\users\\stani\\appdata\\local\\programs\\python\\python312\\lib\\site-packages (from torch) (78.1.0)\n",
      "Requirement already satisfied: sympy==1.13.1 in c:\\users\\stani\\appdata\\local\\programs\\python\\python312\\lib\\site-packages (from torch) (1.13.1)\n",
      "Requirement already satisfied: mpmath<1.4,>=1.1.0 in c:\\users\\stani\\appdata\\local\\programs\\python\\python312\\lib\\site-packages (from sympy==1.13.1->torch) (1.3.0)\n",
      "Requirement already satisfied: MarkupSafe>=2.0 in c:\\users\\stani\\appdata\\local\\programs\\python\\python312\\lib\\site-packages (from jinja2->torch) (3.0.2)\n"
     ]
    },
    {
     "name": "stderr",
     "output_type": "stream",
     "text": [
      "\n",
      "[notice] A new release of pip is available: 24.3.1 -> 25.1.1\n",
      "[notice] To update, run: python.exe -m pip install --upgrade pip\n"
     ]
    },
    {
     "name": "stdout",
     "output_type": "stream",
     "text": [
      "Requirement already satisfied: sentencepiece in c:\\users\\stani\\appdata\\local\\programs\\python\\python312\\lib\\site-packages (0.2.0)\n"
     ]
    },
    {
     "name": "stderr",
     "output_type": "stream",
     "text": [
      "\n",
      "[notice] A new release of pip is available: 24.3.1 -> 25.1.1\n",
      "[notice] To update, run: python.exe -m pip install --upgrade pip\n"
     ]
    },
    {
     "name": "stdout",
     "output_type": "stream",
     "text": [
      "Requirement already satisfied: xgboost in c:\\users\\stani\\appdata\\local\\programs\\python\\python312\\lib\\site-packages (3.0.0)\n",
      "Requirement already satisfied: numpy in c:\\users\\stani\\appdata\\local\\programs\\python\\python312\\lib\\site-packages (from xgboost) (2.2.4)\n",
      "Requirement already satisfied: scipy in c:\\users\\stani\\appdata\\local\\programs\\python\\python312\\lib\\site-packages (from xgboost) (1.15.2)\n"
     ]
    },
    {
     "name": "stderr",
     "output_type": "stream",
     "text": [
      "\n",
      "[notice] A new release of pip is available: 24.3.1 -> 25.1.1\n",
      "[notice] To update, run: python.exe -m pip install --upgrade pip\n"
     ]
    },
    {
     "name": "stdout",
     "output_type": "stream",
     "text": [
      "Requirement already satisfied: pandas in c:\\users\\stani\\appdata\\local\\programs\\python\\python312\\lib\\site-packages (2.2.3)\n",
      "Requirement already satisfied: requests in c:\\users\\stani\\appdata\\local\\programs\\python\\python312\\lib\\site-packages (2.32.3)\n",
      "Requirement already satisfied: numpy>=1.26.0 in c:\\users\\stani\\appdata\\local\\programs\\python\\python312\\lib\\site-packages (from pandas) (2.2.4)\n",
      "Requirement already satisfied: python-dateutil>=2.8.2 in c:\\users\\stani\\appdata\\roaming\\python\\python312\\site-packages (from pandas) (2.9.0.post0)\n",
      "Requirement already satisfied: pytz>=2020.1 in c:\\users\\stani\\appdata\\local\\programs\\python\\python312\\lib\\site-packages (from pandas) (2025.2)\n",
      "Requirement already satisfied: tzdata>=2022.7 in c:\\users\\stani\\appdata\\local\\programs\\python\\python312\\lib\\site-packages (from pandas) (2025.2)\n",
      "Requirement already satisfied: charset-normalizer<4,>=2 in c:\\users\\stani\\appdata\\local\\programs\\python\\python312\\lib\\site-packages (from requests) (3.4.1)\n",
      "Requirement already satisfied: idna<4,>=2.5 in c:\\users\\stani\\appdata\\local\\programs\\python\\python312\\lib\\site-packages (from requests) (3.10)\n",
      "Requirement already satisfied: urllib3<3,>=1.21.1 in c:\\users\\stani\\appdata\\local\\programs\\python\\python312\\lib\\site-packages (from requests) (2.3.0)\n",
      "Requirement already satisfied: certifi>=2017.4.17 in c:\\users\\stani\\appdata\\local\\programs\\python\\python312\\lib\\site-packages (from requests) (2025.1.31)\n",
      "Requirement already satisfied: six>=1.5 in c:\\users\\stani\\appdata\\roaming\\python\\python312\\site-packages (from python-dateutil>=2.8.2->pandas) (1.17.0)\n"
     ]
    },
    {
     "name": "stderr",
     "output_type": "stream",
     "text": [
      "\n",
      "[notice] A new release of pip is available: 24.3.1 -> 25.1.1\n",
      "[notice] To update, run: python.exe -m pip install --upgrade pip\n"
     ]
    },
    {
     "name": "stdout",
     "output_type": "stream",
     "text": [
      "Requirement already satisfied: tqdm in c:\\users\\stani\\appdata\\local\\programs\\python\\python312\\lib\\site-packages (4.67.1)\n",
      "Requirement already satisfied: colorama in c:\\users\\stani\\appdata\\roaming\\python\\python312\\site-packages (from tqdm) (0.4.6)\n"
     ]
    },
    {
     "name": "stderr",
     "output_type": "stream",
     "text": [
      "\n",
      "[notice] A new release of pip is available: 24.3.1 -> 25.1.1\n",
      "[notice] To update, run: python.exe -m pip install --upgrade pip\n"
     ]
    }
   ],
   "source": [
    "!pip install matplotlib\n",
    "!pip install nltk\n",
    "!pip install spacy\n",
    "!python -m spacy download fr_core_news_sm\n",
    "!pip install scikit-learn\n",
    "!pip install imbalanced-learn\n",
    "!pip install transformers\n",
    "!pip install torch\n",
    "!pip install sentencepiece\n",
    "!pip install xgboost\n",
    "!pip install pandas requests\n",
    "!pip install tqdm"
   ]
  },
  {
   "cell_type": "markdown",
   "metadata": {},
   "source": [
    "**Requirements**"
   ]
  },
  {
   "cell_type": "code",
   "execution_count": 1,
   "metadata": {},
   "outputs": [
    {
     "name": "stderr",
     "output_type": "stream",
     "text": [
      "c:\\Users\\stani\\AppData\\Local\\Programs\\Python\\Python312\\Lib\\site-packages\\tqdm\\auto.py:21: TqdmWarning: IProgress not found. Please update jupyter and ipywidgets. See https://ipywidgets.readthedocs.io/en/stable/user_install.html\n",
      "  from .autonotebook import tqdm as notebook_tqdm\n"
     ]
    }
   ],
   "source": [
    "import spacy  \n",
    "import pandas as pd  \n",
    "import numpy as np\n",
    "import matplotlib.pyplot as plt\n",
    "from collections import Counter\n",
    "import math\n",
    "import re  \n",
    "import nltk \n",
    "from nltk.corpus import stopwords  \n",
    "import joblib\n",
    "import os\n",
    "from sklearn.model_selection import train_test_split\n",
    "from sklearn.feature_extraction.text import TfidfVectorizer\n",
    "from sklearn.naive_bayes import MultinomialNB\n",
    "from sklearn.pipeline import Pipeline\n",
    "from sklearn.ensemble import RandomForestClassifier\n",
    "from sklearn.metrics import accuracy_score, classification_report, confusion_matrix\n",
    "from imblearn.over_sampling import SMOTE\n",
    "from sklearn.linear_model import LogisticRegression\n",
    "from sklearn.base import TransformerMixin, BaseEstimator\n",
    "import torch\n",
    "from transformers import CamembertTokenizer, CamembertForSequenceClassification\n",
    "from torch.utils.data import DataLoader, TensorDataset\n",
    "from tqdm import tqdm"
   ]
  },
  {
   "cell_type": "markdown",
   "metadata": {},
   "source": [
    "## 0) **Accès au dataset** (-> accès au dataset sur onyxia , cleaning , lematisation ... )"
   ]
  },
  {
   "cell_type": "markdown",
   "metadata": {},
   "source": [
    "**Accès Jocas**"
   ]
  },
  {
   "cell_type": "code",
   "execution_count": null,
   "metadata": {},
   "outputs": [],
   "source": [
    "import os\n",
    "import s3fs\n",
    "import pandas as pd\n",
    "\n",
    "fs = s3fs.S3FileSystem(\n",
    "    key=os.environ[\"AWS_ACCESS_KEY_ID\"],\n",
    "    secret=os.environ[\"AWS_SECRET_ACCESS_KEY\"],\n",
    "    token=os.environ[\"AWS_SESSION_TOKEN\"],\n",
    "    client_kwargs={\"endpoint_url\": \"https://minio.lab.sspcloud.fr\"}\n",
    ")\n",
    "\n",
    "df = pd.read_parquet(\n",
    "    'projet-jocas-prod/diffusion/JOCAS/annee=2022/mois=12/20221231_offers_0.parquet',\n",
    "    filesystem=fs\n",
    ")\n",
    "\n",
    "df.to_csv('/Users/caroline/Downloads/jocas_2022_12.csv', index=False)"
   ]
  },
  {
   "cell_type": "markdown",
   "metadata": {},
   "source": [
    "Import d'un sous ensemble de Jocas"
   ]
  },
  {
   "cell_type": "code",
   "execution_count": 11,
   "metadata": {},
   "outputs": [
    {
     "name": "stdout",
     "output_type": "stream",
     "text": [
      "                     job_title contractType  \\\n",
      "0               Cordiste (H/F)          MIS   \n",
      "1  Employé libre service (H/F)          MIS   \n",
      "2   Tuyauteur industriel (H/F)   Alternance   \n",
      "3         Data scientist (H/F)        Stage   \n",
      "4             Chirurgien (H/F)          CDI   \n",
      "\n",
      "                                     description_job  \\\n",
      "0  Votre agence R INTERIM Tarbes recherche pour l...   \n",
      "1  R intérim 41 Rue Jules Ferry à Saint-Brieuc In...   \n",
      "2  R Interim recherche un tuyauteur pour l'un de ...   \n",
      "3  Rejoignez un collectif animé par le goût du dé...   \n",
      "4  Emploi Chirurgien Gynécologue Coutances 50 : U...   \n",
      "\n",
      "                                  description_profil  \\\n",
      "0  Vous êtes titulaire d'un CQP ou d'un diplôme d...   \n",
      "1  Vous avez le sens du service et vous vous adap...   \n",
      "2  Fort d'une première expérience ou stage en tuy...   \n",
      "3                                                NaN   \n",
      "4  Chirurgien Gynécologue - inscrit/inscriptible ...   \n",
      "\n",
      "                              description_entreprise  \\\n",
      "0  REGIONAL INTERIM ET R INTERIM, BTP, industrie,...   \n",
      "1  REGIONAL INTERIM ET R INTERIM, BTP, industrie,...   \n",
      "2  REGIONAL INTERIM ET R INTERIM, BTP, industrie,...   \n",
      "3  Rejoignez un collectif animé par le goût du dé...   \n",
      "4  Offre emploi Chirurgien Gynécologue dans une c...   \n",
      "\n",
      "                 entreprise_nom  \\\n",
      "0  REGIONAL INTERIM | R INTERIM   \n",
      "1  REGIONAL INTERIM | R INTERIM   \n",
      "2  REGIONAL INTERIM | R INTERIM   \n",
      "3                     CDISCOUNT   \n",
      "4                    JOBERGROUP   \n",
      "\n",
      "                                        offre_emploi  \n",
      "0  Votre agence R INTERIM Tarbes recherche pour l...  \n",
      "1  R intérim 41 Rue Jules Ferry à Saint-Brieuc In...  \n",
      "2  R Interim recherche un tuyauteur pour l'un de ...  \n",
      "3  Rejoignez un collectif animé par le goût du dé...  \n",
      "4  Emploi Chirurgien Gynécologue Coutances 50 : U...  \n"
     ]
    }
   ],
   "source": [
    "#import du fichier \n",
    "\n",
    "file_path = os.path.join(os.getcwd(),\"csv's\", \"20220913_offers.csv\")\n",
    "df = pd.read_csv(file_path, sep=\";\", low_memory=False)\n",
    "\n",
    "columns = [\"job_title\", \"contractType\", \"description_job\",\"description_profil\", \"description_entreprise\",\"entreprise_nom\"]\n",
    "df = df[columns]\n",
    "df['offre_emploi'] = df[['description_job', 'description_profil', 'description_entreprise']].apply(\n",
    "    lambda x: ' '.join(x.dropna()), axis=1\n",
    ")\n",
    "\n",
    "print(df.head())"
   ]
  },
  {
   "cell_type": "markdown",
   "metadata": {},
   "source": [
    "**Lémmatisation**"
   ]
  },
  {
   "cell_type": "code",
   "execution_count": null,
   "metadata": {},
   "outputs": [],
   "source": [
    "df[\"offre_emploi\"] = df[\"offre_emploi\"].str.lower()\n",
    "\n",
    "nltk.download('stopwords')  \n",
    "stop_words = set(stopwords.words('french'))\n",
    "\n",
    "nlp = spacy.load(\"fr_core_news_sm\")\n",
    "\n",
    "# Fonction de nettoyage avec lemmatisation\n",
    "def clean_and_lemmatize(text):\n",
    "    if isinstance(text, str):  \n",
    "        text = text.lower()  # Minuscule\n",
    "        text = re.sub(r'\\d+', '', text)  # Suppression des chiffres\n",
    "        text = re.sub(r'[^\\w\\s]', '', text)  # Suppression de la ponctuation\n",
    "        doc = nlp(text)  # Analyse du texte avec SpaCy\n",
    "        words = [token.lemma_ for token in doc if token.text not in stop_words]  # Lemmatisation + suppression stopwords\n",
    "        return \" \".join(words)  # Reconstituer le texte nettoyé\n",
    "    return \"\"\n",
    "\n",
    "df[\"offre_emploi\"] = df[\"offre_emploi\"].apply(clean_and_lemmatize)"
   ]
  },
  {
   "cell_type": "markdown",
   "metadata": {},
   "source": [
    "## **I. Approche naïve**"
   ]
  },
  {
   "cell_type": "code",
   "execution_count": 12,
   "metadata": {},
   "outputs": [],
   "source": [
    "file_path = os.path.join(os.getcwd(),\"csv's\", \"lematised700.csv\")\n",
    "df = pd.read_csv(file_path, sep=\",\", low_memory=False)\n",
    "cols_to_merge = [col for col in df.columns if col.lower() != \"catégories\"]\n",
    "df[\"offre_emploi\"] = df[cols_to_merge].apply(lambda x: \" \".join(x.dropna().astype(str)), axis=1)"
   ]
  },
  {
   "cell_type": "markdown",
   "metadata": {},
   "source": [
    "Classification **TF**"
   ]
  },
  {
   "cell_type": "code",
   "execution_count": 7,
   "metadata": {},
   "outputs": [
    {
     "data": {
      "image/png": "[encoded data removed]",
      "text/plain": [
       "<Figure size 800x600 with 1 Axes>"
      ]
     },
     "metadata": {},
     "output_type": "display_data"
    }
   ],
   "source": [
    "#première classification : on regarde le nombre d'occurrences de chaque mot associé à chaque \n",
    "#catégorie, à partir de là on établit un score pour chaque catégorie et on assigne à une offre \n",
    "#d'emploi la catégorie pour laquelle le score est le plus élevé \n",
    "\n",
    "\n",
    "#Fonction de classification et dict. de mots‑clés (5 catégories seulement) ---\n",
    "def classify_offer(text, keywords_dict):\n",
    "    scores = {cat: 0 for cat in keywords_dict}\n",
    "    for cat, kws in keywords_dict.items():\n",
    "        scores[cat] += sum(text.lower().count(k.lower()) for k in kws)\n",
    "    return max(scores, key=scores.get) if max(scores.values()) > 0 else \"inconnu\"\n",
    "\n",
    "keywords_dict = {\n",
    "    \"Excellence, Leadership et Performance\": [\n",
    "        \"leader\", \"leadership\", \"lead\", \"diriger\", \"décider\", \"excellence\", \"exceller\",\n",
    "        \"haut niveau\", \"prestigieux\", \"prestige\", \"réputation\", \"réputé\", \"certification\",\n",
    "        \"expert\", \"expertise\", \"compétence\", \"qualifié\", \"qualité\", \"performance\",\n",
    "        \"performant\", \"responsabilité\"\n",
    "    ],\n",
    "    \"Accompagnement et Evolution Professionnelle\": [\n",
    "        \"accompagnement\", \"accompagner\", \"évolution\", \"évoluer\", \"formation\", \"formation continu\",\n",
    "        \"développement\", \"développer\", \"carrière\", \"professionnel\", \"promotion\", \"succès\",\n",
    "        \"opportunité\", \"soutien\"\n",
    "    ],\n",
    "    \"Proximité et Ancrage Local\": [\n",
    "        \"proximité\", \"ancrage local\", \"lien\", \"relation client\", \"territoire\", \"local\",\n",
    "        \"régional\", \"implantation\", \"département\", \"acteur\", \"région\"\n",
    "    ],\n",
    "    \"Relations Humaines et Collectif\": [\n",
    "        \"esprit d'équipe\", \"équipe\", \"familial\", \"convivialité\", \"convivial\", \"entraide\",\n",
    "        \"partage\", \"solidarité\", \"respect\", \"famille\", \"cohésion\"\n",
    "    ],\n",
    "    \"Engagement Social et Bien‑être\": [\n",
    "        \"rse\", \"social\", \"citoyen\", \"planete\", \"durable\", \"développement durable\",\n",
    "        \"inclusion\", \"handicap\", \"diversité\", \"impact social\", \"bienêtre\", \"environnement\",\n",
    "        \"santé\"\n",
    "    ]\n",
    "}\n",
    "\n",
    "# Appliquer la classification\n",
    "df['valeur_dominante'] = df['offre_emploi'].apply(lambda txt: classify_offer(txt, keywords_dict))\n",
    "\n",
    "# --- 3. Calcul et graphique ---\n",
    "proportions = df['valeur_dominante'].value_counts(normalize=True)\n",
    "\n",
    "plt.figure(figsize=(8, 6))\n",
    "plt.bar(proportions.index, proportions.values)\n",
    "plt.ylabel('Proportion des offres')\n",
    "plt.title('Répartition des offres par catégorie')\n",
    "plt.xticks(rotation=45, ha='right')\n",
    "plt.tight_layout()\n",
    "plt.show()"
   ]
  },
  {
   "cell_type": "markdown",
   "metadata": {},
   "source": [
    "Classification **TF-IDF**"
   ]
  },
  {
   "cell_type": "code",
   "execution_count": 16,
   "metadata": {},
   "outputs": [
    {
     "data": {
      "image/png": "[encoded data removed]",
      "text/plain": [
       "<Figure size 800x600 with 1 Axes>"
      ]
     },
     "metadata": {},
     "output_type": "display_data"
    },
    {
     "name": "stdout",
     "output_type": "stream",
     "text": [
      "Fichier de classification TF‑IDF enregistré ici : c:\\Users\\stani\\statapp\\csv's\\offres_classification_tfidf.csv\n"
     ]
    }
   ],
   "source": [
    "#deuxième classification : on fait la même chose mais on accorde davantage de poids aux mots rares\n",
    "#car ils sont plus discriminants, en utilisant TF-IDF \n",
    "output_dir = os.path.join(os.getcwd(), \"csv's\")\n",
    "os.makedirs(output_dir, exist_ok=True)\n",
    "\n",
    "liste_valeurs = [mot for mots in keywords_dict.values() for mot in mots]\n",
    "\n",
    "# --- 1. Calculer la fréquence globale de chaque mot‑clé (pour normalisation si besoin) ---\n",
    "# (optionnel : liste2 = [freq/montotal for freq in liste1])\n",
    "liste1 = []\n",
    "for mot in liste_valeurs:\n",
    "    cnt = 0\n",
    "    for texte in df['offre_emploi']:\n",
    "        if isinstance(texte, str):\n",
    "            cnt += len(re.findall(r'\\b' + re.escape(mot) + r'\\b', texte, flags=re.IGNORECASE))\n",
    "    liste1.append(cnt)\n",
    "total_occ = sum(liste1)\n",
    "liste2 = [freq / total_occ if total_occ > 0 else 0 for freq in liste1]\n",
    "# print(liste2, liste_valeurs)\n",
    "\n",
    "# --- 2. Calculer l’IDF pour chaque mot‑clé ---\n",
    "N = len(df)\n",
    "idf_dict = {}\n",
    "for mot in liste_valeurs:\n",
    "    df_count = df['offre_emploi'].astype(str).apply(\n",
    "        lambda txt: bool(re.search(r'\\b' + re.escape(mot) + r'\\b', txt, flags=re.IGNORECASE))\n",
    "    ).sum()\n",
    "    idf_dict[mot] = math.log((N) / (1 + df_count))\n",
    "\n",
    "# --- 3. Fonction de classification TF‑IDF pondérée ---\n",
    "def classify_offer2(offre):\n",
    "    scores = {cat: 0.0 for cat in keywords_dict}\n",
    "    for cat, mots in keywords_dict.items():\n",
    "        for mot in mots:\n",
    "            occ = len(re.findall(r'\\b' + re.escape(mot) + r'\\b', offre, flags=re.IGNORECASE))\n",
    "            scores[cat] += occ * idf_dict.get(mot, 0.0)\n",
    "    best_cat = max(scores, key=scores.get)\n",
    "    return best_cat if scores[best_cat] > 0 else \"inconnu\"\n",
    "\n",
    "# --- 4. Appliquer la classification et tracer les proportions ---\n",
    "df['valeur_dominante_2'] = df['offre_emploi'].astype(str).apply(classify_offer2)\n",
    "\n",
    "proportions2 = df['valeur_dominante_2'].value_counts(normalize=True)\n",
    "\n",
    "plt.figure(figsize=(8, 6))\n",
    "plt.bar(proportions2.index, proportions2.values)\n",
    "plt.ylabel('Proportion des offres')\n",
    "plt.title('Répartition des offres par catégorie (TF‑IDF)')\n",
    "plt.xticks(rotation=45, ha='right')\n",
    "plt.tight_layout()\n",
    "plt.show()\n",
    "\n",
    "output_path = os.path.join(output_dir, \"offres_classification_tfidf.csv\")\n",
    "df.to_csv(output_path, sep=\";\", index=False, encoding=\"utf-8\")\n",
    "print(\"Fichier de classification TF‑IDF enregistré ici :\", output_path)"
   ]
  },
  {
   "cell_type": "markdown",
   "metadata": {},
   "source": [
    "**Résultat** de la classification naïve dans offres_classification_tfidf.csv"
   ]
  },
  {
   "cell_type": "markdown",
   "metadata": {},
   "source": [
    "## **II.** Modèle non-supervisé : **K-means clustering** (**à modifier**)"
   ]
  },
  {
   "cell_type": "markdown",
   "metadata": {},
   "source": [
    "**Clustering** des offres avec k-means++ en Camembert embedding"
   ]
  },
  {
   "cell_type": "code",
   "execution_count": 2,
   "metadata": {},
   "outputs": [
    {
     "name": "stdout",
     "output_type": "stream",
     "text": [
      "Calcul des embeddings avec CamemBERT…\n"
     ]
    },
    {
     "name": "stderr",
     "output_type": "stream",
     "text": [
      "Embedding: 100%|██████████| 589/589 [07:30<00:00,  1.31it/s]\n"
     ]
    },
    {
     "name": "stdout",
     "output_type": "stream",
     "text": [
      "Embeddings calculés : (589, 768)\n"
     ]
    },
    {
     "name": "stderr",
     "output_type": "stream",
     "text": [
      "Elbow: 100%|██████████| 9/9 [00:00<00:00, 10.16it/s]\n"
     ]
    },
    {
     "name": "stdout",
     "output_type": "stream",
     "text": [
      "Application de KMeans avec k = 5…\n"
     ]
    },
    {
     "data": {
      "image/png": "[encoded data removed]",
      "text/plain": [
       "<Figure size 1000x700 with 1 Axes>"
      ]
     },
     "metadata": {},
     "output_type": "display_data"
    }
   ],
   "source": [
    "from transformers import CamembertTokenizer, CamembertModel\n",
    "from sklearn.cluster import KMeans\n",
    "from sklearn.decomposition import PCA\n",
    "\n",
    "# 1. Chargement et préparation des données\n",
    "file_path = os.path.join(os.getcwd(), \"csv's\", \"lematised589.csv\")\n",
    "df = pd.read_csv(file_path, sep=\",\", low_memory=False)\n",
    "cols_to_merge = [col for col in df.columns if col.lower() != \"catégories\"]\n",
    "df[\"offre_emploi\"] = df[cols_to_merge].apply(lambda x: \" \".join(x.dropna().astype(str)), axis=1)\n",
    "\n",
    "# 2. Calcul des embeddings Camembert\n",
    "model_name = \"camembert-base\"\n",
    "device = \"cuda\" if torch.cuda.is_available() else \"cpu\"\n",
    "tokenizer = CamembertTokenizer.from_pretrained(model_name)\n",
    "model = CamembertModel.from_pretrained(model_name).to(device).eval()\n",
    "\n",
    "def embed_text(text):\n",
    "    inputs = tokenizer(\n",
    "        text,\n",
    "        return_tensors=\"pt\",\n",
    "        truncation=True,\n",
    "        padding=\"max_length\",\n",
    "        max_length=512\n",
    "    ).to(device)\n",
    "    with torch.no_grad():\n",
    "        outputs = model(**inputs)\n",
    "    return outputs.last_hidden_state[:, 0, :].squeeze().cpu().numpy()\n",
    "\n",
    "print(\"Calcul des embeddings avec CamemBERT…\")\n",
    "texts = df[\"offre_emploi\"].tolist()\n",
    "embeddings = []\n",
    "for text in tqdm(texts, desc=\"Embedding\"):\n",
    "    embeddings.append(embed_text(text))\n",
    "embeddings = np.vstack(embeddings)\n",
    "print(\"Embeddings calculés :\", embeddings.shape)\n",
    "\n",
    "# 3. Elbow Method (optionnel, avec tqdm)\n",
    "wcss = []\n",
    "K_range = range(2, 11)\n",
    "for k in tqdm(K_range, desc=\"Elbow\"):\n",
    "    km = KMeans(n_clusters=k, init=\"k-means++\", random_state=42)\n",
    "    km.fit(embeddings)\n",
    "    wcss.append(km.inertia_)\n",
    "\n",
    "# 4. Clustering final avec KMeans\n",
    "optimal_k = 5\n",
    "print(f\"Application de KMeans avec k = {optimal_k}…\")\n",
    "kmeans = KMeans(n_clusters=optimal_k, init=\"k-means++\", random_state=42)\n",
    "cluster_labels = kmeans.fit_predict(embeddings)\n",
    "df[\"cluster\"] = cluster_labels\n",
    "\n",
    "# 5. Projection PCA en 2D et visualisation\n",
    "pca = PCA(n_components=2)\n",
    "embeddings_2d = pca.fit_transform(embeddings)\n",
    "\n",
    "plt.figure(figsize=(10, 7))\n",
    "scatter = plt.scatter(\n",
    "    embeddings_2d[:, 0],\n",
    "    embeddings_2d[:, 1],\n",
    "    c=cluster_labels,\n",
    "    cmap='tab10',\n",
    "    s=10\n",
    ")\n",
    "plt.title('Projection 2D des embeddings CamemBERT par cluster (PCA)')\n",
    "plt.xlabel('Composante principale 1')\n",
    "plt.ylabel('Composante principale 2')\n",
    "plt.legend(*scatter.legend_elements(), title=\"Clusters\")\n",
    "plt.grid(True)\n",
    "plt.tight_layout()\n",
    "plt.show()"
   ]
  },
  {
   "cell_type": "markdown",
   "metadata": {},
   "source": [
    "Sauvegarde et comptage"
   ]
  },
  {
   "cell_type": "code",
   "execution_count": null,
   "metadata": {},
   "outputs": [
    {
     "name": "stdout",
     "output_type": "stream",
     "text": [
      "Nombre d'offres par cluster :\n",
      "cluster_0    116\n",
      "cluster_1    147\n",
      "cluster_2     93\n",
      "cluster_3     68\n",
      "cluster_4    165\n",
      "dtype: int64\n"
     ]
    },
    {
     "data": {
      "image/png": "[encoded data removed]",
      "text/plain": [
       "<Figure size 640x480 with 1 Axes>"
      ]
     },
     "metadata": {},
     "output_type": "display_data"
    }
   ],
   "source": [
    "# Chargement du fichier de clustering\n",
    "df_clusters = pd.read_csv(\"csv's\", \"kmeans_clusters.csv\", sep=\";\", low_memory=False)\n",
    "\n",
    "# Comptage du nombre d'offres non nulles dans chaque cluster\n",
    "cluster_counts = df_clusters.notna().sum()\n",
    "\n",
    "# Affichage des résultats\n",
    "print(\"Nombre d'offres par cluster :\")\n",
    "print(cluster_counts)\n",
    "\n",
    "cluster_counts.plot(kind='bar')\n",
    "plt.title(\"Nombre d'offres par cluster\")\n",
    "plt.xlabel(\"Cluster\")\n",
    "plt.ylabel(\"Nombre d'offres\")\n",
    "plt.grid(True)\n",
    "plt.tight_layout()\n",
    "plt.show()"
   ]
  },
  {
   "cell_type": "markdown",
   "metadata": {},
   "source": [
    "**Analyse de ces clusters et classification** A FAIRE"
   ]
  },
  {
   "cell_type": "code",
   "execution_count": 17,
   "metadata": {},
   "outputs": [
    {
     "name": "stdout",
     "output_type": "stream",
     "text": [
      "✅ Fichier réétiqueté enregistré ici : c:\\Users\\stani\\statapp\\csv's\\kmeans_clusters_categorise.csv\n"
     ]
    }
   ],
   "source": [
    "csv_dir = os.path.join(os.getcwd(), \"csv's\")\n",
    "input_path = os.path.join(csv_dir, \"kmeans_clusters.csv\")\n",
    "output_path = os.path.join(csv_dir, \"kmeans_clusters_categorise.csv\")\n",
    "\n",
    "# 1. Charger le CSV issu du KMeans (colonnes cluster_0 … cluster_4)\n",
    "df_clusters = pd.read_csv(input_path, sep=\";\", encoding=\"utf-8\")\n",
    "\n",
    "# 2. Définir le mapping “cluster_i” → libellé en inspectant quelques offres\n",
    "cluster_to_label = {\n",
    "    \"cluster_0\": \"???\",  # à remplacer par ex. \"formation\"\n",
    "    \"cluster_1\": \"???\",  # ex. \"proximité\"\n",
    "    \"cluster_2\": \"???\",  # ex. \"équilibre vie pro\"\n",
    "    \"cluster_3\": \"???\",  # ex. \"impact social\"\n",
    "    \"cluster_4\": \"???\"   # ex. \"leadership\"\n",
    "}\n",
    "\n",
    "# 3. Renommer les colonnes selon ce mapping\n",
    "df_clusters = df_clusters.rename(columns=cluster_to_label)\n",
    "\n",
    "# 4. Sauvegarder le nouveau CSV avec des noms de colonnes parlants\n",
    "df_clusters.to_csv(output_path, sep=\";\", index=False, encoding=\"utf-8\")\n",
    "\n",
    "print(\"✅ Fichier réétiqueté enregistré ici :\", output_path)\n",
    "\n"
   ]
  },
  {
   "cell_type": "markdown",
   "metadata": {},
   "source": [
    "**Résultats et commentaires** :"
   ]
  },
  {
   "cell_type": "markdown",
   "metadata": {},
   "source": [
    "## **III.**    **Modèles supervisés**"
   ]
  },
  {
   "cell_type": "markdown",
   "metadata": {},
   "source": [
    "(Inutile d'éxécuter)"
   ]
  },
  {
   "cell_type": "code",
   "execution_count": null,
   "metadata": {},
   "outputs": [
    {
     "name": "stdout",
     "output_type": "stream",
     "text": [
      "                    entreprise_nom  \\\n",
      "0                 Triangle Intérim   \n",
      "1                          Abalone   \n",
      "2                   123webimmo.com   \n",
      "3  Fondation des Amis de l'Atelier   \n",
      "4                           WEETEC   \n",
      "\n",
      "                                     description_job  \\\n",
      "0  La société TRIANGLE, entreprise à taille humai...   \n",
      "1  Nous recherchons un BOUCHER INDUSTRIEL (H/F) E...   \n",
      "2  En tant qu’agent commercial immobilier au sein...   \n",
      "3  Au sein de l'équipe de Direction, vous partici...   \n",
      "4  Rattaché(e) au responsable d’affaire, vos prin...   \n",
      "\n",
      "                                job_title  \\\n",
      "0         Technicien de maintenance (H/F)   \n",
      "1                           Boucher (H/F)   \n",
      "2             Conseiller immobilier (H/F)   \n",
      "3  Cadre administratif et financier (H/F)   \n",
      "4                  Chef de chantier (H/F)   \n",
      "\n",
      "                                  description_profil  \\\n",
      "0  Vous avez des connaissances en maintenance ind...   \n",
      "1  De formation CAP Boucherie Travail physique, r...   \n",
      "2  Que vous soyez débutant(e) ou confirmé(e) dans...   \n",
      "3  Titulaire d’un Master en gestion, vous avez ac...   \n",
      "4  De formation électrotechnique ou électricité (...   \n",
      "\n",
      "                              description_entreprise  catégories  \\\n",
      "0    Chez TRIANGLE SOLUTIONS RH , nos liens sont ...         4.0   \n",
      "1    Créé en 1991 par François-Xavier Moutel, ABA...         1.0   \n",
      "2                                                NaN         1.0   \n",
      "3   123 webimmo . comest un réseau de 90 agences ...         5.0   \n",
      "4   La société CESA spécialisée dans les travaux ...         1.0   \n",
      "\n",
      "                                        offre_emploi  \n",
      "0  La société TRIANGLE, entreprise à taille humai...  \n",
      "1  Nous recherchons un BOUCHER INDUSTRIEL (H/F) E...  \n",
      "2  En tant qu’agent commercial immobilier au sein...  \n",
      "3  Au sein de l'équipe de Direction, vous partici...  \n",
      "4  Rattaché(e) au responsable d’affaire, vos prin...  \n",
      "Index(['entreprise_nom', 'description_job', 'job_title', 'description_profil',\n",
      "       'description_entreprise', 'catégories', 'offre_emploi'],\n",
      "      dtype='object')\n"
     ]
    }
   ],
   "source": [
    "#import du fichier qu'on utilise pour les modèles (avec des labels)\n",
    "\n",
    "file_path = os.path.join(os.getcwd(), \"csv's\", \"offres589.csv\")\n",
    "df = pd.read_csv(file_path, sep=\",\", low_memory=False)\n",
    "\n",
    "df['offre_emploi'] = df[['description_job', 'description_profil', 'description_entreprise']].apply(\n",
    "    lambda x: ' '.join(x.dropna()), axis=1\n",
    ")\n",
    "\n",
    "print(df.head())\n",
    "print(df.columns)"
   ]
  },
  {
   "cell_type": "markdown",
   "metadata": {},
   "source": [
    "(Inutile d'éxécuter)"
   ]
  },
  {
   "cell_type": "code",
   "execution_count": null,
   "metadata": {},
   "outputs": [
    {
     "name": "stderr",
     "output_type": "stream",
     "text": [
      "[nltk_data] Downloading package stopwords to\n",
      "[nltk_data]     C:\\Users\\stani\\AppData\\Roaming\\nltk_data...\n",
      "[nltk_data]   Package stopwords is already up-to-date!\n"
     ]
    },
    {
     "name": "stdout",
     "output_type": "stream",
     "text": [
      "✅ Fichier lemmatisé enregistré dans : c:\\Users\\stani\\statapp-1\\csv's\\lematised589.csv\n"
     ]
    }
   ],
   "source": [
    "#création du csv lematised700.csv (qu'on utilisera/modifiera)\n",
    "df[\"offre_emploi\"] = df[\"offre_emploi\"].str.lower()\n",
    "\n",
    "nltk.download('stopwords')  \n",
    "stop_words = set(stopwords.words('french'))\n",
    "\n",
    "nlp = spacy.load(\"fr_core_news_sm\")\n",
    "\n",
    "# Fonction de nettoyage avec lemmatisation\n",
    "def clean_and_lemmatize(text):\n",
    "    if isinstance(text, str):  \n",
    "        text = text.lower()  # Minuscule\n",
    "        text = re.sub(r'\\d+', '', text)  # Suppression des chiffres\n",
    "        text = re.sub(r'[^\\w\\s]', '', text)  # Suppression de la ponctuation\n",
    "        doc = nlp(text)  # Analyse du texte avec SpaCy\n",
    "        words = [token.lemma_ for token in doc if token.text not in stop_words]  # Lemmatisation + suppression stopwords\n",
    "        return \" \".join(words)  # Reconstituer le texte nettoyé\n",
    "    return \"\"\n",
    "\n",
    "df[\"offre_emploi\"] = df[\"offre_emploi\"].apply(clean_and_lemmatize)\n",
    "# --- Sauvegarde dans le dossier \"csv's\" ---\n",
    "output_dir = os.path.join(os.getcwd(), \"csv's\")\n",
    "os.makedirs(output_dir, exist_ok=True)\n",
    "output_path = os.path.join(output_dir, \"lematised589.csv\")\n",
    "\n",
    "df.to_csv(output_path, sep=\",\", index=False, encoding='utf-8')\n",
    "print(\"✅ Fichier lemmatisé enregistré dans :\", output_path)"
   ]
  },
  {
   "cell_type": "markdown",
   "metadata": {},
   "source": [
    "**On utilise directement :**"
   ]
  },
  {
   "cell_type": "code",
   "execution_count": 2,
   "metadata": {},
   "outputs": [],
   "source": [
    "file_path = os.path.join(os.getcwd(), \"csv's\", \"lematised589.csv\")\n",
    "df = pd.read_csv(file_path, sep=\",\", low_memory=False)"
   ]
  },
  {
   "cell_type": "markdown",
   "metadata": {},
   "source": [
    "1) Régression logistique en TF-IDF embedding"
   ]
  },
  {
   "cell_type": "code",
   "execution_count": null,
   "metadata": {},
   "outputs": [
    {
     "name": "stdout",
     "output_type": "stream",
     "text": [
      "Répartition des classes:\n",
      "catégories\n",
      "2    151\n",
      "1    146\n",
      "3    129\n",
      "4     84\n",
      "5     71\n",
      "Name: count, dtype: int64\n",
      "Validation croisée (5-fold) sur l'ensemble d'entraînement...\n"
     ]
    },
    {
     "name": "stderr",
     "output_type": "stream",
     "text": [
      "c:\\Users\\stani\\AppData\\Local\\Programs\\Python\\Python312\\Lib\\site-packages\\sklearn\\linear_model\\_logistic.py:1247: FutureWarning: 'multi_class' was deprecated in version 1.5 and will be removed in 1.7. From then on, it will always use 'multinomial'. Leave it to its default value to avoid this warning.\n",
      "  warnings.warn(\n",
      "c:\\Users\\stani\\AppData\\Local\\Programs\\Python\\Python312\\Lib\\site-packages\\sklearn\\linear_model\\_logistic.py:1247: FutureWarning: 'multi_class' was deprecated in version 1.5 and will be removed in 1.7. From then on, it will always use 'multinomial'. Leave it to its default value to avoid this warning.\n",
      "  warnings.warn(\n",
      "c:\\Users\\stani\\AppData\\Local\\Programs\\Python\\Python312\\Lib\\site-packages\\sklearn\\linear_model\\_logistic.py:1247: FutureWarning: 'multi_class' was deprecated in version 1.5 and will be removed in 1.7. From then on, it will always use 'multinomial'. Leave it to its default value to avoid this warning.\n",
      "  warnings.warn(\n",
      "c:\\Users\\stani\\AppData\\Local\\Programs\\Python\\Python312\\Lib\\site-packages\\sklearn\\linear_model\\_logistic.py:1247: FutureWarning: 'multi_class' was deprecated in version 1.5 and will be removed in 1.7. From then on, it will always use 'multinomial'. Leave it to its default value to avoid this warning.\n",
      "  warnings.warn(\n",
      "c:\\Users\\stani\\AppData\\Local\\Programs\\Python\\Python312\\Lib\\site-packages\\sklearn\\linear_model\\_logistic.py:1247: FutureWarning: 'multi_class' was deprecated in version 1.5 and will be removed in 1.7. From then on, it will always use 'multinomial'. Leave it to its default value to avoid this warning.\n",
      "  warnings.warn(\n"
     ]
    },
    {
     "name": "stdout",
     "output_type": "stream",
     "text": [
      "Scores F1 Macro pour chaque fold : [0.21720198 0.3207932  0.25988739 0.36727821 0.26853695]\n",
      "F1 Macro moyen : 0.2867395469324049\n"
     ]
    },
    {
     "name": "stderr",
     "output_type": "stream",
     "text": [
      "c:\\Users\\stani\\AppData\\Local\\Programs\\Python\\Python312\\Lib\\site-packages\\sklearn\\linear_model\\_logistic.py:1247: FutureWarning: 'multi_class' was deprecated in version 1.5 and will be removed in 1.7. From then on, it will always use 'multinomial'. Leave it to its default value to avoid this warning.\n",
      "  warnings.warn(\n"
     ]
    },
    {
     "name": "stdout",
     "output_type": "stream",
     "text": [
      "Rapport de classification :\n",
      "              precision    recall  f1-score   support\n",
      "\n",
      "           1       0.41      0.72      0.53        29\n",
      "           2       0.47      0.74      0.57        31\n",
      "           3       0.47      0.27      0.34        26\n",
      "           4       0.00      0.00      0.00        17\n",
      "           5       1.00      0.14      0.25        14\n",
      "\n",
      "    accuracy                           0.45       117\n",
      "   macro avg       0.47      0.38      0.34       117\n",
      "weighted avg       0.45      0.45      0.39       117\n",
      "\n"
     ]
    },
    {
     "name": "stderr",
     "output_type": "stream",
     "text": [
      "c:\\Users\\stani\\AppData\\Local\\Programs\\Python\\Python312\\Lib\\site-packages\\sklearn\\metrics\\_classification.py:1565: UndefinedMetricWarning: Precision is ill-defined and being set to 0.0 in labels with no predicted samples. Use `zero_division` parameter to control this behavior.\n",
      "  _warn_prf(average, modifier, f\"{metric.capitalize()} is\", len(result))\n",
      "c:\\Users\\stani\\AppData\\Local\\Programs\\Python\\Python312\\Lib\\site-packages\\sklearn\\metrics\\_classification.py:1565: UndefinedMetricWarning: Precision is ill-defined and being set to 0.0 in labels with no predicted samples. Use `zero_division` parameter to control this behavior.\n",
      "  _warn_prf(average, modifier, f\"{metric.capitalize()} is\", len(result))\n",
      "c:\\Users\\stani\\AppData\\Local\\Programs\\Python\\Python312\\Lib\\site-packages\\sklearn\\metrics\\_classification.py:1565: UndefinedMetricWarning: Precision is ill-defined and being set to 0.0 in labels with no predicted samples. Use `zero_division` parameter to control this behavior.\n",
      "  _warn_prf(average, modifier, f\"{metric.capitalize()} is\", len(result))\n"
     ]
    }
   ],
   "source": [
    "from sklearn.model_selection import train_test_split, StratifiedKFold, cross_val_score\n",
    "from sklearn.feature_extraction.text import TfidfVectorizer\n",
    "\n",
    "# Filtrer pour conserver uniquement les lignes avec catégorie (excluant les NaN)\n",
    "df = df.dropna(subset=['catégories'])\n",
    "df['catégories'] = df['catégories'].astype(int)\n",
    "\n",
    "# Vérification de la répartition des classes\n",
    "print(\"Répartition des classes:\")\n",
    "print(df['catégories'].value_counts())\n",
    "\n",
    "# Séparation des données en ensembles d'entraînement et de test (80%/20% avec stratification)\n",
    "X = df[\"offre_emploi\"]\n",
    "y = df[\"catégories\"]\n",
    "X_train, X_test, y_train, y_test = train_test_split(\n",
    "    X, y, test_size=0.2, random_state=42, stratify=y\n",
    ")\n",
    "\n",
    "# --- Création du pipeline ---\n",
    "pipeline = Pipeline([\n",
    "    ('tfidf', TfidfVectorizer()),\n",
    "    ('clf', LogisticRegression(multi_class='multinomial', solver='lbfgs', max_iter=500))\n",
    "])\n",
    "\n",
    "# --- Validation croisée ---\n",
    "cv = StratifiedKFold(n_splits=5, shuffle=True, random_state=42)\n",
    "print(\"Validation croisée (5-fold) sur l'ensemble d'entraînement...\")\n",
    "scores = cross_val_score(pipeline, X_train, y_train, cv=cv, scoring='f1_macro')\n",
    "print(\"Scores F1 Macro pour chaque fold :\", scores)\n",
    "print(\"F1 Macro moyen :\", scores.mean())\n",
    "\n",
    "# --- Entraînement final sur l'ensemble d'entraînement ---\n",
    "pipeline.fit(X_train, y_train)\n",
    "\n",
    "# Prédiction sur l'ensemble de test\n",
    "y_pred = pipeline.predict(X_test)\n",
    "\n",
    "# Affichage du rapport de classification\n",
    "print(\"Rapport de classification :\")\n",
    "print(classification_report(y_test, y_pred))\n"
   ]
  },
  {
   "cell_type": "markdown",
   "metadata": {},
   "source": [
    "1) Résultats\n"
   ]
  },
  {
   "cell_type": "markdown",
   "metadata": {},
   "source": [
    "2) Régression logistique en CamemBERT embedding"
   ]
  },
  {
   "cell_type": "code",
   "execution_count": null,
   "metadata": {},
   "outputs": [
    {
     "name": "stdout",
     "output_type": "stream",
     "text": [
      "Validation croisée (5-fold) sur l'ensemble d'entraînement...\n"
     ]
    }
   ],
   "source": [
    "from sklearn.model_selection import train_test_split, StratifiedKFold, cross_val_score\n",
    "from transformers import CamembertTokenizer, CamembertModel\n",
    "\n",
    "# Garder seulement les lignes où 'catégories' n'est pas NaN et convertir en int\n",
    "df = df.dropna(subset=['catégories'])\n",
    "df['catégories'] = df['catégories'].astype(int)\n",
    "\n",
    "# Séparation en ensemble d'entraînement et de test (80%/20% en stratifiant)\n",
    "X = df[\"offre_emploi\"]\n",
    "y = df[\"catégories\"]\n",
    "X_train, X_test, y_train, y_test = train_test_split(\n",
    "    X, y, test_size=0.2, random_state=42, stratify=y\n",
    ")\n",
    "\n",
    "# --- Définition du transformeur Camembert ---\n",
    "class CamembertVectorizer(BaseEstimator, TransformerMixin):\n",
    "    \"\"\"\n",
    "    Transformeur scikit-learn qui convertit un texte en un vecteur d'embedding\n",
    "    à l'aide du modèle Camembert.\n",
    "    \"\"\"\n",
    "    def __init__(self, model_name='camembert-base', device='cpu', max_length=512):\n",
    "        self.model_name = model_name  # Nécessaire pour le clonage dans CV\n",
    "        self.device = device\n",
    "        self.max_length = max_length\n",
    "        self.tokenizer = CamembertTokenizer.from_pretrained(model_name)\n",
    "        self.model = CamembertModel.from_pretrained(model_name)\n",
    "        self.model.to(self.device)\n",
    "        self.model.eval()\n",
    "    \n",
    "    def fit(self, X, y=None):\n",
    "        return self\n",
    "    \n",
    "    def transform(self, X):\n",
    "        embeddings = []\n",
    "        for text in X:\n",
    "            # Tokenisation avec troncature et padding\n",
    "            inputs = self.tokenizer(\n",
    "                text,\n",
    "                return_tensors='pt',\n",
    "                truncation=True,\n",
    "                padding='max_length',\n",
    "                max_length=self.max_length\n",
    "            )\n",
    "            # Déplacer les tenseurs sur le device (CPU ou GPU)\n",
    "            inputs = {k: v.to(self.device) for k, v in inputs.items()}\n",
    "            with torch.no_grad():\n",
    "                outputs = self.model(**inputs)\n",
    "            # Extraction de la représentation du token [CLS] (premier token)\n",
    "            emb = outputs.last_hidden_state[:, 0, :].squeeze().cpu().numpy()\n",
    "            embeddings.append(emb)\n",
    "        return np.array(embeddings)\n",
    "\n",
    "# Définir le device (utiliser \"cuda\" si disponible, sinon \"cpu\")\n",
    "device = 'cuda' if torch.cuda.is_available() else 'cpu'\n",
    "\n",
    "# --- Construction du pipeline Camembert + Régression Logistique ---\n",
    "pipeline_camembert = Pipeline([\n",
    "    ('camembert', CamembertVectorizer(device=device)),\n",
    "    ('clf', LogisticRegression(multi_class='multinomial', solver='lbfgs', max_iter=500))\n",
    "])\n",
    "\n",
    "# --- Validation croisée ---\n",
    "cv = StratifiedKFold(n_splits=5, shuffle=True, random_state=42)\n",
    "print(\"Validation croisée (5-fold) sur l'ensemble d'entraînement...\")\n",
    "scores = cross_val_score(pipeline_camembert, X_train, y_train, cv=cv, scoring='f1_macro')\n",
    "print(\"Scores F1 Macro pour chaque fold :\", scores)\n",
    "print(\"F1 Macro moyen :\", scores.mean())\n",
    "\n",
    "# --- Entraînement final ---\n",
    "print(\"Entraînement final du modèle sur tout l'ensemble d'entraînement...\")\n",
    "pipeline_camembert.fit(X_train, y_train)\n",
    "\n",
    "# Prédiction sur l'ensemble de test et affichage du rapport de classification\n",
    "y_pred = pipeline_camembert.predict(X_test)\n",
    "print(\"Camembert-based Classification Report:\")\n",
    "print(classification_report(y_test, y_pred))"
   ]
  },
  {
   "cell_type": "markdown",
   "metadata": {},
   "source": [
    "2) Résultats"
   ]
  },
  {
   "cell_type": "markdown",
   "metadata": {},
   "source": [
    "3) Random Forests"
   ]
  },
  {
   "cell_type": "code",
   "execution_count": null,
   "metadata": {},
   "outputs": [
    {
     "name": "stdout",
     "output_type": "stream",
     "text": [
      "Validation croisée (5-fold) sur l'ensemble d'entraînement...\n",
      "Scores F1 Macro pour chaque fold : [0.31525424 0.3914524  0.27818133 0.35185012 0.24863967]\n",
      "F1 Macro moyen : 0.31707555147658023\n",
      "Entraînement final du modèle sur tout l'ensemble d'entraînement...\n",
      "Random Forest + Camembert Classification Report:\n",
      "              precision    recall  f1-score   support\n",
      "\n",
      "           1       0.34      0.66      0.45        29\n",
      "           2       0.35      0.52      0.42        31\n",
      "           3       0.38      0.19      0.26        26\n",
      "           4       0.00      0.00      0.00        17\n",
      "           5       0.00      0.00      0.00        14\n",
      "\n",
      "    accuracy                           0.34       117\n",
      "   macro avg       0.21      0.27      0.22       117\n",
      "weighted avg       0.26      0.34      0.28       117\n",
      "\n"
     ]
    }
   ],
   "source": [
    "from sklearn.model_selection import train_test_split, StratifiedKFold, cross_val_score\n",
    "from sklearn.metrics import classification_report\n",
    "from sklearn.base import BaseEstimator, TransformerMixin\n",
    "from transformers import CamembertTokenizer, CamembertModel\n",
    "from imblearn.pipeline import Pipeline  # Pipeline compatible avec imblearn\n",
    "from imblearn.over_sampling import RandomOverSampler\n",
    "from sklearn.ensemble import RandomForestClassifier\n",
    "\n",
    "df = df.dropna(subset=['catégories'])\n",
    "df['catégories'] = df['catégories'].astype(int)\n",
    "\n",
    "# Séparation en ensemble d'entraînement et de test (stratification)\n",
    "X = df[\"offre_emploi\"]\n",
    "y = df[\"catégories\"]\n",
    "X_train, X_test, y_train, y_test = train_test_split(X, y, test_size=0.2,\n",
    "                                                    random_state=42, stratify=y)\n",
    "\n",
    "# --- Définition du transformeur Camembert ---\n",
    "class CamembertVectorizer(BaseEstimator, TransformerMixin):\n",
    "    \"\"\"\n",
    "    Transformeur qui convertit un texte en un vecteur d'embedding\n",
    "    à l'aide du modèle Camembert.\n",
    "    \"\"\"\n",
    "    def __init__(self, model_name='camembert-base', device='cpu', max_length=512):\n",
    "        self.model_name = model_name\n",
    "        self.device = device\n",
    "        self.max_length = max_length\n",
    "        self.tokenizer = CamembertTokenizer.from_pretrained(model_name)\n",
    "        self.model = CamembertModel.from_pretrained(model_name)\n",
    "        self.model.to(self.device)\n",
    "        self.model.eval()\n",
    "\n",
    "    def fit(self, X, y=None):\n",
    "        return self\n",
    "\n",
    "    def transform(self, X):\n",
    "        embeddings = []\n",
    "        for text in X:\n",
    "            inputs = self.tokenizer(\n",
    "                text,\n",
    "                return_tensors='pt',\n",
    "                truncation=True,\n",
    "                padding='max_length',\n",
    "                max_length=self.max_length\n",
    "            )\n",
    "            inputs = {k: v.to(self.device) for k, v in inputs.items()}\n",
    "            with torch.no_grad():\n",
    "                outputs = self.model(**inputs)\n",
    "            # Extraction de la représentation du token [CLS] (premier token)\n",
    "            emb = outputs.last_hidden_state[:, 0, :].squeeze().cpu().numpy()\n",
    "            embeddings.append(emb)\n",
    "        return np.array(embeddings)\n",
    "\n",
    "# --- Wrapper pour oversampling ---\n",
    "class OversampleTransformer(BaseEstimator, TransformerMixin):\n",
    "    \"\"\"\n",
    "    Wrapper qui intègre un oversampler et fournit les méthodes fit et transform.\n",
    "    Pendant l'entraînement, il applique fit_resample.\n",
    "    En phase de prédiction, il renvoie simplement les données X.\n",
    "    \"\"\"\n",
    "    def __init__(self, sampler):\n",
    "        self.sampler = sampler\n",
    "\n",
    "    def fit(self, X, y=None):\n",
    "        self.X_res_, self.y_res_ = self.sampler.fit_resample(X, y)\n",
    "        return self\n",
    "\n",
    "    def transform(self, X):\n",
    "        return X\n",
    "\n",
    "# Définir le device (GPU si disponible)\n",
    "device = 'cuda' if torch.cuda.is_available() else 'cpu'\n",
    "\n",
    "# --- Construction du pipeline avec oversampling et Random Forest ---\n",
    "pipeline_camembert_rf = Pipeline([\n",
    "    ('camembert', CamembertVectorizer(device=device)),\n",
    "    ('oversample', OversampleTransformer(RandomOverSampler(random_state=42))),\n",
    "    ('clf', RandomForestClassifier(n_estimators=300,\n",
    "                                   max_depth=10,\n",
    "                                   random_state=42))\n",
    "])\n",
    "\n",
    "# --- Validation croisée (5-fold) ---\n",
    "cv = StratifiedKFold(n_splits=5, shuffle=True, random_state=42)\n",
    "print(\"Validation croisée (5-fold) sur l'ensemble d'entraînement...\")\n",
    "scores = cross_val_score(pipeline_camembert_rf, X_train, y_train, cv=cv, scoring='f1_macro')\n",
    "print(\"Scores F1 Macro pour chaque fold :\", scores)\n",
    "print(\"F1 Macro moyen :\", scores.mean())\n",
    "\n",
    "# --- Entraînement final sur tout l'ensemble d'entraînement ---\n",
    "print(\"Entraînement final du modèle sur tout l'ensemble d'entraînement...\")\n",
    "pipeline_camembert_rf.fit(X_train, y_train)\n",
    "\n",
    "# Prédictions sur l'ensemble de test\n",
    "y_pred_rf = pipeline_camembert_rf.predict(X_test)\n",
    "\n",
    "# Affichage du rapport de classification final\n",
    "print(\"Random Forest + Camembert Classification Report:\")\n",
    "print(classification_report(y_test, y_pred_rf))"
   ]
  },
  {
   "cell_type": "markdown",
   "metadata": {},
   "source": [
    "3) Résultats"
   ]
  },
  {
   "cell_type": "markdown",
   "metadata": {},
   "source": [
    "4) XGB Multiclass"
   ]
  },
  {
   "cell_type": "code",
   "execution_count": null,
   "metadata": {},
   "outputs": [
    {
     "name": "stdout",
     "output_type": "stream",
     "text": [
      "Validation croisée (5-fold)...\n"
     ]
    },
    {
     "name": "stderr",
     "output_type": "stream",
     "text": [
      "c:\\Users\\stani\\AppData\\Local\\Programs\\Python\\Python312\\Lib\\site-packages\\xgboost\\training.py:183: UserWarning: [16:45:37] WARNING: C:\\actions-runner\\_work\\xgboost\\xgboost\\src\\learner.cc:738: \n",
      "Parameters: { \"use_label_encoder\" } are not used.\n",
      "\n",
      "  bst.update(dtrain, iteration=i, fobj=obj)\n",
      "c:\\Users\\stani\\AppData\\Local\\Programs\\Python\\Python312\\Lib\\site-packages\\xgboost\\training.py:183: UserWarning: [16:52:25] WARNING: C:\\actions-runner\\_work\\xgboost\\xgboost\\src\\learner.cc:738: \n",
      "Parameters: { \"use_label_encoder\" } are not used.\n",
      "\n",
      "  bst.update(dtrain, iteration=i, fobj=obj)\n",
      "c:\\Users\\stani\\AppData\\Local\\Programs\\Python\\Python312\\Lib\\site-packages\\xgboost\\training.py:183: UserWarning: [16:58:54] WARNING: C:\\actions-runner\\_work\\xgboost\\xgboost\\src\\learner.cc:738: \n",
      "Parameters: { \"use_label_encoder\" } are not used.\n",
      "\n",
      "  bst.update(dtrain, iteration=i, fobj=obj)\n",
      "c:\\Users\\stani\\AppData\\Local\\Programs\\Python\\Python312\\Lib\\site-packages\\xgboost\\training.py:183: UserWarning: [17:05:29] WARNING: C:\\actions-runner\\_work\\xgboost\\xgboost\\src\\learner.cc:738: \n",
      "Parameters: { \"use_label_encoder\" } are not used.\n",
      "\n",
      "  bst.update(dtrain, iteration=i, fobj=obj)\n",
      "c:\\Users\\stani\\AppData\\Local\\Programs\\Python\\Python312\\Lib\\site-packages\\xgboost\\training.py:183: UserWarning: [17:12:51] WARNING: C:\\actions-runner\\_work\\xgboost\\xgboost\\src\\learner.cc:738: \n",
      "Parameters: { \"use_label_encoder\" } are not used.\n",
      "\n",
      "  bst.update(dtrain, iteration=i, fobj=obj)\n"
     ]
    },
    {
     "name": "stdout",
     "output_type": "stream",
     "text": [
      "Scores F1 Macro pour chaque fold: [0.43075707 0.40615904 0.37537265 0.32237705 0.31663492]\n",
      "F1 Macro moyen: 0.37026014549964226\n",
      "Entraînement final sur tout l'ensemble d'entraînement...\n"
     ]
    },
    {
     "name": "stderr",
     "output_type": "stream",
     "text": [
      "c:\\Users\\stani\\AppData\\Local\\Programs\\Python\\Python312\\Lib\\site-packages\\xgboost\\training.py:183: UserWarning: [17:20:58] WARNING: C:\\actions-runner\\_work\\xgboost\\xgboost\\src\\learner.cc:738: \n",
      "Parameters: { \"use_label_encoder\" } are not used.\n",
      "\n",
      "  bst.update(dtrain, iteration=i, fobj=obj)\n"
     ]
    },
    {
     "name": "stdout",
     "output_type": "stream",
     "text": [
      "Classification Report (Camembert + XGBoost + Oversampling):\n",
      "              precision    recall  f1-score   support\n",
      "\n",
      "           0       0.43      0.69      0.53        29\n",
      "           1       0.45      0.48      0.47        31\n",
      "           2       0.25      0.19      0.22        26\n",
      "           3       0.12      0.06      0.08        17\n",
      "           4       0.33      0.21      0.26        14\n",
      "\n",
      "    accuracy                           0.38       117\n",
      "   macro avg       0.32      0.33      0.31       117\n",
      "weighted avg       0.34      0.38      0.35       117\n",
      "\n"
     ]
    }
   ],
   "source": [
    "from transformers import CamembertTokenizer, CamembertModel\n",
    "from imblearn.pipeline import Pipeline\n",
    "from imblearn.over_sampling import RandomOverSampler\n",
    "from xgboost import XGBClassifier\n",
    "from sklearn.model_selection import StratifiedKFold, cross_val_score\n",
    "\n",
    "# Chargement et filtrage des données\n",
    "df = df.dropna(subset=['catégories'])\n",
    "df['catégories'] = df['catégories'].astype(int)\n",
    "\n",
    "X = df[\"offre_emploi\"]\n",
    "y = df[\"catégories\"]\n",
    "X_train, X_test, y_train, y_test = train_test_split(\n",
    "    X, y, test_size=0.2, random_state=42, stratify=y\n",
    ")\n",
    "\n",
    "# Camembert Vectorizer\n",
    "class CamembertVectorizer(BaseEstimator, TransformerMixin):\n",
    "    def __init__(self, model_name='camembert-base', device='cpu', max_length=512):\n",
    "        self.model_name = model_name\n",
    "        self.device = device\n",
    "        self.max_length = max_length\n",
    "        self.tokenizer = CamembertTokenizer.from_pretrained(model_name)\n",
    "        self.model = CamembertModel.from_pretrained(model_name).to(device).eval()\n",
    "\n",
    "    def fit(self, X, y=None):\n",
    "        return self\n",
    "\n",
    "    def transform(self, X):\n",
    "        embeddings = []\n",
    "        for text in X:\n",
    "            inputs = self.tokenizer(\n",
    "                text, return_tensors='pt', truncation=True,\n",
    "                padding='max_length', max_length=self.max_length\n",
    "            )\n",
    "            inputs = {k: v.to(self.device) for k, v in inputs.items()}\n",
    "            with torch.no_grad():\n",
    "                outputs = self.model(**inputs)\n",
    "            emb = outputs.last_hidden_state[:, 0, :].squeeze().cpu().numpy()\n",
    "            embeddings.append(emb)\n",
    "        return np.array(embeddings)\n",
    "\n",
    "# Device\n",
    "device = 'cuda' if torch.cuda.is_available() else 'cpu'\n",
    "\n",
    "# Correction des classes pour commencer à 0\n",
    "y_train_adj = y_train - 1\n",
    "y_test_adj = y_test - 1\n",
    "\n",
    "# Pipeline avec Oversampling + XGBoost\n",
    "pipeline_camembert_xgb = Pipeline([\n",
    "    ('camembert', CamembertVectorizer(device=device)),\n",
    "    ('oversample', RandomOverSampler(random_state=42)),\n",
    "    ('clf', XGBClassifier(\n",
    "        n_estimators=100,\n",
    "        max_depth=4,\n",
    "        learning_rate=0.05,\n",
    "        subsample=0.8,\n",
    "        colsample_bytree=0.8,\n",
    "        objective='multi:softprob',\n",
    "        use_label_encoder=False,\n",
    "        eval_metric='mlogloss',\n",
    "        random_state=42\n",
    "    ))\n",
    "])\n",
    "\n",
    "# Validation croisée stratifiée\n",
    "cv = StratifiedKFold(n_splits=5, shuffle=True, random_state=42)\n",
    "print(\"Validation croisée (5-fold)...\")\n",
    "scores = cross_val_score(pipeline_camembert_xgb, X_train, y_train_adj, cv=cv, scoring='f1_macro')\n",
    "print(\"Scores F1 Macro pour chaque fold:\", scores)\n",
    "print(\"F1 Macro moyen:\", scores.mean())\n",
    "\n",
    "# Entraînement final et évaluation\n",
    "print(\"Entraînement final sur tout l'ensemble d'entraînement...\")\n",
    "pipeline_camembert_xgb.fit(X_train, y_train_adj)\n",
    "\n",
    "y_pred = pipeline_camembert_xgb.predict(X_test)\n",
    "print(\"Classification Report (Camembert + XGBoost + Oversampling):\")\n",
    "print(classification_report(y_test_adj, y_pred))"
   ]
  },
  {
   "cell_type": "markdown",
   "metadata": {},
   "source": [
    "4) Résultats :"
   ]
  },
  {
   "cell_type": "markdown",
   "metadata": {},
   "source": [
    "5.1) SVM en tf-idf embedding"
   ]
  },
  {
   "cell_type": "code",
   "execution_count": 12,
   "metadata": {},
   "outputs": [
    {
     "name": "stderr",
     "output_type": "stream",
     "text": [
      "[nltk_data] Downloading package stopwords to\n",
      "[nltk_data]     C:\\Users\\stani\\AppData\\Roaming\\nltk_data...\n",
      "[nltk_data]   Package stopwords is already up-to-date!\n"
     ]
    },
    {
     "name": "stdout",
     "output_type": "stream",
     "text": [
      "Entraînement du modèle avec TF-IDF + SVM + Oversampling...\n",
      "\n",
      "Classification Report (TF-IDF + SVM + Oversampling):\n",
      "              precision    recall  f1-score   support\n",
      "\n",
      "           1       0.45      0.34      0.39        29\n",
      "           2       0.32      0.81      0.45        31\n",
      "           3       0.23      0.12      0.15        26\n",
      "           4       1.00      0.06      0.11        17\n",
      "           5       1.00      0.14      0.25        14\n",
      "\n",
      "    accuracy                           0.35       117\n",
      "   macro avg       0.60      0.29      0.27       117\n",
      "weighted avg       0.51      0.35      0.30       117\n",
      "\n"
     ]
    }
   ],
   "source": [
    "import numpy as np\n",
    "import nltk\n",
    "nltk.download('stopwords')\n",
    "from nltk.corpus import stopwords\n",
    "from sklearn.model_selection import train_test_split\n",
    "from imblearn.pipeline import Pipeline   # Assure-toi d'utiliser imblearn.pipeline.Pipeline\n",
    "from imblearn.over_sampling import RandomOverSampler\n",
    "from sklearn.feature_extraction.text import TfidfVectorizer\n",
    "from sklearn.svm import SVC\n",
    "from sklearn.preprocessing import StandardScaler\n",
    "from sklearn.metrics import classification_report\n",
    "\n",
    "# Télécharger et charger la liste de stopwords français\n",
    "french_stop_words = stopwords.words('french')\n",
    "\n",
    "# Garder uniquement les lignes où 'catégories' n'est pas NaN et convertir en int\n",
    "df = df.dropna(subset=['catégories'])\n",
    "df['catégories'] = df['catégories'].astype(int)\n",
    "\n",
    "# Séparation en ensemble d'entraînement et de test (80%/20% en stratifiant)\n",
    "X = df[\"offre_emploi\"]\n",
    "y = df[\"catégories\"]\n",
    "X_train, X_test, y_train, y_test = train_test_split(\n",
    "    X, y, test_size=0.2, random_state=42, stratify=y\n",
    ")\n",
    "\n",
    "# --- Construction du pipeline TF-IDF + Oversampling + StandardScaler + SVM ---\n",
    "# Note: with_mean=False pour conserver la sparsité de la matrice TF-IDF\n",
    "tfidf_svm_pipeline = Pipeline([\n",
    "    ('tfidf', TfidfVectorizer(\n",
    "        max_features=20000,      # ajuster selon le vocabulaire\n",
    "        ngram_range=(1, 2),      # unigrams + bigrams\n",
    "        min_df=2,                # ignorer termes trop rares\n",
    "        stop_words=french_stop_words\n",
    "    )),\n",
    "    ('oversample', RandomOverSampler(random_state=42)),\n",
    "    ('scaler', StandardScaler(with_mean=False)),\n",
    "    ('clf', SVC(\n",
    "        kernel='rbf',           # noyau radial\n",
    "        C=1.0,                  # paramètre de régularisation\n",
    "        gamma='scale',          # paramètre du noyau\n",
    "        probability=True,       # pour prédictions probabilistes\n",
    "        class_weight='balanced',# compenser déséquilibre\n",
    "        random_state=42\n",
    "    ))\n",
    "])\n",
    "\n",
    "# Entraînement du modèle\n",
    "print(\"Entraînement du modèle avec TF-IDF + SVM + Oversampling...\")\n",
    "tfidf_svm_pipeline.fit(X_train, y_train)\n",
    "\n",
    "# Prédiction et rapport\n",
    "print(\"\\nClassification Report (TF-IDF + SVM + Oversampling):\")\n",
    "y_pred = tfidf_svm_pipeline.predict(X_test)\n",
    "print(classification_report(y_test, y_pred))"
   ]
  },
  {
   "cell_type": "markdown",
   "metadata": {},
   "source": [
    "5.2) SVM (kernel RBF, C=1.0, gamma réglé sur 'scale', et une graine pour la reproductibilité.)"
   ]
  },
  {
   "cell_type": "code",
   "execution_count": null,
   "metadata": {},
   "outputs": [
    {
     "name": "stdout",
     "output_type": "stream",
     "text": [
      "Entraînement du modèle avec Camembert + SVM + Oversampling...\n",
      "SVM + Camembert Classification Report:\n",
      "              precision    recall  f1-score   support\n",
      "\n",
      "           1       0.44      0.76      0.56        29\n",
      "           2       0.48      0.65      0.55        31\n",
      "           3       0.47      0.35      0.40        26\n",
      "           4       1.00      0.12      0.21        17\n",
      "           5       0.50      0.14      0.22        14\n",
      "\n",
      "    accuracy                           0.47       117\n",
      "   macro avg       0.58      0.40      0.39       117\n",
      "weighted avg       0.55      0.47      0.43       117\n",
      "\n"
     ]
    }
   ],
   "source": [
    "from transformers import CamembertTokenizer, CamembertModel\n",
    "from imblearn.pipeline import Pipeline   # Assure-toi d'utiliser imblearn.pipeline.Pipeline\n",
    "from imblearn.over_sampling import RandomOverSampler\n",
    "from sklearn.svm import SVC\n",
    "from sklearn.preprocessing import StandardScaler\n",
    "\n",
    "# Garder uniquement les lignes où 'catégories' n'est pas NaN et convertir en int\n",
    "df = df.dropna(subset=['catégories'])\n",
    "df['catégories'] = df['catégories'].astype(int)\n",
    "\n",
    "# Séparation en ensemble d'entraînement et de test (80%/20% en stratifiant)\n",
    "X = df[\"offre_emploi\"]\n",
    "y = df[\"catégories\"]\n",
    "X_train, X_test, y_train, y_test = train_test_split(\n",
    "    X, y, test_size=0.2, random_state=42, stratify=y\n",
    ")\n",
    "\n",
    "# --- Définition du transformeur Camembert ---\n",
    "class CamembertVectorizer(BaseEstimator, TransformerMixin):\n",
    "    \"\"\"\n",
    "    Transformeur qui convertit un texte en un vecteur d'embedding\n",
    "    à l'aide du modèle Camembert.\n",
    "    \"\"\"\n",
    "    def __init__(self, model_name='camembert-base', device='cpu', max_length=512):\n",
    "        self.model_name = model_name\n",
    "        self.device = device\n",
    "        self.max_length = max_length\n",
    "        self.tokenizer = CamembertTokenizer.from_pretrained(model_name)\n",
    "        self.model = CamembertModel.from_pretrained(model_name)\n",
    "        self.model.to(self.device)\n",
    "        self.model.eval()\n",
    "    \n",
    "    def fit(self, X, y=None):\n",
    "        return self\n",
    "    \n",
    "    def transform(self, X):\n",
    "        embeddings = []\n",
    "        for text in X:\n",
    "            inputs = self.tokenizer(\n",
    "                text,\n",
    "                return_tensors='pt',\n",
    "                truncation=True,\n",
    "                padding='max_length',\n",
    "                max_length=self.max_length\n",
    "            )\n",
    "            inputs = {k: v.to(self.device) for k, v in inputs.items()}\n",
    "            with torch.no_grad():\n",
    "                outputs = self.model(**inputs)\n",
    "            # Extraction de la représentation du token [CLS] (premier token)\n",
    "            emb = outputs.last_hidden_state[:, 0, :].squeeze().cpu().numpy()\n",
    "            embeddings.append(emb)\n",
    "        return np.array(embeddings)\n",
    "\n",
    "# --- Wrapper pour oversampling ---\n",
    "class OversampleTransformer(BaseEstimator, TransformerMixin):\n",
    "    \"\"\"\n",
    "    Wrapper pour intégrer un oversampler dans le pipeline.\n",
    "    En phase d'entraînement, il applique fit_resample,\n",
    "    et en phase de prédiction, il renvoie simplement les données X.\n",
    "    \"\"\"\n",
    "    def __init__(self, sampler):\n",
    "        self.sampler = sampler\n",
    "        \n",
    "    def fit(self, X, y=None):\n",
    "        self.X_res_, self.y_res_ = self.sampler.fit_resample(X, y)\n",
    "        return self\n",
    "    \n",
    "    def transform(self, X):\n",
    "        return X\n",
    "\n",
    "# Définir le device (GPU si disponible, sinon CPU)\n",
    "device = 'cuda' if torch.cuda.is_available() else 'cpu'\n",
    "\n",
    "# --- Construction du pipeline avec oversampling et SVM ---\n",
    "# Le pipeline est constitué de :\n",
    "# 1. CamembertVectorizer pour obtenir les embeddings du texte\n",
    "# 2. Oversampling sur le jeu d'entraînement (RandomOverSampler)\n",
    "# 3. StandardScaler pour normaliser les features, essentiel pour le SVM\n",
    "# 4. SVC avec kernel RBF et des hyperparamètres paramétrés sans opti\n",
    "pipeline_camembert_svm = Pipeline([\n",
    "    ('camembert', CamembertVectorizer(device=device)),\n",
    "    ('oversample', OversampleTransformer(RandomOverSampler(random_state=42))),\n",
    "    ('scaler', StandardScaler()),  # Normalisation des features pour SVM\n",
    "    ('clf', SVC(\n",
    "        kernel='rbf',         # Noyau radial\n",
    "        C=1.0,                # Contrôle de la marge\n",
    "        gamma='scale',        # Paramètre du kernel\n",
    "        probability=True,     # Optionnel : permet de prédire des probabilités\n",
    "        random_state=42\n",
    "    ))\n",
    "])\n",
    "\n",
    "# Entraînement\n",
    "print(\"Entraînement du modèle avec Camembert + SVM + Oversampling...\")\n",
    "pipeline_camembert_svm.fit(X_train, y_train)\n",
    "\n",
    "# Prédiction sur le jeu de test et affichage du rapport de classification\n",
    "y_pred_svm = pipeline_camembert_svm.predict(X_test)\n",
    "print(\"SVM + Camembert Classification Report:\")\n",
    "print(classification_report(y_test, y_pred_svm))"
   ]
  },
  {
   "cell_type": "markdown",
   "metadata": {},
   "source": [
    "5) Résultats :"
   ]
  },
  {
   "cell_type": "markdown",
   "metadata": {},
   "source": [
    "**Chatgpt** (pas gratuit)"
   ]
  },
  {
   "cell_type": "code",
   "execution_count": null,
   "metadata": {},
   "outputs": [
    {
     "name": "stdout",
     "output_type": "stream",
     "text": [
      "Entrez votre clé OpenAI (sk-...) : "
     ]
    }
   ],
   "source": [
    "import os\n",
    "import time\n",
    "import requests\n",
    "import pandas as pd\n",
    "\n",
    "# Fichiers CSV en entrée et sortie\n",
    "INPUT_CSV = '700offers.200classified.csv'\n",
    "OUTPUT_CSV = '700offers.200classified_updated.csv'\n",
    "\n",
    "# Récupération de la clé API OpenAI\n",
    "def get_api_key():\n",
    "    key = os.getenv('OPENAI_API_KEY')\n",
    "    if key:\n",
    "        return key\n",
    "    print(\"Entrez votre clé OpenAI (sk-...) :\", end=' ')\n",
    "    return input().strip()\n",
    "\n",
    "API_KEY = get_api_key()\n",
    "if not API_KEY:\n",
    "    raise RuntimeError('Clé API OpenAI manquante.')\n",
    "\n",
    "HEADERS = {\n",
    "    'Authorization': f'Bearer {API_KEY}',\n",
    "    'Content-Type': 'application/json'\n",
    "}\n",
    "MODEL = 'gpt-3.5-turbo'  # ou 'gpt-4' si disponible\n",
    "\n",
    "# Prompt système pour la classification\n",
    "SYSTEM_PROMPT = (\n",
    "    \"Tu es un assistant qui classe des offres d'emploi dans UNE SEULE catégorie de valeurs. \"\n",
    "    \"Les catégories sont :\\n\"\n",
    "    \"1) Excellence, Leadership et Performance\\n\"\n",
    "    \"2) Accompagnement et Evolution Professionnelle\\n\"\n",
    "    \"3) Proximité et Ancrage Local\\n\"\n",
    "    \"4) Relations Humaines et Collectif\\n\"\n",
    "    \"5) Engagement Social et Bien-être\\n\"\n",
    "    \"Renvoie **uniquement** le chiffre (1-5) sans autre texte.\"\n",
    ")\n",
    "\n",
    "# Fonction de classification via l'API OpenAI\n",
    "\n",
    "def classify_offer(text: str) -> int:\n",
    "    payload = {\n",
    "        'model': MODEL,\n",
    "        'messages': [\n",
    "            {'role': 'system', 'content': SYSTEM_PROMPT},\n",
    "            {'role': 'user', 'content': text}\n",
    "        ],\n",
    "        'temperature': 0,\n",
    "        'max_tokens': 3\n",
    "    }\n",
    "    response = requests.post(\n",
    "        'https://api.openai.com/v1/chat/completions',\n",
    "        headers=HEADERS,\n",
    "        json=payload\n",
    "    )\n",
    "    response.raise_for_status()\n",
    "    content = response.json()['choices'][0]['message']['content'].strip()\n",
    "    try:\n",
    "        return int(content)\n",
    "    except ValueError:\n",
    "        raise ValueError(f\"Réponse inattendue de l'API : '{content}'\")\n",
    "\n",
    "# Chargement du CSV\n",
    "print(f\"Chargement de {INPUT_CSV}...\")\n",
    "df = pd.read_csv(INPUT_CSV)\n",
    "\n",
    "# Itération et classification des offres sans catégorie\n",
    "for idx, row in df[df['category'].isna()].iterrows():\n",
    "    company = str(row.get('company', '')).strip()\n",
    "    description = str(row.get('description', '')).strip()\n",
    "    prompt_text = f\"{company}\\n\\n{description}\"\n",
    "    try:\n",
    "        cat = classify_offer(prompt_text)\n",
    "        df.at[idx, 'category'] = cat\n",
    "        print(f\"Ligne {idx+1} classée : {cat}\")\n",
    "        # Sauvegarde incrémentale\n",
    "        df.to_csv(OUTPUT_CSV, index=False)\n",
    "    except Exception as err:\n",
    "        print(f\"Erreur à la ligne {idx+1} : {err}\")\n",
    "    time.sleep(1)\n",
    "\n",
    "print(f\"Classification terminée, fichier enregistré sous : {OUTPUT_CSV}\")\n"
   ]
  },
  {
   "cell_type": "markdown",
   "metadata": {},
   "source": [
    "## **IV. Stats desc**"
   ]
  }
 ],
 "metadata": {
  "kernelspec": {
   "display_name": "Python 3",
   "language": "python",
   "name": "python3"
  },
  "language_info": {
   "codemirror_mode": {
    "name": "ipython",
    "version": 3
   },
   "file_extension": ".py",
   "mimetype": "text/x-python",
   "name": "python",
   "nbconvert_exporter": "python",
   "pygments_lexer": "ipython3",
   "version": "3.12.9"
  }
 },
 "nbformat": 4,
 "nbformat_minor": 2
}
