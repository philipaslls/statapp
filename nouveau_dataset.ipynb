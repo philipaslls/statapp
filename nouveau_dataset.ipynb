{
 "cells": [
  {
   "cell_type": "markdown",
   "id": "720ff30e",
   "metadata": {},
   "source": [
    "Rajouter des offres d'emploi afin que le modèle ait davantage de quoi s'entraîner \n",
    "\n",
    "1 - Utilisation de synonymes"
   ]
  },
  {
   "cell_type": "code",
   "execution_count": 13,
   "id": "b3ab80f1",
   "metadata": {},
   "outputs": [
    {
     "name": "stdout",
     "output_type": "stream",
     "text": [
      "/Users/caroline/Library/Python/3.9/lib/python/site-packages/urllib3/__init__.py:35: NotOpenSSLWarning: urllib3 v2 only supports OpenSSL 1.1.1+, currently the 'ssl' module is compiled with 'LibreSSL 2.8.3'. See: https://github.com/urllib3/urllib3/issues/3020\n",
      "  warnings.warn(\n",
      "Defaulting to user installation because normal site-packages is not writeable\n",
      "Collecting fr-core-news-md==3.7.0\n",
      "  Downloading https://github.com/explosion/spacy-models/releases/download/fr_core_news_md-3.7.0/fr_core_news_md-3.7.0-py3-none-any.whl (45.8 MB)\n",
      "\u001b[2K     \u001b[90m━━━━━━━━━━━━━━━━━━━━━━━━━━━━━━━━━━━━━━━━\u001b[0m \u001b[32m45.8/45.8 MB\u001b[0m \u001b[31m2.2 MB/s\u001b[0m eta \u001b[36m0:00:00\u001b[0m00:01\u001b[0m00:01\u001b[0m\n",
      "\u001b[?25hRequirement already satisfied: spacy<3.8.0,>=3.7.0 in /Users/caroline/Library/Python/3.9/lib/python/site-packages (from fr-core-news-md==3.7.0) (3.7.4)\n",
      "Requirement already satisfied: spacy-legacy<3.1.0,>=3.0.11 in /Users/caroline/Library/Python/3.9/lib/python/site-packages (from spacy<3.8.0,>=3.7.0->fr-core-news-md==3.7.0) (3.0.12)\n",
      "Requirement already satisfied: spacy-loggers<2.0.0,>=1.0.0 in /Users/caroline/Library/Python/3.9/lib/python/site-packages (from spacy<3.8.0,>=3.7.0->fr-core-news-md==3.7.0) (1.0.5)\n",
      "Requirement already satisfied: murmurhash<1.1.0,>=0.28.0 in /Users/caroline/Library/Python/3.9/lib/python/site-packages (from spacy<3.8.0,>=3.7.0->fr-core-news-md==3.7.0) (1.0.12)\n",
      "Requirement already satisfied: cymem<2.1.0,>=2.0.2 in /Users/caroline/Library/Python/3.9/lib/python/site-packages (from spacy<3.8.0,>=3.7.0->fr-core-news-md==3.7.0) (2.0.11)\n",
      "Requirement already satisfied: preshed<3.1.0,>=3.0.2 in /Users/caroline/Library/Python/3.9/lib/python/site-packages (from spacy<3.8.0,>=3.7.0->fr-core-news-md==3.7.0) (3.0.9)\n",
      "Requirement already satisfied: thinc<8.3.0,>=8.2.2 in /Users/caroline/Library/Python/3.9/lib/python/site-packages (from spacy<3.8.0,>=3.7.0->fr-core-news-md==3.7.0) (8.2.2)\n",
      "Requirement already satisfied: wasabi<1.2.0,>=0.9.1 in /Users/caroline/Library/Python/3.9/lib/python/site-packages (from spacy<3.8.0,>=3.7.0->fr-core-news-md==3.7.0) (1.1.3)\n",
      "Requirement already satisfied: srsly<3.0.0,>=2.4.3 in /Users/caroline/Library/Python/3.9/lib/python/site-packages (from spacy<3.8.0,>=3.7.0->fr-core-news-md==3.7.0) (2.5.1)\n",
      "Requirement already satisfied: catalogue<2.1.0,>=2.0.6 in /Users/caroline/Library/Python/3.9/lib/python/site-packages (from spacy<3.8.0,>=3.7.0->fr-core-news-md==3.7.0) (2.0.10)\n",
      "Requirement already satisfied: weasel<0.4.0,>=0.1.0 in /Users/caroline/Library/Python/3.9/lib/python/site-packages (from spacy<3.8.0,>=3.7.0->fr-core-news-md==3.7.0) (0.3.4)\n",
      "Requirement already satisfied: typer<0.10.0,>=0.3.0 in /Users/caroline/Library/Python/3.9/lib/python/site-packages (from spacy<3.8.0,>=3.7.0->fr-core-news-md==3.7.0) (0.9.4)\n",
      "Requirement already satisfied: smart-open<7.0.0,>=5.2.1 in /Users/caroline/Library/Python/3.9/lib/python/site-packages (from spacy<3.8.0,>=3.7.0->fr-core-news-md==3.7.0) (6.4.0)\n",
      "Requirement already satisfied: tqdm<5.0.0,>=4.38.0 in /Users/caroline/Library/Python/3.9/lib/python/site-packages (from spacy<3.8.0,>=3.7.0->fr-core-news-md==3.7.0) (4.67.1)\n",
      "Requirement already satisfied: requests<3.0.0,>=2.13.0 in /Users/caroline/Library/Python/3.9/lib/python/site-packages (from spacy<3.8.0,>=3.7.0->fr-core-news-md==3.7.0) (2.32.3)\n",
      "Requirement already satisfied: pydantic!=1.8,!=1.8.1,<3.0.0,>=1.7.4 in /Users/caroline/Library/Python/3.9/lib/python/site-packages (from spacy<3.8.0,>=3.7.0->fr-core-news-md==3.7.0) (2.11.3)\n",
      "Requirement already satisfied: jinja2 in /Users/caroline/Library/Python/3.9/lib/python/site-packages (from spacy<3.8.0,>=3.7.0->fr-core-news-md==3.7.0) (3.1.6)\n",
      "Requirement already satisfied: setuptools in /Library/Developer/CommandLineTools/Library/Frameworks/Python3.framework/Versions/3.9/lib/python3.9/site-packages (from spacy<3.8.0,>=3.7.0->fr-core-news-md==3.7.0) (58.0.4)\n",
      "Requirement already satisfied: packaging>=20.0 in /Users/caroline/Library/Python/3.9/lib/python/site-packages (from spacy<3.8.0,>=3.7.0->fr-core-news-md==3.7.0) (24.2)\n",
      "Requirement already satisfied: langcodes<4.0.0,>=3.2.0 in /Users/caroline/Library/Python/3.9/lib/python/site-packages (from spacy<3.8.0,>=3.7.0->fr-core-news-md==3.7.0) (3.5.0)\n",
      "Requirement already satisfied: numpy>=1.19.0 in /Users/caroline/Library/Python/3.9/lib/python/site-packages (from spacy<3.8.0,>=3.7.0->fr-core-news-md==3.7.0) (1.26.4)\n",
      "Requirement already satisfied: language-data>=1.2 in /Users/caroline/Library/Python/3.9/lib/python/site-packages (from langcodes<4.0.0,>=3.2.0->spacy<3.8.0,>=3.7.0->fr-core-news-md==3.7.0) (1.3.0)\n",
      "Requirement already satisfied: annotated-types>=0.6.0 in /Users/caroline/Library/Python/3.9/lib/python/site-packages (from pydantic!=1.8,!=1.8.1,<3.0.0,>=1.7.4->spacy<3.8.0,>=3.7.0->fr-core-news-md==3.7.0) (0.7.0)\n",
      "Requirement already satisfied: pydantic-core==2.33.1 in /Users/caroline/Library/Python/3.9/lib/python/site-packages (from pydantic!=1.8,!=1.8.1,<3.0.0,>=1.7.4->spacy<3.8.0,>=3.7.0->fr-core-news-md==3.7.0) (2.33.1)\n",
      "Requirement already satisfied: typing-extensions>=4.12.2 in /Users/caroline/Library/Python/3.9/lib/python/site-packages (from pydantic!=1.8,!=1.8.1,<3.0.0,>=1.7.4->spacy<3.8.0,>=3.7.0->fr-core-news-md==3.7.0) (4.13.0)\n",
      "Requirement already satisfied: typing-inspection>=0.4.0 in /Users/caroline/Library/Python/3.9/lib/python/site-packages (from pydantic!=1.8,!=1.8.1,<3.0.0,>=1.7.4->spacy<3.8.0,>=3.7.0->fr-core-news-md==3.7.0) (0.4.0)\n",
      "Requirement already satisfied: charset-normalizer<4,>=2 in /Users/caroline/Library/Python/3.9/lib/python/site-packages (from requests<3.0.0,>=2.13.0->spacy<3.8.0,>=3.7.0->fr-core-news-md==3.7.0) (3.4.1)\n",
      "Requirement already satisfied: idna<4,>=2.5 in /Users/caroline/Library/Python/3.9/lib/python/site-packages (from requests<3.0.0,>=2.13.0->spacy<3.8.0,>=3.7.0->fr-core-news-md==3.7.0) (3.10)\n",
      "Requirement already satisfied: urllib3<3,>=1.21.1 in /Users/caroline/Library/Python/3.9/lib/python/site-packages (from requests<3.0.0,>=2.13.0->spacy<3.8.0,>=3.7.0->fr-core-news-md==3.7.0) (2.4.0)\n",
      "Requirement already satisfied: certifi>=2017.4.17 in /Users/caroline/Library/Python/3.9/lib/python/site-packages (from requests<3.0.0,>=2.13.0->spacy<3.8.0,>=3.7.0->fr-core-news-md==3.7.0) (2025.1.31)\n",
      "Requirement already satisfied: blis<0.8.0,>=0.7.8 in /Users/caroline/Library/Python/3.9/lib/python/site-packages (from thinc<8.3.0,>=8.2.2->spacy<3.8.0,>=3.7.0->fr-core-news-md==3.7.0) (0.7.11)\n",
      "Requirement already satisfied: confection<1.0.0,>=0.0.1 in /Users/caroline/Library/Python/3.9/lib/python/site-packages (from thinc<8.3.0,>=8.2.2->spacy<3.8.0,>=3.7.0->fr-core-news-md==3.7.0) (0.1.5)\n",
      "Requirement already satisfied: click<9.0.0,>=7.1.1 in /Users/caroline/Library/Python/3.9/lib/python/site-packages (from typer<0.10.0,>=0.3.0->spacy<3.8.0,>=3.7.0->fr-core-news-md==3.7.0) (8.1.8)\n",
      "Requirement already satisfied: cloudpathlib<0.17.0,>=0.7.0 in /Users/caroline/Library/Python/3.9/lib/python/site-packages (from weasel<0.4.0,>=0.1.0->spacy<3.8.0,>=3.7.0->fr-core-news-md==3.7.0) (0.16.0)\n",
      "Requirement already satisfied: MarkupSafe>=2.0 in /Users/caroline/Library/Python/3.9/lib/python/site-packages (from jinja2->spacy<3.8.0,>=3.7.0->fr-core-news-md==3.7.0) (3.0.2)\n",
      "Requirement already satisfied: marisa-trie>=1.1.0 in /Users/caroline/Library/Python/3.9/lib/python/site-packages (from language-data>=1.2->langcodes<4.0.0,>=3.2.0->spacy<3.8.0,>=3.7.0->fr-core-news-md==3.7.0) (1.2.1)\n",
      "Installing collected packages: fr-core-news-md\n",
      "Successfully installed fr-core-news-md-3.7.0\n",
      "\u001b[38;5;2m✔ Download and installation successful\u001b[0m\n",
      "You can now load the package via spacy.load('fr_core_news_md')\n"
     ]
    }
   ],
   "source": [
    "!python3 -m spacy download fr_core_news_md"
   ]
  },
  {
   "cell_type": "code",
   "execution_count": 1,
   "id": "8f9e47cc",
   "metadata": {},
   "outputs": [
    {
     "name": "stderr",
     "output_type": "stream",
     "text": [
      "/Users/caroline/Library/Python/3.9/lib/python/site-packages/urllib3/__init__.py:35: NotOpenSSLWarning: urllib3 v2 only supports OpenSSL 1.1.1+, currently the 'ssl' module is compiled with 'LibreSSL 2.8.3'. See: https://github.com/urllib3/urllib3/issues/3020\n",
      "  warnings.warn(\n",
      "[nltk_data] Downloading package wordnet to\n",
      "[nltk_data]     /Users/caroline/nltk_data...\n",
      "[nltk_data] Downloading package omw-1.4 to\n",
      "[nltk_data]     /Users/caroline/nltk_data...\n"
     ]
    }
   ],
   "source": [
    "import pandas as pd\n",
    "import random\n",
    "import nltk\n",
    "from nltk.corpus import wordnet as wn\n",
    "import spacy\n",
    "\n",
    "nltk.download('wordnet')\n",
    "nltk.download('omw-1.4')\n",
    "nlp = spacy.load(\"fr_core_news_sm\")"
   ]
  },
  {
   "cell_type": "code",
   "execution_count": 2,
   "id": "b24ec280",
   "metadata": {},
   "outputs": [],
   "source": [
    "def get_french_synonyms(word):\n",
    "    synonyms = set()\n",
    "    for syn in wn.synsets(word, lang='fra'):\n",
    "        for lemma in syn.lemmas('fra'):\n",
    "            synonyms.add(lemma.name().replace('_', ' '))\n",
    "    return list(synonyms - {word})"
   ]
  },
  {
   "cell_type": "code",
   "execution_count": 3,
   "id": "c0546de9",
   "metadata": {},
   "outputs": [],
   "source": [
    "def augmenter_texte_synonymes(text, ratio=0.3):\n",
    "    doc = nlp(text)\n",
    "    new_text = []\n",
    "\n",
    "    for token in doc:\n",
    "        if token.pos_ in [\"NOUN\", \"VERB\", \"ADJ\"] and random.random() < ratio:\n",
    "            syns = get_french_synonyms(token.text.lower())\n",
    "            if syns:\n",
    "                new_word = random.choice(syns)\n",
    "                new_text.append(new_word)\n",
    "            else:\n",
    "                new_text.append(token.text)\n",
    "        else:\n",
    "            new_text.append(token.text)\n",
    "    \n",
    "    return \" \".join(new_text)"
   ]
  },
  {
   "cell_type": "code",
   "execution_count": 4,
   "id": "f92d6150",
   "metadata": {},
   "outputs": [],
   "source": [
    "# Exemple de structure\n",
    "data = {\n",
    "    \"description_entreprise\": [\n",
    "        \"Ayant l'Excellence comme objectif principal depuis 30 ans, Charlestown entraîne ses Hôtes et Hôtesses dans un rythme qui associe dynamisme, rigueur et sens du détail sur tout le territoire français. Aujourd'hui nous avons besoin de VOUS et de VOS talents pour faire perdurer cette Excellence et l'enrichir. Charlestown est #Handi-accueillante\",\n",
    "        \"Chantiers l'Atlantique est un des leaders mondiaux sur les marchés des navires de haute technologie (paquebots et navires militaires), des installations pour l'éolien en mer et des services aux flottes. Nous concevons, construisons et mettons en service des réalisations uniques, grâce à un bureau d'études parmi les plus grands de France et un outil industriel à la pointe de la technologie. Nous sommes au coeur des défis de demain, en proposant à nos clients des navires dont la performance énergétique leur permet d'aller au-delà des normes environnementales les plus drastiques, et à travers notre activité dans les énergies marines renouvelables, nous sommes des acteurs de premier plan de la transition énergétique européenne. Rejoindre notre entreprise, c'est faire partie d'une communauté de 3300 femmes et hommes animés par une même passion..\",\n",
    "        \"Chaque année, Randstad vous offre 2 millions de missions d'intérim ainsi que 43 000 contrats en CDD ou CDI. Rejoignez l'une de nos 50 000 entreprises clientes ! Nous recherchons pour le compte de notre client spécialisé dans la conception et la fabrication de matériels standards de manutention destinés à la grande distribution et vente à distance. un electricien industriel(f/h)\",\n",
    "        \"Colas Rail relève les défis de demain et contribue à mettre en place des solutions de mobilité durable. Nos 12 métiers nous permettent de maîtriser l'intégralité du cycle de vie des infrastructures ferroviaires : conception, construction et maintenance. Leader international dans notre domaine, nous sommes présents dans plus de 20 pays et employons 5 600 personnes à travers le monde.Rejoindre Colas Rail, c'est faire partie de l'aventure Colas, filiale du groupe Bouygues, qui a pour mission d'imaginer, de construire et d'entretenir des infrastructures de transport de façon responsable. Implanté dans plus de 50 pays sur les cinq continents, Colas rassemble 57 000 collaborateurs engagés dans leur territoire pour relier les hommes et faciliter les échanges dans le monde d'aujourd'hui et de demain. L'ambition de Colas est d'être le leader mondial des solutions de mobilité innovantes et responsables.\",\n",
    "        \"Concepteur et intégrateur de solutions industrielles, le groupe eXcent place au cœur de ses réflexions les problématiques de ses clients. Présent en France et à l’international, le groupe eXcent compte 650 collaborateurs pour un chiffre d’affaires de 70M€ en 2021. Sa vision industrielle globale, sa proximité et ses expertises techniques permettent à eXcent de proposer des solutions technologiques performantes, ergonomiques et optimisées. eXcent intervient tout au long du cycle industriel, des études-conception à la production et les services post développement, jusqu’au management de la qualité, de la supply-chain et la formation des collaborateurs. Fort de plus de 30 ans d’expérience, eXcent investit également dans le développement de produits propres afin de proposer des solutions toujours plus innovantes.\",\n",
    "        \"« En écoutant les besoins de vos clients et futurs clients, vous vendez les solutions les mieux adaptées » Dès votre arrivée, vous entamerez une formation à nos outils et nos produits, dispensée par l'équipe formation sur une durée de 4 mois, alliant training et application concrète. Votre Responsable d'Animation Commerciale, se rendra également disponible pour accompagner votre montée en compétences. En rejoignant le secteur des Hauts-de-France, vous partagerez les valeurs portée par nos équipes : l'entraide, l'authenticité et l'envie de réussir ensemble. Nous n'attendons plus que vous !\",\n",
    "        \"« Nous sommes persuadés que l'Humain est au cœur de l'entreprise et de la société. Nous considérons qu'il est primordial de vous accompagner tout au long de votre carrière, que ce soit en France ou à l'international. Ainsi, rejoindre The Adecco Group, c'est mettre l'Humain au cœur de son quotidien. Intégrer des équipes expertes et passionnées qui font de l'emploi leur priorité. Recruteur, commercial, chasseur de têtes, collaborateur siège ou cadre siège… tant de profils nécessaires à la transformation du monde de l'emploi que nous intégrons chaque jour dans nos équipes. Vous souhaitez donner du sens à votre métier ? Que votre ambition soit de mettre des gens à l'emploi ou d'expérimenter des innovations pour faire bouger le marché, votre place est chez nous. Accompagnez notre groupe au travers de ces transitions… et participez avec nous à la transformation du monde de l'emploi.\",\n",
    "        \"#ambassadeurd'image depuis 50 ans, Pénélope, grâce à ses équipes, réinvente en permanence les métiers de l'accueil et de l'hospitality. Si, comme nous, vous pensez que l'accueil est un vrai métier, utile et indispensable dans les entreprises, si monotonie ne fait pas partie de votre vocabulaire et si vous voulez intégrer une entreprise qui vous permettra d'exercer vos talents et d'évoluer, Alors rejoignez la #TeamPénélope ! Esprits curieux, adeptes de la découverte et de l'enrichissement des compétences, nos métiers sont faits pour vous !\",\n",
    "        \"À LUNDI réinvente la façon de former et de travailler, dans les secteurs du bâtiment, des travaux publics, de l’industrie métallurgique, de la logistique, du commerce et de tous les métiers dans tous les autres secteurs d’activité. La structure est un groupement d’employeurs qui s’appuie sur le potentiel de candidats. En fonction du parcours et des projets, À LUNDI accompagne les salariés dans leurs démarches de formation en alternance. S'ils sont déjà qualifiés, À LUNDI recrute pour travailler à temps partagé au sein des entreprises adhérentes au groupement. À LUNDI intervient dans les Landes, les Pyrénées-Atlantiques et en Gironde. La structure s’appuie sur une expertise de près de 20 ans, au service de l’emploi qualifié ou en voie de qualification.\",\n",
    "        \"ABSOLIS Intérim, agence de travail temporaire multi-spécialiste de la région Nantaise, vous accueille et vous accompagne tout au long de vos missions au sein de nos entreprises partenaires.\",\n",
    "        \"21Bis Recrutement est un cabinet de recrutement indépendant qui se veut proche de ses clients et candidats tout en plaçant la confiance au centre de son fonctionnement.\",\n",
    "        \"A chaque moment, à chaque endroit, il y a toujours un flunch pour moi. Parce que notre ambition est de donner à tous le plaisir de fluncher en toutes occasions, dans tous les moments et lieux de vie, nous recherchons le fluncheur qui rejoindra nos équipes.\",\n",
    "        \"À propos de notre client A travers la tuile, la charpente, le plomb, le cuivre et le zinc, cette entreprise a rénové de nombreux ouvrages. L'équipe perpétue la tradition et le savoir-faire mis en œuvre depuis plusieurs années ! Cette entreprise consacre son activité à la rénovation et à la réhabilitation mais peut être amenée à la construction neuve. Si vous avez envie de faire partie de cette histoire, de vous inscrire dans le patrimoine de votre région, cette entreprise cherche à renforcer son équipe avec un couvreur charpentier zingueur H/F .\",\n",
    "        \"Acteur local et indépendant de l'intérim et du recrutement, Avantage Intérim ANGERS intervient sur l'ensemble des secteurs d'activité hormis le médical. Basée sur des valeurs humaines c'est ainsi que nous pouvons établir une synergie entre nos clients et intérimaires. C'est pourquoi au quotidien nos équipes chargé de recrutement sont à votre écoute. Avantage Intérim ANGERS vous accueille tous les jours du Lundi au Vendredi de 8h à 12h30 et de 13h30 à 18h. Adresse : 7 RUE DE LA CHANTERIE - 49124 - ST BARTHELEMY D'ANJOU.\",\n",
    "        \"Actrice de l'emploi local depuis 10 ans, OSMOSE EMPLOI Au coeur des Compétences, s'engage au quotidien en menant des actions socialement responsables. A l'écoute, notre équipe unie autour de valeurs humaines, oeuvre chaque jour pour faciliter la rencontre de Femmes et d'Hommes avec leurs avenirs professionnels, en Intérim, CDD ou CDI. Osmose Emploi, agence de Travail Temporaire de proximité et indépendante, valorise les compétences, les savoirs, savoirs-être, savoirs-faire auprès des Entreprises Partenaires et accompagne la montée en performance de chaque Collaborateur. Nous nous investissons chaque jour dans une démarche qui nous anime, celle du Savoir-Devenir Ensemble, un tremplin pour votre futur professionnel, et le développement des performances humaines de vos Entreprises.\",\n",
    "        \"Adsearch recherche pour l'un de ses clients (Agence d'Administration de Biens) un Comptable Gestion Locative (H/F). Poste à pourvoir en CDI et situé en Centre-Ville de Toulouse. Les avantages de l'entreprise : -Une entreprise à taille humaine : 9 collaborateurs -Un faible turnover -Une bonne ambiance -Une qualité de travail sans forte pression hiérarchique -De l'autonomie\",\n",
    "        \"Au sein d'une de nos plateformes logistiques, vous participez à l'ensemble des activités de préparation des commandes mais aussi, en tant qu'Opérateur Logistique, à l'ensemble des missions logistiques annexes (réceptionnaire, cariste/ magasinier, agent de quai, …) en fonction des commandes émises par nos supermarchés.\",\n",
    "        \"Aujourd'hui, KILOUTOU est labellisé TOP EMPLOYER depuis 9 ans, et pour la troisième année consécutive certifié HAPPY CANDIDATE. Le groupe KILOUTOU compte plus de 6000 équipiers et poursuit son développement à l'international (Pologne, Espagne, Allemagne, Italie et Danemark ). KILOUTOU s'appuie sur une culture forte de la responsabilisation et de la promotion interne et attache beaucoup d'importance à l'ambiance au travail ! C'est donc 6 000 équipiers formés et motivés, 550 agences partout en France, un parc de 250 000 matériels, plus de 1 000 références pour répondre aux besoins d'une clientèle diversifiée (entreprises du BTP, artisans, PME, collectivités locales, industries), des engagements concrets pour le climat... Avec KILOUTOU, la location de matériels est un métier à forte valeur ajoutée.\",\n",
    "        \"Avec 19000 collaborateurs et 365 établissements, Colisée, acteur de référence européen développe son expertise au service de l'accompagnement et des soins aux personnes âgées. Son réseau en France, Belgique, Espagne, Italie et Chine accueille plus de 31000 résidents et patients en Etablissements Médicalisés et Résidences avec services. Colisée développe également des services à domicile. Nous rejoindre, c'est la promesse d'évoluer dans un environnement favorisant l'autonomie, la responsabilité, l'esprit d'initiative et l'innovation. Quel que soit votre parcours, et dès votre intégration, vous devenez un ambassadeur de Colisée et de ses valeurs : Cohésion d'Equipe - Respect de l'autre - Engagement. Nous avons déployé la méthode Montessori adaptée à l'accompagnement des Seniors et lancé notre propre réseau social Mycolisée à destination des résidents et de leurs proches.Rejoignez Colisée et participez à une aventure humaine au sein d'une entreprise dynamique, innovante et en pleine expansion ! Etablissement de 78 lits, incluant 28 places en unité protégées et 50 places en secteur ouvert, la Résidence Les Clos de Planestel est située à Bagnols en Forêt, dans le Var.\",\n",
    "        \"Bio C' Bon a été créée en 2008, nous sommes l'un des acteurs principaux sur le marché de la distribution bio nous comptons actuellement plus de 135 magasins en France. Nous sommes une jeune entreprise dynamique qui partage des valeurs d'enthousiasme et de convivialité. Nos magasins sont de véritables commerces de proximité dans lesquels nous souhaitons rendre les produits bio accessibles à tous ! Afin de participer au fort développement de notre enseigne, Bio C' Bon recrute régulièrement des femmes et des hommes de terrain afin de renforcer nos équipes. Votre esprit d'initiative ainsi que votre joie de vivre seront de vraies valeurs ajoutées au sein de nos équipes. Dotez de votre grain de folie, vous avez envie de vivre plus qu'une expérience, venez participer à l'aventure Bio C' Bon : https://www.bio-c-bon.eu/fr/rejoignez-nous\",\n",
    "        \" 123 webimmo . comest un réseau de 90 agences en France et dans les DOM, spécialisé en immobilier traditionnel, immobilier neuf, location & gestion. Depuis plus de 18 ans, notre philosophie est de rendre accessible un ensemble de services digitaux dans le but de valoriser les biens de nos clients. 123 webimmo . com s’inscrit dans une démarche de politique tarifaire au juste prix dans l’intérêt du consommateur tant acheteur que vendeur, tout en permettant à nos collaborateurs de générer une forte rentabilité.  123 webimmo . com en quelques chiffres : • 46% de croissance de CA en 2021 • 55% de biens confiés en mandat exclusif • 95,2% de satisfaction client sur l'ensemble du réseau en 2021 Nous rejoindre, c’est intégrer un réseau d’agences à taille humaine, et partager nos valeurs Engagement, Authenticité, Simplicité, Envie d’apprendre et Rentabilité ! Nous rejoindre c’est aussi devenir un acteur engagé dans la sauvegarde de la biodiversité.\",\n",
    "        \"«Le groupe Domuneo est spécialisé dans la mise en place de solution de production d’énergie verte garantie 30ans pour l’autoconsommation des particuliers. Depuis bientôt 10ans, notre expérience et nos produits hauts de gammes, nous permettent de répondre aux besoins de nos clients et de les aider à effectuer leurs transitions énergétiques dans la sérénité.  https://www.domuneo.com/\",\n",
    "        \"3F Grand Est, société 3F, gère plus de 8 200 logements sociaux dans les départements du Haut-Rhin, du Bas-Rhin, des Vosges, de la Meurthe-et-Moselle et de la Moselle. 3F Grand Est et ses 103 collaborateurs et collaboratrices font de la qualité de service une de leurs priorités tout comme l'accompagnement des familles en difficulté. En 2021, la société a mis en chantier 315 futurs logements et compte renforcer son développement au plus près des bassins d'emplois dans les agglomérations de Strasbourg, Nancy, Mulhouse et Metz. https://www.groupe3f.fr/3f/nos-societes/3f-grand-est\",\n",
    "        \"A la tête d'un important réseau de 600 établissements dans les secteurs sanitaire, médico-social, social et de l'enseignement, la Croix Rouge Française emploie plus de 18 000 salariés et propose 70 métiers dans l'ensemble de son réseau national et international, dans des instituts médico-éducatif, crèches, maisons de retraite, centres de réadaptation fonctionnelle, instituts de formation, centres d'hébergement d'urgence, centres de santé, missions Internationales... Toutes ces structures, au coeur des enjeux de société, développent de nouveaux projets et travaillent à des solutions innovantes. La région Grand Ouest (Pays de la Loire/Centre-Val-de-Loire/Bretagne) regroupe près de 6950 bénévoles et emploie plus de 1285 salariés dans 46 établissements, pôles et services. En nous rejoignant, vous partagerez notre engagement et notre éthique et développerez vos compétences.\",\n",
    "        \"Acteur majeur du recrutement et du travail temporaire, Ergalis accompagne chaque année près de 20.000 candidats en CDI, CDD, Intérim et CDI Intérimaire. Ergalis s'engage à valoriser toutes les compétences dans le respect de la diversité, et notamment à favoriser l'intégration professionnelle des candidats handicapés.\"\n",
    "    ],\n",
    "    \"catégories\": [1, 1, 1, 1, 1, 2, 2, 2, 2, 2, 3, 3, 3, 3, 3, 4, 4, 4, 4, 4, 5, 5, 5, 5, 5]\n",
    "}\n",
    "\n",
    "df_base = pd.DataFrame(data)"
   ]
  },
  {
   "cell_type": "code",
   "execution_count": 6,
   "id": "7ceed7a4",
   "metadata": {},
   "outputs": [],
   "source": [
    "n_variantes = 5  # Combien de versions par description\n",
    "\n",
    "nouveaux_exemples = []\n",
    "\n",
    "for _, row in df_base.iterrows():\n",
    "    texte = row[\"description_entreprise\"]\n",
    "    cat = row[\"catégories\"]\n",
    "    \n",
    "    for _ in range(n_variantes):\n",
    "        texte_aug = augmenter_texte_synonymes(texte)\n",
    "        nouveaux_exemples.append({\n",
    "            \"description_entreprise\": texte_aug,\n",
    "            \"catégories\": cat\n",
    "        })\n",
    "\n",
    "df_nouveau = pd.DataFrame(nouveaux_exemples)\n"
   ]
  },
  {
   "cell_type": "code",
   "execution_count": 10,
   "id": "b9913be6",
   "metadata": {},
   "outputs": [
    {
     "name": "stdout",
     "output_type": "stream",
     "text": [
      "[[\"Ayant l' Excellence comme objectif étoile depuis 30 ans , Charlestown entraîne ses Hôtes et Hôtesses dans un rythme qui associe dynamisme , gravité et regard du point sur tout le zone français . Aujourd'hui nous avons besoin de VOUS et de VOS talents pour faire perdurer cette Excellence et l' enrichir . Charlestown est # Handi - accueillante\", 1], [\"Ayant l' Excellence comme proie principal depuis 30 ans , Charlestown entraîne ses Hôtes et Hôtesses dans un rythme qui associe dynamisme , pénibilité et sens du point sur tout le territoire Liste d'historiens de la Bretagne . Aujourd'hui nous avons besoin de VOUS et de VOS talents pour faire perdurer cette Son Excellence et l' enrichir . Charlestown est # Handi - accueillante\", 1], [\"Ayant l' Son Excellence comme objectif principal depuis 30 ans , Charlestown entraîne ses Hôtes et Hôtesses dans un taux qui associe dynamisme , rigueur et sens du détail sur complètement le territoire français . Aujourd'hui nous avons besoin de VOUS et de VOS talents pour faire perdurer cette Excellence et l' enrichir . Charlestown est # Handi - accueillante\", 1], [\"Ayant l' Excellence comme lieu principal depuis 30 ans , Charlestown entraîne ses Hôtes et Hôtesses dans un rythme qui associe élan , pénibilité et sens du détail sur carboniser le zone Liste d'historiens de la Bretagne . Aujourd'hui nous avons besoin de VOUS et de VOS talents pour faire perdurer cette Excellence et l' enrichir . Charlestown est # Handi - accueillante\", 1], [\"Ayant l' Excellence comme objectif essentiel depuis 30 ans , Charlestown entraîne ses Hôtes et Hôtesses dans un rythme qui associe élan , étroitesse et herbe du détail sur aucun le territoire français . Aujourd'hui nous avons exigence de VOUS et de VOS talents pour faire perdurer cette Son Excellence et l' enrichir . Charlestown est # Handi - accueillante\", 1], [\"Chantiers l' Atlantique est un des leaders mondiaux sur les marchés des navires de haute technologie ( paquebots et navires militaires ) , des installations pour l' éolien en voyage et des services aux flottes . Nous concevons , construisons et mettons en service des réalisations uniques , bienfait à un bureau d' études parmi les plus grands de France et un outil entrepreneur à la faîte de la technologie . Nous sommes au viande des défis de demain , en proposant à nos clients des navires dont la performance énergétique leur permet d' aller au-delà des normes environnementales les plus drastiques , et à habitude notre activité dans les énergies marines renouvelables , nous sommes des acteurs de premier intention de la transition énergétique européenne . Rejoindre notre entreprise , c' est faire partie d' une communauté de 3300 femmes et hommes animés par une même passion ..\", 1], [\"Chantiers l' Atlantique est un des leaders mondiaux sur les marchés des navires de haute technologie ( paquebots et navires militaires ) , des installations pour l' éolien en mer et des services aux flottes . Nous concevons , construisons et mettons en service des réalisations uniques , Amnistie en France à un puissance d' études parmi les plus grands de France et un instrument entrepreneur à la pointe de la technologie . Nous sommes au coeur des défis de demain , en proposant à nos clients des navires dont la performance énergétique leur permet d' aller au-delà des normes environnementales les plus drastiques , et à appel notre activité dans les énergies marines renouvelables , nous sommes des acteurs de premier plan de la transition énergétique européen . Rejoindre notre entreprise , c' est tenir côté d' une communauté de 3300 femmes et main d'œuvre animés par une même passion ..\", 1], [\"Chantiers l' Atlantique est un des leaders mondiaux sur les marchés des navires de haute technique ( paquebots et navires militaires ) , des installations pour l' éolien en océan et des services aux flottes . Nous concevons , construisons et mettons en service des réalisations uniques , grâce à un bureau d' études parmi les plus grands de France et un outil entrepreneur à la pointe de la technologie . Nous sommes au fond des défis de demain , en proposant à nos clients des navires dont la performance énergie leur permet d' évaluer au-delà des normes environnementales les plus drastiques , et à utiliser notre activité dans les énergies marines renouvelables , nous sommes des acteurs de premier plan de la transition énergétique européenne . Rejoindre notre entreprise , c' est faire flanc d' une communauté de 3300 femmes et hommes animés par une même passion ..\", 1], [\"Chantiers l' Atlantique est un des leaders mondiaux sur les marchés des navires de haute technologie ( paquebots et navires militaires ) , des installations pour l' éolien en traversée et des services aux flottes . Nous concevons , construisons et mettons en service des réalisations uniques , grâce à un agence d' études parmi les plus grands de France et un outil industriel à la pointe de la technologie . Nous sommes au coeur des défis de demain , en proposant à nos clients des navires dont la opération énergétique leur permet d' aller au-delà des normes environnementales les plus drastiques , et à travers notre activité dans les énergies marines renouvelables , nous sommes des acteurs de premier plan de la transition force européenne . Rejoindre notre entreprise , c' est faire contribution d' une communauté de 3300 femmes et hommes animés par une même passion ..\", 1], [\"Chantiers l' Atlantique est un des leaders mondiaux sur les marchés des navires de haute recherche appliquée ( paquebots et navires militaires ) , des installations pour l' éolien en mer et des services aux flottes . Nous concevons , construisons et mettons en garde des réalisations uniques , Grâce à un bureau d' études parmi les plus grands de France et un outil industriel à la fleur de la technologie . Nous sommes au coeur des défis de demain , en proposant à nos clients des navires dont la performance énergétique leur permet d' aller au-delà des normes environnementales les plus drastiques , et à travers notre activité dans les énergies marines renouvelables , nous sommes des acteurs de premier plan de la passerelle énergétique Européenne . Rejoindre notre entreprise , c' est faire partie d' une république de 3300 femmes et main-d’œuvre animés par une semblable passion ..\", 1]]\n"
     ]
    }
   ],
   "source": [
    "# Voir les 10 premières lignes sous forme de liste\n",
    "top_10_as_list = df_nouveau.head(10).values.tolist()\n",
    "print(top_10_as_list)"
   ]
  },
  {
   "cell_type": "markdown",
   "id": "8b828255",
   "metadata": {},
   "source": [
    "Conclusion : n'a pas l'air très intéressant car les phrases n'ont plus de sens ; peut-être faudrait-il déjà lemmatiser les offres  \n",
    "\n",
    "2 - Back-translation "
   ]
  },
  {
   "cell_type": "code",
   "execution_count": 14,
   "id": "8945e548",
   "metadata": {},
   "outputs": [],
   "source": [
    "#Tout d'abord on remplace le nom des entreprises par \"L'entreprise\" \n",
    "\n",
    "import spacy\n",
    "\n",
    "# Charger le modèle français de spaCy\n",
    "nlp = spacy.load(\"fr_core_news_md\")\n",
    "\n",
    "def remplacer_entreprises(text):\n",
    "    doc = nlp(text)\n",
    "    new_text = text\n",
    "    for ent in doc.ents:\n",
    "        if ent.label_ == \"ORG\":\n",
    "            new_text = new_text.replace(ent.text, \"l'entreprise\")\n",
    "    return new_text\n"
   ]
  },
  {
   "cell_type": "code",
   "execution_count": 15,
   "id": "bbc1c87c",
   "metadata": {},
   "outputs": [
    {
     "name": "stdout",
     "output_type": "stream",
     "text": [
      "📝 Original : Ayant l'Excellence comme objectif principal depuis 30 ans, Charlestown entraîne ses Hôtes et Hôtesses dans un rythme qui associe dynamisme, rigueur et sens du détail sur tout le territoire français. Aujourd'hui nous avons besoin de VOUS et de VOS talents pour faire perdurer cette Excellence et l'enrichir. Charlestown est #Handi-accueillante\n",
      "🔁 Modifié  : Ayant l'l'entreprise comme objectif principal depuis 30 ans, Charlestown entraîne ses Hôtes et Hôtesses dans un rythme qui associe dynamisme, rigueur et sens du détail sur tout le territoire français. Aujourd'hui nous avons besoin de VOUS et de VOS talents pour faire perdurer cette l'entreprise et l'enrichir. Charlestown est #Handi-accueillante\n",
      "\n",
      "📝 Original : Chantiers l'Atlantique est un des leaders mondiaux sur les marchés des navires de haute technologie (paquebots et navires militaires), des installations pour l'éolien en mer et des services aux flottes. Nous concevons, construisons et mettons en service des réalisations uniques, grâce à un bureau d'études parmi les plus grands de France et un outil industriel à la pointe de la technologie. Nous sommes au coeur des défis de demain, en proposant à nos clients des navires dont la performance énergétique leur permet d'aller au-delà des normes environnementales les plus drastiques, et à travers notre activité dans les énergies marines renouvelables, nous sommes des acteurs de premier plan de la transition énergétique européenne. Rejoindre notre entreprise, c'est faire partie d'une communauté de 3300 femmes et hommes animés par une même passion..\n",
      "🔁 Modifié  : Chantiers l'Atlantique est un des leaders mondiaux sur les marchés des navires de haute technologie (paquebots et navires militaires), des installations pour l'éolien en mer et des services aux flottes. Nous concevons, construisons et mettons en service des réalisations uniques, grâce à un bureau d'études parmi les plus grands de France et un outil industriel à la pointe de la technologie. Nous sommes au coeur des défis de demain, en proposant à nos clients des navires dont la performance énergétique leur permet d'aller au-delà des normes environnementales les plus drastiques, et à travers notre activité dans les énergies marines renouvelables, nous sommes des acteurs de premier plan de la transition énergétique européenne. Rejoindre notre entreprise, c'est faire partie d'une communauté de 3300 femmes et hommes animés par une même passion..\n",
      "\n",
      "📝 Original : Chaque année, Randstad vous offre 2 millions de missions d'intérim ainsi que 43 000 contrats en CDD ou CDI. Rejoignez l'une de nos 50 000 entreprises clientes ! Nous recherchons pour le compte de notre client spécialisé dans la conception et la fabrication de matériels standards de manutention destinés à la grande distribution et vente à distance. un electricien industriel(f/h)\n",
      "🔁 Modifié  : Chaque année, l'entreprise vous offre 2 millions de missions d'intérim ainsi que 43 000 contrats en CDD ou CDI. Rejoignez l'une de nos 50 000 entreprises clientes ! Nous recherchons pour le compte de notre client spécialisé dans la conception et la fabrication de matériels standards de manutention destinés à la grande distribution et vente à distance. un electricien industriel(f/h)\n",
      "\n",
      "📝 Original : Colas Rail relève les défis de demain et contribue à mettre en place des solutions de mobilité durable. Nos 12 métiers nous permettent de maîtriser l'intégralité du cycle de vie des infrastructures ferroviaires : conception, construction et maintenance. Leader international dans notre domaine, nous sommes présents dans plus de 20 pays et employons 5 600 personnes à travers le monde.Rejoindre Colas Rail, c'est faire partie de l'aventure Colas, filiale du groupe Bouygues, qui a pour mission d'imaginer, de construire et d'entretenir des infrastructures de transport de façon responsable. Implanté dans plus de 50 pays sur les cinq continents, Colas rassemble 57 000 collaborateurs engagés dans leur territoire pour relier les hommes et faciliter les échanges dans le monde d'aujourd'hui et de demain. L'ambition de Colas est d'être le leader mondial des solutions de mobilité innovantes et responsables.\n",
      "🔁 Modifié  : l'entreprise relève les défis de demain et contribue à mettre en place des solutions de mobilité durable. Nos 12 métiers nous permettent de maîtriser l'intégralité du cycle de vie des infrastructures ferroviaires : conception, construction et maintenance. Leader international dans notre domaine, nous sommes présents dans plus de 20 pays et employons 5 600 personnes à travers le monde.Rejoindre l'entreprise, c'est faire partie de l'aventure Colas, filiale du groupe l'entreprise, qui a pour mission d'imaginer, de construire et d'entretenir des infrastructures de transport de façon responsable. Implanté dans plus de 50 pays sur les cinq continents, Colas rassemble 57 000 collaborateurs engagés dans leur territoire pour relier les hommes et faciliter les échanges dans le monde d'aujourd'hui et de demain. L'ambition de Colas est d'être le leader mondial des solutions de mobilité innovantes et responsables.\n",
      "\n",
      "📝 Original : Concepteur et intégrateur de solutions industrielles, le groupe eXcent place au cœur de ses réflexions les problématiques de ses clients. Présent en France et à l’international, le groupe eXcent compte 650 collaborateurs pour un chiffre d’affaires de 70M€ en 2021. Sa vision industrielle globale, sa proximité et ses expertises techniques permettent à eXcent de proposer des solutions technologiques performantes, ergonomiques et optimisées. eXcent intervient tout au long du cycle industriel, des études-conception à la production et les services post développement, jusqu’au management de la qualité, de la supply-chain et la formation des collaborateurs. Fort de plus de 30 ans d’expérience, eXcent investit également dans le développement de produits propres afin de proposer des solutions toujours plus innovantes.\n",
      "🔁 Modifié  : Concepteur et intégrateur de solutions industrielles, le groupe l'entreprise. Présent en France et à l’international, le groupe eXcent compte 650 collaborateurs pour un chiffre d’affaires de 70M€ en 2021. Sa vision industrielle globale, sa proximité et ses expertises techniques permettent à eXcent de proposer des solutions technologiques performantes, ergonomiques et optimisées. eXcent intervient tout au long du cycle industriel, des études-conception à la production et les services post développement, jusqu’au management de la qualité, de la supply-chain et la formation des collaborateurs. Fort de plus de 30 ans d’expérience, eXcent investit également dans le développement de produits propres afin de proposer des solutions toujours plus innovantes.\n",
      "\n",
      "📝 Original : « En écoutant les besoins de vos clients et futurs clients, vous vendez les solutions les mieux adaptées » Dès votre arrivée, vous entamerez une formation à nos outils et nos produits, dispensée par l'équipe formation sur une durée de 4 mois, alliant training et application concrète. Votre Responsable d'Animation Commerciale, se rendra également disponible pour accompagner votre montée en compétences. En rejoignant le secteur des Hauts-de-France, vous partagerez les valeurs portée par nos équipes : l'entraide, l'authenticité et l'envie de réussir ensemble. Nous n'attendons plus que vous !\n",
      "🔁 Modifié  : « En écoutant les besoins de vos clients et futurs clients, vous vendez les solutions les mieux adaptées » Dès votre arrivée, vous entamerez une formation à nos outils et nos produits, dispensée par l'équipe formation sur une durée de 4 mois, alliant training et application concrète. Votre Responsable d'Animation Commerciale, se rendra également disponible pour accompagner votre montée en compétences. En rejoignant le secteur des Hauts-de-France, vous partagerez les valeurs portée par nos équipes : l'entraide, l'authenticité et l'envie de réussir ensemble. Nous n'attendons plus que vous !\n",
      "\n",
      "📝 Original : « Nous sommes persuadés que l'Humain est au cœur de l'entreprise et de la société. Nous considérons qu'il est primordial de vous accompagner tout au long de votre carrière, que ce soit en France ou à l'international. Ainsi, rejoindre The Adecco Group, c'est mettre l'Humain au cœur de son quotidien. Intégrer des équipes expertes et passionnées qui font de l'emploi leur priorité. Recruteur, commercial, chasseur de têtes, collaborateur siège ou cadre siège… tant de profils nécessaires à la transformation du monde de l'emploi que nous intégrons chaque jour dans nos équipes. Vous souhaitez donner du sens à votre métier ? Que votre ambition soit de mettre des gens à l'emploi ou d'expérimenter des innovations pour faire bouger le marché, votre place est chez nous. Accompagnez notre groupe au travers de ces transitions… et participez avec nous à la transformation du monde de l'emploi.\n",
      "🔁 Modifié  : « Nous sommes persuadés que l'Humain est au cœur de l'entreprise et de la société. Nous considérons qu'il est primordial de vous accompagner tout au long de votre carrière, que ce soit en France ou à l'international. Ainsi, rejoindre l'entreprise, c'est mettre l'Humain au cœur de son quotidien. Intégrer des équipes expertes et passionnées qui font de l'emploi leur priorité. Recruteur, commercial, chasseur de têtes, collaborateur siège ou cadre siège… tant de profils nécessaires à la transformation du monde de l'emploi que nous intégrons chaque jour dans nos équipes. Vous souhaitez donner du sens à votre métier ? Que votre ambition soit de mettre des gens à l'emploi ou d'expérimenter des innovations pour faire bouger le marché, votre place est chez nous. Accompagnez notre groupe au travers de ces transitions… et participez avec nous à la transformation du monde de l'emploi.\n",
      "\n",
      "📝 Original : #ambassadeurd'image depuis 50 ans, Pénélope, grâce à ses équipes, réinvente en permanence les métiers de l'accueil et de l'hospitality. Si, comme nous, vous pensez que l'accueil est un vrai métier, utile et indispensable dans les entreprises, si monotonie ne fait pas partie de votre vocabulaire et si vous voulez intégrer une entreprise qui vous permettra d'exercer vos talents et d'évoluer, Alors rejoignez la #TeamPénélope ! Esprits curieux, adeptes de la découverte et de l'enrichissement des compétences, nos métiers sont faits pour vous !\n",
      "🔁 Modifié  : #ambassadeurd'image depuis 50 ans, Pénélope, grâce à ses équipes, réinvente en permanence les métiers de l'accueil et de l'hospitality. Si, comme nous, vous pensez que l'accueil est un vrai métier, utile et indispensable dans les entreprises, si monotonie ne fait pas partie de votre vocabulaire et si vous voulez intégrer une entreprise qui vous permettra d'exercer vos talents et d'évoluer, Alors rejoignez la #TeamPénélope ! Esprits curieux, adeptes de la découverte et de l'enrichissement des compétences, nos métiers sont faits pour vous !\n",
      "\n",
      "📝 Original : À LUNDI réinvente la façon de former et de travailler, dans les secteurs du bâtiment, des travaux publics, de l’industrie métallurgique, de la logistique, du commerce et de tous les métiers dans tous les autres secteurs d’activité. La structure est un groupement d’employeurs qui s’appuie sur le potentiel de candidats. En fonction du parcours et des projets, À LUNDI accompagne les salariés dans leurs démarches de formation en alternance. S'ils sont déjà qualifiés, À LUNDI recrute pour travailler à temps partagé au sein des entreprises adhérentes au groupement. À LUNDI intervient dans les Landes, les Pyrénées-Atlantiques et en Gironde. La structure s’appuie sur une expertise de près de 20 ans, au service de l’emploi qualifié ou en voie de qualification.\n",
      "🔁 Modifié  : À LUNDI réinvente la façon de former et de travailler, dans les secteurs du bâtiment, des travaux publics, de l’industrie métallurgique, de la logistique, du commerce et de tous les métiers dans tous les autres secteurs d’activité. La structure est un groupement d’employeurs qui s’appuie sur le potentiel de candidats. En fonction du parcours et des projets, À LUNDI accompagne les salariés dans leurs démarches de formation en alternance. S'ils sont déjà qualifiés, À LUNDI recrute pour travailler à temps partagé au sein des entreprises adhérentes au groupement. À LUNDI intervient dans les Landes, les Pyrénées-Atlantiques et en Gironde. La structure s’appuie sur une expertise de près de 20 ans, au service de l’emploi qualifié ou en voie de qualification.\n",
      "\n",
      "📝 Original : ABSOLIS Intérim, agence de travail temporaire multi-spécialiste de la région Nantaise, vous accueille et vous accompagne tout au long de vos missions au sein de nos entreprises partenaires.\n",
      "🔁 Modifié  : ABSOLIS Intérim, agence de travail temporaire multi-spécialiste de la région Nantaise, vous accueille et vous accompagne tout au long de vos missions au sein de nos entreprises partenaires.\n",
      "\n",
      "📝 Original : 21Bis Recrutement est un cabinet de recrutement indépendant qui se veut proche de ses clients et candidats tout en plaçant la confiance au centre de son fonctionnement.\n",
      "🔁 Modifié  : 21Bis Recrutement est un cabinet de recrutement indépendant qui se veut proche de ses clients et candidats tout en plaçant la confiance au centre de son fonctionnement.\n",
      "\n",
      "📝 Original : A chaque moment, à chaque endroit, il y a toujours un flunch pour moi. Parce que notre ambition est de donner à tous le plaisir de fluncher en toutes occasions, dans tous les moments et lieux de vie, nous recherchons le fluncheur qui rejoindra nos équipes.\n",
      "🔁 Modifié  : A chaque moment, à chaque endroit, il y a toujours un flunch pour moi. Parce que notre ambition est de donner à tous le plaisir de fluncher en toutes occasions, dans tous les moments et lieux de vie, nous recherchons le fluncheur qui rejoindra nos équipes.\n",
      "\n",
      "📝 Original : À propos de notre client A travers la tuile, la charpente, le plomb, le cuivre et le zinc, cette entreprise a rénové de nombreux ouvrages. L'équipe perpétue la tradition et le savoir-faire mis en œuvre depuis plusieurs années ! Cette entreprise consacre son activité à la rénovation et à la réhabilitation mais peut être amenée à la construction neuve. Si vous avez envie de faire partie de cette histoire, de vous inscrire dans le patrimoine de votre région, cette entreprise cherche à renforcer son équipe avec un couvreur charpentier zingueur H/F .\n",
      "🔁 Modifié  : À propos de notre client A travers la tuile, la charpente, le plomb, le cuivre et le zinc, cette entreprise a rénové de nombreux ouvrages. L'équipe perpétue la tradition et le savoir-faire mis en œuvre depuis plusieurs années ! Cette entreprise consacre son activité à la rénovation et à la réhabilitation mais peut être amenée à la construction neuve. Si vous avez envie de faire partie de cette histoire, de vous inscrire dans le patrimoine de votre région, cette entreprise cherche à renforcer son équipe avec un couvreur charpentier zingueur H/F .\n",
      "\n",
      "📝 Original : Acteur local et indépendant de l'intérim et du recrutement, Avantage Intérim ANGERS intervient sur l'ensemble des secteurs d'activité hormis le médical. Basée sur des valeurs humaines c'est ainsi que nous pouvons établir une synergie entre nos clients et intérimaires. C'est pourquoi au quotidien nos équipes chargé de recrutement sont à votre écoute. Avantage Intérim ANGERS vous accueille tous les jours du Lundi au Vendredi de 8h à 12h30 et de 13h30 à 18h. Adresse : 7 RUE DE LA CHANTERIE - 49124 - ST BARTHELEMY D'ANJOU.\n",
      "🔁 Modifié  : Acteur local et indépendant de l'intérim et du recrutement, Avantage Intérim ANGERS intervient sur l'ensemble des secteurs d'activité hormis le médical. Basée sur des valeurs humaines c'est ainsi que nous pouvons établir une synergie entre nos clients et intérimaires. C'est pourquoi au quotidien nos équipes chargé de recrutement sont à votre écoute. Avantage Intérim ANGERS vous accueille tous les jours du Lundi au Vendredi de 8h à 12h30 et de 13h30 à 18h. Adresse : 7 RUE DE LA CHANTERIE - 49124 - ST BARTHELEMY D'ANJOU.\n",
      "\n",
      "📝 Original : Actrice de l'emploi local depuis 10 ans, OSMOSE EMPLOI Au coeur des Compétences, s'engage au quotidien en menant des actions socialement responsables. A l'écoute, notre équipe unie autour de valeurs humaines, oeuvre chaque jour pour faciliter la rencontre de Femmes et d'Hommes avec leurs avenirs professionnels, en Intérim, CDD ou CDI. Osmose Emploi, agence de Travail Temporaire de proximité et indépendante, valorise les compétences, les savoirs, savoirs-être, savoirs-faire auprès des Entreprises Partenaires et accompagne la montée en performance de chaque Collaborateur. Nous nous investissons chaque jour dans une démarche qui nous anime, celle du Savoir-Devenir Ensemble, un tremplin pour votre futur professionnel, et le développement des performances humaines de vos Entreprises.\n",
      "🔁 Modifié  : Actrice de l'emploi local depuis 10 ans, l'entreprise Au coeur des Compétences, s'engage au quotidien en menant des actions socialement responsables. A l'écoute, notre équipe unie autour de valeurs humaines, oeuvre chaque jour pour faciliter la rencontre de Femmes et d'Hommes avec leurs avenirs professionnels, en Intérim, CDD ou CDI. l'entreprise, agence de Travail Temporaire de proximité et indépendante, valorise les compétences, les savoirs, savoirs-être, savoirs-faire auprès des l'entreprise et accompagne la montée en performance de chaque l'entreprise. Nous nous investissons chaque jour dans une démarche qui nous anime, celle du l'entreprise-Devenir Ensemble, un tremplin pour votre futur professionnel, et le développement des performances humaines de vos l'entreprise.\n",
      "\n",
      "📝 Original : Adsearch recherche pour l'un de ses clients (Agence d'Administration de Biens) un Comptable Gestion Locative (H/F). Poste à pourvoir en CDI et situé en Centre-Ville de Toulouse. Les avantages de l'entreprise : -Une entreprise à taille humaine : 9 collaborateurs -Un faible turnover -Une bonne ambiance -Une qualité de travail sans forte pression hiérarchique -De l'autonomie\n",
      "🔁 Modifié  : Adsearch recherche pour l'un de ses clients (l'entreprise) un Comptable Gestion Locative (H/F). Poste à pourvoir en CDI et situé en Centre-Ville de Toulouse. Les avantages de l'entreprise : -Une entreprise à taille humaine : 9 collaborateurs -Un faible turnover -Une bonne ambiance -Une qualité de travail sans forte pression hiérarchique -De l'autonomie\n",
      "\n",
      "📝 Original : Au sein d'une de nos plateformes logistiques, vous participez à l'ensemble des activités de préparation des commandes mais aussi, en tant qu'Opérateur Logistique, à l'ensemble des missions logistiques annexes (réceptionnaire, cariste/ magasinier, agent de quai, …) en fonction des commandes émises par nos supermarchés.\n",
      "🔁 Modifié  : Au sein d'une de nos plateformes logistiques, vous participez à l'ensemble des activités de préparation des commandes mais aussi, en tant qu'l'entreprise, à l'ensemble des missions logistiques annexes (réceptionnaire, cariste/ magasinier, agent de quai, …) en fonction des commandes émises par nos supermarchés.\n",
      "\n",
      "📝 Original : Aujourd'hui, KILOUTOU est labellisé TOP EMPLOYER depuis 9 ans, et pour la troisième année consécutive certifié HAPPY CANDIDATE. Le groupe KILOUTOU compte plus de 6000 équipiers et poursuit son développement à l'international (Pologne, Espagne, Allemagne, Italie et Danemark ). KILOUTOU s'appuie sur une culture forte de la responsabilisation et de la promotion interne et attache beaucoup d'importance à l'ambiance au travail ! C'est donc 6 000 équipiers formés et motivés, 550 agences partout en France, un parc de 250 000 matériels, plus de 1 000 références pour répondre aux besoins d'une clientèle diversifiée (entreprises du BTP, artisans, PME, collectivités locales, industries), des engagements concrets pour le climat... Avec KILOUTOU, la location de matériels est un métier à forte valeur ajoutée.\n",
      "🔁 Modifié  : Aujourd'hui, KILOUTOU est labellisé TOP l'entreprise depuis 9 ans, et pour la troisième année consécutive certifié HAPPY CANDIDATE. Le groupe KILOUTOU compte plus de 6000 équipiers et poursuit son développement à l'international (Pologne, Espagne, Allemagne, Italie et Danemark ). KILOUTOU s'appuie sur une culture forte de la responsabilisation et de la promotion interne et attache beaucoup d'importance à l'ambiance au travail ! C'est donc 6 000 équipiers formés et motivés, 550 agences partout en France, un parc de 250 000 matériels, plus de 1 000 références pour répondre aux besoins d'une clientèle diversifiée (entreprises du BTP, artisans, PME, collectivités locales, industries), des engagements concrets pour le climat... Avec KILOUTOU, la location de matériels est un métier à forte valeur ajoutée.\n",
      "\n",
      "📝 Original : Avec 19000 collaborateurs et 365 établissements, Colisée, acteur de référence européen développe son expertise au service de l'accompagnement et des soins aux personnes âgées. Son réseau en France, Belgique, Espagne, Italie et Chine accueille plus de 31000 résidents et patients en Etablissements Médicalisés et Résidences avec services. Colisée développe également des services à domicile. Nous rejoindre, c'est la promesse d'évoluer dans un environnement favorisant l'autonomie, la responsabilité, l'esprit d'initiative et l'innovation. Quel que soit votre parcours, et dès votre intégration, vous devenez un ambassadeur de Colisée et de ses valeurs : Cohésion d'Equipe - Respect de l'autre - Engagement. Nous avons déployé la méthode Montessori adaptée à l'accompagnement des Seniors et lancé notre propre réseau social Mycolisée à destination des résidents et de leurs proches.Rejoignez Colisée et participez à une aventure humaine au sein d'une entreprise dynamique, innovante et en pleine expansion ! Etablissement de 78 lits, incluant 28 places en unité protégées et 50 places en secteur ouvert, la Résidence Les Clos de Planestel est située à Bagnols en Forêt, dans le Var.\n",
      "🔁 Modifié  : Avec 19000 collaborateurs et 365 établissements, Colisée, acteur de référence européen développe son expertise au service de l'accompagnement et des soins aux personnes âgées. Son réseau en France, Belgique, Espagne, Italie et Chine accueille plus de 31000 résidents et patients en l'entreprise et l'entreprise avec services. Colisée développe également des services à domicile. Nous rejoindre, c'est la promesse d'évoluer dans un environnement favorisant l'autonomie, la responsabilité, l'esprit d'initiative et l'innovation. Quel que soit votre parcours, et dès votre intégration, vous devenez un ambassadeur de Colisée et de ses valeurs : l'entrepriseEquipe - Respect de l'autre - Engagement. Nous avons déployé la méthode Montessori adaptée à l'accompagnement des Seniors et lancé notre propre réseau social Mycolisée à destination des résidents et de leurs proches.Rejoignez Colisée et participez à une aventure humaine au sein d'une entreprise dynamique, innovante et en pleine expansion ! Etablissement de 78 lits, incluant 28 places en unité protégées et 50 places en secteur ouvert, la Résidence Les Clos de Planestel est située à Bagnols en Forêt, dans le Var.\n",
      "\n",
      "📝 Original : Bio C' Bon a été créée en 2008, nous sommes l'un des acteurs principaux sur le marché de la distribution bio nous comptons actuellement plus de 135 magasins en France. Nous sommes une jeune entreprise dynamique qui partage des valeurs d'enthousiasme et de convivialité. Nos magasins sont de véritables commerces de proximité dans lesquels nous souhaitons rendre les produits bio accessibles à tous ! Afin de participer au fort développement de notre enseigne, Bio C' Bon recrute régulièrement des femmes et des hommes de terrain afin de renforcer nos équipes. Votre esprit d'initiative ainsi que votre joie de vivre seront de vraies valeurs ajoutées au sein de nos équipes. Dotez de votre grain de folie, vous avez envie de vivre plus qu'une expérience, venez participer à l'aventure Bio C' Bon : https://www.bio-c-bon.eu/fr/rejoignez-nous\n",
      "🔁 Modifié  : Bio C' Bon a été créée en 2008, nous sommes l'un des acteurs principaux sur le marché de la distribution bio nous comptons actuellement plus de 135 magasins en France. Nous sommes une jeune entreprise dynamique qui partage des valeurs d'enthousiasme et de convivialité. Nos magasins sont de véritables commerces de proximité dans lesquels nous souhaitons rendre les produits bio accessibles à tous ! Afin de participer au fort développement de notre enseigne, Bio C' Bon recrute régulièrement des femmes et des hommes de terrain afin de renforcer nos équipes. Votre esprit d'initiative ainsi que votre joie de vivre seront de vraies valeurs ajoutées au sein de nos équipes. Dotez de votre grain de folie, vous avez envie de vivre plus qu'une expérience, venez participer à l'aventure Bio C' Bon : https://www.bio-c-bon.eu/fr/rejoignez-nous\n",
      "\n",
      "📝 Original :  123 webimmo . comest un réseau de 90 agences en France et dans les DOM, spécialisé en immobilier traditionnel, immobilier neuf, location & gestion. Depuis plus de 18 ans, notre philosophie est de rendre accessible un ensemble de services digitaux dans le but de valoriser les biens de nos clients. 123 webimmo . com s’inscrit dans une démarche de politique tarifaire au juste prix dans l’intérêt du consommateur tant acheteur que vendeur, tout en permettant à nos collaborateurs de générer une forte rentabilité.  123 webimmo . com en quelques chiffres : • 46% de croissance de CA en 2021 • 55% de biens confiés en mandat exclusif • 95,2% de satisfaction client sur l'ensemble du réseau en 2021 Nous rejoindre, c’est intégrer un réseau d’agences à taille humaine, et partager nos valeurs Engagement, Authenticité, Simplicité, Envie d’apprendre et Rentabilité ! Nous rejoindre c’est aussi devenir un acteur engagé dans la sauvegarde de la biodiversité.\n",
      "🔁 Modifié  :  123 webimmo . comest un réseau de 90 agences en France et dans les DOM, spécialisé en immobilier traditionnel, immobilier neuf, location & gestion. Depuis plus de 18 ans, notre philosophie est de rendre accessible un ensemble de services digitaux dans le but de valoriser les biens de nos clients. 123 webimmo . com s’inscrit dans une démarche de politique tarifaire au juste prix dans l’intérêt du consommateur tant acheteur que vendeur, tout en permettant à nos collaborateurs de générer une forte rentabilité.  123 webimmo . com en quelques chiffres : • 46% de croissance de l'entreprise en 2021 • 55% de biens confiés en mandat exclusif • 95,2% de satisfaction client sur l'ensemble du réseau en 2021 Nous rejoindre, c’est intégrer un réseau d’agences à taille humaine, et partager nos valeurs l'entreprise, l'entreprise, l'entreprise, Envie d’apprendre et Rentabilité ! Nous rejoindre c’est aussi devenir un acteur engagé dans la sauvegarde de la biodiversité.\n",
      "\n",
      "📝 Original : «Le groupe Domuneo est spécialisé dans la mise en place de solution de production d’énergie verte garantie 30ans pour l’autoconsommation des particuliers. Depuis bientôt 10ans, notre expérience et nos produits hauts de gammes, nous permettent de répondre aux besoins de nos clients et de les aider à effectuer leurs transitions énergétiques dans la sérénité.  https://www.domuneo.com/\n",
      "🔁 Modifié  : «Le groupe l'entreprise est spécialisé dans la mise en place de solution de production d’énergie verte garantie 30ans pour l’autoconsommation des particuliers. Depuis bientôt 10ans, notre expérience et nos produits hauts de gammes, nous permettent de répondre aux besoins de nos clients et de les aider à effectuer leurs transitions énergétiques dans la sérénité.  https://www.domuneo.com/\n",
      "\n",
      "📝 Original : 3F Grand Est, société 3F, gère plus de 8 200 logements sociaux dans les départements du Haut-Rhin, du Bas-Rhin, des Vosges, de la Meurthe-et-Moselle et de la Moselle. 3F Grand Est et ses 103 collaborateurs et collaboratrices font de la qualité de service une de leurs priorités tout comme l'accompagnement des familles en difficulté. En 2021, la société a mis en chantier 315 futurs logements et compte renforcer son développement au plus près des bassins d'emplois dans les agglomérations de Strasbourg, Nancy, Mulhouse et Metz. https://www.groupe3f.fr/3f/nos-societes/3f-grand-est\n",
      "🔁 Modifié  : l'entreprise Grand Est, société l'entreprise, gère plus de 8 200 logements sociaux dans les départements du Haut-Rhin, du Bas-Rhin, des Vosges, de la Meurthe-et-Moselle et de la Moselle. l'entreprise Grand Est et ses 103 collaborateurs et collaboratrices font de la qualité de service une de leurs priorités tout comme l'accompagnement des familles en difficulté. En 2021, la société a mis en chantier 315 futurs logements et compte renforcer son développement au plus près des bassins d'emplois dans les agglomérations de Strasbourg, Nancy, Mulhouse et Metz. https://www.groupe3f.fr/3f/nos-societes/3f-grand-est\n",
      "\n",
      "📝 Original : A la tête d'un important réseau de 600 établissements dans les secteurs sanitaire, médico-social, social et de l'enseignement, la Croix Rouge Française emploie plus de 18 000 salariés et propose 70 métiers dans l'ensemble de son réseau national et international, dans des instituts médico-éducatif, crèches, maisons de retraite, centres de réadaptation fonctionnelle, instituts de formation, centres d'hébergement d'urgence, centres de santé, missions Internationales... Toutes ces structures, au coeur des enjeux de société, développent de nouveaux projets et travaillent à des solutions innovantes. La région Grand Ouest (Pays de la Loire/Centre-Val-de-Loire/Bretagne) regroupe près de 6950 bénévoles et emploie plus de 1285 salariés dans 46 établissements, pôles et services. En nous rejoignant, vous partagerez notre engagement et notre éthique et développerez vos compétences.\n",
      "🔁 Modifié  : A la tête d'un important réseau de 600 établissements dans les secteurs sanitaire, médico-social, social et de l'enseignement, la l'entreprise emploie plus de 18 000 salariés et propose 70 métiers dans l'ensemble de son réseau national et international, dans des instituts médico-éducatif, crèches, maisons de retraite, centres de réadaptation fonctionnelle, instituts de formation, centres d'hébergement d'urgence, centres de santé, missions l'entreprise... Toutes ces structures, au coeur des enjeux de société, développent de nouveaux projets et travaillent à des solutions innovantes. La région Grand Ouest (Pays de la Loire/Centre-Val-de-Loire/Bretagne) regroupe près de 6950 bénévoles et emploie plus de 1285 salariés dans 46 établissements, pôles et services. En nous rejoignant, vous partagerez notre engagement et notre éthique et développerez vos compétences.\n",
      "\n",
      "📝 Original : Acteur majeur du recrutement et du travail temporaire, Ergalis accompagne chaque année près de 20.000 candidats en CDI, CDD, Intérim et CDI Intérimaire. Ergalis s'engage à valoriser toutes les compétences dans le respect de la diversité, et notamment à favoriser l'intégration professionnelle des candidats handicapés.\n",
      "🔁 Modifié  : Acteur majeur du recrutement et du travail temporaire, Ergalis accompagne chaque année près de 20.000 candidats en CDI, CDD, Intérim et l'entreprise. Ergalis s'engage à valoriser toutes les compétences dans le respect de la diversité, et notamment à favoriser l'intégration professionnelle des candidats handicapés.\n",
      "\n"
     ]
    }
   ],
   "source": [
    "offres = df_base[\"description_entreprise\"]\n",
    "offres_anonymisées = [remplacer_entreprises(texte) for texte in offres]\n",
    "\n",
    "for original, modifié in zip(offres, offres_anonymisées):\n",
    "    print(\"📝 Original :\", original)\n",
    "    print(\"🔁 Modifié  :\", modifié)\n",
    "    print()"
   ]
  },
  {
   "cell_type": "markdown",
   "id": "9bc28051",
   "metadata": {},
   "source": [
    "Conclusion : on va tout modifier à la main finalement ça prend pas trop de temps "
   ]
  },
  {
   "cell_type": "code",
   "execution_count": 16,
   "id": "11c96991",
   "metadata": {},
   "outputs": [],
   "source": [
    "offres_anonymisées = [\n",
    "        \"Ayant l'Excellence comme objectif principal depuis 30 ans, notre entreprise entraîne ses Hôtes et Hôtesses dans un rythme qui associe dynamisme, rigueur et sens du détail sur tout le territoire français. Aujourd'hui nous avons besoin de VOUS et de VOS talents pour faire perdurer cette Excellence et l'enrichir. Notre entreprise est #Handi-accueillante\",\n",
    "        \"Notre entreprise est un des leaders mondiaux sur les marchés des navires de haute technologie (paquebots et navires militaires), des installations pour l'éolien en mer et des services aux flottes. Nous concevons, construisons et mettons en service des réalisations uniques, grâce à un bureau d'études parmi les plus grands de France et un outil industriel à la pointe de la technologie. Nous sommes au coeur des défis de demain, en proposant à nos clients des navires dont la performance énergétique leur permet d'aller au-delà des normes environnementales les plus drastiques, et à travers notre activité dans les énergies marines renouvelables, nous sommes des acteurs de premier plan de la transition énergétique européenne. Rejoindre notre entreprise, c'est faire partie d'une communauté de 3300 femmes et hommes animés par une même passion..\",\n",
    "        \"Chaque année, notre entreprise vous offre 2 millions de missions d'intérim ainsi que 43 000 contrats en CDD ou CDI. Rejoignez l'une de nos 50 000 entreprises clientes ! Nous recherchons pour le compte de notre client spécialisé dans la conception et la fabrication de matériels standards de manutention destinés à la grande distribution et vente à distance. un electricien industriel(f/h)\",\n",
    "        \"notre entreprise relève les défis de demain et contribue à mettre en place des solutions de mobilité durable. Nos 12 métiers nous permettent de maîtriser l'intégralité du cycle de vie des infrastructures ferroviaires : conception, construction et maintenance. Leader international dans notre domaine, nous sommes présents dans plus de 20 pays et employons 5 600 personnes à travers le monde.Rejoindre notre entreprise, c'est faire partie de notre aventur, qui a pour mission d'imaginer, de construire et d'entretenir des infrastructures de transport de façon responsable. Implanté dans plus de 50 pays sur les cinq continents, notre entreprise rassemble 57 000 collaborateurs engagés dans leur territoire pour relier les hommes et faciliter les échanges dans le monde d'aujourd'hui et de demain. L'ambition de notre entreprise est d'être le leader mondial des solutions de mobilité innovantes et responsables.\",\n",
    "        \"Concepteur et intégrateur de solutions industrielles, notre entreprise place au cœur de ses réflexions les problématiques de ses clients. Présente en France et à l’international, notre entreprise compte 650 collaborateurs pour un chiffre d’affaires de 70M€ en 2021. Sa vision industrielle globale, sa proximité et ses expertises techniques permettent à notre entreprise de proposer des solutions technologiques performantes, ergonomiques et optimisées. notre entreprise intervient tout au long du cycle industriel, des études-conception à la production et les services post développement, jusqu’au management de la qualité, de la supply-chain et la formation des collaborateurs. Forte de plus de 30 ans d’expérience, notre entreprise investit également dans le développement de produits propres afin de proposer des solutions toujours plus innovantes.\",\n",
    "        \"« En écoutant les besoins de vos clients et futurs clients, vous vendez les solutions les mieux adaptées » Dès votre arrivée, vous entamerez une formation à nos outils et nos produits, dispensée par l'équipe formation sur une durée de 4 mois, alliant training et application concrète. Votre Responsable d'Animation Commerciale, se rendra également disponible pour accompagner votre montée en compétences. En rejoignant le secteur des Hauts-de-France, vous partagerez les valeurs portée par nos équipes : l'entraide, l'authenticité et l'envie de réussir ensemble. Nous n'attendons plus que vous !\",\n",
    "        \"« Nous sommes persuadés que l'Humain est au cœur de l'entreprise et de la société. Nous considérons qu'il est primordial de vous accompagner tout au long de votre carrière, que ce soit en France ou à l'international. Ainsi, rejoindre notre entreprise, c'est mettre l'Humain au cœur de son quotidien. Intégrer des équipes expertes et passionnées qui font de l'emploi leur priorité. Recruteur, commercial, chasseur de têtes, collaborateur siège ou cadre siège… tant de profils nécessaires à la transformation du monde de l'emploi que nous intégrons chaque jour dans nos équipes. Vous souhaitez donner du sens à votre métier ? Que votre ambition soit de mettre des gens à l'emploi ou d'expérimenter des innovations pour faire bouger le marché, votre place est chez nous. Accompagnez notre groupe au travers de ces transitions… et participez avec nous à la transformation du monde de l'emploi.\",\n",
    "        \"#ambassadeurd'image depuis 50 ans, notre entreprise, grâce à ses équipes, réinvente en permanence les métiers de l'accueil et de l'hospitality. Si, comme nous, vous pensez que l'accueil est un vrai métier, utile et indispensable dans les entreprises, si monotonie ne fait pas partie de votre vocabulaire et si vous voulez intégrer une entreprise qui vous permettra d'exercer vos talents et d'évoluer, Alors rejoignez notre entreprise ! Esprits curieux, adeptes de la découverte et de l'enrichissement des compétences, nos métiers sont faits pour vous !\",\n",
    "        \"notre entreprise réinvente la façon de former et de travailler, dans les secteurs du bâtiment, des travaux publics, de l’industrie métallurgique, de la logistique, du commerce et de tous les métiers dans tous les autres secteurs d’activité. La structure est un groupement d’employeurs qui s’appuie sur le potentiel de candidats. En fonction du parcours et des projets, notre entreprise accompagne les salariés dans leurs démarches de formation en alternance. S'ils sont déjà qualifiés, notre entreprise recrute pour travailler à temps partagé au sein des entreprises adhérentes au groupement. notre entreprise intervient dans les Landes, les Pyrénées-Atlantiques et en Gironde. La structure s’appuie sur une expertise de près de 20 ans, au service de l’emploi qualifié ou en voie de qualification.\",\n",
    "        \"notre entreprise, agence de travail temporaire multi-spécialiste de la région Nantaise, vous accueille et vous accompagne tout au long de vos missions au sein de nos entreprises partenaires.\",\n",
    "        \"notre entreprise est un cabinet de recrutement indépendant qui se veut proche de ses clients et candidats tout en plaçant la confiance au centre de son fonctionnement.\",\n",
    "        \"A chaque moment, à chaque endroit, il y a toujours un flunch pour moi. Parce que notre ambition est de donner à tous le plaisir de fluncher en toutes occasions, dans tous les moments et lieux de vie, nous recherchons le fluncheur qui rejoindra nos équipes.\",\n",
    "        \"À propos de notre client A travers la tuile, la charpente, le plomb, le cuivre et le zinc, cette entreprise a rénové de nombreux ouvrages. L'équipe perpétue la tradition et le savoir-faire mis en œuvre depuis plusieurs années ! Cette entreprise consacre son activité à la rénovation et à la réhabilitation mais peut être amenée à la construction neuve. Si vous avez envie de faire partie de cette histoire, de vous inscrire dans le patrimoine de votre région, cette entreprise cherche à renforcer son équipe avec un couvreur charpentier zingueur H/F .\",\n",
    "        \"Acteur local et indépendant de l'intérim et du recrutement, notre entreprise intervient sur l'ensemble des secteurs d'activité hormis le médical. Basée sur des valeurs humaines c'est ainsi que nous pouvons établir une synergie entre nos clients et intérimaires. C'est pourquoi au quotidien nos équipes chargé de recrutement sont à votre écoute. notre entreprise vous accueille tous les jours\",\n",
    "        \"Actrice de l'emploi local depuis 10 ans, OSMOSE EMPLOI Au coeur des Compétences, s'engage au quotidien en menant des actions socialement responsables. A l'écoute, notre équipe unie autour de valeurs humaines, oeuvre chaque jour pour faciliter la rencontre de Femmes et d'Hommes avec leurs avenirs professionnels, en Intérim, CDD ou CDI. Osmose Emploi, agence de Travail Temporaire de proximité et indépendante, valorise les compétences, les savoirs, savoirs-être, savoirs-faire auprès des Entreprises Partenaires et accompagne la montée en performance de chaque Collaborateur. Nous nous investissons chaque jour dans une démarche qui nous anime, celle du Savoir-Devenir Ensemble, un tremplin pour votre futur professionnel, et le développement des performances humaines de vos Entreprises.\",\n",
    "        \"notre entreprise recherche pour l'un de ses clients (Agence d'Administration de Biens) un Comptable Gestion Locative (H/F). Poste à pourvoir en CDI et situé en Centre-Ville de Toulouse. Les avantages de l'entreprise : -Une entreprise à taille humaine : 9 collaborateurs -Un faible turnover -Une bonne ambiance -Une qualité de travail sans forte pression hiérarchique -De l'autonomie\",\n",
    "        \"Au sein d'une de nos plateformes logistiques, vous participez à l'ensemble des activités de préparation des commandes mais aussi, en tant qu'Opérateur Logistique, à l'ensemble des missions logistiques annexes (réceptionnaire, cariste/ magasinier, agent de quai, …) en fonction des commandes émises par nos supermarchés.\",\n",
    "        \"Aujourd'hui, notre entreprise est labellisé TOP EMPLOYER depuis 9 ans, et pour la troisième année consécutive certifié HAPPY CANDIDATE. notre entreprise compte plus de 6000 équipiers et poursuit son développement à l'international (Pologne, Espagne, Allemagne, Italie et Danemark ). notre entreprise s'appuie sur une culture forte de la responsabilisation et de la promotion interne et attache beaucoup d'importance à l'ambiance au travail ! C'est donc 6 000 équipiers formés et motivés, 550 agences partout en France, un parc de 250 000 matériels, plus de 1 000 références pour répondre aux besoins d'une clientèle diversifiée (entreprises du BTP, artisans, PME, collectivités locales, industries), des engagements concrets pour le climat... Avec notre entreprise, la location de matériels est un métier à forte valeur ajoutée.\",\n",
    "        \"Avec 19000 collaborateurs et 365 établissements, notre entreprise, acteur de référence européen développe son expertise au service de l'accompagnement et des soins aux personnes âgées. Son réseau en France, Belgique, Espagne, Italie et Chine accueille plus de 31000 résidents et patients en Etablissements Médicalisés et Résidences avec services. notre entreprise développe également des services à domicile. Nous rejoindre, c'est la promesse d'évoluer dans un environnement favorisant l'autonomie, la responsabilité, l'esprit d'initiative et l'innovation. Quel que soit votre parcours, et dès votre intégration, vous devenez un ambassadeur de notre entreprise et de ses valeurs : Cohésion d'Equipe - Respect de l'autre - Engagement. Nous avons déployé la méthode Montessori adaptée à l'accompagnement des Seniors et lancé notre propre réseau social Mycolisée à destination des résidents et de leurs proches.Rejoignez notre entreprise et participez à une aventure humaine au sein d'une entreprise dynamique, innovante et en pleine expansion ! Etablissement de 78 lits, incluant 28 places en unité protégées et 50 places en secteur ouvert, la Résidence Les Clos de Planestel est située à Bagnols en Forêt, dans le Var.\",\n",
    "        \"notre entreprise a été créée en 2008, nous sommes l'un des acteurs principaux sur le marché de la distribution bio nous comptons actuellement plus de 135 magasins en France. Nous sommes une jeune entreprise dynamique qui partage des valeurs d'enthousiasme et de convivialité. Nos magasins sont de véritables commerces de proximité dans lesquels nous souhaitons rendre les produits bio accessibles à tous ! Afin de participer au fort développement de notre enseigne, notre entreprise recrute régulièrement des femmes et des hommes de terrain afin de renforcer nos équipes. Votre esprit d'initiative ainsi que votre joie de vivre seront de vraies valeurs ajoutées au sein de nos équipes. Dotez de votre grain de folie, vous avez envie de vivre plus qu'une expérience, venez participer à l'aventure\",\n",
    "        \"notre entreprise est un réseau de 90 agences en France et dans les DOM, spécialisé en immobilier traditionnel, immobilier neuf, location & gestion. Depuis plus de 18 ans, notre philosophie est de rendre accessible un ensemble de services digitaux dans le but de valoriser les biens de nos clients. notre entreprise s’inscrit dans une démarche de politique tarifaire au juste prix dans l’intérêt du consommateur tant acheteur que vendeur, tout en permettant à nos collaborateurs de générer une forte rentabilité.  notre entreprise en quelques chiffres : • 46% de croissance de CA en 2021 • 55% de biens confiés en mandat exclusif • 95,2% de satisfaction client sur l'ensemble du réseau en 2021 Nous rejoindre, c’est intégrer un réseau d’agences à taille humaine, et partager nos valeurs Engagement, Authenticité, Simplicité, Envie d’apprendre et Rentabilité ! Nous rejoindre c’est aussi devenir un acteur engagé dans la sauvegarde de la biodiversité.\",\n",
    "        \"«Le groupe de notre entreprise est spécialisé dans la mise en place de solution de production d’énergie verte garantie 30ans pour l’autoconsommation des particuliers. Depuis bientôt 10ans, notre expérience et nos produits hauts de gammes, nous permettent de répondre aux besoins de nos clients et de les aider à effectuer leurs transitions énergétiques dans la sérénité\",\n",
    "        \"notre entreprise, gère plus de 8 200 logements sociaux dans les départements du Haut-Rhin, du Bas-Rhin, des Vosges, de la Meurthe-et-Moselle et de la Moselle. notre entreprise et ses 103 collaborateurs et collaboratrices font de la qualité de service une de leurs priorités tout comme l'accompagnement des familles en difficulté. En 2021, la société a mis en chantier 315 futurs logements et compte renforcer son développement au plus près des bassins d'emplois dans les agglomérations de Strasbourg, Nancy, Mulhouse et Metz.\",\n",
    "        \"A la tête d'un important réseau de 600 établissements dans les secteurs sanitaire, médico-social, social et de l'enseignement, notre entreprise emploie plus de 18 000 salariés et propose 70 métiers dans l'ensemble de son réseau national et international, dans des instituts médico-éducatif, crèches, maisons de retraite, centres de réadaptation fonctionnelle, instituts de formation, centres d'hébergement d'urgence, centres de santé, missions Internationales... Toutes ces structures, au coeur des enjeux de société, développent de nouveaux projets et travaillent à des solutions innovantes. La région Grand Ouest (Pays de la Loire/Centre-Val-de-Loire/Bretagne) regroupe près de 6950 bénévoles et emploie plus de 1285 salariés dans 46 établissements, pôles et services. En nous rejoignant, vous partagerez notre engagement et notre éthique et développerez vos compétences.\",\n",
    "        \"Acteur majeur du recrutement et du travail temporaire, notre entreprise accompagne chaque année près de 20.000 candidats en CDI, CDD, Intérim et CDI Intérimaire. notre entreprise s'engage à valoriser toutes les compétences dans le respect de la diversité, et notamment à favoriser l'intégration professionnelle des candidats handicapés.\"\n",
    "    ]"
   ]
  },
  {
   "cell_type": "code",
   "execution_count": 19,
   "id": "c9af6592",
   "metadata": {},
   "outputs": [
    {
     "name": "stdout",
     "output_type": "stream",
     "text": [
      "Defaulting to user installation because normal site-packages is not writeable\n",
      "Collecting deep-translator\n",
      "  Downloading deep_translator-1.11.4-py3-none-any.whl.metadata (30 kB)\n",
      "Collecting beautifulsoup4<5.0.0,>=4.9.1 (from deep-translator)\n",
      "  Downloading beautifulsoup4-4.13.3-py3-none-any.whl.metadata (3.8 kB)\n",
      "Requirement already satisfied: requests<3.0.0,>=2.23.0 in /Users/caroline/Library/Python/3.9/lib/python/site-packages (from deep-translator) (2.32.3)\n",
      "Collecting soupsieve>1.2 (from beautifulsoup4<5.0.0,>=4.9.1->deep-translator)\n",
      "  Downloading soupsieve-2.6-py3-none-any.whl.metadata (4.6 kB)\n",
      "Requirement already satisfied: typing-extensions>=4.0.0 in /Users/caroline/Library/Python/3.9/lib/python/site-packages (from beautifulsoup4<5.0.0,>=4.9.1->deep-translator) (4.13.0)\n",
      "Requirement already satisfied: charset-normalizer<4,>=2 in /Users/caroline/Library/Python/3.9/lib/python/site-packages (from requests<3.0.0,>=2.23.0->deep-translator) (3.4.1)\n",
      "Requirement already satisfied: idna<4,>=2.5 in /Users/caroline/Library/Python/3.9/lib/python/site-packages (from requests<3.0.0,>=2.23.0->deep-translator) (3.10)\n",
      "Requirement already satisfied: urllib3<3,>=1.21.1 in /Users/caroline/Library/Python/3.9/lib/python/site-packages (from requests<3.0.0,>=2.23.0->deep-translator) (2.4.0)\n",
      "Requirement already satisfied: certifi>=2017.4.17 in /Users/caroline/Library/Python/3.9/lib/python/site-packages (from requests<3.0.0,>=2.23.0->deep-translator) (2025.1.31)\n",
      "Downloading deep_translator-1.11.4-py3-none-any.whl (42 kB)\n",
      "Downloading beautifulsoup4-4.13.3-py3-none-any.whl (186 kB)\n",
      "Downloading soupsieve-2.6-py3-none-any.whl (36 kB)\n",
      "Installing collected packages: soupsieve, beautifulsoup4, deep-translator\n",
      "Successfully installed beautifulsoup4-4.13.3 deep-translator-1.11.4 soupsieve-2.6\n"
     ]
    }
   ],
   "source": [
    "!pip install deep-translator"
   ]
  },
  {
   "cell_type": "code",
   "execution_count": null,
   "id": "c19d96dd",
   "metadata": {},
   "outputs": [
    {
     "name": "stdout",
     "output_type": "stream",
     "text": [
      "                                             nettoyée  \\\n",
      "0   Ayant l'Excellence comme objectif principal de...   \n",
      "1   <ENTREPRISE> est un des leaders mondiaux sur l...   \n",
      "2   Chaque année, <ENTREPRISE> vous offre <NB> mil...   \n",
      "3   <ENTREPRISE> relève les défis de demain et con...   \n",
      "4   Concepteur et intégrateur de solutions industr...   \n",
      "5   « En écoutant les besoins de vos clients et fu...   \n",
      "6   « Nous sommes persuadés que l'Humain est au cœ...   \n",
      "7   #ambassadeurd'image depuis <NB> ans, <ENTREPRI...   \n",
      "8   <ENTREPRISE> réinvente la façon de former et d...   \n",
      "9   <ENTREPRISE>, agence de travail temporaire mul...   \n",
      "10  <ENTREPRISE> est un cabinet de recrutement ind...   \n",
      "11  A chaque moment, à chaque endroit, il y a touj...   \n",
      "12  À propos de notre client A travers la tuile, l...   \n",
      "13  Acteur local et indépendant de l'intérim et du...   \n",
      "14  Actrice de l'emploi local depuis <NB> ans, OSM...   \n",
      "15  <ENTREPRISE> recherche pour l'un de ses client...   \n",
      "16  Au sein d'une de nos plateformes logistiques, ...   \n",
      "17  Aujourd'hui, <ENTREPRISE> est labellisé TOP EM...   \n",
      "18  Avec <NB><NB> collaborateurs et <NB> établisse...   \n",
      "19  <ENTREPRISE> a été créée en <NB><NB>, nous som...   \n",
      "20  <ENTREPRISE> est un réseau de <NB> agences en ...   \n",
      "21  «<ENTREPRISE> de <ENTREPRISE> est spécialisé d...   \n",
      "22  <ENTREPRISE>, gère plus de <NB> logements soci...   \n",
      "23  A la tête d'un important réseau de <NB> établi...   \n",
      "24  Acteur majeur du recrutement et du travail tem...   \n",
      "\n",
      "                                           reformulée  \n",
      "0   Ayant l'excellence comme objectif principal de...  \n",
      "1   <Entreprise> est l'un des leaders mondiaux des...  \n",
      "2   Chaque année, <Forent> vous offre <nb> million...  \n",
      "3   <Entreprise> répond aux défis de demain et aid...  \n",
      "4   Designer et intégrateur de Solutions industrie...  \n",
      "5   \"En écoutant les besoins de vos clients et de ...  \n",
      "6   «Nous sommes convaincus que les humains sont a...  \n",
      "7   # AmbassadeurD'image pour <NB> Years, <Antrepr...  \n",
      "8   <Antreprise> réinvente la voie de la formation...  \n",
      "9   <Entreprise>, une agence de travail multi-spéc...  \n",
      "10  <Entreprise> est une entreprise de recrutement...  \n",
      "11  À chaque instant, à chaque endroit, il y a tou...  \n",
      "12  À propos de notre client à travers la tuile, l...  \n",
      "13  Un acteur local et indépendant du travail temp...  \n",
      "14  Actrice de l'emploi local pour <NB> ans, Osmos...  \n",
      "15  <Entreprise> Recherche pour l'un de ses client...  \n",
      "16  Dans l'une de nos plateformes logistiques, vou...  \n",
      "17  Aujourd'hui, <Antreprise> est étiqueté un empl...  \n",
      "18  Avec <NB> <NB> Collaborateurs et <NB> établiss...  \n",
      "19  <Entreprise> a été créé dans <NB> <NB>, nous s...  \n",
      "20  <Entreprise> est un réseau d'agences <NB> en F...  \n",
      "21  \"<Enterprise> of <Enterprise> Spécialise dans ...  \n",
      "22  <Antreprise>, gère plus de logements sociaux <...  \n",
      "23  À la tête d'un important réseau de <NB> établi...  \n",
      "24  Un acteur majeur dans le recrutement et les tr...  \n"
     ]
    }
   ],
   "source": [
    "import re\n",
    "from deep_translator import GoogleTranslator\n",
    "import pandas as pd\n",
    "\n",
    "# === Nettoyage \"smart\" ===\n",
    "def nettoyer_description(desc):\n",
    "    desc = re.sub(r\"\\d{1,3}(?:[\\s.,]?\\d{3})*\", \"<NB>\", desc)  # Nombres\n",
    "    desc = re.sub(r\"\\b(Toulouse|Nancy|Strasbourg|Nantes|Paris|Metz|Bagnols en Forêt|Mulhouse|Nancy|Strasbourg|Lyon|Marseille)\\b\", \"<VILLE>\", desc, flags=re.IGNORECASE)\n",
    "    desc = re.sub(r\"\\b(notre entreprise|le groupe|la société|l’agence|notre structure|notre enseigne)\\b\", \"<ENTREPRISE>\", desc, flags=re.IGNORECASE)\n",
    "    desc = re.sub(r\"\\([^)]*\\)\", \"\", desc)  # suppr. parenthèses\n",
    "    desc = re.sub(r\"\\s+\", \" \", desc)  # espaces multiples\n",
    "    return desc.strip()\n",
    "\n",
    "def back_translate(desc, src='fr', mid='en'):\n",
    "    try:\n",
    "        en = GoogleTranslator(source=src, target=mid).translate(desc)\n",
    "        fr = GoogleTranslator(source=mid, target=src).translate(en)\n",
    "        return fr\n",
    "    except Exception as e:\n",
    "        print(\"Erreur traduction:\", e)\n",
    "        return desc\n",
    "    \n",
    "data = []\n",
    "for desc in offres_anonymisées:\n",
    "    cleaned = nettoyer_description(desc)\n",
    "    backtr = back_translate(cleaned)\n",
    "    data.append({\n",
    "        \"original\": desc,\n",
    "        \"nettoyée\": cleaned,\n",
    "        \"reformulée\": backtr\n",
    "    })\n",
    "\n",
    "df = pd.DataFrame(data)\n",
    "print(df[[\"nettoyée\", \"reformulée\"]])"
   ]
  },
  {
   "cell_type": "code",
   "execution_count": null,
   "id": "95089515",
   "metadata": {},
   "outputs": [],
   "source": [
    "df.to_csv(\"descriptions_reformulees.csv\", index=False)\n",
    "#super c'est déjà mieux "
   ]
  },
  {
   "cell_type": "code",
   "execution_count": 27,
   "id": "5c5485c2",
   "metadata": {},
   "outputs": [
    {
     "name": "stdout",
     "output_type": "stream",
     "text": [
      "                              description_entreprise  catégories\n",
      "0  Notre entreprise cultive l’excellence à chaque...           1\n",
      "1  Grâce à un leadership visionnaire, nous transf...           1\n",
      "2  La performance durable guide nos choix stratég...           1\n",
      "3  Nous visons l’exemplarité, en combinant rigueu...           1\n",
      "4  Chaque collaborateur est un acteur de notre su...           1\n"
     ]
    }
   ],
   "source": [
    "#demander à chatgpt de me générer des offres d'emplois associées aux catégories de valeurs \n",
    "\n",
    "offres_gpt = [\"Notre entreprise cultive l’excellence à chaque niveau, en plaçant la qualité et l’innovation au cœur de ses pratiques.\",\n",
    "              \"Grâce à un leadership visionnaire, nous transformons les défis en opportunités et les idées en succès mesurables.\",\n",
    "              \"La performance durable guide nos choix stratégiques pour offrir des résultats concrets à nos clients et partenaires.\",\n",
    "              \"Nous visons l’exemplarité, en combinant rigueur, ambition et dépassement de soi au quotidien.\",\n",
    "              \"Chaque collaborateur est un acteur de notre succès collectif, animé par une culture d’excellence et d'engagement.\",\n",
    "              \"Rejoindre notre entreprise, c’est évoluer dans un environnement stimulant où la formation continue est valorisée.\",\n",
    "              \"Nous croyons au potentiel de chacun et offrons des parcours professionnels personnalisés et progressifs.\",\n",
    "              \"L’épanouissement professionnel est un pilier de notre culture, soutenu par un management bienveillant et attentif.\",\n",
    "              \"Nous investissons dans le développement des compétences pour construire ensemble les talents de demain.\",\n",
    "              \"Notre accompagnement se traduit par des opportunités concrètes d’évolution, quel que soit le point de départ.\",\n",
    "              \"Présente au cœur des territoires, notre entreprise s’appuie sur un réseau local solide et engagé.\",\n",
    "              \"Nous construisons des relations durables avec nos partenaires et clients, basées sur la confiance et la proximité.\",\n",
    "              \"Notre ancrage régional nous permet de comprendre les réalités du terrain et d’y répondre efficacement.\",\n",
    "              \"Nous valorisons le tissu économique local en collaborant activement avec les acteurs de chaque région.\",\n",
    "              \"Agir localement, c’est pour nous un choix stratégique autant qu’un engagement citoyen.\",\n",
    "              \"Chez nous, la richesse vient avant tout des personnes : entraide, écoute et respect sont au cœur de nos pratiques.\",\n",
    "              \"Nous croyons à la force du collectif, où chaque voix compte et chaque contribution est valorisée.\",\n",
    "              \"Le bien-être relationnel est une priorité, favorisant un climat de travail serein et collaboratif.\",\n",
    "              \"L’humain est au centre de notre organisation : management horizontal, intelligence collective et esprit d’équipe.\",\n",
    "              \"Ensemble, nous construisons un environnement propice à l’échange, à la confiance et au plaisir de travailler.\",\n",
    "              \"Nous portons un projet d’entreprise responsable, soucieux de son impact social et environnemental.\",\n",
    "              \"Le bien-être de nos collaborateurs est une priorité : équilibre vie pro/perso, santé mentale et conditions de travail.\",\n",
    "              \"Notre démarche RSE se traduit en actions concrètes et mesurables pour un avenir plus durable.\",\n",
    "              \"Nous nous engageons en faveur de la diversité, de l’inclusion et de l’égalité des chances.\",\n",
    "              \"Être utile à la société est une de nos raisons d’être : nous agissons localement et solidairement.\"]\n",
    "categ_gpt = [1, 1, 1, 1, 1, 2, 2, 2, 2, 2, 3, 3, 3, 3, 3, 4, 4, 4, 4, 4, 5, 5, 5, 5, 5]\n",
    "\n",
    "df_gpt = pd.DataFrame({\n",
    "    'description_entreprise': offres_gpt,\n",
    "    'catégories': categ_gpt\n",
    "})\n",
    "\n",
    "print(df_gpt.head())\n",
    "df_gpt.to_csv(\"nvlles_offres.csv\", sep=\",\", index=False, encoding='utf-8')"
   ]
  },
  {
   "cell_type": "code",
   "execution_count": null,
   "id": "1c156a75",
   "metadata": {},
   "outputs": [
    {
     "name": "stdout",
     "output_type": "stream",
     "text": [
      "Defaulting to user installation because normal site-packages is not writeable\n",
      "Requirement already satisfied: transformers in /Users/caroline/Library/Python/3.9/lib/python/site-packages (4.51.2)\n",
      "Requirement already satisfied: sentencepiece in /Users/caroline/Library/Python/3.9/lib/python/site-packages (0.2.0)\n",
      "Requirement already satisfied: filelock in /Users/caroline/Library/Python/3.9/lib/python/site-packages (from transformers) (3.18.0)\n",
      "Requirement already satisfied: huggingface-hub<1.0,>=0.30.0 in /Users/caroline/Library/Python/3.9/lib/python/site-packages (from transformers) (0.30.2)\n",
      "Requirement already satisfied: numpy>=1.17 in /Users/caroline/Library/Python/3.9/lib/python/site-packages (from transformers) (1.26.4)\n",
      "Requirement already satisfied: packaging>=20.0 in /Users/caroline/Library/Python/3.9/lib/python/site-packages (from transformers) (24.2)\n",
      "Requirement already satisfied: pyyaml>=5.1 in /Users/caroline/Library/Python/3.9/lib/python/site-packages (from transformers) (6.0.2)\n",
      "Requirement already satisfied: regex!=2019.12.17 in /Users/caroline/Library/Python/3.9/lib/python/site-packages (from transformers) (2024.11.6)\n",
      "Requirement already satisfied: requests in /Users/caroline/Library/Python/3.9/lib/python/site-packages (from transformers) (2.32.3)\n",
      "Requirement already satisfied: tokenizers<0.22,>=0.21 in /Users/caroline/Library/Python/3.9/lib/python/site-packages (from transformers) (0.21.1)\n",
      "Requirement already satisfied: safetensors>=0.4.3 in /Users/caroline/Library/Python/3.9/lib/python/site-packages (from transformers) (0.5.3)\n",
      "Requirement already satisfied: tqdm>=4.27 in /Users/caroline/Library/Python/3.9/lib/python/site-packages (from transformers) (4.67.1)\n",
      "Requirement already satisfied: fsspec>=2023.5.0 in /Users/caroline/Library/Python/3.9/lib/python/site-packages (from huggingface-hub<1.0,>=0.30.0->transformers) (2025.3.2)\n",
      "Requirement already satisfied: typing-extensions>=3.7.4.3 in /Users/caroline/Library/Python/3.9/lib/python/site-packages (from huggingface-hub<1.0,>=0.30.0->transformers) (4.13.0)\n",
      "Requirement already satisfied: charset-normalizer<4,>=2 in /Users/caroline/Library/Python/3.9/lib/python/site-packages (from requests->transformers) (3.4.1)\n",
      "Requirement already satisfied: idna<4,>=2.5 in /Users/caroline/Library/Python/3.9/lib/python/site-packages (from requests->transformers) (3.10)\n",
      "Requirement already satisfied: urllib3<3,>=1.21.1 in /Users/caroline/Library/Python/3.9/lib/python/site-packages (from requests->transformers) (2.4.0)\n",
      "Requirement already satisfied: certifi>=2017.4.17 in /Users/caroline/Library/Python/3.9/lib/python/site-packages (from requests->transformers) (2025.1.31)\n"
     ]
    }
   ],
   "source": [
    "#paraphrases automatiques avec modèle IA \n",
    "\n",
    "!pip install transformers sentencepiece\n",
    "\n",
    "#conclusion : ça marchait pas trop "
   ]
  },
  {
   "cell_type": "code",
   "execution_count": 10,
   "id": "24d97dad",
   "metadata": {},
   "outputs": [],
   "source": [
    "import os \n",
    "import pandas as pd\n",
    "file_path = os.path.join(os.getcwd(), \"descriptions_entreprises_par_valeurs.csv\")\n",
    "df_2 = pd.read_csv(file_path, sep=\",\")\n",
    "file_path_2 = os.path.join(os.getcwd(), \"descriptions_entreprises_par_valeurs_longues.csv\")\n",
    "df_3 = pd.read_csv(file_path, sep=\",\")\n"
   ]
  },
  {
   "cell_type": "code",
   "execution_count": 12,
   "id": "c6481a13",
   "metadata": {},
   "outputs": [],
   "source": [
    "df_2[\"catégorie\"] = df_2[\"catégorie\"].astype(str).str.extract(r\"^(\\d+)\").astype(int)\n",
    "df_3[\"catégorie\"] = df_3[\"catégorie\"].astype(str).str.extract(r\"^(\\d+)\").astype(int)"
   ]
  },
  {
   "cell_type": "code",
   "execution_count": null,
   "id": "660712ab",
   "metadata": {},
   "outputs": [],
   "source": []
  }
 ],
 "metadata": {
  "kernelspec": {
   "display_name": "Python 3",
   "language": "python",
   "name": "python3"
  },
  "language_info": {
   "codemirror_mode": {
    "name": "ipython",
    "version": 3
   },
   "file_extension": ".py",
   "mimetype": "text/x-python",
   "name": "python",
   "nbconvert_exporter": "python",
   "pygments_lexer": "ipython3",
   "version": "3.9.6"
  }
 },
 "nbformat": 4,
 "nbformat_minor": 5
}
